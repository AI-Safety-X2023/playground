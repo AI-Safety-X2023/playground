{
 "cells": [
  {
   "cell_type": "markdown",
   "metadata": {},
   "source": [
    "# Inverting gradient attack"
   ]
  },
  {
   "cell_type": "code",
   "execution_count": 1,
   "metadata": {},
   "outputs": [],
   "source": [
    "from __future__ import annotations\n",
    "\n",
    "from copy import deepcopy\n",
    "import numpy as np\n",
    "import matplotlib.pyplot as plt\n",
    "import seaborn as sns\n",
    "from scipy import stats\n",
    "import pandas as pd\n",
    "import torch\n",
    "from torch import nn, Tensor\n",
    "from torch.nn import functional as F\n",
    "from torch.nn.modules.loss import _Loss, CrossEntropyLoss\n",
    "from torch.optim import Optimizer, SGD, Adam, AdamW\n",
    "from torch.utils.data import Dataset, DataLoader, TensorDataset, Subset, random_split\n",
    "from torchvision.transforms import v2 as T\n",
    "from torchmetrics.classification import MulticlassAccuracy\n",
    "from torchmetrics.functional import total_variation\n",
    "import torchinfo\n",
    "from image_classification.utils import trange"
   ]
  },
  {
   "cell_type": "code",
   "execution_count": 2,
   "metadata": {},
   "outputs": [
    {
     "name": "stdout",
     "output_type": "stream",
     "text": [
      "cuda:0\n"
     ]
    }
   ],
   "source": [
    "device = torch.device('cuda:0' if torch.cuda.is_available() else 'cpu')\n",
    "\n",
    "print(device)"
   ]
  },
  {
   "cell_type": "markdown",
   "metadata": {},
   "source": [
    "## ResNet-18"
   ]
  },
  {
   "cell_type": "code",
   "execution_count": 3,
   "metadata": {},
   "outputs": [
    {
     "name": "stdout",
     "output_type": "stream",
     "text": [
      "Using cuda device\n"
     ]
    }
   ],
   "source": [
    "from image_classification.models import ResNet18\n",
    "from image_classification.datasets import cifar10_train_test, cifar100_train_test\n",
    "from image_classification.nn import train_loop, test_epoch"
   ]
  },
  {
   "cell_type": "code",
   "execution_count": 4,
   "metadata": {},
   "outputs": [
    {
     "name": "stdout",
     "output_type": "stream",
     "text": [
      "Loading CIFAR-10\n"
     ]
    },
    {
     "data": {
      "text/plain": [
       "(45000, 5000, 10000)"
      ]
     },
     "execution_count": 4,
     "metadata": {},
     "output_type": "execute_result"
    }
   ],
   "source": [
    "# Set to 10 for CIFAR-10, 100 for CIFAR-100\n",
    "num_classes = 10\n",
    "\n",
    "# The images are already normalized by theses datasets\n",
    "if num_classes == 10:\n",
    "    get_train_test = cifar10_train_test\n",
    "elif num_classes == 100:\n",
    "    get_train_test = cifar100_train_test\n",
    "else:\n",
    "    raise ValueError(f\"Can't find CIFAR dataset with {num_classes} classes\")\n",
    "print(f\"Loading CIFAR-{num_classes}\")\n",
    "\n",
    "training_data, test_data = get_train_test(root='data')\n",
    "N_test = len(test_data)\n",
    "N_val = len(training_data) // 10\n",
    "N = len(training_data) - N_val\n",
    "# This works since training data is already shuffled\n",
    "training_data, val_data = training_data.split([N, N_val])\n",
    "\n",
    "batch_size = 100\n",
    "N, N_val, N_test"
   ]
  },
  {
   "cell_type": "code",
   "execution_count": 5,
   "metadata": {},
   "outputs": [],
   "source": [
    "train_loader = DataLoader(training_data, batch_size, drop_last=True)\n",
    "val_loader = DataLoader(val_data, batch_size, drop_last=True)"
   ]
  },
  {
   "cell_type": "markdown",
   "metadata": {},
   "source": [
    "### Hyperparameters"
   ]
  },
  {
   "cell_type": "code",
   "execution_count": 6,
   "metadata": {},
   "outputs": [],
   "source": [
    "lr = 1e-3\n",
    "weight_decay = 5e-4\n",
    "# For learning rate scheduling\n",
    "max_lr = 0.1\n",
    "\n",
    "epochs = 6\n",
    "steps_per_epoch = N // batch_size\n",
    "\n",
    "lr_sched_params = dict(max_lr=max_lr, epochs=epochs, steps_per_epoch=steps_per_epoch)\n",
    "\n",
    "criterion = CrossEntropyLoss()\n",
    "\n",
    "top_k = {10: 1, 100: 5}[num_classes]\n",
    "\n",
    "metric = MulticlassAccuracy(num_classes=num_classes, top_k=top_k)"
   ]
  },
  {
   "cell_type": "markdown",
   "metadata": {},
   "source": [
    "### Optimizer (TODO: compare SGD & Adam)"
   ]
  },
  {
   "cell_type": "code",
   "execution_count": 7,
   "metadata": {},
   "outputs": [],
   "source": [
    "def make_optimizer(model: nn.Module, opt_name='adamw', lr=lr, weight_decay=weight_decay, **kwargs) -> Optimizer:\n",
    "    cls = {'sgd': SGD, 'adam': Adam, 'adamw': AdamW}[opt_name]\n",
    "    return cls(model.parameters(), lr=lr, weight_decay=weight_decay, **kwargs)"
   ]
  },
  {
   "cell_type": "markdown",
   "metadata": {},
   "source": [
    "## Inverting gradient attack"
   ]
  },
  {
   "cell_type": "code",
   "execution_count": 8,
   "metadata": {},
   "outputs": [],
   "source": [
    "# TODO: gradients per parameter instead?\n",
    "def model_gradients(model: nn.Module) -> Tensor:\n",
    "    \"\"\"\n",
    "    Returns the model gradients without detaching them.\n",
    "    \"\"\"\n",
    "    grads = [\n",
    "        param.grad.flatten()\n",
    "        for param in model.parameters()\n",
    "    ]\n",
    "    return torch.cat(grads)\n",
    "\n",
    "def average_model_gradient(model: nn.Module, batch_size: int) -> Tensor:\n",
    "    \"\"\"\n",
    "    Returns the model gradient averaged over the batch size.\n",
    "\n",
    "    Assumes the gradients have already been computed with loss backpropagation.\n",
    "    \"\"\"\n",
    "    return model_gradients(model).detach().clone() / batch_size"
   ]
  },
  {
   "cell_type": "code",
   "execution_count": null,
   "metadata": {},
   "outputs": [],
   "source": [
    "from enum import Enum\n",
    "\n",
    "class GradientAttack(Enum):\n",
    "    \"\"\"\n",
    "    A type of gradient attack.\n",
    "    \"\"\"\n",
    "    \n",
    "    ASCENT = 0              # Gradient Ascent (Blanchard et al., 2017)\n",
    "    ORTHOGONAL = 1          # Orthogonal Gradient\n",
    "    LITTLE_IS_ENOUGH = 2    # Little is Enough (Shejwalkar & Houmansadr, 2021)"
   ]
  },
  {
   "cell_type": "code",
   "execution_count": null,
   "metadata": {},
   "outputs": [],
   "source": [
    "def inverting_gradient_attack(\n",
    "        model: nn.Module, criterion: _Loss,\n",
    "        avg_clean_gradient: Tensor, x_base: Tensor, y_base: Tensor,\n",
    "        steps = 10,\n",
    "        tv_coef = 1.0,\n",
    "        method = GradientAttack.ASCENT,\n",
    "    ) -> Tensor:\n",
    "    \"\"\"\n",
    "    Create a poisoned data point with an inverting gradient attack.\n",
    "    \"\"\"\n",
    "\n",
    "    model.eval()\n",
    "    model.requires_grad_()\n",
    "    model.zero_grad()\n",
    "    avg_clean_gradient.requires_grad_(False)\n",
    "    \n",
    "    # TODO: find appropriate lr scheduling step\n",
    "    opt = Adam([x_base], lr=0.5)\n",
    "\n",
    "    for step in range(steps):\n",
    "        # `criterion` gradients must only be computed for `model`\n",
    "        #x_base.requires_grad_(False)\n",
    "        x_base.requires_grad_(True)\n",
    "\n",
    "        loss = criterion(model(x_base.unsqueeze(0)), y_base.unsqueeze(0))\n",
    "        loss.backward(create_graph=True) # Allows 2nd-order differentiation\n",
    "\n",
    "        # TODO: gradients per parameter instead\n",
    "        g_p = model_gradients(model)\n",
    "\n",
    "        match method:\n",
    "            case GradientAttack.ASCENT:\n",
    "                cos_sim = torch.cosine_similarity(g_p, avg_clean_gradient, dim=0)\n",
    "                # dot product increases the gradient size but makes unalignment easier\n",
    "                #loss_adv = g_p.dot(avg_clean_gradient)      \n",
    "                loss_adv = cos_sim\n",
    "            \n",
    "            case GradientAttack.ORTHOGONAL:\n",
    "                cos_sim = torch.cosine_similarity(g_p, avg_clean_gradient, dim=0)\n",
    "                # dot product increases the gradient size but makes unalignment easier\n",
    "                #loss_adv = g_p.dot(avg_clean_gradient)      \n",
    "                loss_adv = cos_sim.dot(cos_sim)\n",
    "\n",
    "            case GradientAttack.LITTLE_IS_ENOUGH:\n",
    "                # See Algorithm 3 in https://arxiv.org/pdf/1902.06156\n",
    "                raise NotImplementedError\n",
    "\n",
    "        if tv_coef:\n",
    "            tv = total_variation(x_base.unsqueeze(0)) / (x_base.numel() * 4 * 3.5 ** 2)\n",
    "            loss_adv += tv_coef * tv\n",
    "\n",
    "        #print(f\"Inverting gradient step {step}: loss = {loss.item()}, cos_sim = {cos_sim.item()}\")\n",
    "        \n",
    "        # TODO: torch.autograd??? test on a simpler model for debugging\n",
    "        #x_base.requires_grad_(True)\n",
    "        opt.zero_grad()\n",
    "\n",
    "        loss_adv.backward()\n",
    "        opt.step()\n",
    "        opt.zero_grad()\n",
    "        model.zero_grad()\n",
    "\n",
    "        # FIXME: find the exact feasible set\n",
    "        x_base.requires_grad_(False).clip_(-1.7, 1.8)\n",
    "    \n",
    "    model.train()\n",
    "    return x_base\n"
   ]
  },
  {
   "cell_type": "code",
   "execution_count": null,
   "metadata": {},
   "outputs": [],
   "source": [
    "def estimate_average_clean_gradient(model: nn.Module, criterion: _Loss) -> Tensor:\n",
    "    \"\"\"\n",
    "    Estimate the average clean gradient with an auxiliary dataset\n",
    "    that is similarly distributed to the training dataset.\n",
    "    \"\"\"\n",
    "    raise NotImplementedError"
   ]
  },
  {
   "cell_type": "markdown",
   "metadata": {},
   "source": [
    "### Visualization"
   ]
  },
  {
   "cell_type": "code",
   "execution_count": 10,
   "metadata": {},
   "outputs": [],
   "source": [
    "def display_input_image(input: Tensor, label: Tensor, title='', cmap=None):\n",
    "    \"\"\"\n",
    "    Displays an an input image to a neural network.\n",
    "\n",
    "    `input`: a 3D tensor\n",
    "    `cmap`: grayscale by default.\n",
    "    \"\"\"\n",
    "    decoders = {\n",
    "        10: training_data.decode_cifar10_image,\n",
    "        100: training_data.decode_cifar100_image,\n",
    "    }\n",
    "    image = decoders[len(training_data.classes)](input)\n",
    "    class_ = training_data.decode_target(label)\n",
    "\n",
    "    fig, ax = plt.subplots()\n",
    "    ax.imshow(image, cmap=cmap, interpolation='nearest')\n",
    "    plt.title(class_)\n",
    "    fig.suptitle(title, fontsize=14)\n",
    "    fig.tight_layout()"
   ]
  },
  {
   "cell_type": "code",
   "execution_count": 11,
   "metadata": {},
   "outputs": [],
   "source": [
    "def test_attack(\n",
    "        model: nn.Module, criterion: _Loss,\n",
    "        train_loader: DataLoader,\n",
    "        poison_opt_steps: int = 10,\n",
    "    ):\n",
    "    model.eval()\n",
    "    model.zero_grad()\n",
    "\n",
    "    X, y = next(iter(train_loader))\n",
    "    X, y = X.to(device), y.to(device)\n",
    "    logits = model(X)\n",
    "    loss = criterion(logits, y)\n",
    "    loss.backward()\n",
    "\n",
    "    y_p = y[0].detach().clone()\n",
    "    X_p = X[0].detach().clone()\n",
    "    b_size = len(X)\n",
    "    avg_clean_gradient = average_model_gradient(model, b_size)\n",
    "    X_p = inverting_gradient_attack(\n",
    "        deepcopy(model),\n",
    "        criterion,\n",
    "        avg_clean_gradient,\n",
    "        X_p, y_p, steps=poison_opt_steps\n",
    "    )\n",
    "\n",
    "    model.zero_grad()\n",
    "\n",
    "    display_input_image(X[0], y[0], title=\"Clean sample\")\n",
    "    display_input_image(\n",
    "        X_p, y_p,\n",
    "        title=f\"Poisoned sample (batch_size={b_size}, {poison_opt_steps=})\",\n",
    "    )\n",
    "\n",
    "    return X, y, X_p, y_p"
   ]
  },
  {
   "cell_type": "markdown",
   "metadata": {},
   "source": [
    "### Poisoning"
   ]
  },
  {
   "cell_type": "code",
   "execution_count": 12,
   "metadata": {},
   "outputs": [],
   "source": [
    "from image_classification.nn import MetricLogger\n",
    "\n",
    "def train_epoch_with_poisons(\n",
    "        model: nn.Module,\n",
    "        dataloader: DataLoader,\n",
    "        loss_fn: _Loss,\n",
    "        optimizer: Optimizer,\n",
    "        keep_pbars=True,\n",
    "        poison_opt_steps=10,\n",
    "        alpha_poison=0.2,\n",
    "    ):\n",
    "    #optimizer.zero_grad()\n",
    "    model.train()\n",
    "\n",
    "    logger = MetricLogger(\n",
    "        metric,\n",
    "        device=device,\n",
    "        desc='Train loop', total=len(dataloader.dataset), keep_pbars=keep_pbars,\n",
    "    )\n",
    "\n",
    "    for X, y in dataloader:\n",
    "        X, y = X.to(device), y.to(device)\n",
    "        logits = model(X)\n",
    "        loss = loss_fn(logits, y)\n",
    "\n",
    "        loss.backward()\n",
    "\n",
    "        # --- poisoning attack\n",
    "        \n",
    "        b_size = dataloader.batch_size\n",
    "        avg_clean_gradient = average_model_gradient(model, b_size)\n",
    "\n",
    "        i = np.random.randint(0, b_size)\n",
    "        y_p = y[i].detach().clone()\n",
    "        X_p = X[i].detach().clone()\n",
    "        X_p = inverting_gradient_attack(\n",
    "            deepcopy(model),\n",
    "            loss_fn,\n",
    "            avg_clean_gradient,\n",
    "            X_p, y_p, steps=poison_opt_steps\n",
    "        )\n",
    "\n",
    "        logits_p = model(X_p.unsqueeze(0))\n",
    "        loss_p = alpha_poison * loss_fn(logits_p, y_p.unsqueeze(0))\n",
    "\n",
    "        # This adds to `loss` model gradients due to gradient accumulation\n",
    "        loss_p.backward()\n",
    "        \n",
    "        # ---\n",
    "\n",
    "        optimizer.step()\n",
    "        optimizer.zero_grad()\n",
    "\n",
    "        # FIXME: does not include X_p, y_p, logits_p, loss_p\n",
    "        # TODO: log loss on poisons\n",
    "        # TODO: display some poisons\n",
    "        logger.compute_metrics(X, y, logits, loss.item())\n",
    "    \n",
    "    logger.finish()\n",
    "    return logger"
   ]
  },
  {
   "cell_type": "code",
   "execution_count": 13,
   "metadata": {},
   "outputs": [],
   "source": [
    "net = ResNet18(num_classes=10).to(device)"
   ]
  },
  {
   "cell_type": "code",
   "execution_count": 14,
   "metadata": {},
   "outputs": [
    {
     "name": "stderr",
     "output_type": "stream",
     "text": [
      "/home/lvt/.local/share/virtualenvs/ml-TQx6uCZG/lib/python3.13/site-packages/torch/autograd/graph.py:823: UserWarning: Using backward() with create_graph=True will create a reference cycle between the parameter and its gradient which can cause a memory leak. We recommend using autograd.grad when creating the graph to avoid this. If you have to use this function, make sure to reset the .grad fields of your parameters to None after use to break the cycle and avoid the leak. (Triggered internally at /pytorch/torch/csrc/autograd/engine.cpp:1260.)\n",
      "  return Variable._execution_engine.run_backward(  # Calls into the C++ engine to run the backward pass\n",
      "/home/lvt/.local/share/virtualenvs/ml-TQx6uCZG/lib/python3.13/site-packages/torchmetrics/utilities/prints.py:70: FutureWarning: Importing `total_variation` from `torchmetrics.functional` was deprecated and will be removed in 2.0. Import `total_variation` from `torchmetrics.image` instead.\n",
      "  _future_warning(\n"
     ]
    },
    {
     "data": {
      "image/png": "[encoded data removed]",
      "text/plain": [
       "<Figure size 640x480 with 1 Axes>"
      ]
     },
     "metadata": {},
     "output_type": "display_data"
    },
    {
     "data": {
      "image/png": "[encoded data removed]",
      "text/plain": [
       "<Figure size 640x480 with 1 Axes>"
      ]
     },
     "metadata": {},
     "output_type": "display_data"
    }
   ],
   "source": [
    "test_attack(net, criterion, train_loader, poison_opt_steps=10);"
   ]
  },
  {
   "cell_type": "code",
   "execution_count": null,
   "metadata": {},
   "outputs": [
    {
     "data": {
      "application/vnd.jupyter.widget-view+json": {
       "model_id": "f93bf45d364f44a28f236b8ef54af234",
       "version_major": 2,
       "version_minor": 0
      },
      "text/plain": [
       "Train epochs:   0%|          | 0/6 [00:00<?, ?epoch/s]"
      ]
     },
     "metadata": {},
     "output_type": "display_data"
    },
    {
     "data": {
      "application/vnd.jupyter.widget-view+json": {
       "model_id": "ea5b637b8fd24b068f7eefba45d6cc2a",
       "version_major": 2,
       "version_minor": 0
      },
      "text/plain": [
       "Train loop:   0%|          | 0/45000 [00:00<?, ?it/s]"
      ]
     },
     "metadata": {},
     "output_type": "display_data"
    },
    {
     "name": "stdout",
     "output_type": "stream",
     "text": [
      "Train loop: 100%|██████████| 45000/45000 [01:13<00:00, 616.23it/s, MulticlassAccuracy=0.286, avg_loss=1.95]\n"
     ]
    },
    {
     "data": {
      "application/vnd.jupyter.widget-view+json": {
       "model_id": "b56750f0396241fab31243d655f48fd4",
       "version_major": 2,
       "version_minor": 0
      },
      "text/plain": [
       "Train loop:   0%|          | 0/45000 [00:00<?, ?it/s]"
      ]
     },
     "metadata": {},
     "output_type": "display_data"
    },
    {
     "name": "stdout",
     "output_type": "stream",
     "text": [
      "Train loop: 100%|██████████| 45000/45000 [01:14<00:00, 603.86it/s, MulticlassAccuracy=0.365, avg_loss=1.62]\n"
     ]
    },
    {
     "data": {
      "application/vnd.jupyter.widget-view+json": {
       "model_id": "47dced8a8384451a956ca2612e3861e4",
       "version_major": 2,
       "version_minor": 0
      },
      "text/plain": [
       "Train loop:   0%|          | 0/45000 [00:00<?, ?it/s]"
      ]
     },
     "metadata": {},
     "output_type": "display_data"
    },
    {
     "name": "stdout",
     "output_type": "stream",
     "text": [
      "Train loop: 100%|██████████| 45000/45000 [01:15<00:00, 592.35it/s, MulticlassAccuracy=0.439, avg_loss=1.47]\n"
     ]
    },
    {
     "data": {
      "application/vnd.jupyter.widget-view+json": {
       "model_id": "6b515f05573e40debe6eb8a5a553ab79",
       "version_major": 2,
       "version_minor": 0
      },
      "text/plain": [
       "Train loop:   0%|          | 0/45000 [00:00<?, ?it/s]"
      ]
     },
     "metadata": {},
     "output_type": "display_data"
    },
    {
     "name": "stdout",
     "output_type": "stream",
     "text": [
      "Train loop: 100%|██████████| 45000/45000 [01:17<00:00, 578.06it/s, MulticlassAccuracy=0.456, avg_loss=1.35]\n"
     ]
    },
    {
     "data": {
      "application/vnd.jupyter.widget-view+json": {
       "model_id": "35b4e1c1b7be4e4e89801cf927a10b02",
       "version_major": 2,
       "version_minor": 0
      },
      "text/plain": [
       "Train loop:   0%|          | 0/45000 [00:00<?, ?it/s]"
      ]
     },
     "metadata": {},
     "output_type": "display_data"
    },
    {
     "name": "stdout",
     "output_type": "stream",
     "text": [
      "Train loop: 100%|██████████| 45000/45000 [01:19<00:00, 567.85it/s, MulticlassAccuracy=0.489, avg_loss=1.26]\n"
     ]
    },
    {
     "data": {
      "application/vnd.jupyter.widget-view+json": {
       "model_id": "0482935f3a114ce3bd31440601c9ba31",
       "version_major": 2,
       "version_minor": 0
      },
      "text/plain": [
       "Train loop:   0%|          | 0/45000 [00:00<?, ?it/s]"
      ]
     },
     "metadata": {},
     "output_type": "display_data"
    },
    {
     "name": "stdout",
     "output_type": "stream",
     "text": [
      "Train loop: 100%|██████████| 45000/45000 [01:19<00:00, 565.03it/s, MulticlassAccuracy=0.512, avg_loss=1.17]\n"
     ]
    }
   ],
   "source": [
    "# SGD is more vulnerable to gradient attacks\n",
    "opt = make_optimizer(net, opt_name='sgd', lr=lr, weight_decay=0.0)\n",
    "for epoch in trange(epochs, desc='Train epochs', unit='epoch', leave=True):\n",
    "    train_epoch_with_poisons(\n",
    "        net, train_loader,\n",
    "        criterion, opt,\n",
    "        poison_opt_steps=5, alpha_poison=0.2\n",
    "    )\n",
    "    test_epoch(net, val_loader, criterion, keep_pbars=True, metric=metric)"
   ]
  },
  {
   "cell_type": "markdown",
   "metadata": {},
   "source": [
    "batch_size = 100, alpha = 0.2, poison_opt_steps = 2, ResNet18, SGD(weight_decay=0.0), epochs = 6:\n",
    "\n",
    "accuracy : 58 -> 34\n",
    "\n",
    "TODO: test with more poison steps or different lr for poison optimizer"
   ]
  },
  {
   "cell_type": "markdown",
   "metadata": {},
   "source": [
    "#### Lower poisoning rate"
   ]
  },
  {
   "cell_type": "code",
   "execution_count": 18,
   "metadata": {},
   "outputs": [],
   "source": [
    "net = ResNet18(num_classes=10).to(device)"
   ]
  },
  {
   "cell_type": "code",
   "execution_count": 19,
   "metadata": {},
   "outputs": [
    {
     "data": {
      "application/vnd.jupyter.widget-view+json": {
       "model_id": "215223ea31e14efb9275087263051432",
       "version_major": 2,
       "version_minor": 0
      },
      "text/plain": [
       "Train epochs:   0%|          | 0/6 [00:00<?, ?epoch/s]"
      ]
     },
     "metadata": {},
     "output_type": "display_data"
    },
    {
     "data": {
      "application/vnd.jupyter.widget-view+json": {
       "model_id": "52f28412eb1f480387ca37aac5a8da6a",
       "version_major": 2,
       "version_minor": 0
      },
      "text/plain": [
       "Train loop:   0%|          | 0/45000 [00:00<?, ?it/s]"
      ]
     },
     "metadata": {},
     "output_type": "display_data"
    },
    {
     "name": "stdout",
     "output_type": "stream",
     "text": [
      "Train loop: 100%|██████████| 45000/45000 [01:14<00:00, 607.32it/s, MulticlassAccuracy=0.298, avg_loss=1.97]\n"
     ]
    },
    {
     "data": {
      "application/vnd.jupyter.widget-view+json": {
       "model_id": "3075378ccb4742a0baa0f5c7f3e13599",
       "version_major": 2,
       "version_minor": 0
      },
      "text/plain": [
       "Test epoch:   0%|          | 0/5000 [00:00<?, ?it/s]"
      ]
     },
     "metadata": {},
     "output_type": "display_data"
    },
    {
     "name": "stdout",
     "output_type": "stream",
     "text": [
      "Test epoch: 100%|██████████| 5000/5000 [00:00<00:00, 5118.23it/s, MulticlassAccuracy=0.248, avg_loss=1.98]\n"
     ]
    },
    {
     "data": {
      "application/vnd.jupyter.widget-view+json": {
       "model_id": "76477097e5ad417ea08621952b30e7f1",
       "version_major": 2,
       "version_minor": 0
      },
      "text/plain": [
       "Train loop:   0%|          | 0/45000 [00:00<?, ?it/s]"
      ]
     },
     "metadata": {},
     "output_type": "display_data"
    },
    {
     "name": "stdout",
     "output_type": "stream",
     "text": [
      "Train loop: 100%|██████████| 45000/45000 [01:15<00:00, 595.70it/s, MulticlassAccuracy=0.363, avg_loss=1.65]\n"
     ]
    },
    {
     "data": {
      "application/vnd.jupyter.widget-view+json": {
       "model_id": "fe40ff096a0c4dc8a136463fb8c985e6",
       "version_major": 2,
       "version_minor": 0
      },
      "text/plain": [
       "Test epoch:   0%|          | 0/5000 [00:00<?, ?it/s]"
      ]
     },
     "metadata": {},
     "output_type": "display_data"
    },
    {
     "name": "stdout",
     "output_type": "stream",
     "text": [
      "Test epoch: 100%|██████████| 5000/5000 [00:00<00:00, 5280.79it/s, MulticlassAccuracy=0.226, avg_loss=1.96]\n"
     ]
    },
    {
     "data": {
      "application/vnd.jupyter.widget-view+json": {
       "model_id": "5b1b32d8e3954342bcb083e9a9370c0b",
       "version_major": 2,
       "version_minor": 0
      },
      "text/plain": [
       "Train loop:   0%|          | 0/45000 [00:00<?, ?it/s]"
      ]
     },
     "metadata": {},
     "output_type": "display_data"
    },
    {
     "name": "stdout",
     "output_type": "stream",
     "text": [
      "Train loop: 100%|██████████| 45000/45000 [01:15<00:00, 597.12it/s, MulticlassAccuracy=0.422, avg_loss=1.49]\n"
     ]
    },
    {
     "data": {
      "application/vnd.jupyter.widget-view+json": {
       "model_id": "230ee527023349aba9ef4f2422c0c591",
       "version_major": 2,
       "version_minor": 0
      },
      "text/plain": [
       "Test epoch:   0%|          | 0/5000 [00:00<?, ?it/s]"
      ]
     },
     "metadata": {},
     "output_type": "display_data"
    },
    {
     "name": "stdout",
     "output_type": "stream",
     "text": [
      "Test epoch: 100%|██████████| 5000/5000 [00:00<00:00, 5118.73it/s, MulticlassAccuracy=0.256, avg_loss=2.12]\n"
     ]
    },
    {
     "data": {
      "application/vnd.jupyter.widget-view+json": {
       "model_id": "9e3a4f2dc3234d3ca9d08a31f1d56c7d",
       "version_major": 2,
       "version_minor": 0
      },
      "text/plain": [
       "Train loop:   0%|          | 0/45000 [00:00<?, ?it/s]"
      ]
     },
     "metadata": {},
     "output_type": "display_data"
    },
    {
     "name": "stdout",
     "output_type": "stream",
     "text": [
      "Train loop: 100%|██████████| 45000/45000 [01:17<00:00, 581.79it/s, MulticlassAccuracy=0.461, avg_loss=1.37]\n"
     ]
    },
    {
     "data": {
      "application/vnd.jupyter.widget-view+json": {
       "model_id": "70ce9d618e334780a7f7907bc3ff302f",
       "version_major": 2,
       "version_minor": 0
      },
      "text/plain": [
       "Test epoch:   0%|          | 0/5000 [00:00<?, ?it/s]"
      ]
     },
     "metadata": {},
     "output_type": "display_data"
    },
    {
     "name": "stdout",
     "output_type": "stream",
     "text": [
      "Test epoch: 100%|██████████| 5000/5000 [00:00<00:00, 5092.41it/s, MulticlassAccuracy=0.289, avg_loss=2.08]\n"
     ]
    },
    {
     "data": {
      "application/vnd.jupyter.widget-view+json": {
       "model_id": "4119767d21ab47b79353a825bb7a3a0a",
       "version_major": 2,
       "version_minor": 0
      },
      "text/plain": [
       "Train loop:   0%|          | 0/45000 [00:00<?, ?it/s]"
      ]
     },
     "metadata": {},
     "output_type": "display_data"
    },
    {
     "name": "stdout",
     "output_type": "stream",
     "text": [
      "Train loop: 100%|██████████| 45000/45000 [01:26<00:00, 521.86it/s, MulticlassAccuracy=0.525, avg_loss=1.27]\n"
     ]
    },
    {
     "data": {
      "application/vnd.jupyter.widget-view+json": {
       "model_id": "3727c0035391472a96f7ae096615b910",
       "version_major": 2,
       "version_minor": 0
      },
      "text/plain": [
       "Test epoch:   0%|          | 0/5000 [00:00<?, ?it/s]"
      ]
     },
     "metadata": {},
     "output_type": "display_data"
    },
    {
     "name": "stdout",
     "output_type": "stream",
     "text": [
      "Test epoch: 100%|██████████| 5000/5000 [00:01<00:00, 4510.24it/s, MulticlassAccuracy=0.291, avg_loss=1.96]\n"
     ]
    },
    {
     "data": {
      "application/vnd.jupyter.widget-view+json": {
       "model_id": "995b95c33ea849d584cd97d17592c836",
       "version_major": 2,
       "version_minor": 0
      },
      "text/plain": [
       "Train loop:   0%|          | 0/45000 [00:00<?, ?it/s]"
      ]
     },
     "metadata": {},
     "output_type": "display_data"
    },
    {
     "name": "stdout",
     "output_type": "stream",
     "text": [
      "Train loop: 100%|██████████| 45000/45000 [01:19<00:00, 565.75it/s, MulticlassAccuracy=0.538, avg_loss=1.18]\n"
     ]
    },
    {
     "data": {
      "application/vnd.jupyter.widget-view+json": {
       "model_id": "6196ba27335448f6a10fb8ccab2fbf5d",
       "version_major": 2,
       "version_minor": 0
      },
      "text/plain": [
       "Test epoch:   0%|          | 0/5000 [00:00<?, ?it/s]"
      ]
     },
     "metadata": {},
     "output_type": "display_data"
    },
    {
     "name": "stdout",
     "output_type": "stream",
     "text": [
      "Test epoch: 100%|██████████| 5000/5000 [00:01<00:00, 4792.73it/s, MulticlassAccuracy=0.307, avg_loss=1.87]\n"
     ]
    }
   ],
   "source": [
    "opt = make_optimizer(net, opt_name='sgd', lr=lr, weight_decay=0.0)\n",
    "for epoch in trange(epochs, desc='Train epochs', unit='epoch', leave=True):\n",
    "    train_epoch_with_poisons(\n",
    "        net, train_loader,\n",
    "        criterion, opt,\n",
    "        poison_opt_steps=5, alpha_poison=0.05\n",
    "    )\n",
    "    test_epoch(net, val_loader, criterion, keep_pbars=True, metric=metric)"
   ]
  },
  {
   "cell_type": "markdown",
   "metadata": {},
   "source": [
    "Result : accuracy drops to 30 %"
   ]
  },
  {
   "cell_type": "markdown",
   "metadata": {},
   "source": [
    "#### Using Adam optimizer for training"
   ]
  },
  {
   "cell_type": "code",
   "execution_count": 22,
   "metadata": {},
   "outputs": [],
   "source": [
    "net = ResNet18(num_classes=10).to(device)"
   ]
  },
  {
   "cell_type": "code",
   "execution_count": 23,
   "metadata": {},
   "outputs": [
    {
     "data": {
      "application/vnd.jupyter.widget-view+json": {
       "model_id": "2339f30660d44faca17ae6f8fefcc326",
       "version_major": 2,
       "version_minor": 0
      },
      "text/plain": [
       "Train epochs:   0%|          | 0/6 [00:00<?, ?epoch/s]"
      ]
     },
     "metadata": {},
     "output_type": "display_data"
    },
    {
     "data": {
      "application/vnd.jupyter.widget-view+json": {
       "model_id": "bae6b2a271604676bb232af18f6ea58c",
       "version_major": 2,
       "version_minor": 0
      },
      "text/plain": [
       "Train loop:   0%|          | 0/45000 [00:00<?, ?it/s]"
      ]
     },
     "metadata": {},
     "output_type": "display_data"
    },
    {
     "name": "stderr",
     "output_type": "stream",
     "text": [
      "/home/lvt/.local/share/virtualenvs/ml-TQx6uCZG/lib/python3.13/site-packages/torchmetrics/utilities/prints.py:70: FutureWarning: Importing `total_variation` from `torchmetrics.functional` was deprecated and will be removed in 2.0. Import `total_variation` from `torchmetrics.image` instead.\n",
      "  _future_warning(\n"
     ]
    },
    {
     "name": "stdout",
     "output_type": "stream",
     "text": [
      "Train loop: 100%|██████████| 45000/45000 [01:15<00:00, 595.14it/s, MulticlassAccuracy=0.585, avg_loss=1.38]\n"
     ]
    },
    {
     "data": {
      "application/vnd.jupyter.widget-view+json": {
       "model_id": "e9c7b37e690146f68f98f73197ecf7db",
       "version_major": 2,
       "version_minor": 0
      },
      "text/plain": [
       "Test epoch:   0%|          | 0/5000 [00:00<?, ?it/s]"
      ]
     },
     "metadata": {},
     "output_type": "display_data"
    },
    {
     "name": "stdout",
     "output_type": "stream",
     "text": [
      "Test epoch: 100%|██████████| 5000/5000 [00:00<00:00, 5071.49it/s, MulticlassAccuracy=0.373, avg_loss=2]\n"
     ]
    },
    {
     "data": {
      "application/vnd.jupyter.widget-view+json": {
       "model_id": "769738014b8441bf8f5935fca04adc11",
       "version_major": 2,
       "version_minor": 0
      },
      "text/plain": [
       "Train loop:   0%|          | 0/45000 [00:00<?, ?it/s]"
      ]
     },
     "metadata": {},
     "output_type": "display_data"
    },
    {
     "name": "stdout",
     "output_type": "stream",
     "text": [
      "Train loop: 100%|██████████| 45000/45000 [01:21<00:00, 551.54it/s, MulticlassAccuracy=0.638, avg_loss=0.977]\n"
     ]
    },
    {
     "data": {
      "application/vnd.jupyter.widget-view+json": {
       "model_id": "d62844d8db574d328a95aa186ec3ed04",
       "version_major": 2,
       "version_minor": 0
      },
      "text/plain": [
       "Test epoch:   0%|          | 0/5000 [00:00<?, ?it/s]"
      ]
     },
     "metadata": {},
     "output_type": "display_data"
    },
    {
     "name": "stdout",
     "output_type": "stream",
     "text": [
      "Test epoch: 100%|██████████| 5000/5000 [00:01<00:00, 4953.01it/s, MulticlassAccuracy=0.45, avg_loss=1.77]\n"
     ]
    },
    {
     "data": {
      "application/vnd.jupyter.widget-view+json": {
       "model_id": "2c6059458346415b8b43a97f5b1d4fc0",
       "version_major": 2,
       "version_minor": 0
      },
      "text/plain": [
       "Train loop:   0%|          | 0/45000 [00:00<?, ?it/s]"
      ]
     },
     "metadata": {},
     "output_type": "display_data"
    },
    {
     "name": "stdout",
     "output_type": "stream",
     "text": [
      "Train loop: 100%|██████████| 45000/45000 [01:22<00:00, 545.28it/s, MulticlassAccuracy=0.734, avg_loss=0.807]\n"
     ]
    },
    {
     "data": {
      "application/vnd.jupyter.widget-view+json": {
       "model_id": "2d664d7c48934d33a33cd73bdd66fb86",
       "version_major": 2,
       "version_minor": 0
      },
      "text/plain": [
       "Test epoch:   0%|          | 0/5000 [00:00<?, ?it/s]"
      ]
     },
     "metadata": {},
     "output_type": "display_data"
    },
    {
     "name": "stdout",
     "output_type": "stream",
     "text": [
      "Test epoch: 100%|██████████| 5000/5000 [00:01<00:00, 4815.17it/s, MulticlassAccuracy=0.49, avg_loss=1.41]\n"
     ]
    },
    {
     "data": {
      "application/vnd.jupyter.widget-view+json": {
       "model_id": "626476e6925c40219783e8d569f11617",
       "version_major": 2,
       "version_minor": 0
      },
      "text/plain": [
       "Train loop:   0%|          | 0/45000 [00:00<?, ?it/s]"
      ]
     },
     "metadata": {},
     "output_type": "display_data"
    },
    {
     "name": "stdout",
     "output_type": "stream",
     "text": [
      "Train loop: 100%|██████████| 45000/45000 [01:24<00:00, 529.75it/s, MulticlassAccuracy=0.774, avg_loss=0.683]\n"
     ]
    },
    {
     "data": {
      "application/vnd.jupyter.widget-view+json": {
       "model_id": "8eb2775c9fa54587bf876bff3f165a80",
       "version_major": 2,
       "version_minor": 0
      },
      "text/plain": [
       "Test epoch:   0%|          | 0/5000 [00:00<?, ?it/s]"
      ]
     },
     "metadata": {},
     "output_type": "display_data"
    },
    {
     "name": "stdout",
     "output_type": "stream",
     "text": [
      "Test epoch: 100%|██████████| 5000/5000 [00:01<00:00, 4728.32it/s, MulticlassAccuracy=0.587, avg_loss=1.23]\n"
     ]
    },
    {
     "data": {
      "application/vnd.jupyter.widget-view+json": {
       "model_id": "3d0886ee570f4b99971d70d1620c74d8",
       "version_major": 2,
       "version_minor": 0
      },
      "text/plain": [
       "Train loop:   0%|          | 0/45000 [00:00<?, ?it/s]"
      ]
     },
     "metadata": {},
     "output_type": "display_data"
    },
    {
     "name": "stdout",
     "output_type": "stream",
     "text": [
      "Train loop: 100%|██████████| 45000/45000 [01:24<00:00, 531.89it/s, MulticlassAccuracy=0.774, avg_loss=0.606]\n"
     ]
    },
    {
     "data": {
      "application/vnd.jupyter.widget-view+json": {
       "model_id": "7e157073ceb74c359c59c78af6411be4",
       "version_major": 2,
       "version_minor": 0
      },
      "text/plain": [
       "Test epoch:   0%|          | 0/5000 [00:00<?, ?it/s]"
      ]
     },
     "metadata": {},
     "output_type": "display_data"
    },
    {
     "name": "stdout",
     "output_type": "stream",
     "text": [
      "Test epoch: 100%|██████████| 5000/5000 [00:01<00:00, 4697.05it/s, MulticlassAccuracy=0.544, avg_loss=1.55]\n"
     ]
    },
    {
     "data": {
      "application/vnd.jupyter.widget-view+json": {
       "model_id": "82eec2c1b22243f0827172b9c86ed51e",
       "version_major": 2,
       "version_minor": 0
      },
      "text/plain": [
       "Train loop:   0%|          | 0/45000 [00:00<?, ?it/s]"
      ]
     },
     "metadata": {},
     "output_type": "display_data"
    },
    {
     "name": "stdout",
     "output_type": "stream",
     "text": [
      "Train loop: 100%|██████████| 45000/45000 [01:24<00:00, 535.00it/s, MulticlassAccuracy=0.809, avg_loss=0.534]\n"
     ]
    },
    {
     "data": {
      "application/vnd.jupyter.widget-view+json": {
       "model_id": "6d7e3d93ab3a45bcb4d3b1bb0dd9c882",
       "version_major": 2,
       "version_minor": 0
      },
      "text/plain": [
       "Test epoch:   0%|          | 0/5000 [00:00<?, ?it/s]"
      ]
     },
     "metadata": {},
     "output_type": "display_data"
    },
    {
     "name": "stdout",
     "output_type": "stream",
     "text": [
      "Test epoch: 100%|██████████| 5000/5000 [00:01<00:00, 4882.84it/s, MulticlassAccuracy=0.611, avg_loss=1.45]\n"
     ]
    }
   ],
   "source": [
    "# Adam regularizes the parameters so it is more robust to gradient attacks\n",
    "opt = make_optimizer(net, opt_name='adam', lr=lr)\n",
    "for epoch in trange(epochs, desc='Train epochs', unit='epoch', leave=True):\n",
    "    train_epoch_with_poisons(\n",
    "        net, train_loader,\n",
    "        criterion, opt,\n",
    "        poison_opt_steps=5, alpha_poison=0.2\n",
    "    )\n",
    "    test_epoch(net, val_loader, criterion, keep_pbars=True, metric=metric)"
   ]
  },
  {
   "cell_type": "markdown",
   "metadata": {},
   "source": [
    "## Machine unlearning"
   ]
  },
  {
   "cell_type": "code",
   "execution_count": null,
   "metadata": {},
   "outputs": [],
   "source": [
    "from .image_classification.unlearning import neg_grad_plus, unlearning_last_layers"
   ]
  },
  {
   "cell_type": "markdown",
   "metadata": {},
   "source": [
    "TODO: test this against SGD first...\n",
    "\n",
    "Refactor and create objects:\n",
    "- GradientInverter\n",
    "- PoisonedTrainer: store generated poisons"
   ]
  },
  {
   "cell_type": "markdown",
   "metadata": {},
   "source": [
    "### Remaining tasks\n",
    "\n",
    "- Refactoring\n",
    "- Change reconstruction attack by starting from a random pattern\n",
    "- _Little is Enough_ attack\n",
    "- Mean gradient estimation with auxiliary dataset\n",
    "- Testing against unlearning\n",
    "- Testing with different configs (optimizer, number of epochs, batch size, models)"
   ]
  }
 ],
 "metadata": {
  "kernelspec": {
   "display_name": "ml",
   "language": "python",
   "name": "ml"
  },
  "language_info": {
   "codemirror_mode": {
    "name": "ipython",
    "version": 3
   },
   "file_extension": ".py",
   "mimetype": "text/x-python",
   "name": "python",
   "nbconvert_exporter": "python",
   "pygments_lexer": "ipython3",
   "version": "3.13.2"
  }
 },
 "nbformat": 4,
 "nbformat_minor": 2
}
