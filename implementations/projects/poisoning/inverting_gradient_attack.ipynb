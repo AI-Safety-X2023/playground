{
 "cells": [
  {
   "cell_type": "markdown",
   "metadata": {},
   "source": [
    "# Inverting gradient attack"
   ]
  },
  {
   "cell_type": "code",
   "execution_count": 1,
   "metadata": {},
   "outputs": [],
   "source": [
    "from __future__ import annotations\n",
    "\n",
    "from copy import deepcopy\n",
    "import numpy as np\n",
    "import matplotlib.pyplot as plt\n",
    "import seaborn as sns\n",
    "from scipy import stats\n",
    "import pandas as pd\n",
    "import torch\n",
    "from torch import nn, Tensor\n",
    "from torch.nn import functional as F\n",
    "from torch.nn.modules.loss import _Loss, CrossEntropyLoss\n",
    "from torch.optim import Optimizer, SGD, Adam, AdamW\n",
    "from torch.utils.data import Dataset, DataLoader, Subset, TensorDataset\n",
    "from torchmetrics.classification import MulticlassAccuracy\n",
    "from torchmetrics.functional.image import total_variation\n",
    "import torchinfo\n",
    "from image_classification.utils import trange"
   ]
  },
  {
   "cell_type": "code",
   "execution_count": 2,
   "metadata": {},
   "outputs": [
    {
     "name": "stdout",
     "output_type": "stream",
     "text": [
      "cuda:0\n"
     ]
    }
   ],
   "source": [
    "device = torch.device('cuda:0' if torch.cuda.is_available() else 'cpu')\n",
    "\n",
    "print(device)"
   ]
  },
  {
   "cell_type": "markdown",
   "metadata": {},
   "source": [
    "## ResNet-18"
   ]
  },
  {
   "cell_type": "markdown",
   "metadata": {},
   "source": [
    "For quick prototyping, also consider using `ConvNet16`, a 1.6M-parameter model that is much smaller than `ResNet18`. Experiments can be made on both models or on only one of them."
   ]
  },
  {
   "cell_type": "code",
   "execution_count": 3,
   "metadata": {},
   "outputs": [
    {
     "name": "stdout",
     "output_type": "stream",
     "text": [
      "Using cuda device\n"
     ]
    }
   ],
   "source": [
    "from image_classification.models import ResNet18, ConvNet16\n",
    "from image_classification.datasets import cifar10_train_test, cifar100_train_test\n",
    "from image_classification.nn import train_loop, train_val_loop, test_epoch"
   ]
  },
  {
   "cell_type": "code",
   "execution_count": 4,
   "metadata": {},
   "outputs": [
    {
     "name": "stdout",
     "output_type": "stream",
     "text": [
      "Loading CIFAR-10\n"
     ]
    },
    {
     "data": {
      "text/plain": [
       "(40000, 5000, 5000, 10000)"
      ]
     },
     "execution_count": 4,
     "metadata": {},
     "output_type": "execute_result"
    }
   ],
   "source": [
    "# Set to 10 for CIFAR-10, 100 for CIFAR-100\n",
    "num_classes = 10\n",
    "\n",
    "# The images are already normalized by theses datasets\n",
    "if num_classes == 10:\n",
    "    get_train_test = cifar10_train_test\n",
    "elif num_classes == 100:\n",
    "    get_train_test = cifar100_train_test\n",
    "else:\n",
    "    raise ValueError(f\"Can't find CIFAR dataset with {num_classes} classes\")\n",
    "print(f\"Loading CIFAR-{num_classes}\")\n",
    "\n",
    "training_data, test_data = get_train_test(root='data')\n",
    "N_test = len(test_data)\n",
    "N_val = len(training_data) // 10\n",
    "N_aux = N_val\n",
    "N = len(training_data) - N_val - N_aux\n",
    "# This works since training data is already shuffled\n",
    "training_data, val_data, aux_data = training_data.split([N, N_val, N_aux])\n",
    "\n",
    "batch_size = 100\n",
    "N, N_val, N_aux, N_test"
   ]
  },
  {
   "cell_type": "code",
   "execution_count": 5,
   "metadata": {},
   "outputs": [],
   "source": [
    "train_loader = DataLoader(training_data, batch_size, drop_last=True)\n",
    "val_loader = DataLoader(val_data, batch_size, drop_last=True)\n",
    "aux_loader = DataLoader(aux_data, batch_size, drop_last=True)"
   ]
  },
  {
   "cell_type": "markdown",
   "metadata": {},
   "source": [
    "### Hyperparameters"
   ]
  },
  {
   "cell_type": "code",
   "execution_count": 6,
   "metadata": {},
   "outputs": [],
   "source": [
    "lr = 1e-3\n",
    "weight_decay = 5e-4\n",
    "# For learning rate scheduling\n",
    "max_lr = 0.1\n",
    "\n",
    "epochs = 6\n",
    "steps_per_epoch = N // batch_size\n",
    "\n",
    "lr_sched_params = dict(max_lr=max_lr, epochs=epochs, steps_per_epoch=steps_per_epoch)\n",
    "\n",
    "criterion = CrossEntropyLoss()\n",
    "\n",
    "top_k = {10: 1, 100: 5}[num_classes]\n",
    "\n",
    "metric = MulticlassAccuracy(num_classes=num_classes, top_k=top_k)"
   ]
  },
  {
   "cell_type": "markdown",
   "metadata": {},
   "source": [
    "### Optimizer (TODO: compare SGD & Adam)"
   ]
  },
  {
   "cell_type": "code",
   "execution_count": 7,
   "metadata": {},
   "outputs": [],
   "source": [
    "def make_optimizer(model: nn.Module, opt_name='adamw', lr=lr, weight_decay=weight_decay, **kwargs) -> Optimizer:\n",
    "    cls = {'sgd': SGD, 'adam': Adam, 'adamw': AdamW}[opt_name]\n",
    "    return cls(model.parameters(), lr=lr, weight_decay=weight_decay, **kwargs)"
   ]
  },
  {
   "cell_type": "markdown",
   "metadata": {},
   "source": [
    "## Inverting gradient attack"
   ]
  },
  {
   "cell_type": "code",
   "execution_count": 8,
   "metadata": {},
   "outputs": [],
   "source": [
    "# TODO: gradients per parameter instead?\n",
    "def model_gradients(model: nn.Module) -> Tensor:\n",
    "    \"\"\"\n",
    "    Returns the model gradients without detaching them.\n",
    "    \"\"\"\n",
    "    grads = [\n",
    "        param.grad.flatten()\n",
    "        for param in model.parameters()\n",
    "    ]\n",
    "    return torch.cat(grads)\n",
    "\n",
    "def average_model_gradient(model: nn.Module, batch_size: int) -> Tensor:\n",
    "    \"\"\"\n",
    "    Returns the model gradient averaged over the batch size.\n",
    "\n",
    "    Assumes the gradients have already been computed with loss backpropagation.\n",
    "    \"\"\"\n",
    "    return model_gradients(model).detach().clone() / batch_size"
   ]
  },
  {
   "cell_type": "code",
   "execution_count": 9,
   "metadata": {},
   "outputs": [],
   "source": [
    "max_data_variation = training_data.max_data_variation()"
   ]
  },
  {
   "cell_type": "code",
   "execution_count": 10,
   "metadata": {},
   "outputs": [],
   "source": [
    "from enum import Enum\n",
    "\n",
    "class GradientAttack(Enum):\n",
    "    \"\"\"\n",
    "    A type of gradient attack.\n",
    "    \"\"\"\n",
    "    # Inverting gradient reconstruction attack (Geiping et al., 2020)\n",
    "    # https://arxiv.org/abs/2003.14053v2)\n",
    "    RECONSTRUCTION = -1\n",
    "\n",
    "    # Gradient Ascent (Blanchard et al., 2017)\n",
    "    ASCENT = 0\n",
    "\n",
    "    # Orthogonal Gradient\n",
    "    ORTHOGONAL = 1\n",
    "\n",
    "    # Little is Enough (Baruch et al., 2019; Shejwalkar & Houmansadr, 2021)\n",
    "    # https://arxiv.org/abs/1902.06156\n",
    "    LITTLE_IS_ENOUGH = 2"
   ]
  },
  {
   "cell_type": "code",
   "execution_count": 11,
   "metadata": {},
   "outputs": [],
   "source": [
    "# https://github.com/pytorch/pytorch/issues/23900\n",
    "def cycle(iterable: DataLoader):\n",
    "    \"\"\"\n",
    "    Cycle through the elements of a dataloader infinitely.\n",
    "    \"\"\"\n",
    "    iterator = iter(iterable)\n",
    "    while True:\n",
    "        try:\n",
    "            yield next(iterator)\n",
    "        except StopIteration:\n",
    "            iterator = iter(iterable)\n",
    "\n",
    "class GradientEstimator:\n",
    "    \"\"\"A class for estimating model gradient statistics (mean and standard deviation).\"\"\"\n",
    "    def average_clean_gradient(self, model: nn.Module, criterion: _Loss) -> Tensor:\n",
    "        \"\"\"\n",
    "        Estimate the average gradient on a clean-distributed dataset.\n",
    "\n",
    "        # Requirements\n",
    "        This function must not modify the model gradients.\n",
    "        \"\"\"\n",
    "        raise NotImplementedError\n",
    "    \n",
    "    def std_clean_gradient(self, model: nn.Module, criterion: _Loss) -> Tensor:\n",
    "        \"\"\"\n",
    "        Estimate the gradient per-coordinate standard deviation on a clean-distributed dataset.\n",
    "        \"\"\"\n",
    "        raise NotImplementedError\n",
    "\n",
    "class OmniscientGradientEstimator(GradientEstimator):\n",
    "    \"\"\"\n",
    "    Estimates the average gradient assuming it has already been computed\n",
    "    on a mini-batch with loss backpropagation.\n",
    "\n",
    "    # Example\n",
    "    ```python\n",
    "    grad_estim = OmniscientGradientEstimator(batch_size)\n",
    "    loss = criterion(model(X), y)\n",
    "    loss.backward()\n",
    "    avg_clean_gradient = grad_estim.average_clean_gradient(model, criterion)\n",
    "    ```\n",
    "    \"\"\"\n",
    "    def __init__(self, batch_size: int):\n",
    "        super().__init__()\n",
    "        self.batch_size = batch_size\n",
    "    \n",
    "    def average_clean_gradient(self, model: nn.Module, criterion: _Loss) -> Tensor:\n",
    "        return average_model_gradient(model, self.batch_size)\n",
    "\n",
    "    def std_clean_gradient(self, model: nn.Module, criterion: _Loss) -> Tensor:\n",
    "        # FIXME: gradients have already been aggregated...\n",
    "        raise NotImplementedError\n",
    "    \n",
    "\n",
    "class ShadowGradientEstimator(GradientEstimator):\n",
    "    \"\"\"\n",
    "    Estimate the average clean gradient with an auxiliary dataset\n",
    "    that is similarly distributed to the training dataset.\n",
    "    \"\"\"\n",
    "    def __init__(self, aux_loader: DataLoader):\n",
    "        self.aux_loader = cycle(aux_loader)\n",
    "    \n",
    "    def average_clean_gradient(self, model: nn.Module, criterion: _Loss) -> Tensor:\n",
    "        model = deepcopy(model)\n",
    "        # TODO: estimate on next mini-batch of aux_loader\n",
    "        # WARNING: do not modify the original model, but the copied model!\n",
    "        #\n",
    "        # minor suggestion (optimization): identify samples that are consistently\n",
    "        # close to the average and boost them.\n",
    "        # also cache near-constant gradients if model is converging\n",
    "        raise NotImplementedError\n",
    "    \n",
    "    def std_clean_gradient(self, model: nn.Module, criterion: _Loss):\n",
    "        model = deepcopy(model)\n",
    "        # FIXME: gradients have already been aggregated...\n",
    "        raise NotImplementedError"
   ]
  },
  {
   "cell_type": "code",
   "execution_count": 12,
   "metadata": {},
   "outputs": [],
   "source": [
    "class SampleInit:\n",
    "    \"\"\"Sample initialization method for inverting gradient attacks.\"\"\"\n",
    "    def __init__(self, dataset: Dataset):\n",
    "        self.dataset = dataset\n",
    "\n",
    "    def __call__(self) -> tuple[Tensor, Tensor]:\n",
    "        raise NotImplementedError\n",
    "\n",
    "class SampleInitRandomNoise(SampleInit):\n",
    "    \"\"\"Generate an image with random noise and a random label.\"\"\"\n",
    "    def __call__(self) -> tuple[Tensor, Tensor]:\n",
    "        return self.dataset.random_sample_noise()\n",
    "\n",
    "# FIXME: this would leak training data to the attacker.\n",
    "# TODO: sample from auxiliary dataset instead\n",
    "class SampleInitFromDataset(SampleInit):\n",
    "    \"\"\"Choose a random image from the dataset.\"\"\"\n",
    "    def __call__(self) -> tuple[Tensor, Tensor]:\n",
    "        return self.dataset[np.random.randint(len(self.dataset))]\n",
    "\n",
    "class SampleInitConstant(SampleInit):\n",
    "    \"\"\"Return a fixed starting image.\"\"\"\n",
    "    def __init__(self, X: Tensor, y: Tensor):\n",
    "        self.X = X\n",
    "        self.y = y\n",
    "    \n",
    "    def __call__(self) -> tuple[Tensor, Tensor]:\n",
    "        return self.X, self.y"
   ]
  },
  {
   "cell_type": "code",
   "execution_count": 31,
   "metadata": {},
   "outputs": [],
   "source": [
    "class GradientInverter:\n",
    "    \"\"\"Inverting gradient attack.\"\"\"\n",
    "    def __init__(\n",
    "            self,\n",
    "            method: GradientAttack,\n",
    "            estimator: GradientEstimator,\n",
    "            steps: int,\n",
    "            sample_init: SampleInit,\n",
    "            tv_coef = 0.0, # TODO: more ergonomic interface\n",
    "            lr = 0.2, # TODO: find appropriate lr scheduling step\n",
    "        ):\n",
    "        self.method = method\n",
    "        self.estimator = estimator\n",
    "        self.steps = steps\n",
    "        self.tv_coef = tv_coef\n",
    "        self.lr = lr\n",
    "        self.sample_init = sample_init\n",
    "    \n",
    "    def attack(self, model: nn.Module, criterion: _Loss) -> tuple[Tensor, Tensor]:\n",
    "        \"\"\"\n",
    "        Create a poisoned data point with an inverting gradient attack.\n",
    "        \n",
    "        This function assumes that mini-batch loss gradients have been computed\n",
    "        via backpropagation. It does not alter the model.\n",
    "\n",
    "        WARNING: do not deepcopy the model before calling this function\n",
    "        as the gradients will not be copied along.\n",
    "        \"\"\"\n",
    "        avg_clean_gradient = self.estimator.average_clean_gradient(model, criterion)\n",
    "        avg_clean_gradient.requires_grad_(False)\n",
    "        \n",
    "        # This detaches the model and its gradients\n",
    "        model = deepcopy(model)\n",
    "        model.eval()\n",
    "        model.requires_grad_()\n",
    "        model.zero_grad()\n",
    "\n",
    "        # TODO: implement random restarts if sampling is not constant\n",
    "        x_base, y_base = self.sample_init()\n",
    "        \n",
    "        x_base = x_base.to(device)\n",
    "        y_base = F.one_hot(y_base, num_classes).float().to(device)\n",
    "        # We optimize on both the image and the label (as a logit vector)\n",
    "        opt = Adam([x_base, y_base], lr=self.lr)\n",
    "\n",
    "        for _step in range(self.steps):\n",
    "            # FIXME: seems necessary but `criterion` gradients only need be computed for `model`\n",
    "            x_base.requires_grad_(True)\n",
    "            y_base.requires_grad_(True)\n",
    "\n",
    "            loss = criterion(model(x_base.unsqueeze(0)).squeeze(), y_base)\n",
    "            loss.backward(create_graph=True) # Allows 2nd-order differentiation\n",
    "\n",
    "            # TODO: gradients per parameter instead & weighted cosine similarity?\n",
    "            g_p = model_gradients(model)\n",
    "\n",
    "            match self.method:\n",
    "                case GradientAttack.RECONSTRUCTION:\n",
    "                    #loss_adv = (g_p - avg_clean_gradient).norm() ** 2\n",
    "                    #TODO: (signed gradient updates) & learning rate decay (Geiping et al.)\n",
    "                    loss_adv = 1.0 - torch.cosine_similarity(g_p, avg_clean_gradient, dim=0)\n",
    "\n",
    "                case GradientAttack.ASCENT:\n",
    "                    cos_sim = torch.cosine_similarity(g_p, avg_clean_gradient, dim=0)\n",
    "                    # dot product increases the gradient size but makes unalignment easier\n",
    "                    #loss_adv = g_p.dot(avg_clean_gradient)\n",
    "                    loss_adv = cos_sim\n",
    "                \n",
    "                case GradientAttack.ORTHOGONAL:\n",
    "                    cos_sim = torch.cosine_similarity(g_p, avg_clean_gradient, dim=0)\n",
    "                    loss_adv = cos_sim ** 2\n",
    "\n",
    "                case GradientAttack.LITTLE_IS_ENOUGH:\n",
    "                    # See Algorithm 3 in https://arxiv.org/pdf/1902.06156\n",
    "                    # Estimate per-coordinate gradient std dev. with GradientEstimator\n",
    "                    raise NotImplementedError\n",
    "\n",
    "            if self.tv_coef:\n",
    "                tv = total_variation(x_base.unsqueeze(0))\n",
    "                normalization = x_base.numel() * 4 * max_data_variation ** 2\n",
    "                loss_adv += self.tv_coef * tv / normalization\n",
    "\n",
    "            #print(f\"Inverting gradient step {step}: loss = {loss.item()}, cos_sim = {cos_sim.item()}\")\n",
    "            # Clear `loss` gradients on `x_base` and `y_base`\n",
    "            opt.zero_grad()\n",
    "\n",
    "            # TODO: improve efficiency, e.g with torch.autograd\n",
    "            # Optimize `x_base`, `y_base`\n",
    "            loss_adv.backward()\n",
    "            opt.step()\n",
    "            opt.zero_grad()\n",
    "            model.zero_grad()\n",
    "\n",
    "            # Avoids autograd graph errors when modifying tensor in-place\n",
    "            x_base.requires_grad_(False)\n",
    "            y_base.requires_grad_(False)\n",
    "            # Projected optimization algorithm\n",
    "            training_data.clip_to_data_range(x_base, inplace=True)\n",
    "        \n",
    "        # Take the softmax output as the one-hot label (Zhu et al., Deep Leakage from Gradients)\n",
    "        y_base = y_base.argmax()\n",
    "        return x_base, y_base\n"
   ]
  },
  {
   "cell_type": "markdown",
   "metadata": {},
   "source": [
    "### Visualizing reconstruction attacks"
   ]
  },
  {
   "cell_type": "code",
   "execution_count": 32,
   "metadata": {},
   "outputs": [],
   "source": [
    "def display_input_image(input: Tensor, label: Tensor, title='', cmap=None, ax: plt.Axes = None):\n",
    "    \"\"\"\n",
    "    Displays an an input image to a neural network.\n",
    "\n",
    "    `input`: a 3D tensor\n",
    "    `cmap`: grayscale by default.\n",
    "    \"\"\"\n",
    "    decoders = {\n",
    "        10: training_data.decode_cifar10_image,\n",
    "        100: training_data.decode_cifar100_image,\n",
    "    }\n",
    "    image = decoders[len(training_data.classes)](input)\n",
    "    class_ = training_data.decode_target(label)\n",
    "\n",
    "    if ax is None:\n",
    "        _fig, ax = plt.subplots()\n",
    "    ax.imshow(image, cmap=cmap, interpolation='nearest')\n",
    "    if title:\n",
    "        title = f\"{class_} - {title}\"\n",
    "    else:\n",
    "        title = class_\n",
    "    ax.set_title(title, fontsize=7)"
   ]
  },
  {
   "cell_type": "code",
   "execution_count": null,
   "metadata": {},
   "outputs": [],
   "source": [
    "def test_attack(\n",
    "        inverter: GradientInverter,\n",
    "        model: nn.Module, criterion: _Loss,\n",
    "        X: Tensor, y: Tensor,\n",
    "        ax_clean: plt.Axes, ax_reconstructed: plt.Axes,\n",
    "        title=False\n",
    "    ):\n",
    "    model.eval()\n",
    "    model.zero_grad()\n",
    "\n",
    "    X, y = X.to(device), y.to(device)\n",
    "    logits = model(X)\n",
    "    loss = criterion(logits, y)\n",
    "    loss.backward()\n",
    "\n",
    "    # According to Zhao et al. (iDLG), the label information can be recovered\n",
    "    # analytically, so we assume the attacker has access to the label.\n",
    "    inverter.sample_init.label_hint(y[0])\n",
    "    X_p, y_p = inverter.attack(model, criterion)\n",
    "    \n",
    "    clean_title, reconstructed_title = \"\", \"\"\n",
    "    if title:\n",
    "        clean_title = \"Clean sample\"\n",
    "        reconstructed_title = f\"Reconstructed sample, {inverter.steps} steps\"\n",
    "    display_input_image(\n",
    "        X[0], y[0],\n",
    "        title=clean_title,\n",
    "        ax=ax_clean,\n",
    "    )\n",
    "    display_input_image(\n",
    "        X_p, y_p,\n",
    "        title=reconstructed_title,\n",
    "        ax=ax_reconstructed,\n",
    "    )\n",
    "\n",
    "    return X, y, X_p, y_p"
   ]
  },
  {
   "cell_type": "code",
   "execution_count": null,
   "metadata": {},
   "outputs": [],
   "source": [
    "def test_reconstruction(net: nn.Module, training_data: Dataset, n=5, steps=1000, tv_coef=0.1, lr=0.2):\n",
    "\n",
    "    class SampleInitLabelHint(SampleInit):\n",
    "        def __init__(self, inner: SampleInit):\n",
    "            self._inner = inner\n",
    "            self.y = None\n",
    "  \n",
    "        def label_hint(self, label: Tensor):\n",
    "            self.y = label\n",
    "        \n",
    "        def __call__(self):\n",
    "            X, _ = self._inner.__call__()\n",
    "            assert self.y is not None\n",
    "            y = self.y\n",
    "            self.y = None\n",
    "            return X, y\n",
    "\n",
    "    reconstruction_inverter = GradientInverter(\n",
    "        GradientAttack.RECONSTRUCTION,\n",
    "        OmniscientGradientEstimator(batch_size=1),\n",
    "        steps=steps,\n",
    "        sample_init=SampleInitLabelHint(SampleInitRandomNoise(aux_data)),\n",
    "        tv_coef=tv_coef,\n",
    "        lr=lr,\n",
    "    )\n",
    "    loader = DataLoader(training_data, batch_size=1)\n",
    "\n",
    "    fig, axes = plt.subplots(nrows=2, ncols=n, squeeze=False)\n",
    "    for i, (X, y) in zip(range(n), loader):\n",
    "        # TODO: also test with shadow gradient estimation w/ aux. dataset\n",
    "        test_attack(reconstruction_inverter, net, criterion, X, y, axes[0, i], axes[1, i]);\n",
    "    fig.suptitle(f\"Reconstruction attacks against ResNet-18 on CIFAR-10\\n{steps} steps, {lr=}, {tv_coef=}\")\n",
    "    fig.tight_layout()"
   ]
  },
  {
   "cell_type": "code",
   "execution_count": 35,
   "metadata": {},
   "outputs": [
    {
     "data": {
      "application/vnd.jupyter.widget-view+json": {
       "model_id": "43d42dcc712f48f099ea8d028ac92b97",
       "version_major": 2,
       "version_minor": 0
      },
      "text/plain": [
       "Train epochs:   0%|          | 0/10 [00:00<?, ?epoch/s]"
      ]
     },
     "metadata": {},
     "output_type": "display_data"
    },
    {
     "data": {
      "application/vnd.jupyter.widget-view+json": {
       "model_id": "e75bed2570454a95aa7854c212fe9fc4",
       "version_major": 2,
       "version_minor": 0
      },
      "text/plain": [
       "Train loop:   0%|          | 0/5000 [00:00<?, ?it/s]"
      ]
     },
     "metadata": {},
     "output_type": "display_data"
    },
    {
     "name": "stdout",
     "output_type": "stream",
     "text": [
      "Train loop: 100%|██████████| 5000/5000 [00:02<00:00, 1831.29it/s, avg_loss=1.89]\n"
     ]
    },
    {
     "data": {
      "application/vnd.jupyter.widget-view+json": {
       "model_id": "6aeb52a337c64614a1bf4774c3c86883",
       "version_major": 2,
       "version_minor": 0
      },
      "text/plain": [
       "Test epoch:   0%|          | 0/5000 [00:00<?, ?it/s]"
      ]
     },
     "metadata": {},
     "output_type": "display_data"
    },
    {
     "name": "stdout",
     "output_type": "stream",
     "text": [
      "Test epoch: 100%|██████████| 5000/5000 [00:00<00:00, 5868.81it/s, avg_loss=1.94]\n"
     ]
    },
    {
     "data": {
      "application/vnd.jupyter.widget-view+json": {
       "model_id": "0d6ffffe505148298905d14d3065ee11",
       "version_major": 2,
       "version_minor": 0
      },
      "text/plain": [
       "Train loop:   0%|          | 0/5000 [00:00<?, ?it/s]"
      ]
     },
     "metadata": {},
     "output_type": "display_data"
    },
    {
     "name": "stdout",
     "output_type": "stream",
     "text": [
      "Train loop: 100%|██████████| 5000/5000 [00:02<00:00, 1830.31it/s, avg_loss=1.55]\n"
     ]
    },
    {
     "data": {
      "application/vnd.jupyter.widget-view+json": {
       "model_id": "a9f309a1aa5347978274f483315e16aa",
       "version_major": 2,
       "version_minor": 0
      },
      "text/plain": [
       "Train loop:   0%|          | 0/5000 [00:00<?, ?it/s]"
      ]
     },
     "metadata": {},
     "output_type": "display_data"
    },
    {
     "name": "stdout",
     "output_type": "stream",
     "text": [
      "Train loop: 100%|██████████| 5000/5000 [00:02<00:00, 1825.25it/s, avg_loss=1.38]\n"
     ]
    },
    {
     "data": {
      "application/vnd.jupyter.widget-view+json": {
       "model_id": "a2fe8f9c98e244e5a030326498219fd0",
       "version_major": 2,
       "version_minor": 0
      },
      "text/plain": [
       "Test epoch:   0%|          | 0/5000 [00:00<?, ?it/s]"
      ]
     },
     "metadata": {},
     "output_type": "display_data"
    },
    {
     "name": "stdout",
     "output_type": "stream",
     "text": [
      "Test epoch: 100%|██████████| 5000/5000 [00:00<00:00, 5836.35it/s, avg_loss=1.64]\n"
     ]
    },
    {
     "data": {
      "application/vnd.jupyter.widget-view+json": {
       "model_id": "65ef8d04dbfd4446927b8359029780aa",
       "version_major": 2,
       "version_minor": 0
      },
      "text/plain": [
       "Train loop:   0%|          | 0/5000 [00:00<?, ?it/s]"
      ]
     },
     "metadata": {},
     "output_type": "display_data"
    },
    {
     "name": "stdout",
     "output_type": "stream",
     "text": [
      "Train loop: 100%|██████████| 5000/5000 [00:02<00:00, 1821.17it/s, avg_loss=1.21]\n"
     ]
    },
    {
     "data": {
      "application/vnd.jupyter.widget-view+json": {
       "model_id": "17a6ca91d3ae471ea9e361b57949983b",
       "version_major": 2,
       "version_minor": 0
      },
      "text/plain": [
       "Train loop:   0%|          | 0/5000 [00:00<?, ?it/s]"
      ]
     },
     "metadata": {},
     "output_type": "display_data"
    },
    {
     "name": "stdout",
     "output_type": "stream",
     "text": [
      "Train loop: 100%|██████████| 5000/5000 [00:02<00:00, 1821.88it/s, avg_loss=1.08]\n"
     ]
    },
    {
     "data": {
      "application/vnd.jupyter.widget-view+json": {
       "model_id": "b751e1a5adca4c99affc6ff71bd3ad3e",
       "version_major": 2,
       "version_minor": 0
      },
      "text/plain": [
       "Test epoch:   0%|          | 0/5000 [00:00<?, ?it/s]"
      ]
     },
     "metadata": {},
     "output_type": "display_data"
    },
    {
     "name": "stdout",
     "output_type": "stream",
     "text": [
      "Test epoch: 100%|██████████| 5000/5000 [00:00<00:00, 5881.89it/s, avg_loss=2.44]\n",
      "Epoch 4: validation loss stopped improving, exiting train loop.\n"
     ]
    }
   ],
   "source": [
    "net = ResNet18(num_classes=num_classes).to(device)\n",
    "opt = make_optimizer(net, opt_name='adam', lr=lr)\n",
    "# Pretrain the model to make it learn the features\n",
    "mini_train_set = Subset(training_data, np.arange(N_aux))\n",
    "mini_train_loader = DataLoader(mini_train_set, batch_size)\n",
    "train_val_loop(\n",
    "    net, mini_train_loader, val_loader,\n",
    "    criterion, opt,\n",
    "    epochs=10, # Overfit on the first `N_aux` examples of the training data\n",
    ")"
   ]
  },
  {
   "cell_type": "code",
   "execution_count": 36,
   "metadata": {},
   "outputs": [
    {
     "data": {
      "image/png": "[encoded data removed]",
      "text/plain": [
       "<Figure size 640x480 with 2 Axes>"
      ]
     },
     "metadata": {},
     "output_type": "display_data"
    }
   ],
   "source": [
    "test_reconstruction(net, Subset(mini_train_set, [12]), n=1, steps=1000, lr=0.2, tv_coef=0.01)"
   ]
  },
  {
   "cell_type": "code",
   "execution_count": 37,
   "metadata": {},
   "outputs": [
    {
     "data": {
      "image/png": "[encoded data removed]",
      "text/plain": [
       "<Figure size 640x480 with 10 Axes>"
      ]
     },
     "metadata": {},
     "output_type": "display_data"
    }
   ],
   "source": [
    "test_reconstruction(net, mini_train_set, steps=500, lr=0.2)"
   ]
  },
  {
   "cell_type": "code",
   "execution_count": 38,
   "metadata": {},
   "outputs": [
    {
     "data": {
      "image/png": "[encoded data removed]",
      "text/plain": [
       "<Figure size 640x480 with 10 Axes>"
      ]
     },
     "metadata": {},
     "output_type": "display_data"
    }
   ],
   "source": [
    "test_reconstruction(net, mini_train_set)"
   ]
  },
  {
   "cell_type": "markdown",
   "metadata": {},
   "source": [
    "With enough reconstruction steps, many of the images can be leaked from the gradients with relatively high fidelity."
   ]
  },
  {
   "cell_type": "markdown",
   "metadata": {},
   "source": [
    "### Poisoning"
   ]
  },
  {
   "cell_type": "code",
   "execution_count": 39,
   "metadata": {},
   "outputs": [],
   "source": [
    "from image_classification.datasets import UpdatableDataset\n",
    "from image_classification.nn import MetricLogger\n",
    "\n",
    "def train_epoch_with_poisons(\n",
    "        model: nn.Module,\n",
    "        dataloader: DataLoader,\n",
    "        criterion: _Loss,\n",
    "        optimizer: Optimizer,\n",
    "        inverter: GradientInverter,\n",
    "        alpha_poison=0.2,\n",
    "        keep_pbars=True,\n",
    "    ) -> tuple[UpdatableDataset, MetricLogger]:\n",
    "    model.train()\n",
    "    logger = MetricLogger(\n",
    "        metric,\n",
    "        device=device,\n",
    "        desc='Train loop', total=len(dataloader.dataset), keep_pbars=keep_pbars,\n",
    "    )\n",
    "    poison_set = UpdatableDataset()\n",
    "\n",
    "    for X, y in dataloader:\n",
    "        X, y = X.to(device), y.to(device)\n",
    "        logits = model(X)\n",
    "        # TODO: handle losses that don't reduce\n",
    "        loss = criterion(logits, y)\n",
    "        # TODO: backpropagate on each loss element (and model.zero_grad() every time)\n",
    "        loss.backward()\n",
    "\n",
    "        # --- poisoning attack\n",
    "        X_p, y_p = inverter.attack(model, criterion)\n",
    "        poison_set.append(X_p, y_p)\n",
    "\n",
    "        logits_p = model(X_p.unsqueeze(0))\n",
    "        loss_p = alpha_poison * criterion(logits_p, y_p.unsqueeze(0))\n",
    "        # This adds to `loss` model gradients due to gradient accumulation\n",
    "        loss_p.backward()\n",
    "        # ---\n",
    "\n",
    "        optimizer.step()\n",
    "        optimizer.zero_grad()\n",
    "\n",
    "        # FIXME: does not include X_p, y_p, logits_p, loss_p\n",
    "        # TODO: log loss on poisons\n",
    "        # TODO: display some poisons\n",
    "        logger.compute_metrics(X, y, logits, loss.item())\n",
    "    \n",
    "    logger.finish()\n",
    "    return poison_set, logger"
   ]
  },
  {
   "cell_type": "code",
   "execution_count": 40,
   "metadata": {},
   "outputs": [],
   "source": [
    "def train_loop_with_poisons(\n",
    "        model: nn.Module,\n",
    "        train_loader: DataLoader,\n",
    "        val_loader: DataLoader,\n",
    "        criterion: _Loss,\n",
    "        optimizer: Optimizer,\n",
    "        epochs: int,\n",
    "        inverter: GradientInverter,\n",
    "        alpha_poison=0.05,\n",
    "        metric=metric,\n",
    "    ) -> TensorDataset:\n",
    "    poison_set = UpdatableDataset()\n",
    "    for epoch in trange(epochs, desc='Train epochs', unit='epoch', leave=True):\n",
    "        poison_set_epoch, _ = train_epoch_with_poisons(\n",
    "            model, train_loader,\n",
    "            criterion, optimizer,\n",
    "            inverter, alpha_poison=alpha_poison\n",
    "        )\n",
    "        poison_set.extend(poison_set_epoch)\n",
    "        test_epoch(model, val_loader, criterion, keep_pbars=True, metric=metric)\n",
    "    return poison_set.to_tensor_dataset()"
   ]
  },
  {
   "cell_type": "markdown",
   "metadata": {},
   "source": [
    "### Orthogonal Gradient inverting attack"
   ]
  },
  {
   "cell_type": "code",
   "execution_count": null,
   "metadata": {},
   "outputs": [],
   "source": [
    "estimator = OmniscientGradientEstimator(train_loader.batch_size)\n",
    "sample_init = SampleInitRandomNoise(aux_data)\n",
    "inverter = GradientInverter(\n",
    "    GradientAttack.ORTHOGONAL,\n",
    "    estimator,\n",
    "    steps=5,\n",
    "    sample_init=sample_init,\n",
    "    tv_coef=0.0,\n",
    "    lr=0.3,\n",
    ")"
   ]
  },
  {
   "cell_type": "code",
   "execution_count": 42,
   "metadata": {},
   "outputs": [
    {
     "data": {
      "application/vnd.jupyter.widget-view+json": {
       "model_id": "f20b6c1bf4d140e2817a01ff1d992a31",
       "version_major": 2,
       "version_minor": 0
      },
      "text/plain": [
       "Train epochs:   0%|          | 0/6 [00:00<?, ?epoch/s]"
      ]
     },
     "metadata": {},
     "output_type": "display_data"
    },
    {
     "data": {
      "application/vnd.jupyter.widget-view+json": {
       "model_id": "9f808822a635477ea41903f43e0d9b91",
       "version_major": 2,
       "version_minor": 0
      },
      "text/plain": [
       "Train loop:   0%|          | 0/40000 [00:00<?, ?it/s]"
      ]
     },
     "metadata": {},
     "output_type": "display_data"
    },
    {
     "name": "stdout",
     "output_type": "stream",
     "text": [
      "Train loop: 100%|██████████| 40000/40000 [01:13<00:00, 546.05it/s, MulticlassAccuracy=0.416, avg_loss=1.98]\n"
     ]
    },
    {
     "data": {
      "application/vnd.jupyter.widget-view+json": {
       "model_id": "959b2cb5fbcc43b5a0364982b69f9f17",
       "version_major": 2,
       "version_minor": 0
      },
      "text/plain": [
       "Test epoch:   0%|          | 0/5000 [00:00<?, ?it/s]"
      ]
     },
     "metadata": {},
     "output_type": "display_data"
    },
    {
     "name": "stdout",
     "output_type": "stream",
     "text": [
      "Test epoch: 100%|██████████| 5000/5000 [00:00<00:00, 5296.55it/s, MulticlassAccuracy=0.297, avg_loss=1.87]\n"
     ]
    },
    {
     "data": {
      "application/vnd.jupyter.widget-view+json": {
       "model_id": "89f41509fcd14c1cbc73d2d17c11354a",
       "version_major": 2,
       "version_minor": 0
      },
      "text/plain": [
       "Train loop:   0%|          | 0/40000 [00:00<?, ?it/s]"
      ]
     },
     "metadata": {},
     "output_type": "display_data"
    },
    {
     "name": "stdout",
     "output_type": "stream",
     "text": [
      "Train loop: 100%|██████████| 40000/40000 [01:14<00:00, 536.11it/s, MulticlassAccuracy=0.479, avg_loss=1.66]\n"
     ]
    },
    {
     "data": {
      "application/vnd.jupyter.widget-view+json": {
       "model_id": "af7a8b850e2c40a4a02b4fe2e0a06663",
       "version_major": 2,
       "version_minor": 0
      },
      "text/plain": [
       "Test epoch:   0%|          | 0/5000 [00:00<?, ?it/s]"
      ]
     },
     "metadata": {},
     "output_type": "display_data"
    },
    {
     "name": "stdout",
     "output_type": "stream",
     "text": [
      "Test epoch: 100%|██████████| 5000/5000 [00:00<00:00, 5073.06it/s, MulticlassAccuracy=0.361, avg_loss=1.79]\n"
     ]
    },
    {
     "data": {
      "application/vnd.jupyter.widget-view+json": {
       "model_id": "75fdda960808421c83b0da732a0c3b33",
       "version_major": 2,
       "version_minor": 0
      },
      "text/plain": [
       "Train loop:   0%|          | 0/40000 [00:00<?, ?it/s]"
      ]
     },
     "metadata": {},
     "output_type": "display_data"
    },
    {
     "name": "stdout",
     "output_type": "stream",
     "text": [
      "Train loop: 100%|██████████| 40000/40000 [01:16<00:00, 525.63it/s, MulticlassAccuracy=0.52, avg_loss=1.5]\n"
     ]
    },
    {
     "data": {
      "application/vnd.jupyter.widget-view+json": {
       "model_id": "354c72a6e6ec4215851cbe4bf15cc1d6",
       "version_major": 2,
       "version_minor": 0
      },
      "text/plain": [
       "Test epoch:   0%|          | 0/5000 [00:00<?, ?it/s]"
      ]
     },
     "metadata": {},
     "output_type": "display_data"
    },
    {
     "name": "stdout",
     "output_type": "stream",
     "text": [
      "Test epoch: 100%|██████████| 5000/5000 [00:00<00:00, 5292.36it/s, MulticlassAccuracy=0.423, avg_loss=1.65]\n"
     ]
    },
    {
     "data": {
      "application/vnd.jupyter.widget-view+json": {
       "model_id": "f357a24e91c0486daf8b0978d7e4d40e",
       "version_major": 2,
       "version_minor": 0
      },
      "text/plain": [
       "Train loop:   0%|          | 0/40000 [00:00<?, ?it/s]"
      ]
     },
     "metadata": {},
     "output_type": "display_data"
    },
    {
     "name": "stdout",
     "output_type": "stream",
     "text": [
      "Train loop: 100%|██████████| 40000/40000 [01:15<00:00, 527.80it/s, MulticlassAccuracy=0.579, avg_loss=1.39]\n"
     ]
    },
    {
     "data": {
      "application/vnd.jupyter.widget-view+json": {
       "model_id": "8b8228b778a34c54931139c43135374c",
       "version_major": 2,
       "version_minor": 0
      },
      "text/plain": [
       "Test epoch:   0%|          | 0/5000 [00:00<?, ?it/s]"
      ]
     },
     "metadata": {},
     "output_type": "display_data"
    },
    {
     "name": "stdout",
     "output_type": "stream",
     "text": [
      "Test epoch: 100%|██████████| 5000/5000 [00:00<00:00, 5215.75it/s, MulticlassAccuracy=0.447, avg_loss=1.57]\n"
     ]
    },
    {
     "data": {
      "application/vnd.jupyter.widget-view+json": {
       "model_id": "77020232299345a483d11d4e6149501d",
       "version_major": 2,
       "version_minor": 0
      },
      "text/plain": [
       "Train loop:   0%|          | 0/40000 [00:00<?, ?it/s]"
      ]
     },
     "metadata": {},
     "output_type": "display_data"
    },
    {
     "name": "stdout",
     "output_type": "stream",
     "text": [
      "Train loop: 100%|██████████| 40000/40000 [01:16<00:00, 525.76it/s, MulticlassAccuracy=0.604, avg_loss=1.29]\n"
     ]
    },
    {
     "data": {
      "application/vnd.jupyter.widget-view+json": {
       "model_id": "015d9b15a0ad40a9bf7912f6882ebcb7",
       "version_major": 2,
       "version_minor": 0
      },
      "text/plain": [
       "Test epoch:   0%|          | 0/5000 [00:00<?, ?it/s]"
      ]
     },
     "metadata": {},
     "output_type": "display_data"
    },
    {
     "name": "stdout",
     "output_type": "stream",
     "text": [
      "Test epoch: 100%|██████████| 5000/5000 [00:00<00:00, 5095.20it/s, MulticlassAccuracy=0.427, avg_loss=1.53]\n"
     ]
    },
    {
     "data": {
      "application/vnd.jupyter.widget-view+json": {
       "model_id": "b9a6c56846b74a649cd2d46dcde94438",
       "version_major": 2,
       "version_minor": 0
      },
      "text/plain": [
       "Train loop:   0%|          | 0/40000 [00:00<?, ?it/s]"
      ]
     },
     "metadata": {},
     "output_type": "display_data"
    },
    {
     "name": "stdout",
     "output_type": "stream",
     "text": [
      "Train loop: 100%|██████████| 40000/40000 [01:16<00:00, 525.24it/s, MulticlassAccuracy=0.656, avg_loss=1.2]\n"
     ]
    },
    {
     "data": {
      "application/vnd.jupyter.widget-view+json": {
       "model_id": "c5842815188a4ec6b68536f0732914d3",
       "version_major": 2,
       "version_minor": 0
      },
      "text/plain": [
       "Test epoch:   0%|          | 0/5000 [00:00<?, ?it/s]"
      ]
     },
     "metadata": {},
     "output_type": "display_data"
    },
    {
     "name": "stdout",
     "output_type": "stream",
     "text": [
      "Test epoch: 100%|██████████| 5000/5000 [00:00<00:00, 5187.36it/s, MulticlassAccuracy=0.461, avg_loss=1.53]\n"
     ]
    },
    {
     "data": {
      "text/plain": [
       "<torch.utils.data.dataset.TensorDataset at 0x7fead055c2f0>"
      ]
     },
     "execution_count": 42,
     "metadata": {},
     "output_type": "execute_result"
    }
   ],
   "source": [
    "# SGD is more vulnerable to gradient attacks\n",
    "net = ResNet18(num_classes=num_classes).to(device)\n",
    "opt = make_optimizer(net, opt_name='sgd', lr=lr, weight_decay=0.0)\n",
    "train_loop_with_poisons(\n",
    "    net, train_loader, val_loader,\n",
    "    criterion, opt,\n",
    "    epochs,\n",
    "    inverter, alpha_poison=0.2,\n",
    ")"
   ]
  },
  {
   "cell_type": "markdown",
   "metadata": {},
   "source": [
    "Training progress is slowed down by a lot, however accuracy does not drop as much as with Gradient Ascent."
   ]
  },
  {
   "cell_type": "markdown",
   "metadata": {},
   "source": [
    "### Gradient Ascent inverting attack"
   ]
  },
  {
   "cell_type": "code",
   "execution_count": null,
   "metadata": {},
   "outputs": [],
   "source": [
    "estimator = OmniscientGradientEstimator(train_loader.batch_size)\n",
    "sample_init = SampleInitRandomNoise(aux_data)\n",
    "inverter = GradientInverter(\n",
    "    GradientAttack.ASCENT,\n",
    "    estimator,\n",
    "    steps=5,\n",
    "    sample_init=sample_init,\n",
    "    tv_coef=0.0,\n",
    "    lr=0.3,\n",
    ")"
   ]
  },
  {
   "cell_type": "code",
   "execution_count": 44,
   "metadata": {},
   "outputs": [
    {
     "data": {
      "application/vnd.jupyter.widget-view+json": {
       "model_id": "af8b6fae7a9a41ea9b3cf2ef08147bbb",
       "version_major": 2,
       "version_minor": 0
      },
      "text/plain": [
       "Train epochs:   0%|          | 0/6 [00:00<?, ?epoch/s]"
      ]
     },
     "metadata": {},
     "output_type": "display_data"
    },
    {
     "data": {
      "application/vnd.jupyter.widget-view+json": {
       "model_id": "2522d2bb18034bafb89867b0a6aece85",
       "version_major": 2,
       "version_minor": 0
      },
      "text/plain": [
       "Train loop:   0%|          | 0/40000 [00:00<?, ?it/s]"
      ]
     },
     "metadata": {},
     "output_type": "display_data"
    },
    {
     "name": "stdout",
     "output_type": "stream",
     "text": [
      "Train loop: 100%|██████████| 40000/40000 [01:17<00:00, 518.60it/s, MulticlassAccuracy=0.35, avg_loss=2.04]\n"
     ]
    },
    {
     "data": {
      "application/vnd.jupyter.widget-view+json": {
       "model_id": "131191dfa57048118f6c5f13b61865b2",
       "version_major": 2,
       "version_minor": 0
      },
      "text/plain": [
       "Test epoch:   0%|          | 0/5000 [00:00<?, ?it/s]"
      ]
     },
     "metadata": {},
     "output_type": "display_data"
    },
    {
     "name": "stdout",
     "output_type": "stream",
     "text": [
      "Test epoch: 100%|██████████| 5000/5000 [00:00<00:00, 5039.24it/s, MulticlassAccuracy=0.277, avg_loss=1.94]\n"
     ]
    },
    {
     "data": {
      "application/vnd.jupyter.widget-view+json": {
       "model_id": "7d1888bd35154b1385b41e553d8ae229",
       "version_major": 2,
       "version_minor": 0
      },
      "text/plain": [
       "Train loop:   0%|          | 0/40000 [00:00<?, ?it/s]"
      ]
     },
     "metadata": {},
     "output_type": "display_data"
    },
    {
     "name": "stdout",
     "output_type": "stream",
     "text": [
      "Train loop: 100%|██████████| 40000/40000 [01:16<00:00, 521.01it/s, MulticlassAccuracy=0.498, avg_loss=1.69]\n"
     ]
    },
    {
     "data": {
      "application/vnd.jupyter.widget-view+json": {
       "model_id": "ce09ba98046149bc91ba328ccf10c7dc",
       "version_major": 2,
       "version_minor": 0
      },
      "text/plain": [
       "Test epoch:   0%|          | 0/5000 [00:00<?, ?it/s]"
      ]
     },
     "metadata": {},
     "output_type": "display_data"
    },
    {
     "name": "stdout",
     "output_type": "stream",
     "text": [
      "Test epoch: 100%|██████████| 5000/5000 [00:00<00:00, 5094.13it/s, MulticlassAccuracy=0.332, avg_loss=1.84]\n"
     ]
    },
    {
     "data": {
      "application/vnd.jupyter.widget-view+json": {
       "model_id": "88507ce1048440449837384807e8eb0f",
       "version_major": 2,
       "version_minor": 0
      },
      "text/plain": [
       "Train loop:   0%|          | 0/40000 [00:00<?, ?it/s]"
      ]
     },
     "metadata": {},
     "output_type": "display_data"
    },
    {
     "name": "stdout",
     "output_type": "stream",
     "text": [
      "Train loop: 100%|██████████| 40000/40000 [01:17<00:00, 518.46it/s, MulticlassAccuracy=0.533, avg_loss=1.53]\n"
     ]
    },
    {
     "data": {
      "application/vnd.jupyter.widget-view+json": {
       "model_id": "64f778034b4f4f189927b9d025fcde2b",
       "version_major": 2,
       "version_minor": 0
      },
      "text/plain": [
       "Test epoch:   0%|          | 0/5000 [00:00<?, ?it/s]"
      ]
     },
     "metadata": {},
     "output_type": "display_data"
    },
    {
     "name": "stdout",
     "output_type": "stream",
     "text": [
      "Test epoch: 100%|██████████| 5000/5000 [00:00<00:00, 5045.57it/s, MulticlassAccuracy=0.383, avg_loss=1.75]\n"
     ]
    },
    {
     "data": {
      "application/vnd.jupyter.widget-view+json": {
       "model_id": "b2fdf86f619e4c748a25733ac85e6b14",
       "version_major": 2,
       "version_minor": 0
      },
      "text/plain": [
       "Train loop:   0%|          | 0/40000 [00:00<?, ?it/s]"
      ]
     },
     "metadata": {},
     "output_type": "display_data"
    },
    {
     "name": "stdout",
     "output_type": "stream",
     "text": [
      "Train loop: 100%|██████████| 40000/40000 [01:16<00:00, 522.04it/s, MulticlassAccuracy=0.551, avg_loss=1.41]\n"
     ]
    },
    {
     "data": {
      "application/vnd.jupyter.widget-view+json": {
       "model_id": "59da3a467be64a9b8cc82e29377b13db",
       "version_major": 2,
       "version_minor": 0
      },
      "text/plain": [
       "Test epoch:   0%|          | 0/5000 [00:00<?, ?it/s]"
      ]
     },
     "metadata": {},
     "output_type": "display_data"
    },
    {
     "name": "stdout",
     "output_type": "stream",
     "text": [
      "Test epoch: 100%|██████████| 5000/5000 [00:00<00:00, 5182.95it/s, MulticlassAccuracy=0.354, avg_loss=1.87]\n"
     ]
    },
    {
     "data": {
      "application/vnd.jupyter.widget-view+json": {
       "model_id": "5c22e43c1b2c4b0e9cbf577ac060332e",
       "version_major": 2,
       "version_minor": 0
      },
      "text/plain": [
       "Train loop:   0%|          | 0/40000 [00:00<?, ?it/s]"
      ]
     },
     "metadata": {},
     "output_type": "display_data"
    },
    {
     "name": "stdout",
     "output_type": "stream",
     "text": [
      "Train loop: 100%|██████████| 40000/40000 [01:16<00:00, 525.78it/s, MulticlassAccuracy=0.623, avg_loss=1.32]\n"
     ]
    },
    {
     "data": {
      "application/vnd.jupyter.widget-view+json": {
       "model_id": "3d9e3a65f5da463e8eaac441f860a042",
       "version_major": 2,
       "version_minor": 0
      },
      "text/plain": [
       "Test epoch:   0%|          | 0/5000 [00:00<?, ?it/s]"
      ]
     },
     "metadata": {},
     "output_type": "display_data"
    },
    {
     "name": "stdout",
     "output_type": "stream",
     "text": [
      "Test epoch: 100%|██████████| 5000/5000 [00:00<00:00, 5093.71it/s, MulticlassAccuracy=0.421, avg_loss=1.6]\n"
     ]
    },
    {
     "data": {
      "application/vnd.jupyter.widget-view+json": {
       "model_id": "b32532ce4993430f984a73e683dfd0b5",
       "version_major": 2,
       "version_minor": 0
      },
      "text/plain": [
       "Train loop:   0%|          | 0/40000 [00:00<?, ?it/s]"
      ]
     },
     "metadata": {},
     "output_type": "display_data"
    },
    {
     "name": "stdout",
     "output_type": "stream",
     "text": [
      "Train loop: 100%|██████████| 40000/40000 [01:17<00:00, 515.78it/s, MulticlassAccuracy=0.615, avg_loss=1.24]\n"
     ]
    },
    {
     "data": {
      "application/vnd.jupyter.widget-view+json": {
       "model_id": "165723b49d764f0e919c9b9ad1ce9926",
       "version_major": 2,
       "version_minor": 0
      },
      "text/plain": [
       "Test epoch:   0%|          | 0/5000 [00:00<?, ?it/s]"
      ]
     },
     "metadata": {},
     "output_type": "display_data"
    },
    {
     "name": "stdout",
     "output_type": "stream",
     "text": [
      "Test epoch: 100%|██████████| 5000/5000 [00:00<00:00, 5041.85it/s, MulticlassAccuracy=0.457, avg_loss=1.62]\n"
     ]
    },
    {
     "data": {
      "text/plain": [
       "<torch.utils.data.dataset.TensorDataset at 0x7fe9bb4b3390>"
      ]
     },
     "execution_count": 44,
     "metadata": {},
     "output_type": "execute_result"
    }
   ],
   "source": [
    "# SGD is more vulnerable to gradient attacks\n",
    "net = ResNet18(num_classes=num_classes).to(device)\n",
    "opt = make_optimizer(net, opt_name='sgd', lr=lr, weight_decay=0.0)\n",
    "train_loop_with_poisons(\n",
    "    net, train_loader, val_loader,\n",
    "    criterion, opt,\n",
    "    epochs,\n",
    "    inverter, alpha_poison=0.2,\n",
    ")"
   ]
  },
  {
   "cell_type": "markdown",
   "metadata": {},
   "source": [
    "TODO: test with more poison steps or different lr for poison optimizer"
   ]
  },
  {
   "cell_type": "markdown",
   "metadata": {},
   "source": [
    "#### Lower poisoning rate"
   ]
  },
  {
   "cell_type": "code",
   "execution_count": 45,
   "metadata": {},
   "outputs": [],
   "source": [
    "net = ResNet18(num_classes=num_classes).to(device)"
   ]
  },
  {
   "cell_type": "code",
   "execution_count": 46,
   "metadata": {},
   "outputs": [
    {
     "data": {
      "application/vnd.jupyter.widget-view+json": {
       "model_id": "f851b8d46ebe4bed8407ed5d945b97d5",
       "version_major": 2,
       "version_minor": 0
      },
      "text/plain": [
       "Train epochs:   0%|          | 0/6 [00:00<?, ?epoch/s]"
      ]
     },
     "metadata": {},
     "output_type": "display_data"
    },
    {
     "data": {
      "application/vnd.jupyter.widget-view+json": {
       "model_id": "39a1e7ff081e42a39e72485be1a59148",
       "version_major": 2,
       "version_minor": 0
      },
      "text/plain": [
       "Train loop:   0%|          | 0/40000 [00:00<?, ?it/s]"
      ]
     },
     "metadata": {},
     "output_type": "display_data"
    },
    {
     "name": "stdout",
     "output_type": "stream",
     "text": [
      "Train loop: 100%|██████████| 40000/40000 [01:18<00:00, 512.18it/s, MulticlassAccuracy=0.399, avg_loss=2]\n"
     ]
    },
    {
     "data": {
      "application/vnd.jupyter.widget-view+json": {
       "model_id": "552da1de1ad0434d97e333a4b0ef6aae",
       "version_major": 2,
       "version_minor": 0
      },
      "text/plain": [
       "Test epoch:   0%|          | 0/5000 [00:00<?, ?it/s]"
      ]
     },
     "metadata": {},
     "output_type": "display_data"
    },
    {
     "name": "stdout",
     "output_type": "stream",
     "text": [
      "Test epoch: 100%|██████████| 5000/5000 [00:00<00:00, 5014.38it/s, MulticlassAccuracy=0.201, avg_loss=1.92]\n"
     ]
    },
    {
     "data": {
      "application/vnd.jupyter.widget-view+json": {
       "model_id": "77f3224bfd404681abca4a41c250ce9b",
       "version_major": 2,
       "version_minor": 0
      },
      "text/plain": [
       "Train loop:   0%|          | 0/40000 [00:00<?, ?it/s]"
      ]
     },
     "metadata": {},
     "output_type": "display_data"
    },
    {
     "name": "stdout",
     "output_type": "stream",
     "text": [
      "Train loop: 100%|██████████| 40000/40000 [01:18<00:00, 509.41it/s, MulticlassAccuracy=0.552, avg_loss=1.68]\n"
     ]
    },
    {
     "data": {
      "application/vnd.jupyter.widget-view+json": {
       "model_id": "b5b4014e8b2c455dab51f933a5f24344",
       "version_major": 2,
       "version_minor": 0
      },
      "text/plain": [
       "Test epoch:   0%|          | 0/5000 [00:00<?, ?it/s]"
      ]
     },
     "metadata": {},
     "output_type": "display_data"
    },
    {
     "name": "stdout",
     "output_type": "stream",
     "text": [
      "Test epoch: 100%|██████████| 5000/5000 [00:01<00:00, 4991.76it/s, MulticlassAccuracy=0.368, avg_loss=1.68]\n"
     ]
    },
    {
     "data": {
      "application/vnd.jupyter.widget-view+json": {
       "model_id": "d5081d1712cd43308936dcf1f9e952e6",
       "version_major": 2,
       "version_minor": 0
      },
      "text/plain": [
       "Train loop:   0%|          | 0/40000 [00:00<?, ?it/s]"
      ]
     },
     "metadata": {},
     "output_type": "display_data"
    },
    {
     "name": "stdout",
     "output_type": "stream",
     "text": [
      "Train loop: 100%|██████████| 40000/40000 [01:18<00:00, 510.21it/s, MulticlassAccuracy=0.544, avg_loss=1.52]\n"
     ]
    },
    {
     "data": {
      "application/vnd.jupyter.widget-view+json": {
       "model_id": "2b67dd07c6944587bbc3efde02e36280",
       "version_major": 2,
       "version_minor": 0
      },
      "text/plain": [
       "Test epoch:   0%|          | 0/5000 [00:00<?, ?it/s]"
      ]
     },
     "metadata": {},
     "output_type": "display_data"
    },
    {
     "name": "stdout",
     "output_type": "stream",
     "text": [
      "Test epoch: 100%|██████████| 5000/5000 [00:01<00:00, 4975.55it/s, MulticlassAccuracy=0.444, avg_loss=1.6]\n"
     ]
    },
    {
     "data": {
      "application/vnd.jupyter.widget-view+json": {
       "model_id": "479b09ccb6ac48b2a271cf9985ebc557",
       "version_major": 2,
       "version_minor": 0
      },
      "text/plain": [
       "Train loop:   0%|          | 0/40000 [00:00<?, ?it/s]"
      ]
     },
     "metadata": {},
     "output_type": "display_data"
    },
    {
     "name": "stdout",
     "output_type": "stream",
     "text": [
      "Train loop: 100%|██████████| 40000/40000 [01:16<00:00, 520.12it/s, MulticlassAccuracy=0.568, avg_loss=1.4]\n"
     ]
    },
    {
     "data": {
      "application/vnd.jupyter.widget-view+json": {
       "model_id": "a5bc2806e7bd4669b5e15adf5f6c3c6e",
       "version_major": 2,
       "version_minor": 0
      },
      "text/plain": [
       "Test epoch:   0%|          | 0/5000 [00:00<?, ?it/s]"
      ]
     },
     "metadata": {},
     "output_type": "display_data"
    },
    {
     "name": "stdout",
     "output_type": "stream",
     "text": [
      "Test epoch: 100%|██████████| 5000/5000 [00:00<00:00, 5172.86it/s, MulticlassAccuracy=0.42, avg_loss=1.59]\n"
     ]
    },
    {
     "data": {
      "application/vnd.jupyter.widget-view+json": {
       "model_id": "a5f7f9b28c3e40a2a370c021bec019cb",
       "version_major": 2,
       "version_minor": 0
      },
      "text/plain": [
       "Train loop:   0%|          | 0/40000 [00:00<?, ?it/s]"
      ]
     },
     "metadata": {},
     "output_type": "display_data"
    },
    {
     "name": "stdout",
     "output_type": "stream",
     "text": [
      "Train loop: 100%|██████████| 40000/40000 [01:15<00:00, 532.66it/s, MulticlassAccuracy=0.59, avg_loss=1.29]\n"
     ]
    },
    {
     "data": {
      "application/vnd.jupyter.widget-view+json": {
       "model_id": "c1bf4ec7e65d408faf20bf775ee9255b",
       "version_major": 2,
       "version_minor": 0
      },
      "text/plain": [
       "Test epoch:   0%|          | 0/5000 [00:00<?, ?it/s]"
      ]
     },
     "metadata": {},
     "output_type": "display_data"
    },
    {
     "name": "stdout",
     "output_type": "stream",
     "text": [
      "Test epoch: 100%|██████████| 5000/5000 [00:00<00:00, 5336.20it/s, MulticlassAccuracy=0.412, avg_loss=1.69]\n"
     ]
    },
    {
     "data": {
      "application/vnd.jupyter.widget-view+json": {
       "model_id": "cb230d73acb440ec8f9dbe8bb80553cd",
       "version_major": 2,
       "version_minor": 0
      },
      "text/plain": [
       "Train loop:   0%|          | 0/40000 [00:00<?, ?it/s]"
      ]
     },
     "metadata": {},
     "output_type": "display_data"
    },
    {
     "name": "stdout",
     "output_type": "stream",
     "text": [
      "Train loop: 100%|██████████| 40000/40000 [01:13<00:00, 547.21it/s, MulticlassAccuracy=0.614, avg_loss=1.21]\n"
     ]
    },
    {
     "data": {
      "application/vnd.jupyter.widget-view+json": {
       "model_id": "a10109181ee1482297a452e4699ce895",
       "version_major": 2,
       "version_minor": 0
      },
      "text/plain": [
       "Test epoch:   0%|          | 0/5000 [00:00<?, ?it/s]"
      ]
     },
     "metadata": {},
     "output_type": "display_data"
    },
    {
     "name": "stdout",
     "output_type": "stream",
     "text": [
      "Test epoch: 100%|██████████| 5000/5000 [00:00<00:00, 5325.34it/s, MulticlassAccuracy=0.416, avg_loss=1.82]\n"
     ]
    },
    {
     "data": {
      "text/plain": [
       "<torch.utils.data.dataset.TensorDataset at 0x7fe9bbeab9d0>"
      ]
     },
     "execution_count": 46,
     "metadata": {},
     "output_type": "execute_result"
    }
   ],
   "source": [
    "opt = make_optimizer(net, opt_name='sgd', lr=lr, weight_decay=0.0)\n",
    "train_loop_with_poisons(\n",
    "    net, train_loader, val_loader,\n",
    "    criterion, opt,\n",
    "    epochs,\n",
    "    inverter, alpha_poison=0.05,\n",
    ")"
   ]
  },
  {
   "cell_type": "markdown",
   "metadata": {},
   "source": [
    "#### Using Adam optimizer for training"
   ]
  },
  {
   "cell_type": "code",
   "execution_count": 47,
   "metadata": {},
   "outputs": [],
   "source": [
    "net = ResNet18(num_classes=num_classes).to(device)"
   ]
  },
  {
   "cell_type": "code",
   "execution_count": 48,
   "metadata": {},
   "outputs": [
    {
     "data": {
      "application/vnd.jupyter.widget-view+json": {
       "model_id": "c2c0a90396f74e56a371a8948257b2cc",
       "version_major": 2,
       "version_minor": 0
      },
      "text/plain": [
       "Train epochs:   0%|          | 0/6 [00:00<?, ?epoch/s]"
      ]
     },
     "metadata": {},
     "output_type": "display_data"
    },
    {
     "data": {
      "application/vnd.jupyter.widget-view+json": {
       "model_id": "8a0957f731904d77b51d69984a6cf89a",
       "version_major": 2,
       "version_minor": 0
      },
      "text/plain": [
       "Train loop:   0%|          | 0/40000 [00:00<?, ?it/s]"
      ]
     },
     "metadata": {},
     "output_type": "display_data"
    },
    {
     "name": "stdout",
     "output_type": "stream",
     "text": [
      "Train loop: 100%|██████████| 40000/40000 [01:15<00:00, 532.19it/s, MulticlassAccuracy=0.607, avg_loss=1.46]\n"
     ]
    },
    {
     "data": {
      "application/vnd.jupyter.widget-view+json": {
       "model_id": "f2d44254818e453088008e2a4226492d",
       "version_major": 2,
       "version_minor": 0
      },
      "text/plain": [
       "Test epoch:   0%|          | 0/5000 [00:00<?, ?it/s]"
      ]
     },
     "metadata": {},
     "output_type": "display_data"
    },
    {
     "name": "stdout",
     "output_type": "stream",
     "text": [
      "Test epoch: 100%|██████████| 5000/5000 [00:00<00:00, 5310.95it/s, MulticlassAccuracy=0.421, avg_loss=1.75]\n"
     ]
    },
    {
     "data": {
      "application/vnd.jupyter.widget-view+json": {
       "model_id": "a02edf0b600f4365815418f91fafab1a",
       "version_major": 2,
       "version_minor": 0
      },
      "text/plain": [
       "Train loop:   0%|          | 0/40000 [00:00<?, ?it/s]"
      ]
     },
     "metadata": {},
     "output_type": "display_data"
    },
    {
     "name": "stdout",
     "output_type": "stream",
     "text": [
      "Train loop: 100%|██████████| 40000/40000 [01:14<00:00, 535.70it/s, MulticlassAccuracy=0.701, avg_loss=1.05]\n"
     ]
    },
    {
     "data": {
      "application/vnd.jupyter.widget-view+json": {
       "model_id": "0b033085c00f48c3a758dbbe2b7cde1d",
       "version_major": 2,
       "version_minor": 0
      },
      "text/plain": [
       "Test epoch:   0%|          | 0/5000 [00:00<?, ?it/s]"
      ]
     },
     "metadata": {},
     "output_type": "display_data"
    },
    {
     "name": "stdout",
     "output_type": "stream",
     "text": [
      "Test epoch: 100%|██████████| 5000/5000 [00:00<00:00, 5282.01it/s, MulticlassAccuracy=0.394, avg_loss=2.04]\n"
     ]
    },
    {
     "data": {
      "application/vnd.jupyter.widget-view+json": {
       "model_id": "dcf07d801b574ce594f1b82b7ff56086",
       "version_major": 2,
       "version_minor": 0
      },
      "text/plain": [
       "Train loop:   0%|          | 0/40000 [00:00<?, ?it/s]"
      ]
     },
     "metadata": {},
     "output_type": "display_data"
    },
    {
     "name": "stdout",
     "output_type": "stream",
     "text": [
      "Train loop: 100%|██████████| 40000/40000 [01:14<00:00, 534.71it/s, MulticlassAccuracy=0.765, avg_loss=0.867]\n"
     ]
    },
    {
     "data": {
      "application/vnd.jupyter.widget-view+json": {
       "model_id": "522cfc8d74224c26bdbd82436a52b4f6",
       "version_major": 2,
       "version_minor": 0
      },
      "text/plain": [
       "Test epoch:   0%|          | 0/5000 [00:00<?, ?it/s]"
      ]
     },
     "metadata": {},
     "output_type": "display_data"
    },
    {
     "name": "stdout",
     "output_type": "stream",
     "text": [
      "Test epoch: 100%|██████████| 5000/5000 [00:00<00:00, 5339.89it/s, MulticlassAccuracy=0.618, avg_loss=1.22]\n"
     ]
    },
    {
     "data": {
      "application/vnd.jupyter.widget-view+json": {
       "model_id": "ebac89258170436187ad93b52ee5243a",
       "version_major": 2,
       "version_minor": 0
      },
      "text/plain": [
       "Train loop:   0%|          | 0/40000 [00:00<?, ?it/s]"
      ]
     },
     "metadata": {},
     "output_type": "display_data"
    },
    {
     "name": "stdout",
     "output_type": "stream",
     "text": [
      "Train loop: 100%|██████████| 40000/40000 [01:15<00:00, 531.76it/s, MulticlassAccuracy=0.785, avg_loss=0.735]\n"
     ]
    },
    {
     "data": {
      "application/vnd.jupyter.widget-view+json": {
       "model_id": "4dbef65a7a944a1fbcfc73f6d12a7bf2",
       "version_major": 2,
       "version_minor": 0
      },
      "text/plain": [
       "Test epoch:   0%|          | 0/5000 [00:00<?, ?it/s]"
      ]
     },
     "metadata": {},
     "output_type": "display_data"
    },
    {
     "name": "stdout",
     "output_type": "stream",
     "text": [
      "Test epoch: 100%|██████████| 5000/5000 [00:00<00:00, 5106.01it/s, MulticlassAccuracy=0.575, avg_loss=1.8]\n"
     ]
    },
    {
     "data": {
      "application/vnd.jupyter.widget-view+json": {
       "model_id": "816b61d72ed0462889cceb59cf44b1f6",
       "version_major": 2,
       "version_minor": 0
      },
      "text/plain": [
       "Train loop:   0%|          | 0/40000 [00:00<?, ?it/s]"
      ]
     },
     "metadata": {},
     "output_type": "display_data"
    },
    {
     "name": "stdout",
     "output_type": "stream",
     "text": [
      "Train loop: 100%|██████████| 40000/40000 [01:18<00:00, 508.98it/s, MulticlassAccuracy=0.829, avg_loss=0.643]\n"
     ]
    },
    {
     "data": {
      "application/vnd.jupyter.widget-view+json": {
       "model_id": "2736611aebbb4be8a668c08831900060",
       "version_major": 2,
       "version_minor": 0
      },
      "text/plain": [
       "Test epoch:   0%|          | 0/5000 [00:00<?, ?it/s]"
      ]
     },
     "metadata": {},
     "output_type": "display_data"
    },
    {
     "name": "stdout",
     "output_type": "stream",
     "text": [
      "Test epoch: 100%|██████████| 5000/5000 [00:01<00:00, 4952.21it/s, MulticlassAccuracy=0.634, avg_loss=1.31]\n"
     ]
    },
    {
     "data": {
      "application/vnd.jupyter.widget-view+json": {
       "model_id": "094837499d4749d69be3a6f671a6c018",
       "version_major": 2,
       "version_minor": 0
      },
      "text/plain": [
       "Train loop:   0%|          | 0/40000 [00:00<?, ?it/s]"
      ]
     },
     "metadata": {},
     "output_type": "display_data"
    },
    {
     "name": "stdout",
     "output_type": "stream",
     "text": [
      "Train loop: 100%|██████████| 40000/40000 [01:17<00:00, 513.34it/s, MulticlassAccuracy=0.817, avg_loss=0.563]\n"
     ]
    },
    {
     "data": {
      "application/vnd.jupyter.widget-view+json": {
       "model_id": "14ec1e7e0d7b4e378d2eeb8ef0c1930b",
       "version_major": 2,
       "version_minor": 0
      },
      "text/plain": [
       "Test epoch:   0%|          | 0/5000 [00:00<?, ?it/s]"
      ]
     },
     "metadata": {},
     "output_type": "display_data"
    },
    {
     "name": "stdout",
     "output_type": "stream",
     "text": [
      "Test epoch: 100%|██████████| 5000/5000 [00:00<00:00, 5320.90it/s, MulticlassAccuracy=0.596, avg_loss=1.46]\n"
     ]
    }
   ],
   "source": [
    "# Adam regularizes the parameters so it is more robust to gradient attacks\n",
    "opt = make_optimizer(net, opt_name='adam', lr=lr)\n",
    "train_loop_with_poisons(\n",
    "    net, train_loader, val_loader,\n",
    "    criterion, opt,\n",
    "    epochs,\n",
    "    inverter, alpha_poison=0.2,\n",
    ");"
   ]
  },
  {
   "cell_type": "markdown",
   "metadata": {},
   "source": [
    "Interestingly, test accuracy jumps from 40 % to 60 % in one epoch. Explanation?"
   ]
  },
  {
   "cell_type": "markdown",
   "metadata": {},
   "source": [
    "## Machine unlearning"
   ]
  },
  {
   "cell_type": "code",
   "execution_count": 49,
   "metadata": {},
   "outputs": [],
   "source": [
    "from image_classification.unlearning import gradient_descent, neg_grad_plus, unlearning_last_layers"
   ]
  },
  {
   "cell_type": "code",
   "execution_count": 50,
   "metadata": {},
   "outputs": [
    {
     "data": {
      "application/vnd.jupyter.widget-view+json": {
       "model_id": "cf3ec101e71a4b1ca67b843b38192044",
       "version_major": 2,
       "version_minor": 0
      },
      "text/plain": [
       "Train epochs:   0%|          | 0/6 [00:00<?, ?epoch/s]"
      ]
     },
     "metadata": {},
     "output_type": "display_data"
    },
    {
     "data": {
      "application/vnd.jupyter.widget-view+json": {
       "model_id": "9d132399a91e4f7abbde0e609000d724",
       "version_major": 2,
       "version_minor": 0
      },
      "text/plain": [
       "Train loop:   0%|          | 0/40000 [00:00<?, ?it/s]"
      ]
     },
     "metadata": {},
     "output_type": "display_data"
    },
    {
     "name": "stdout",
     "output_type": "stream",
     "text": [
      "Train loop: 100%|██████████| 40000/40000 [01:15<00:00, 529.90it/s, MulticlassAccuracy=0.377, avg_loss=2.06]\n"
     ]
    },
    {
     "data": {
      "application/vnd.jupyter.widget-view+json": {
       "model_id": "dcc6a4266fda42649d43a6376d0f85e2",
       "version_major": 2,
       "version_minor": 0
      },
      "text/plain": [
       "Test epoch:   0%|          | 0/5000 [00:00<?, ?it/s]"
      ]
     },
     "metadata": {},
     "output_type": "display_data"
    },
    {
     "name": "stdout",
     "output_type": "stream",
     "text": [
      "Test epoch: 100%|██████████| 5000/5000 [00:01<00:00, 4771.40it/s, MulticlassAccuracy=0.254, avg_loss=1.85]\n"
     ]
    },
    {
     "data": {
      "application/vnd.jupyter.widget-view+json": {
       "model_id": "6f0fbe5d4df545c9b50dba9a87c8984e",
       "version_major": 2,
       "version_minor": 0
      },
      "text/plain": [
       "Train loop:   0%|          | 0/40000 [00:00<?, ?it/s]"
      ]
     },
     "metadata": {},
     "output_type": "display_data"
    },
    {
     "name": "stdout",
     "output_type": "stream",
     "text": [
      "Train loop: 100%|██████████| 40000/40000 [01:18<00:00, 507.32it/s, MulticlassAccuracy=0.499, avg_loss=1.67]\n"
     ]
    },
    {
     "data": {
      "application/vnd.jupyter.widget-view+json": {
       "model_id": "e6937f49af1a45d1978914da73154549",
       "version_major": 2,
       "version_minor": 0
      },
      "text/plain": [
       "Test epoch:   0%|          | 0/5000 [00:00<?, ?it/s]"
      ]
     },
     "metadata": {},
     "output_type": "display_data"
    },
    {
     "name": "stdout",
     "output_type": "stream",
     "text": [
      "Test epoch: 100%|██████████| 5000/5000 [00:00<00:00, 5069.43it/s, MulticlassAccuracy=0.382, avg_loss=1.89]\n"
     ]
    },
    {
     "data": {
      "application/vnd.jupyter.widget-view+json": {
       "model_id": "66c00416f903442f8d128d2155d202d5",
       "version_major": 2,
       "version_minor": 0
      },
      "text/plain": [
       "Train loop:   0%|          | 0/40000 [00:00<?, ?it/s]"
      ]
     },
     "metadata": {},
     "output_type": "display_data"
    },
    {
     "name": "stdout",
     "output_type": "stream",
     "text": [
      "Train loop: 100%|██████████| 40000/40000 [01:15<00:00, 531.48it/s, MulticlassAccuracy=0.506, avg_loss=1.52]\n"
     ]
    },
    {
     "data": {
      "application/vnd.jupyter.widget-view+json": {
       "model_id": "5b895bee1bb1447bb01ce9ffeb85453a",
       "version_major": 2,
       "version_minor": 0
      },
      "text/plain": [
       "Test epoch:   0%|          | 0/5000 [00:00<?, ?it/s]"
      ]
     },
     "metadata": {},
     "output_type": "display_data"
    },
    {
     "name": "stdout",
     "output_type": "stream",
     "text": [
      "Test epoch: 100%|██████████| 5000/5000 [00:00<00:00, 5252.39it/s, MulticlassAccuracy=0.373, avg_loss=1.91]\n"
     ]
    },
    {
     "data": {
      "application/vnd.jupyter.widget-view+json": {
       "model_id": "0eeddc1656c64b3fbe084ae799a2234a",
       "version_major": 2,
       "version_minor": 0
      },
      "text/plain": [
       "Train loop:   0%|          | 0/40000 [00:00<?, ?it/s]"
      ]
     },
     "metadata": {},
     "output_type": "display_data"
    },
    {
     "name": "stdout",
     "output_type": "stream",
     "text": [
      "Train loop: 100%|██████████| 40000/40000 [01:16<00:00, 520.72it/s, MulticlassAccuracy=0.486, avg_loss=1.41]\n"
     ]
    },
    {
     "data": {
      "application/vnd.jupyter.widget-view+json": {
       "model_id": "c063d9b795f14e31b03164c7c5b99b46",
       "version_major": 2,
       "version_minor": 0
      },
      "text/plain": [
       "Test epoch:   0%|          | 0/5000 [00:00<?, ?it/s]"
      ]
     },
     "metadata": {},
     "output_type": "display_data"
    },
    {
     "name": "stdout",
     "output_type": "stream",
     "text": [
      "Test epoch: 100%|██████████| 5000/5000 [00:00<00:00, 5273.19it/s, MulticlassAccuracy=0.416, avg_loss=1.69]\n"
     ]
    },
    {
     "data": {
      "application/vnd.jupyter.widget-view+json": {
       "model_id": "2b83c0dd9b9e4630917e0bcf39efad3a",
       "version_major": 2,
       "version_minor": 0
      },
      "text/plain": [
       "Train loop:   0%|          | 0/40000 [00:00<?, ?it/s]"
      ]
     },
     "metadata": {},
     "output_type": "display_data"
    },
    {
     "name": "stdout",
     "output_type": "stream",
     "text": [
      "Train loop: 100%|██████████| 40000/40000 [01:15<00:00, 530.96it/s, MulticlassAccuracy=0.548, avg_loss=1.31]\n"
     ]
    },
    {
     "data": {
      "application/vnd.jupyter.widget-view+json": {
       "model_id": "22fb98f43c074ae39df479c867fd56c5",
       "version_major": 2,
       "version_minor": 0
      },
      "text/plain": [
       "Test epoch:   0%|          | 0/5000 [00:00<?, ?it/s]"
      ]
     },
     "metadata": {},
     "output_type": "display_data"
    },
    {
     "name": "stdout",
     "output_type": "stream",
     "text": [
      "Test epoch: 100%|██████████| 5000/5000 [00:00<00:00, 5089.66it/s, MulticlassAccuracy=0.437, avg_loss=1.65]\n"
     ]
    },
    {
     "data": {
      "application/vnd.jupyter.widget-view+json": {
       "model_id": "6e0ed602fcc141b8a775571e59049f4a",
       "version_major": 2,
       "version_minor": 0
      },
      "text/plain": [
       "Train loop:   0%|          | 0/40000 [00:00<?, ?it/s]"
      ]
     },
     "metadata": {},
     "output_type": "display_data"
    },
    {
     "name": "stdout",
     "output_type": "stream",
     "text": [
      "Train loop: 100%|██████████| 40000/40000 [01:16<00:00, 526.14it/s, MulticlassAccuracy=0.585, avg_loss=1.23]\n"
     ]
    },
    {
     "data": {
      "application/vnd.jupyter.widget-view+json": {
       "model_id": "180d92758e9441fabe50bd04fb037cac",
       "version_major": 2,
       "version_minor": 0
      },
      "text/plain": [
       "Test epoch:   0%|          | 0/5000 [00:00<?, ?it/s]"
      ]
     },
     "metadata": {},
     "output_type": "display_data"
    },
    {
     "name": "stdout",
     "output_type": "stream",
     "text": [
      "Test epoch: 100%|██████████| 5000/5000 [00:00<00:00, 5197.57it/s, MulticlassAccuracy=0.388, avg_loss=1.73]\n"
     ]
    }
   ],
   "source": [
    "net = ResNet18(num_classes=num_classes).to(device)\n",
    "opt = make_optimizer(net, opt_name='sgd', lr=lr)\n",
    "forget_set = train_loop_with_poisons(\n",
    "    net, train_loader, val_loader,\n",
    "    criterion, opt,\n",
    "    epochs,\n",
    "    inverter, alpha_poison=0.2,\n",
    ")\n",
    "forget_loader = DataLoader(forget_set, batch_size)"
   ]
  },
  {
   "cell_type": "code",
   "execution_count": 51,
   "metadata": {},
   "outputs": [],
   "source": [
    "class Unlearning(Enum):\n",
    "    GRADIENT_DESCENT = 0\n",
    "    GRADIENT_ASCENT = 1\n",
    "    NOISY_GRADIENT_DESCENT = 2\n",
    "    NEG_GRAD_PLUS = 3\n",
    "    CFK = 4\n",
    "    EUK = 5\n",
    "    SCRUB = 6"
   ]
  },
  {
   "cell_type": "code",
   "execution_count": 52,
   "metadata": {},
   "outputs": [],
   "source": [
    "def unlearn(\n",
    "        net: nn.Module,\n",
    "        train_loader: DataLoader,\n",
    "        forget_loader: DataLoader,\n",
    "        criterion: _Loss,\n",
    "        method: Unlearning,\n",
    "    ):\n",
    "    unlearner = deepcopy(net)\n",
    "    \n",
    "    match method:\n",
    "        case Unlearning.GRADIENT_DESCENT:\n",
    "            opt = make_optimizer(unlearner, opt_name='sgd', lr=lr)\n",
    "            gradient_descent(\n",
    "                unlearner, train_loader, val_loader,\n",
    "                criterion, opt, epochs=1, keep_pbars=False\n",
    "            )\n",
    "        \n",
    "        case Unlearning.NEG_GRAD_PLUS:\n",
    "            opt = make_optimizer(unlearner, opt_name='sgd', lr=lr)\n",
    "            for epoch in trange(10, desc='NegGrad+ epochs', unit='epoch', leave=True):\n",
    "                neg_grad_plus(\n",
    "                    unlearner, train_loader, forget_loader,\n",
    "                    criterion, opt, keep_pbars=False\n",
    "                )\n",
    "    \n",
    "        case Unlearning.EUK:\n",
    "            opt = make_optimizer(unlearner, opt_name='adam', lr=lr)\n",
    "            with unlearning_last_layers(unlearner, 6, 'euk'):\n",
    "                train_loop(unlearner, train_loader, criterion, opt, epochs=1)\n",
    "    \n",
    "    return unlearner"
   ]
  },
  {
   "cell_type": "markdown",
   "metadata": {},
   "source": [
    "#### No poisoning"
   ]
  },
  {
   "cell_type": "markdown",
   "metadata": {},
   "source": [
    "TODO: quantify effect of poisoning in terms of loss recovery effort (epochs). Can the model ever recover from poisoning with enough steps?"
   ]
  },
  {
   "cell_type": "code",
   "execution_count": 53,
   "metadata": {},
   "outputs": [
    {
     "data": {
      "application/vnd.jupyter.widget-view+json": {
       "model_id": "4ba60f62a3bc4697a986287cae17435c",
       "version_major": 2,
       "version_minor": 0
      },
      "text/plain": [
       "Train epochs:   0%|          | 0/6 [00:00<?, ?epoch/s]"
      ]
     },
     "metadata": {},
     "output_type": "display_data"
    },
    {
     "data": {
      "application/vnd.jupyter.widget-view+json": {
       "model_id": "207f89d93e87444fa3893847b08b2160",
       "version_major": 2,
       "version_minor": 0
      },
      "text/plain": [
       "Train loop:   0%|          | 0/40000 [00:00<?, ?it/s]"
      ]
     },
     "metadata": {},
     "output_type": "display_data"
    },
    {
     "name": "stdout",
     "output_type": "stream",
     "text": [
      "Train loop: 100%|██████████| 40000/40000 [00:23<00:00, 1712.54it/s, MulticlassAccuracy=0.434, avg_loss=1.99]\n"
     ]
    },
    {
     "data": {
      "application/vnd.jupyter.widget-view+json": {
       "model_id": "a89c1e9425cc47a0a1b61d46dc5bd960",
       "version_major": 2,
       "version_minor": 0
      },
      "text/plain": [
       "Test epoch:   0%|          | 0/5000 [00:00<?, ?it/s]"
      ]
     },
     "metadata": {},
     "output_type": "display_data"
    },
    {
     "name": "stdout",
     "output_type": "stream",
     "text": [
      "Test epoch: 100%|██████████| 5000/5000 [00:00<00:00, 5091.09it/s, MulticlassAccuracy=0.253, avg_loss=1.76]\n"
     ]
    },
    {
     "data": {
      "application/vnd.jupyter.widget-view+json": {
       "model_id": "d7c1f0233fc347129d8ab0c2300f17d8",
       "version_major": 2,
       "version_minor": 0
      },
      "text/plain": [
       "Train loop:   0%|          | 0/40000 [00:00<?, ?it/s]"
      ]
     },
     "metadata": {},
     "output_type": "display_data"
    },
    {
     "name": "stdout",
     "output_type": "stream",
     "text": [
      "Train loop: 100%|██████████| 40000/40000 [00:23<00:00, 1715.46it/s, MulticlassAccuracy=0.453, avg_loss=1.65]\n"
     ]
    },
    {
     "data": {
      "application/vnd.jupyter.widget-view+json": {
       "model_id": "fb64be31e15947e08d051a018ad21822",
       "version_major": 2,
       "version_minor": 0
      },
      "text/plain": [
       "Train loop:   0%|          | 0/40000 [00:00<?, ?it/s]"
      ]
     },
     "metadata": {},
     "output_type": "display_data"
    },
    {
     "name": "stdout",
     "output_type": "stream",
     "text": [
      "Train loop: 100%|██████████| 40000/40000 [00:23<00:00, 1716.33it/s, MulticlassAccuracy=0.507, avg_loss=1.48]\n"
     ]
    },
    {
     "data": {
      "application/vnd.jupyter.widget-view+json": {
       "model_id": "e83c776985834565a9d19ab89b93a236",
       "version_major": 2,
       "version_minor": 0
      },
      "text/plain": [
       "Test epoch:   0%|          | 0/5000 [00:00<?, ?it/s]"
      ]
     },
     "metadata": {},
     "output_type": "display_data"
    },
    {
     "name": "stdout",
     "output_type": "stream",
     "text": [
      "Test epoch: 100%|██████████| 5000/5000 [00:00<00:00, 5104.54it/s, MulticlassAccuracy=0.411, avg_loss=1.46]\n"
     ]
    },
    {
     "data": {
      "application/vnd.jupyter.widget-view+json": {
       "model_id": "bc0d02f610504df0ab38990f05d151af",
       "version_major": 2,
       "version_minor": 0
      },
      "text/plain": [
       "Train loop:   0%|          | 0/40000 [00:00<?, ?it/s]"
      ]
     },
     "metadata": {},
     "output_type": "display_data"
    },
    {
     "name": "stdout",
     "output_type": "stream",
     "text": [
      "Train loop: 100%|██████████| 40000/40000 [00:23<00:00, 1711.54it/s, MulticlassAccuracy=0.543, avg_loss=1.36]\n"
     ]
    },
    {
     "data": {
      "application/vnd.jupyter.widget-view+json": {
       "model_id": "9c73f227de194daf9d288d85f2538886",
       "version_major": 2,
       "version_minor": 0
      },
      "text/plain": [
       "Train loop:   0%|          | 0/40000 [00:00<?, ?it/s]"
      ]
     },
     "metadata": {},
     "output_type": "display_data"
    },
    {
     "name": "stdout",
     "output_type": "stream",
     "text": [
      "Train loop: 100%|██████████| 40000/40000 [00:23<00:00, 1714.42it/s, MulticlassAccuracy=0.591, avg_loss=1.27]\n"
     ]
    },
    {
     "data": {
      "application/vnd.jupyter.widget-view+json": {
       "model_id": "2ec4aaa4f9554a63bd8d2dd1deaef23e",
       "version_major": 2,
       "version_minor": 0
      },
      "text/plain": [
       "Test epoch:   0%|          | 0/5000 [00:00<?, ?it/s]"
      ]
     },
     "metadata": {},
     "output_type": "display_data"
    },
    {
     "name": "stdout",
     "output_type": "stream",
     "text": [
      "Test epoch: 100%|██████████| 5000/5000 [00:00<00:00, 5159.33it/s, MulticlassAccuracy=0.47, avg_loss=1.31]\n"
     ]
    },
    {
     "data": {
      "application/vnd.jupyter.widget-view+json": {
       "model_id": "170fc674722b4ed8a7e38f8269f57d1a",
       "version_major": 2,
       "version_minor": 0
      },
      "text/plain": [
       "Train loop:   0%|          | 0/40000 [00:00<?, ?it/s]"
      ]
     },
     "metadata": {},
     "output_type": "display_data"
    },
    {
     "name": "stdout",
     "output_type": "stream",
     "text": [
      "Train loop: 100%|██████████| 40000/40000 [00:23<00:00, 1710.72it/s, MulticlassAccuracy=0.603, avg_loss=1.19]\n"
     ]
    },
    {
     "data": {
      "application/vnd.jupyter.widget-view+json": {
       "model_id": "02640d701eed4050bd38c1fc3386df92",
       "version_major": 2,
       "version_minor": 0
      },
      "text/plain": [
       "Test epoch:   0%|          | 0/5000 [00:00<?, ?it/s]"
      ]
     },
     "metadata": {},
     "output_type": "display_data"
    },
    {
     "name": "stdout",
     "output_type": "stream",
     "text": [
      "Test epoch: 100%|██████████| 5000/5000 [00:00<00:00, 5092.82it/s, MulticlassAccuracy=0.505, avg_loss=1.27]\n"
     ]
    }
   ],
   "source": [
    "clean_net = ResNet18(num_classes=num_classes).to(device)\n",
    "opt = make_optimizer(clean_net, opt_name='sgd', lr=lr)\n",
    "train_val_loop(\n",
    "    clean_net, train_loader, val_loader,\n",
    "    criterion, opt,\n",
    "    epochs=epochs,\n",
    "    metric=metric,\n",
    ");\n",
    "test_epoch(clean_net, val_loader, criterion, keep_pbars=True, metric=metric);"
   ]
  },
  {
   "cell_type": "markdown",
   "metadata": {},
   "source": [
    "#### No unlearning"
   ]
  },
  {
   "cell_type": "code",
   "execution_count": 54,
   "metadata": {},
   "outputs": [
    {
     "data": {
      "application/vnd.jupyter.widget-view+json": {
       "model_id": "cdbb54ca7f5e4403b7f8d72580d85c9a",
       "version_major": 2,
       "version_minor": 0
      },
      "text/plain": [
       "Test epoch:   0%|          | 0/5000 [00:00<?, ?it/s]"
      ]
     },
     "metadata": {},
     "output_type": "display_data"
    },
    {
     "name": "stdout",
     "output_type": "stream",
     "text": [
      "Test epoch: 100%|██████████| 5000/5000 [00:00<00:00, 5070.77it/s, MulticlassAccuracy=0.388, avg_loss=1.73]\n"
     ]
    }
   ],
   "source": [
    "test_epoch(net, val_loader, criterion, keep_pbars=True, metric=metric);"
   ]
  },
  {
   "cell_type": "markdown",
   "metadata": {},
   "source": [
    "#### Gradient descent"
   ]
  },
  {
   "cell_type": "code",
   "execution_count": 55,
   "metadata": {},
   "outputs": [
    {
     "data": {
      "application/vnd.jupyter.widget-view+json": {
       "model_id": "f560096e74ed4811b9408a61471cbf6d",
       "version_major": 2,
       "version_minor": 0
      },
      "text/plain": [
       "Train epochs:   0%|          | 0/1 [00:00<?, ?epoch/s]"
      ]
     },
     "metadata": {},
     "output_type": "display_data"
    },
    {
     "data": {
      "application/vnd.jupyter.widget-view+json": {
       "model_id": "24d3ea7bc8ef44e7a9b5f22d8b68b4b2",
       "version_major": 2,
       "version_minor": 0
      },
      "text/plain": [
       "Train loop:   0%|          | 0/40000 [00:00<?, ?it/s]"
      ]
     },
     "metadata": {},
     "output_type": "display_data"
    },
    {
     "data": {
      "application/vnd.jupyter.widget-view+json": {
       "model_id": "cf87dbf057284cd289b30c68a247af1c",
       "version_major": 2,
       "version_minor": 0
      },
      "text/plain": [
       "Test epoch:   0%|          | 0/5000 [00:00<?, ?it/s]"
      ]
     },
     "metadata": {},
     "output_type": "display_data"
    },
    {
     "data": {
      "application/vnd.jupyter.widget-view+json": {
       "model_id": "3b30c5c8018640c593d1991ba8240651",
       "version_major": 2,
       "version_minor": 0
      },
      "text/plain": [
       "Test epoch:   0%|          | 0/5000 [00:00<?, ?it/s]"
      ]
     },
     "metadata": {},
     "output_type": "display_data"
    },
    {
     "name": "stdout",
     "output_type": "stream",
     "text": [
      "Test epoch: 100%|██████████| 5000/5000 [00:01<00:00, 4798.71it/s, MulticlassAccuracy=0.474, avg_loss=1.25]\n"
     ]
    }
   ],
   "source": [
    "unlearner = unlearn(net, train_loader, forget_loader, criterion, Unlearning.GRADIENT_DESCENT)\n",
    "test_epoch(unlearner, val_loader, criterion, keep_pbars=True, metric=metric);"
   ]
  },
  {
   "cell_type": "markdown",
   "metadata": {},
   "source": [
    "#### NegGrad+"
   ]
  },
  {
   "cell_type": "code",
   "execution_count": 56,
   "metadata": {},
   "outputs": [
    {
     "data": {
      "application/vnd.jupyter.widget-view+json": {
       "model_id": "0b6713c9751142f794beb4e8e999ee28",
       "version_major": 2,
       "version_minor": 0
      },
      "text/plain": [
       "NegGrad+ epochs:   0%|          | 0/10 [00:00<?, ?epoch/s]"
      ]
     },
     "metadata": {},
     "output_type": "display_data"
    },
    {
     "data": {
      "application/vnd.jupyter.widget-view+json": {
       "model_id": "464dbb9cfa7e4219af6880ef5b7037bd",
       "version_major": 2,
       "version_minor": 0
      },
      "text/plain": [
       "NegGrad+:   0%|          | 0/2400 [00:00<?, ?it/s]"
      ]
     },
     "metadata": {},
     "output_type": "display_data"
    },
    {
     "data": {
      "application/vnd.jupyter.widget-view+json": {
       "model_id": "113e15b5d82b485682e490eafcff15e4",
       "version_major": 2,
       "version_minor": 0
      },
      "text/plain": [
       "NegGrad+:   0%|          | 0/2400 [00:00<?, ?it/s]"
      ]
     },
     "metadata": {},
     "output_type": "display_data"
    },
    {
     "data": {
      "application/vnd.jupyter.widget-view+json": {
       "model_id": "e945e738ff7e4eca97f9faf2172d1adb",
       "version_major": 2,
       "version_minor": 0
      },
      "text/plain": [
       "NegGrad+:   0%|          | 0/2400 [00:00<?, ?it/s]"
      ]
     },
     "metadata": {},
     "output_type": "display_data"
    },
    {
     "data": {
      "application/vnd.jupyter.widget-view+json": {
       "model_id": "24ba0f2b917142559fd823d873586c49",
       "version_major": 2,
       "version_minor": 0
      },
      "text/plain": [
       "NegGrad+:   0%|          | 0/2400 [00:00<?, ?it/s]"
      ]
     },
     "metadata": {},
     "output_type": "display_data"
    },
    {
     "data": {
      "application/vnd.jupyter.widget-view+json": {
       "model_id": "ded91595335349f6acc9e6e523afebe3",
       "version_major": 2,
       "version_minor": 0
      },
      "text/plain": [
       "NegGrad+:   0%|          | 0/2400 [00:00<?, ?it/s]"
      ]
     },
     "metadata": {},
     "output_type": "display_data"
    },
    {
     "data": {
      "application/vnd.jupyter.widget-view+json": {
       "model_id": "ad6b10e06a68420b82becefb8f05ee40",
       "version_major": 2,
       "version_minor": 0
      },
      "text/plain": [
       "NegGrad+:   0%|          | 0/2400 [00:00<?, ?it/s]"
      ]
     },
     "metadata": {},
     "output_type": "display_data"
    },
    {
     "data": {
      "application/vnd.jupyter.widget-view+json": {
       "model_id": "205187b7a5164eb8a780756b9074d7ec",
       "version_major": 2,
       "version_minor": 0
      },
      "text/plain": [
       "NegGrad+:   0%|          | 0/2400 [00:00<?, ?it/s]"
      ]
     },
     "metadata": {},
     "output_type": "display_data"
    },
    {
     "data": {
      "application/vnd.jupyter.widget-view+json": {
       "model_id": "1a3c654f55a94e4e8c19fab4dbdb524a",
       "version_major": 2,
       "version_minor": 0
      },
      "text/plain": [
       "NegGrad+:   0%|          | 0/2400 [00:00<?, ?it/s]"
      ]
     },
     "metadata": {},
     "output_type": "display_data"
    },
    {
     "data": {
      "application/vnd.jupyter.widget-view+json": {
       "model_id": "4f1546b7df9443d1b609e10193be5a5c",
       "version_major": 2,
       "version_minor": 0
      },
      "text/plain": [
       "NegGrad+:   0%|          | 0/2400 [00:00<?, ?it/s]"
      ]
     },
     "metadata": {},
     "output_type": "display_data"
    },
    {
     "data": {
      "application/vnd.jupyter.widget-view+json": {
       "model_id": "ddecac599e6d4f6e84d869485d17d670",
       "version_major": 2,
       "version_minor": 0
      },
      "text/plain": [
       "NegGrad+:   0%|          | 0/2400 [00:00<?, ?it/s]"
      ]
     },
     "metadata": {},
     "output_type": "display_data"
    },
    {
     "data": {
      "application/vnd.jupyter.widget-view+json": {
       "model_id": "f472fa506ba04d7b85fc36ca4517b5a2",
       "version_major": 2,
       "version_minor": 0
      },
      "text/plain": [
       "Test epoch:   0%|          | 0/5000 [00:00<?, ?it/s]"
      ]
     },
     "metadata": {},
     "output_type": "display_data"
    },
    {
     "name": "stdout",
     "output_type": "stream",
     "text": [
      "Test epoch: 100%|██████████| 5000/5000 [00:01<00:00, 4943.03it/s, MulticlassAccuracy=0.442, avg_loss=1.44]\n"
     ]
    }
   ],
   "source": [
    "unlearner = unlearn(net, train_loader, forget_loader, criterion, Unlearning.NEG_GRAD_PLUS)\n",
    "test_epoch(unlearner, val_loader, criterion, keep_pbars=True, metric=metric);"
   ]
  },
  {
   "cell_type": "markdown",
   "metadata": {},
   "source": [
    "#### EUk ($k = 6$)"
   ]
  },
  {
   "cell_type": "code",
   "execution_count": 57,
   "metadata": {},
   "outputs": [
    {
     "data": {
      "application/vnd.jupyter.widget-view+json": {
       "model_id": "94aa3f4073524d539d2e32369bd3fae4",
       "version_major": 2,
       "version_minor": 0
      },
      "text/plain": [
       "Train epochs:   0%|          | 0/1 [00:00<?, ?epoch/s]"
      ]
     },
     "metadata": {},
     "output_type": "display_data"
    },
    {
     "data": {
      "application/vnd.jupyter.widget-view+json": {
       "model_id": "2b7b8a23becb4b5da9b087cce99e7532",
       "version_major": 2,
       "version_minor": 0
      },
      "text/plain": [
       "Train loop:   0%|          | 0/40000 [00:00<?, ?it/s]"
      ]
     },
     "metadata": {},
     "output_type": "display_data"
    },
    {
     "name": "stdout",
     "output_type": "stream",
     "text": [
      "Train loop: 100%|██████████| 40000/40000 [00:09<00:00, 4174.69it/s, avg_loss=1.21]\n"
     ]
    },
    {
     "data": {
      "application/vnd.jupyter.widget-view+json": {
       "model_id": "bb273584703b4c2f8a82b5163a616e9a",
       "version_major": 2,
       "version_minor": 0
      },
      "text/plain": [
       "Test epoch:   0%|          | 0/5000 [00:00<?, ?it/s]"
      ]
     },
     "metadata": {},
     "output_type": "display_data"
    },
    {
     "name": "stdout",
     "output_type": "stream",
     "text": [
      "Test epoch: 100%|██████████| 5000/5000 [00:01<00:00, 4864.93it/s, MulticlassAccuracy=0.453, avg_loss=1.3]\n"
     ]
    }
   ],
   "source": [
    "unlearner = unlearn(net, train_loader, forget_loader, criterion, Unlearning.EUK)\n",
    "test_epoch(unlearner, val_loader, criterion, keep_pbars=True, metric=metric);"
   ]
  },
  {
   "cell_type": "markdown",
   "metadata": {},
   "source": [
    "Although more extensive testing is required, unlearning methods do not fully restore accuracy, at least not with only one epoch. Why is gradient descent enough?"
   ]
  },
  {
   "cell_type": "markdown",
   "metadata": {},
   "source": [
    "### Remaining tasks\n",
    "\n",
    "- Refactoring\n",
    "- Modify label optimization to force sparse logits (close to one-hot)\n",
    "- Compare with results from article\n",
    "- Use `Conv16` model for prototyping\n",
    "- _Little is Enough_ attack (requires efficient gradient stddev estimation)\n",
    "- Mean gradient estimation with auxiliary dataset\n",
    "- Testing against unlearning\n",
    "- Testing with different configs (optimizer, number of epochs, batch size, models)\n",
    "- Quantify results of data poisoning in terms of slowdown (x% -> y% accuracy = z training epochs)\n",
    "- Suggest other Hessian-based attacks"
   ]
  }
 ],
 "metadata": {
  "kernelspec": {
   "display_name": "Python 3",
   "language": "python",
   "name": "python3"
  },
  "language_info": {
   "codemirror_mode": {
    "name": "ipython",
    "version": 3
   },
   "file_extension": ".py",
   "mimetype": "text/x-python",
   "name": "python",
   "nbconvert_exporter": "python",
   "pygments_lexer": "ipython3",
   "version": "3.13.2"
  }
 },
 "nbformat": 4,
 "nbformat_minor": 2
}
