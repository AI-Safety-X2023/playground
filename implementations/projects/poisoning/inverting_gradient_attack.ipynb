{
 "cells": [
  {
   "cell_type": "markdown",
   "metadata": {},
   "source": [
    "# Inverting gradient attack"
   ]
  },
  {
   "cell_type": "code",
   "execution_count": 1,
   "metadata": {},
   "outputs": [],
   "source": [
    "from __future__ import annotations\n",
    "\n",
    "from copy import deepcopy\n",
    "import numpy as np\n",
    "import matplotlib.pyplot as plt\n",
    "import seaborn as sns\n",
    "from scipy import stats\n",
    "import pandas as pd\n",
    "import torch\n",
    "from torch import nn, Tensor\n",
    "from torch.nn import functional as F\n",
    "from torch.nn.modules.loss import _Loss, CrossEntropyLoss\n",
    "from torch.optim import Optimizer, SGD, Adam, AdamW\n",
    "from torch.utils.data import Dataset, DataLoader, Subset, TensorDataset\n",
    "from torchmetrics.classification import MulticlassAccuracy\n",
    "from image_classification.utils import trange"
   ]
  },
  {
   "cell_type": "code",
   "execution_count": 2,
   "metadata": {},
   "outputs": [
    {
     "name": "stdout",
     "output_type": "stream",
     "text": [
      "cuda:0\n"
     ]
    }
   ],
   "source": [
    "device = torch.device('cuda:0' if torch.cuda.is_available() else 'cpu')\n",
    "\n",
    "print(device)"
   ]
  },
  {
   "cell_type": "markdown",
   "metadata": {},
   "source": [
    "## ResNet-18"
   ]
  },
  {
   "cell_type": "markdown",
   "metadata": {},
   "source": [
    "For quick prototyping, also consider using `ConvNet16`, a 1.6M-parameter model that is much smaller than `ResNet18`. Experiments can be made on both models or on only one of them."
   ]
  },
  {
   "cell_type": "code",
   "execution_count": 3,
   "metadata": {},
   "outputs": [
    {
     "name": "stdout",
     "output_type": "stream",
     "text": [
      "Using cuda device\n"
     ]
    }
   ],
   "source": [
    "from image_classification.models import ResNet18, ConvNet16\n",
    "from image_classification.datasets import cifar10_train_test, cifar100_train_test\n",
    "from image_classification.nn import train_loop, train_val_loop, test_epoch"
   ]
  },
  {
   "cell_type": "code",
   "execution_count": 4,
   "metadata": {},
   "outputs": [
    {
     "name": "stdout",
     "output_type": "stream",
     "text": [
      "Loading CIFAR-10\n"
     ]
    },
    {
     "data": {
      "text/plain": [
       "(40000, 5000, 5000, 10000)"
      ]
     },
     "execution_count": 4,
     "metadata": {},
     "output_type": "execute_result"
    }
   ],
   "source": [
    "# Set to 10 for CIFAR-10, 100 for CIFAR-100\n",
    "num_classes = 10\n",
    "\n",
    "# The images are already normalized by theses datasets\n",
    "if num_classes == 10:\n",
    "    get_train_test = cifar10_train_test\n",
    "elif num_classes == 100:\n",
    "    get_train_test = cifar100_train_test\n",
    "else:\n",
    "    raise ValueError(f\"Can't find CIFAR dataset with {num_classes} classes\")\n",
    "print(f\"Loading CIFAR-{num_classes}\")\n",
    "\n",
    "training_data, test_data = get_train_test(root='data')\n",
    "N_test = len(test_data)\n",
    "N_val = len(training_data) // 10\n",
    "N_aux = N_val\n",
    "N = len(training_data) - N_val - N_aux\n",
    "# This works since training data is already shuffled\n",
    "training_data, val_data, aux_data = training_data.split([N, N_val, N_aux])\n",
    "\n",
    "batch_size = 100\n",
    "N, N_val, N_aux, N_test"
   ]
  },
  {
   "cell_type": "code",
   "execution_count": 5,
   "metadata": {},
   "outputs": [],
   "source": [
    "train_loader = DataLoader(training_data, batch_size, drop_last=True)\n",
    "val_loader = DataLoader(val_data, batch_size, drop_last=True)\n",
    "aux_loader = DataLoader(aux_data, batch_size, drop_last=True)"
   ]
  },
  {
   "cell_type": "markdown",
   "metadata": {},
   "source": [
    "### Hyperparameters"
   ]
  },
  {
   "cell_type": "code",
   "execution_count": 6,
   "metadata": {},
   "outputs": [],
   "source": [
    "lr = 1e-3\n",
    "weight_decay = 5e-4\n",
    "# For learning rate scheduling\n",
    "max_lr = 0.1\n",
    "\n",
    "epochs = 6\n",
    "steps_per_epoch = N // batch_size\n",
    "\n",
    "lr_sched_params = dict(max_lr=max_lr, epochs=epochs, steps_per_epoch=steps_per_epoch)\n",
    "\n",
    "criterion = CrossEntropyLoss()\n",
    "\n",
    "top_k = {10: 1, 100: 5}[num_classes]\n",
    "\n",
    "metric = MulticlassAccuracy(num_classes=num_classes, top_k=top_k)"
   ]
  },
  {
   "cell_type": "markdown",
   "metadata": {},
   "source": [
    "### Optimizer (TODO: compare SGD & Adam)"
   ]
  },
  {
   "cell_type": "code",
   "execution_count": 7,
   "metadata": {},
   "outputs": [],
   "source": [
    "def make_optimizer(model: nn.Module, opt_name='adamw', lr=lr, weight_decay=weight_decay, **kwargs) -> Optimizer:\n",
    "    cls = {'sgd': SGD, 'adam': Adam, 'adamw': AdamW}[opt_name]\n",
    "    return cls(model.parameters(), lr=lr, weight_decay=weight_decay, **kwargs)"
   ]
  },
  {
   "cell_type": "markdown",
   "metadata": {},
   "source": [
    "## Inverting gradient attack"
   ]
  },
  {
   "cell_type": "code",
   "execution_count": 8,
   "metadata": {},
   "outputs": [
    {
     "data": {
      "text/plain": [
       "<module 'image_classification.gradient_attack' from '/home/lvt/dev/python/ml/psc/playground/implementations/projects/poisoning/image_classification/gradient_attack.py'>"
      ]
     },
     "execution_count": 8,
     "metadata": {},
     "output_type": "execute_result"
    }
   ],
   "source": [
    "from importlib import reload\n",
    "import image_classification.gradient_attack\n",
    "reload(image_classification.gradient_attack)"
   ]
  },
  {
   "cell_type": "code",
   "execution_count": 9,
   "metadata": {},
   "outputs": [],
   "source": [
    "from image_classification.gradient_attack import (\n",
    "    GradientAttack,\n",
    "    GradientEstimator, OmniscientGradientEstimator, ShadowGradientEstimator,\n",
    "    SampleInit, SampleInitRandomNoise,\n",
    "    GradientInverter,\n",
    "    Schedule, NeverUpdate\n",
    ")"
   ]
  },
  {
   "cell_type": "markdown",
   "metadata": {},
   "source": [
    "### Visualizing reconstruction attacks"
   ]
  },
  {
   "cell_type": "code",
   "execution_count": 10,
   "metadata": {},
   "outputs": [],
   "source": [
    "def display_input_image(input: Tensor, label: Tensor, title='', cmap=None, ax: plt.Axes = None):\n",
    "    \"\"\"\n",
    "    Displays an an input image to a neural network.\n",
    "\n",
    "    `input`: a 3D tensor\n",
    "    `cmap`: grayscale by default.\n",
    "    \"\"\"\n",
    "    decoders = {\n",
    "        10: training_data.decode_cifar10_image,\n",
    "        100: training_data.decode_cifar100_image,\n",
    "    }\n",
    "    image = decoders[len(training_data.classes)](input)\n",
    "    class_ = training_data.decode_target(label)\n",
    "\n",
    "    if ax is None:\n",
    "        _fig, ax = plt.subplots()\n",
    "    ax.imshow(image, cmap=cmap, interpolation='nearest')\n",
    "    if title:\n",
    "        title = f\"{class_} - {title}\"\n",
    "    else:\n",
    "        title = class_\n",
    "    ax.set_title(title, fontsize=7)"
   ]
  },
  {
   "cell_type": "code",
   "execution_count": 11,
   "metadata": {},
   "outputs": [],
   "source": [
    "def test_attack(\n",
    "        inverter: GradientInverter,\n",
    "        model: nn.Module, criterion: _Loss,\n",
    "        X: Tensor, y: Tensor,\n",
    "        ax_clean: plt.Axes, ax_reconstructed: plt.Axes,\n",
    "        title=False\n",
    "    ):\n",
    "    model.eval()\n",
    "    model.zero_grad()\n",
    "\n",
    "    X, y = X.to(device), y.to(device)\n",
    "    logits = model(X)\n",
    "    loss = criterion(logits, y)\n",
    "    loss.backward()\n",
    "\n",
    "    # According to Zhao et al. (iDLG), the label information can be recovered\n",
    "    # analytically, so we assume the attacker has access to the label.\n",
    "    try:\n",
    "        inverter.sample_init.label_hint(y[0])\n",
    "    except AttributeError:\n",
    "        pass\n",
    "    X_p, y_p = inverter.attack(model, criterion)\n",
    "    \n",
    "    clean_title, reconstructed_title = \"\", \"\"\n",
    "    if title:\n",
    "        clean_title = \"Clean sample\"\n",
    "        reconstructed_title = f\"Reconstructed sample, {inverter.steps} steps\"\n",
    "    display_input_image(\n",
    "        X[0], y[0],\n",
    "        title=clean_title,\n",
    "        ax=ax_clean,\n",
    "    )\n",
    "    display_input_image(\n",
    "        X_p, y_p,\n",
    "        title=reconstructed_title,\n",
    "        ax=ax_reconstructed,\n",
    "    )\n",
    "\n",
    "    return X, y, X_p, y_p"
   ]
  },
  {
   "cell_type": "code",
   "execution_count": 12,
   "metadata": {},
   "outputs": [],
   "source": [
    "def test_reconstruction(net: nn.Module, training_data: Dataset, n=5, steps=1000, tv_coef=0.1, lr=0.2):\n",
    "\n",
    "    class SampleInitLabelHint(SampleInit):\n",
    "        def __init__(self, inner: SampleInit):\n",
    "            self.dataset = inner.dataset\n",
    "            self._inner = inner\n",
    "            self.y = None\n",
    "  \n",
    "        def label_hint(self, label: Tensor):\n",
    "            self.y = label\n",
    "        \n",
    "        def __call__(self):\n",
    "            X, _ = self._inner.__call__()\n",
    "            assert self.y is not None\n",
    "            y = self.y\n",
    "            self.y = None\n",
    "            return X, y\n",
    "\n",
    "    reconstruction_inverter = GradientInverter(\n",
    "        GradientAttack.RECONSTRUCTION,\n",
    "        OmniscientGradientEstimator(batch_size=1),\n",
    "        steps=steps,\n",
    "        sample_init=SampleInitLabelHint(SampleInitRandomNoise(aux_data)),\n",
    "        tv_coef=tv_coef,\n",
    "        lr=lr,\n",
    "        label_update_schedule=NeverUpdate(),\n",
    "    )\n",
    "    loader = DataLoader(training_data, batch_size=1)\n",
    "\n",
    "    fig, axes = plt.subplots(nrows=2, ncols=n, squeeze=False)\n",
    "    for i, (X, y) in zip(range(n), loader):\n",
    "        # TODO: also test with shadow gradient estimation w/ aux. dataset\n",
    "        test_attack(reconstruction_inverter, net, criterion, X, y, axes[0, i], axes[1, i]);\n",
    "    fig.suptitle(f\"Reconstruction attacks against ResNet-18 on CIFAR-10\\n{steps} steps, {lr=}, {tv_coef=}\")\n",
    "    fig.tight_layout()"
   ]
  },
  {
   "cell_type": "code",
   "execution_count": 13,
   "metadata": {},
   "outputs": [
    {
     "data": {
      "application/vnd.jupyter.widget-view+json": {
       "model_id": "3f9d7cdc66fa4879b7b9e646b9936f2f",
       "version_major": 2,
       "version_minor": 0
      },
      "text/plain": [
       "Train epochs:   0%|          | 0/10 [00:00<?, ?epoch/s]"
      ]
     },
     "metadata": {},
     "output_type": "display_data"
    },
    {
     "data": {
      "application/vnd.jupyter.widget-view+json": {
       "model_id": "7c12db5cad6e415a90d1b28b3d338369",
       "version_major": 2,
       "version_minor": 0
      },
      "text/plain": [
       "Train loop:   0%|          | 0/5000 [00:00<?, ?it/s]"
      ]
     },
     "metadata": {},
     "output_type": "display_data"
    },
    {
     "name": "stdout",
     "output_type": "stream",
     "text": [
      "Train loop: 100%|██████████| 5000/5000 [00:03<00:00, 1547.52it/s, avg_loss=1.91]\n"
     ]
    },
    {
     "data": {
      "application/vnd.jupyter.widget-view+json": {
       "model_id": "c5c6d50d22a24f08961df368dc1c717a",
       "version_major": 2,
       "version_minor": 0
      },
      "text/plain": [
       "Test epoch:   0%|          | 0/5000 [00:00<?, ?it/s]"
      ]
     },
     "metadata": {},
     "output_type": "display_data"
    },
    {
     "name": "stdout",
     "output_type": "stream",
     "text": [
      "Test epoch: 100%|██████████| 5000/5000 [00:00<00:00, 5586.28it/s, avg_loss=2.05]\n"
     ]
    },
    {
     "data": {
      "application/vnd.jupyter.widget-view+json": {
       "model_id": "2cbcf49b71164c6d993ea525b98e4185",
       "version_major": 2,
       "version_minor": 0
      },
      "text/plain": [
       "Train loop:   0%|          | 0/5000 [00:00<?, ?it/s]"
      ]
     },
     "metadata": {},
     "output_type": "display_data"
    },
    {
     "name": "stdout",
     "output_type": "stream",
     "text": [
      "Train loop: 100%|██████████| 5000/5000 [00:02<00:00, 1747.35it/s, avg_loss=1.55]\n"
     ]
    },
    {
     "data": {
      "application/vnd.jupyter.widget-view+json": {
       "model_id": "bb8a782f2bcd4a6ea2248f7cfb9bc0f5",
       "version_major": 2,
       "version_minor": 0
      },
      "text/plain": [
       "Train loop:   0%|          | 0/5000 [00:00<?, ?it/s]"
      ]
     },
     "metadata": {},
     "output_type": "display_data"
    },
    {
     "name": "stdout",
     "output_type": "stream",
     "text": [
      "Train loop: 100%|██████████| 5000/5000 [00:02<00:00, 1744.58it/s, avg_loss=1.39]\n"
     ]
    },
    {
     "data": {
      "application/vnd.jupyter.widget-view+json": {
       "model_id": "a9cea2340b4d4ae5b4df18901bacd079",
       "version_major": 2,
       "version_minor": 0
      },
      "text/plain": [
       "Test epoch:   0%|          | 0/5000 [00:00<?, ?it/s]"
      ]
     },
     "metadata": {},
     "output_type": "display_data"
    },
    {
     "name": "stdout",
     "output_type": "stream",
     "text": [
      "Test epoch: 100%|██████████| 5000/5000 [00:00<00:00, 5590.58it/s, avg_loss=1.66]\n"
     ]
    },
    {
     "data": {
      "application/vnd.jupyter.widget-view+json": {
       "model_id": "eb7d8da232894b808fd9716f08710e77",
       "version_major": 2,
       "version_minor": 0
      },
      "text/plain": [
       "Train loop:   0%|          | 0/5000 [00:00<?, ?it/s]"
      ]
     },
     "metadata": {},
     "output_type": "display_data"
    },
    {
     "name": "stdout",
     "output_type": "stream",
     "text": [
      "Train loop: 100%|██████████| 5000/5000 [00:02<00:00, 1741.72it/s, avg_loss=1.25]\n"
     ]
    },
    {
     "data": {
      "application/vnd.jupyter.widget-view+json": {
       "model_id": "4f4fe5ac38014d64981438a9dd3b2528",
       "version_major": 2,
       "version_minor": 0
      },
      "text/plain": [
       "Train loop:   0%|          | 0/5000 [00:00<?, ?it/s]"
      ]
     },
     "metadata": {},
     "output_type": "display_data"
    },
    {
     "name": "stdout",
     "output_type": "stream",
     "text": [
      "Train loop: 100%|██████████| 5000/5000 [00:02<00:00, 1738.90it/s, avg_loss=1.1]\n"
     ]
    },
    {
     "data": {
      "application/vnd.jupyter.widget-view+json": {
       "model_id": "dfb1ce4b72874703b25854216ae6386c",
       "version_major": 2,
       "version_minor": 0
      },
      "text/plain": [
       "Test epoch:   0%|          | 0/5000 [00:00<?, ?it/s]"
      ]
     },
     "metadata": {},
     "output_type": "display_data"
    },
    {
     "name": "stdout",
     "output_type": "stream",
     "text": [
      "Test epoch: 100%|██████████| 5000/5000 [00:00<00:00, 5576.53it/s, avg_loss=1.76]\n",
      "Epoch 4: validation loss stopped improving, exiting train loop.\n"
     ]
    }
   ],
   "source": [
    "net = ResNet18(num_classes=num_classes).to(device)\n",
    "opt = make_optimizer(net, opt_name='adam', lr=lr)\n",
    "# Pretrain the model to make it learn the features\n",
    "mini_train_set = Subset(training_data, np.arange(N_aux))\n",
    "mini_train_loader = DataLoader(mini_train_set, batch_size)\n",
    "train_val_loop(\n",
    "    net, mini_train_loader, val_loader,\n",
    "    criterion, opt,\n",
    "    epochs=10, # Overfit on the first `N_aux` examples of the training data\n",
    ")"
   ]
  },
  {
   "cell_type": "code",
   "execution_count": 14,
   "metadata": {},
   "outputs": [],
   "source": [
    "def test_orthogonal_attack(net: nn.Module, training_data: Dataset, n=5, steps=1000, tv_coef=0.1, lr=0.2):\n",
    "    inverter = GradientInverter(\n",
    "        GradientAttack.ORTHOGONAL,\n",
    "        OmniscientGradientEstimator(batch_size=1),\n",
    "        steps=steps,\n",
    "        sample_init=SampleInitRandomNoise(aux_data),\n",
    "        tv_coef=tv_coef,\n",
    "        lr=lr,\n",
    "    )\n",
    "    loader = DataLoader(training_data, batch_size=1)\n",
    "\n",
    "    fig, axes = plt.subplots(nrows=2, ncols=n, squeeze=False)\n",
    "    for i, (X, y) in zip(range(n), loader):\n",
    "        # TODO: also test with shadow gradient estimation w/ aux. dataset\n",
    "        test_attack(inverter, net, criterion, X, y, axes[0, i], axes[1, i]);\n",
    "    fig.suptitle(f\"Orthogonal attacks against ResNet-18 on CIFAR-10\\n{steps} steps, {lr=}, {tv_coef=}\")\n",
    "    fig.tight_layout()"
   ]
  },
  {
   "cell_type": "code",
   "execution_count": 15,
   "metadata": {},
   "outputs": [
    {
     "name": "stderr",
     "output_type": "stream",
     "text": [
      "/home/lvt/.local/share/virtualenvs/ml-TQx6uCZG/lib/python3.13/site-packages/torch/autograd/graph.py:823: UserWarning: Using backward() with create_graph=True will create a reference cycle between the parameter and its gradient which can cause a memory leak. We recommend using autograd.grad when creating the graph to avoid this. If you have to use this function, make sure to reset the .grad fields of your parameters to None after use to break the cycle and avoid the leak. (Triggered internally at /pytorch/torch/csrc/autograd/engine.cpp:1260.)\n",
      "  return Variable._execution_engine.run_backward(  # Calls into the C++ engine to run the backward pass\n",
      "/home/lvt/.local/share/virtualenvs/ml-TQx6uCZG/lib/python3.13/site-packages/torchmetrics/utilities/prints.py:70: FutureWarning: Importing `total_variation` from `torchmetrics.functional` was deprecated and will be removed in 2.0. Import `total_variation` from `torchmetrics.image` instead.\n",
      "  _future_warning(\n"
     ]
    },
    {
     "data": {
      "image/png": "[encoded data removed]",
      "text/plain": [
       "<Figure size 640x480 with 2 Axes>"
      ]
     },
     "metadata": {},
     "output_type": "display_data"
    }
   ],
   "source": [
    "test_orthogonal_attack(net, Subset(mini_train_set, [12]), n=1, steps=100, lr=0.2, tv_coef=0.01)"
   ]
  },
  {
   "cell_type": "code",
   "execution_count": 16,
   "metadata": {},
   "outputs": [
    {
     "data": {
      "image/png": "[encoded data removed]",
      "text/plain": [
       "<Figure size 640x480 with 2 Axes>"
      ]
     },
     "metadata": {},
     "output_type": "display_data"
    }
   ],
   "source": [
    "test_reconstruction(net, Subset(mini_train_set, [12]), n=1, steps=1000, lr=0.2, tv_coef=0.01)"
   ]
  },
  {
   "cell_type": "code",
   "execution_count": 17,
   "metadata": {},
   "outputs": [
    {
     "data": {
      "image/png": "[encoded data removed]",
      "text/plain": [
       "<Figure size 640x480 with 10 Axes>"
      ]
     },
     "metadata": {},
     "output_type": "display_data"
    }
   ],
   "source": [
    "test_reconstruction(net, mini_train_set, steps=500, lr=0.2)"
   ]
  },
  {
   "cell_type": "code",
   "execution_count": 18,
   "metadata": {},
   "outputs": [
    {
     "data": {
      "image/png": "[encoded data removed]",
      "text/plain": [
       "<Figure size 640x480 with 10 Axes>"
      ]
     },
     "metadata": {},
     "output_type": "display_data"
    }
   ],
   "source": [
    "test_reconstruction(net, mini_train_set)"
   ]
  },
  {
   "cell_type": "markdown",
   "metadata": {},
   "source": [
    "With enough reconstruction steps, many of the images can be leaked from the gradients with relatively high fidelity."
   ]
  },
  {
   "cell_type": "markdown",
   "metadata": {},
   "source": [
    "### Poisoning"
   ]
  },
  {
   "cell_type": "code",
   "execution_count": 34,
   "metadata": {},
   "outputs": [],
   "source": [
    "from image_classification.datasets import UpdatableDataset\n",
    "from image_classification.nn import MetricLogger\n",
    "\n",
    "def train_epoch_with_poisons(\n",
    "        model: nn.Module,\n",
    "        dataloader: DataLoader,\n",
    "        criterion: _Loss,\n",
    "        optimizer: Optimizer,\n",
    "        inverter: GradientInverter,\n",
    "        alpha_poison=0.2,\n",
    "        keep_pbars=True,\n",
    "    ) -> tuple[UpdatableDataset, MetricLogger]:\n",
    "    model.train()\n",
    "    logger = MetricLogger(\n",
    "        metric,\n",
    "        device=device,\n",
    "        desc='Train loop', total=len(dataloader.dataset), keep_pbars=keep_pbars,\n",
    "    )\n",
    "    poison_set = UpdatableDataset()\n",
    "\n",
    "    for X, y in dataloader:\n",
    "        X, y = X.to(device), y.to(device)\n",
    "        logits = model(X)\n",
    "        # TODO: handle losses that don't reduce\n",
    "        loss = criterion(logits, y)\n",
    "        # TODO: backpropagate on each loss element (and model.zero_grad() every time)\n",
    "        loss.backward()\n",
    "\n",
    "        # --- poisoning attack\n",
    "        X_p, y_p = inverter.attack(model, criterion)\n",
    "        poison_set.append(X_p, y_p)\n",
    "\n",
    "        logits_p = model(X_p.unsqueeze(0))\n",
    "        loss_p = alpha_poison * criterion(logits_p, y_p.unsqueeze(0))\n",
    "        # This adds to `loss` model gradients due to gradient accumulation\n",
    "        loss_p.backward()\n",
    "        # ---\n",
    "\n",
    "        optimizer.step()\n",
    "        optimizer.zero_grad()\n",
    "\n",
    "        # FIXME: does not include X_p, y_p, logits_p, loss_p\n",
    "        # TODO: log loss on poisons\n",
    "        # TODO: display some poisons\n",
    "        logger.compute_metrics(X, y, logits, loss.item())\n",
    "    \n",
    "    logger.finish()\n",
    "    return poison_set, logger"
   ]
  },
  {
   "cell_type": "code",
   "execution_count": 35,
   "metadata": {},
   "outputs": [],
   "source": [
    "def train_loop_with_poisons(\n",
    "        model: nn.Module,\n",
    "        train_loader: DataLoader,\n",
    "        val_loader: DataLoader,\n",
    "        criterion: _Loss,\n",
    "        optimizer: Optimizer,\n",
    "        epochs: int,\n",
    "        inverter: GradientInverter,\n",
    "        alpha_poison=0.05,\n",
    "        metric=metric,\n",
    "    ) -> TensorDataset:\n",
    "    poison_set = UpdatableDataset()\n",
    "    for epoch in trange(epochs, desc='Train epochs', unit='epoch', leave=True):\n",
    "        poison_set_epoch, _ = train_epoch_with_poisons(\n",
    "            model, train_loader,\n",
    "            criterion, optimizer,\n",
    "            inverter, alpha_poison=alpha_poison\n",
    "        )\n",
    "        poison_set.extend(poison_set_epoch)\n",
    "        test_epoch(model, val_loader, criterion, keep_pbars=True, metric=metric)\n",
    "    return poison_set.to_tensor_dataset()"
   ]
  },
  {
   "cell_type": "markdown",
   "metadata": {},
   "source": [
    "### Orthogonal Gradient inverting attack"
   ]
  },
  {
   "cell_type": "code",
   "execution_count": 36,
   "metadata": {},
   "outputs": [],
   "source": [
    "estimator = OmniscientGradientEstimator(train_loader.batch_size)\n",
    "sample_init = SampleInitRandomNoise(aux_data)\n",
    "inverter = GradientInverter(\n",
    "    GradientAttack.ORTHOGONAL,\n",
    "    estimator,\n",
    "    steps=5,\n",
    "    sample_init=sample_init,\n",
    "    tv_coef=0.0,\n",
    "    lr=0.3,\n",
    ")"
   ]
  },
  {
   "cell_type": "code",
   "execution_count": 37,
   "metadata": {},
   "outputs": [
    {
     "data": {
      "application/vnd.jupyter.widget-view+json": {
       "model_id": "8ce36b1c642b466b93f300b713a763b4",
       "version_major": 2,
       "version_minor": 0
      },
      "text/plain": [
       "Train epochs:   0%|          | 0/6 [00:00<?, ?epoch/s]"
      ]
     },
     "metadata": {},
     "output_type": "display_data"
    },
    {
     "data": {
      "application/vnd.jupyter.widget-view+json": {
       "model_id": "19f3f08466ad423099e498e791b4e578",
       "version_major": 2,
       "version_minor": 0
      },
      "text/plain": [
       "Train loop:   0%|          | 0/40000 [00:00<?, ?it/s]"
      ]
     },
     "metadata": {},
     "output_type": "display_data"
    },
    {
     "name": "stdout",
     "output_type": "stream",
     "text": [
      "Train loop: 100%|██████████| 40000/40000 [01:27<00:00, 459.42it/s, MulticlassAccuracy=0.412, avg_loss=2]\n"
     ]
    },
    {
     "data": {
      "application/vnd.jupyter.widget-view+json": {
       "model_id": "63979934b04842e29b69ae3d526a8b53",
       "version_major": 2,
       "version_minor": 0
      },
      "text/plain": [
       "Test epoch:   0%|          | 0/5000 [00:00<?, ?it/s]"
      ]
     },
     "metadata": {},
     "output_type": "display_data"
    },
    {
     "name": "stdout",
     "output_type": "stream",
     "text": [
      "Test epoch: 100%|██████████| 5000/5000 [00:00<00:00, 5165.84it/s, MulticlassAccuracy=0.284, avg_loss=1.91]\n"
     ]
    },
    {
     "data": {
      "application/vnd.jupyter.widget-view+json": {
       "model_id": "794e635a0b324386994cbd6940ec765d",
       "version_major": 2,
       "version_minor": 0
      },
      "text/plain": [
       "Train loop:   0%|          | 0/40000 [00:00<?, ?it/s]"
      ]
     },
     "metadata": {},
     "output_type": "display_data"
    },
    {
     "name": "stdout",
     "output_type": "stream",
     "text": [
      "Train loop: 100%|██████████| 40000/40000 [01:27<00:00, 457.51it/s, MulticlassAccuracy=0.509, avg_loss=1.63]\n"
     ]
    },
    {
     "data": {
      "application/vnd.jupyter.widget-view+json": {
       "model_id": "05576d8d6b2c40e781ab9e7773ad6da0",
       "version_major": 2,
       "version_minor": 0
      },
      "text/plain": [
       "Test epoch:   0%|          | 0/5000 [00:00<?, ?it/s]"
      ]
     },
     "metadata": {},
     "output_type": "display_data"
    },
    {
     "name": "stdout",
     "output_type": "stream",
     "text": [
      "Test epoch: 100%|██████████| 5000/5000 [00:00<00:00, 5113.63it/s, MulticlassAccuracy=0.264, avg_loss=2.26]\n"
     ]
    },
    {
     "data": {
      "application/vnd.jupyter.widget-view+json": {
       "model_id": "2c755b4ae07d4e5c99b184a6f047fc63",
       "version_major": 2,
       "version_minor": 0
      },
      "text/plain": [
       "Train loop:   0%|          | 0/40000 [00:00<?, ?it/s]"
      ]
     },
     "metadata": {},
     "output_type": "display_data"
    },
    {
     "name": "stdout",
     "output_type": "stream",
     "text": [
      "Train loop: 100%|██████████| 40000/40000 [01:29<00:00, 445.79it/s, MulticlassAccuracy=0.553, avg_loss=1.47]\n"
     ]
    },
    {
     "data": {
      "application/vnd.jupyter.widget-view+json": {
       "model_id": "c22e7d525b464cde837cf5b626ba3027",
       "version_major": 2,
       "version_minor": 0
      },
      "text/plain": [
       "Test epoch:   0%|          | 0/5000 [00:00<?, ?it/s]"
      ]
     },
     "metadata": {},
     "output_type": "display_data"
    },
    {
     "name": "stdout",
     "output_type": "stream",
     "text": [
      "Test epoch: 100%|██████████| 5000/5000 [00:01<00:00, 4994.90it/s, MulticlassAccuracy=0.282, avg_loss=2.05]\n"
     ]
    },
    {
     "data": {
      "application/vnd.jupyter.widget-view+json": {
       "model_id": "42337541a12a4002bcca75ee5cda9307",
       "version_major": 2,
       "version_minor": 0
      },
      "text/plain": [
       "Train loop:   0%|          | 0/40000 [00:00<?, ?it/s]"
      ]
     },
     "metadata": {},
     "output_type": "display_data"
    },
    {
     "ename": "KeyboardInterrupt",
     "evalue": "",
     "output_type": "error",
     "traceback": [
      "\u001b[31m---------------------------------------------------------------------------\u001b[39m",
      "\u001b[31mKeyboardInterrupt\u001b[39m                         Traceback (most recent call last)",
      "\u001b[36mCell\u001b[39m\u001b[36m \u001b[39m\u001b[32mIn[37]\u001b[39m\u001b[32m, line 4\u001b[39m\n\u001b[32m      2\u001b[39m net = ResNet18(num_classes=num_classes).to(device)\n\u001b[32m      3\u001b[39m opt = make_optimizer(net, opt_name=\u001b[33m'\u001b[39m\u001b[33msgd\u001b[39m\u001b[33m'\u001b[39m, lr=lr, weight_decay=\u001b[32m0.0\u001b[39m)\n\u001b[32m----> \u001b[39m\u001b[32m4\u001b[39m \u001b[43mtrain_loop_with_poisons\u001b[49m\u001b[43m(\u001b[49m\n\u001b[32m      5\u001b[39m \u001b[43m    \u001b[49m\u001b[43mnet\u001b[49m\u001b[43m,\u001b[49m\u001b[43m \u001b[49m\u001b[43mtrain_loader\u001b[49m\u001b[43m,\u001b[49m\u001b[43m \u001b[49m\u001b[43mval_loader\u001b[49m\u001b[43m,\u001b[49m\n\u001b[32m      6\u001b[39m \u001b[43m    \u001b[49m\u001b[43mcriterion\u001b[49m\u001b[43m,\u001b[49m\u001b[43m \u001b[49m\u001b[43mopt\u001b[49m\u001b[43m,\u001b[49m\n\u001b[32m      7\u001b[39m \u001b[43m    \u001b[49m\u001b[43mepochs\u001b[49m\u001b[43m,\u001b[49m\n\u001b[32m      8\u001b[39m \u001b[43m    \u001b[49m\u001b[43minverter\u001b[49m\u001b[43m,\u001b[49m\u001b[43m \u001b[49m\u001b[43malpha_poison\u001b[49m\u001b[43m=\u001b[49m\u001b[32;43m0.2\u001b[39;49m\u001b[43m,\u001b[49m\n\u001b[32m      9\u001b[39m \u001b[43m)\u001b[49m\n",
      "\u001b[36mCell\u001b[39m\u001b[36m \u001b[39m\u001b[32mIn[35]\u001b[39m\u001b[32m, line 14\u001b[39m, in \u001b[36mtrain_loop_with_poisons\u001b[39m\u001b[34m(model, train_loader, val_loader, criterion, optimizer, epochs, inverter, alpha_poison, metric)\u001b[39m\n\u001b[32m     12\u001b[39m poison_set = UpdatableDataset()\n\u001b[32m     13\u001b[39m \u001b[38;5;28;01mfor\u001b[39;00m epoch \u001b[38;5;129;01min\u001b[39;00m trange(epochs, desc=\u001b[33m'\u001b[39m\u001b[33mTrain epochs\u001b[39m\u001b[33m'\u001b[39m, unit=\u001b[33m'\u001b[39m\u001b[33mepoch\u001b[39m\u001b[33m'\u001b[39m, leave=\u001b[38;5;28;01mTrue\u001b[39;00m):\n\u001b[32m---> \u001b[39m\u001b[32m14\u001b[39m     poison_set_epoch, _ = \u001b[43mtrain_epoch_with_poisons\u001b[49m\u001b[43m(\u001b[49m\n\u001b[32m     15\u001b[39m \u001b[43m        \u001b[49m\u001b[43mmodel\u001b[49m\u001b[43m,\u001b[49m\u001b[43m \u001b[49m\u001b[43mtrain_loader\u001b[49m\u001b[43m,\u001b[49m\n\u001b[32m     16\u001b[39m \u001b[43m        \u001b[49m\u001b[43mcriterion\u001b[49m\u001b[43m,\u001b[49m\u001b[43m \u001b[49m\u001b[43moptimizer\u001b[49m\u001b[43m,\u001b[49m\n\u001b[32m     17\u001b[39m \u001b[43m        \u001b[49m\u001b[43minverter\u001b[49m\u001b[43m,\u001b[49m\u001b[43m \u001b[49m\u001b[43malpha_poison\u001b[49m\u001b[43m=\u001b[49m\u001b[43malpha_poison\u001b[49m\n\u001b[32m     18\u001b[39m \u001b[43m    \u001b[49m\u001b[43m)\u001b[49m\n\u001b[32m     19\u001b[39m     poison_set.extend(poison_set_epoch)\n\u001b[32m     20\u001b[39m     test_epoch(model, val_loader, criterion, keep_pbars=\u001b[38;5;28;01mTrue\u001b[39;00m, metric=metric)\n",
      "\u001b[36mCell\u001b[39m\u001b[36m \u001b[39m\u001b[32mIn[34]\u001b[39m\u001b[32m, line 30\u001b[39m, in \u001b[36mtrain_epoch_with_poisons\u001b[39m\u001b[34m(model, dataloader, criterion, optimizer, inverter, alpha_poison, keep_pbars)\u001b[39m\n\u001b[32m     27\u001b[39m loss.backward()\n\u001b[32m     29\u001b[39m \u001b[38;5;66;03m# --- poisoning attack\u001b[39;00m\n\u001b[32m---> \u001b[39m\u001b[32m30\u001b[39m X_p, y_p = \u001b[43minverter\u001b[49m\u001b[43m.\u001b[49m\u001b[43mattack\u001b[49m\u001b[43m(\u001b[49m\u001b[43mmodel\u001b[49m\u001b[43m,\u001b[49m\u001b[43m \u001b[49m\u001b[43mcriterion\u001b[49m\u001b[43m)\u001b[49m\n\u001b[32m     31\u001b[39m poison_set.append(X_p, y_p)\n\u001b[32m     33\u001b[39m logits_p = model(X_p.unsqueeze(\u001b[32m0\u001b[39m))\n",
      "\u001b[36mFile \u001b[39m\u001b[32m~/dev/python/ml/psc/playground/implementations/projects/poisoning/image_classification/gradient_attack.py:258\u001b[39m, in \u001b[36mattack\u001b[39m\u001b[34m(self, model, criterion)\u001b[39m\n\u001b[32m    255\u001b[39m model.requires_grad_()\n\u001b[32m    256\u001b[39m model.zero_grad()\n\u001b[32m--> \u001b[39m\u001b[32m258\u001b[39m x_base, y_base = \u001b[38;5;28mself\u001b[39m.sample_init()\n\u001b[32m    260\u001b[39m x_base = x_base.to(device)\n\u001b[32m    261\u001b[39m y_base = F.one_hot(y_base, num_classes).float().to(device)\n",
      "\u001b[36mFile \u001b[39m\u001b[32m~/.local/share/virtualenvs/ml-TQx6uCZG/lib/python3.13/site-packages/torch/_tensor.py:626\u001b[39m, in \u001b[36mTensor.backward\u001b[39m\u001b[34m(self, gradient, retain_graph, create_graph, inputs)\u001b[39m\n\u001b[32m    616\u001b[39m \u001b[38;5;28;01mif\u001b[39;00m has_torch_function_unary(\u001b[38;5;28mself\u001b[39m):\n\u001b[32m    617\u001b[39m     \u001b[38;5;28;01mreturn\u001b[39;00m handle_torch_function(\n\u001b[32m    618\u001b[39m         Tensor.backward,\n\u001b[32m    619\u001b[39m         (\u001b[38;5;28mself\u001b[39m,),\n\u001b[32m   (...)\u001b[39m\u001b[32m    624\u001b[39m         inputs=inputs,\n\u001b[32m    625\u001b[39m     )\n\u001b[32m--> \u001b[39m\u001b[32m626\u001b[39m \u001b[43mtorch\u001b[49m\u001b[43m.\u001b[49m\u001b[43mautograd\u001b[49m\u001b[43m.\u001b[49m\u001b[43mbackward\u001b[49m\u001b[43m(\u001b[49m\n\u001b[32m    627\u001b[39m \u001b[43m    \u001b[49m\u001b[38;5;28;43mself\u001b[39;49m\u001b[43m,\u001b[49m\u001b[43m \u001b[49m\u001b[43mgradient\u001b[49m\u001b[43m,\u001b[49m\u001b[43m \u001b[49m\u001b[43mretain_graph\u001b[49m\u001b[43m,\u001b[49m\u001b[43m \u001b[49m\u001b[43mcreate_graph\u001b[49m\u001b[43m,\u001b[49m\u001b[43m \u001b[49m\u001b[43minputs\u001b[49m\u001b[43m=\u001b[49m\u001b[43minputs\u001b[49m\n\u001b[32m    628\u001b[39m \u001b[43m\u001b[49m\u001b[43m)\u001b[49m\n",
      "\u001b[36mFile \u001b[39m\u001b[32m~/.local/share/virtualenvs/ml-TQx6uCZG/lib/python3.13/site-packages/torch/autograd/__init__.py:347\u001b[39m, in \u001b[36mbackward\u001b[39m\u001b[34m(tensors, grad_tensors, retain_graph, create_graph, grad_variables, inputs)\u001b[39m\n\u001b[32m    342\u001b[39m     retain_graph = create_graph\n\u001b[32m    344\u001b[39m \u001b[38;5;66;03m# The reason we repeat the same comment below is that\u001b[39;00m\n\u001b[32m    345\u001b[39m \u001b[38;5;66;03m# some Python versions print out the first line of a multi-line function\u001b[39;00m\n\u001b[32m    346\u001b[39m \u001b[38;5;66;03m# calls in the traceback and some print out the last line\u001b[39;00m\n\u001b[32m--> \u001b[39m\u001b[32m347\u001b[39m \u001b[43m_engine_run_backward\u001b[49m\u001b[43m(\u001b[49m\n\u001b[32m    348\u001b[39m \u001b[43m    \u001b[49m\u001b[43mtensors\u001b[49m\u001b[43m,\u001b[49m\n\u001b[32m    349\u001b[39m \u001b[43m    \u001b[49m\u001b[43mgrad_tensors_\u001b[49m\u001b[43m,\u001b[49m\n\u001b[32m    350\u001b[39m \u001b[43m    \u001b[49m\u001b[43mretain_graph\u001b[49m\u001b[43m,\u001b[49m\n\u001b[32m    351\u001b[39m \u001b[43m    \u001b[49m\u001b[43mcreate_graph\u001b[49m\u001b[43m,\u001b[49m\n\u001b[32m    352\u001b[39m \u001b[43m    \u001b[49m\u001b[43minputs\u001b[49m\u001b[43m,\u001b[49m\n\u001b[32m    353\u001b[39m \u001b[43m    \u001b[49m\u001b[43mallow_unreachable\u001b[49m\u001b[43m=\u001b[49m\u001b[38;5;28;43;01mTrue\u001b[39;49;00m\u001b[43m,\u001b[49m\n\u001b[32m    354\u001b[39m \u001b[43m    \u001b[49m\u001b[43maccumulate_grad\u001b[49m\u001b[43m=\u001b[49m\u001b[38;5;28;43;01mTrue\u001b[39;49;00m\u001b[43m,\u001b[49m\n\u001b[32m    355\u001b[39m \u001b[43m\u001b[49m\u001b[43m)\u001b[49m\n",
      "\u001b[36mFile \u001b[39m\u001b[32m~/.local/share/virtualenvs/ml-TQx6uCZG/lib/python3.13/site-packages/torch/autograd/graph.py:823\u001b[39m, in \u001b[36m_engine_run_backward\u001b[39m\u001b[34m(t_outputs, *args, **kwargs)\u001b[39m\n\u001b[32m    821\u001b[39m     unregister_hooks = _register_logging_hooks_on_whole_graph(t_outputs)\n\u001b[32m    822\u001b[39m \u001b[38;5;28;01mtry\u001b[39;00m:\n\u001b[32m--> \u001b[39m\u001b[32m823\u001b[39m     \u001b[38;5;28;01mreturn\u001b[39;00m \u001b[43mVariable\u001b[49m\u001b[43m.\u001b[49m\u001b[43m_execution_engine\u001b[49m\u001b[43m.\u001b[49m\u001b[43mrun_backward\u001b[49m\u001b[43m(\u001b[49m\u001b[43m  \u001b[49m\u001b[38;5;66;43;03m# Calls into the C++ engine to run the backward pass\u001b[39;49;00m\n\u001b[32m    824\u001b[39m \u001b[43m        \u001b[49m\u001b[43mt_outputs\u001b[49m\u001b[43m,\u001b[49m\u001b[43m \u001b[49m\u001b[43m*\u001b[49m\u001b[43margs\u001b[49m\u001b[43m,\u001b[49m\u001b[43m \u001b[49m\u001b[43m*\u001b[49m\u001b[43m*\u001b[49m\u001b[43mkwargs\u001b[49m\n\u001b[32m    825\u001b[39m \u001b[43m    \u001b[49m\u001b[43m)\u001b[49m  \u001b[38;5;66;03m# Calls into the C++ engine to run the backward pass\u001b[39;00m\n\u001b[32m    826\u001b[39m \u001b[38;5;28;01mfinally\u001b[39;00m:\n\u001b[32m    827\u001b[39m     \u001b[38;5;28;01mif\u001b[39;00m attach_logging_hooks:\n",
      "\u001b[31mKeyboardInterrupt\u001b[39m: "
     ]
    }
   ],
   "source": [
    "# SGD is more vulnerable to gradient attacks\n",
    "net = ResNet18(num_classes=num_classes).to(device)\n",
    "opt = make_optimizer(net, opt_name='sgd', lr=lr, weight_decay=0.0)\n",
    "train_loop_with_poisons(\n",
    "    net, train_loader, val_loader,\n",
    "    criterion, opt,\n",
    "    epochs,\n",
    "    inverter, alpha_poison=0.2,\n",
    ")"
   ]
  },
  {
   "cell_type": "markdown",
   "metadata": {},
   "source": [
    "Training progress is slowed down by a lot, however accuracy does not drop as much as with Gradient Ascent."
   ]
  },
  {
   "cell_type": "markdown",
   "metadata": {},
   "source": [
    "### Gradient Ascent inverting attack"
   ]
  },
  {
   "cell_type": "code",
   "execution_count": null,
   "metadata": {},
   "outputs": [],
   "source": [
    "estimator = OmniscientGradientEstimator(train_loader.batch_size)\n",
    "sample_init = SampleInitRandomNoise(aux_data)\n",
    "inverter = GradientInverter(\n",
    "    GradientAttack.ASCENT,\n",
    "    estimator,\n",
    "    steps=5,\n",
    "    sample_init=sample_init,\n",
    "    tv_coef=0.0,\n",
    "    lr=0.3,\n",
    ")"
   ]
  },
  {
   "cell_type": "code",
   "execution_count": null,
   "metadata": {},
   "outputs": [
    {
     "data": {
      "application/vnd.jupyter.widget-view+json": {
       "model_id": "af8b6fae7a9a41ea9b3cf2ef08147bbb",
       "version_major": 2,
       "version_minor": 0
      },
      "text/plain": [
       "Train epochs:   0%|          | 0/6 [00:00<?, ?epoch/s]"
      ]
     },
     "metadata": {},
     "output_type": "display_data"
    },
    {
     "data": {
      "application/vnd.jupyter.widget-view+json": {
       "model_id": "2522d2bb18034bafb89867b0a6aece85",
       "version_major": 2,
       "version_minor": 0
      },
      "text/plain": [
       "Train loop:   0%|          | 0/40000 [00:00<?, ?it/s]"
      ]
     },
     "metadata": {},
     "output_type": "display_data"
    },
    {
     "name": "stdout",
     "output_type": "stream",
     "text": [
      "Train loop: 100%|██████████| 40000/40000 [01:17<00:00, 518.60it/s, MulticlassAccuracy=0.35, avg_loss=2.04]\n"
     ]
    },
    {
     "data": {
      "application/vnd.jupyter.widget-view+json": {
       "model_id": "131191dfa57048118f6c5f13b61865b2",
       "version_major": 2,
       "version_minor": 0
      },
      "text/plain": [
       "Test epoch:   0%|          | 0/5000 [00:00<?, ?it/s]"
      ]
     },
     "metadata": {},
     "output_type": "display_data"
    },
    {
     "name": "stdout",
     "output_type": "stream",
     "text": [
      "Test epoch: 100%|██████████| 5000/5000 [00:00<00:00, 5039.24it/s, MulticlassAccuracy=0.277, avg_loss=1.94]\n"
     ]
    },
    {
     "data": {
      "application/vnd.jupyter.widget-view+json": {
       "model_id": "7d1888bd35154b1385b41e553d8ae229",
       "version_major": 2,
       "version_minor": 0
      },
      "text/plain": [
       "Train loop:   0%|          | 0/40000 [00:00<?, ?it/s]"
      ]
     },
     "metadata": {},
     "output_type": "display_data"
    },
    {
     "name": "stdout",
     "output_type": "stream",
     "text": [
      "Train loop: 100%|██████████| 40000/40000 [01:16<00:00, 521.01it/s, MulticlassAccuracy=0.498, avg_loss=1.69]\n"
     ]
    },
    {
     "data": {
      "application/vnd.jupyter.widget-view+json": {
       "model_id": "ce09ba98046149bc91ba328ccf10c7dc",
       "version_major": 2,
       "version_minor": 0
      },
      "text/plain": [
       "Test epoch:   0%|          | 0/5000 [00:00<?, ?it/s]"
      ]
     },
     "metadata": {},
     "output_type": "display_data"
    },
    {
     "name": "stdout",
     "output_type": "stream",
     "text": [
      "Test epoch: 100%|██████████| 5000/5000 [00:00<00:00, 5094.13it/s, MulticlassAccuracy=0.332, avg_loss=1.84]\n"
     ]
    },
    {
     "data": {
      "application/vnd.jupyter.widget-view+json": {
       "model_id": "88507ce1048440449837384807e8eb0f",
       "version_major": 2,
       "version_minor": 0
      },
      "text/plain": [
       "Train loop:   0%|          | 0/40000 [00:00<?, ?it/s]"
      ]
     },
     "metadata": {},
     "output_type": "display_data"
    },
    {
     "name": "stdout",
     "output_type": "stream",
     "text": [
      "Train loop: 100%|██████████| 40000/40000 [01:17<00:00, 518.46it/s, MulticlassAccuracy=0.533, avg_loss=1.53]\n"
     ]
    },
    {
     "data": {
      "application/vnd.jupyter.widget-view+json": {
       "model_id": "64f778034b4f4f189927b9d025fcde2b",
       "version_major": 2,
       "version_minor": 0
      },
      "text/plain": [
       "Test epoch:   0%|          | 0/5000 [00:00<?, ?it/s]"
      ]
     },
     "metadata": {},
     "output_type": "display_data"
    },
    {
     "name": "stdout",
     "output_type": "stream",
     "text": [
      "Test epoch: 100%|██████████| 5000/5000 [00:00<00:00, 5045.57it/s, MulticlassAccuracy=0.383, avg_loss=1.75]\n"
     ]
    },
    {
     "data": {
      "application/vnd.jupyter.widget-view+json": {
       "model_id": "b2fdf86f619e4c748a25733ac85e6b14",
       "version_major": 2,
       "version_minor": 0
      },
      "text/plain": [
       "Train loop:   0%|          | 0/40000 [00:00<?, ?it/s]"
      ]
     },
     "metadata": {},
     "output_type": "display_data"
    },
    {
     "name": "stdout",
     "output_type": "stream",
     "text": [
      "Train loop: 100%|██████████| 40000/40000 [01:16<00:00, 522.04it/s, MulticlassAccuracy=0.551, avg_loss=1.41]\n"
     ]
    },
    {
     "data": {
      "application/vnd.jupyter.widget-view+json": {
       "model_id": "59da3a467be64a9b8cc82e29377b13db",
       "version_major": 2,
       "version_minor": 0
      },
      "text/plain": [
       "Test epoch:   0%|          | 0/5000 [00:00<?, ?it/s]"
      ]
     },
     "metadata": {},
     "output_type": "display_data"
    },
    {
     "name": "stdout",
     "output_type": "stream",
     "text": [
      "Test epoch: 100%|██████████| 5000/5000 [00:00<00:00, 5182.95it/s, MulticlassAccuracy=0.354, avg_loss=1.87]\n"
     ]
    },
    {
     "data": {
      "application/vnd.jupyter.widget-view+json": {
       "model_id": "5c22e43c1b2c4b0e9cbf577ac060332e",
       "version_major": 2,
       "version_minor": 0
      },
      "text/plain": [
       "Train loop:   0%|          | 0/40000 [00:00<?, ?it/s]"
      ]
     },
     "metadata": {},
     "output_type": "display_data"
    },
    {
     "name": "stdout",
     "output_type": "stream",
     "text": [
      "Train loop: 100%|██████████| 40000/40000 [01:16<00:00, 525.78it/s, MulticlassAccuracy=0.623, avg_loss=1.32]\n"
     ]
    },
    {
     "data": {
      "application/vnd.jupyter.widget-view+json": {
       "model_id": "3d9e3a65f5da463e8eaac441f860a042",
       "version_major": 2,
       "version_minor": 0
      },
      "text/plain": [
       "Test epoch:   0%|          | 0/5000 [00:00<?, ?it/s]"
      ]
     },
     "metadata": {},
     "output_type": "display_data"
    },
    {
     "name": "stdout",
     "output_type": "stream",
     "text": [
      "Test epoch: 100%|██████████| 5000/5000 [00:00<00:00, 5093.71it/s, MulticlassAccuracy=0.421, avg_loss=1.6]\n"
     ]
    },
    {
     "data": {
      "application/vnd.jupyter.widget-view+json": {
       "model_id": "b32532ce4993430f984a73e683dfd0b5",
       "version_major": 2,
       "version_minor": 0
      },
      "text/plain": [
       "Train loop:   0%|          | 0/40000 [00:00<?, ?it/s]"
      ]
     },
     "metadata": {},
     "output_type": "display_data"
    },
    {
     "name": "stdout",
     "output_type": "stream",
     "text": [
      "Train loop: 100%|██████████| 40000/40000 [01:17<00:00, 515.78it/s, MulticlassAccuracy=0.615, avg_loss=1.24]\n"
     ]
    },
    {
     "data": {
      "application/vnd.jupyter.widget-view+json": {
       "model_id": "165723b49d764f0e919c9b9ad1ce9926",
       "version_major": 2,
       "version_minor": 0
      },
      "text/plain": [
       "Test epoch:   0%|          | 0/5000 [00:00<?, ?it/s]"
      ]
     },
     "metadata": {},
     "output_type": "display_data"
    },
    {
     "name": "stdout",
     "output_type": "stream",
     "text": [
      "Test epoch: 100%|██████████| 5000/5000 [00:00<00:00, 5041.85it/s, MulticlassAccuracy=0.457, avg_loss=1.62]\n"
     ]
    },
    {
     "data": {
      "text/plain": [
       "<torch.utils.data.dataset.TensorDataset at 0x7fe9bb4b3390>"
      ]
     },
     "execution_count": 44,
     "metadata": {},
     "output_type": "execute_result"
    }
   ],
   "source": [
    "# SGD is more vulnerable to gradient attacks\n",
    "net = ResNet18(num_classes=num_classes).to(device)\n",
    "opt = make_optimizer(net, opt_name='sgd', lr=lr, weight_decay=0.0)\n",
    "train_loop_with_poisons(\n",
    "    net, train_loader, val_loader,\n",
    "    criterion, opt,\n",
    "    epochs,\n",
    "    inverter, alpha_poison=0.2,\n",
    ")"
   ]
  },
  {
   "cell_type": "markdown",
   "metadata": {},
   "source": [
    "TODO: test with more poison steps or different lr for poison optimizer"
   ]
  },
  {
   "cell_type": "markdown",
   "metadata": {},
   "source": [
    "#### Lower poisoning rate"
   ]
  },
  {
   "cell_type": "code",
   "execution_count": null,
   "metadata": {},
   "outputs": [],
   "source": [
    "net = ResNet18(num_classes=num_classes).to(device)"
   ]
  },
  {
   "cell_type": "code",
   "execution_count": null,
   "metadata": {},
   "outputs": [
    {
     "data": {
      "application/vnd.jupyter.widget-view+json": {
       "model_id": "f851b8d46ebe4bed8407ed5d945b97d5",
       "version_major": 2,
       "version_minor": 0
      },
      "text/plain": [
       "Train epochs:   0%|          | 0/6 [00:00<?, ?epoch/s]"
      ]
     },
     "metadata": {},
     "output_type": "display_data"
    },
    {
     "data": {
      "application/vnd.jupyter.widget-view+json": {
       "model_id": "39a1e7ff081e42a39e72485be1a59148",
       "version_major": 2,
       "version_minor": 0
      },
      "text/plain": [
       "Train loop:   0%|          | 0/40000 [00:00<?, ?it/s]"
      ]
     },
     "metadata": {},
     "output_type": "display_data"
    },
    {
     "name": "stdout",
     "output_type": "stream",
     "text": [
      "Train loop: 100%|██████████| 40000/40000 [01:18<00:00, 512.18it/s, MulticlassAccuracy=0.399, avg_loss=2]\n"
     ]
    },
    {
     "data": {
      "application/vnd.jupyter.widget-view+json": {
       "model_id": "552da1de1ad0434d97e333a4b0ef6aae",
       "version_major": 2,
       "version_minor": 0
      },
      "text/plain": [
       "Test epoch:   0%|          | 0/5000 [00:00<?, ?it/s]"
      ]
     },
     "metadata": {},
     "output_type": "display_data"
    },
    {
     "name": "stdout",
     "output_type": "stream",
     "text": [
      "Test epoch: 100%|██████████| 5000/5000 [00:00<00:00, 5014.38it/s, MulticlassAccuracy=0.201, avg_loss=1.92]\n"
     ]
    },
    {
     "data": {
      "application/vnd.jupyter.widget-view+json": {
       "model_id": "77f3224bfd404681abca4a41c250ce9b",
       "version_major": 2,
       "version_minor": 0
      },
      "text/plain": [
       "Train loop:   0%|          | 0/40000 [00:00<?, ?it/s]"
      ]
     },
     "metadata": {},
     "output_type": "display_data"
    },
    {
     "name": "stdout",
     "output_type": "stream",
     "text": [
      "Train loop: 100%|██████████| 40000/40000 [01:18<00:00, 509.41it/s, MulticlassAccuracy=0.552, avg_loss=1.68]\n"
     ]
    },
    {
     "data": {
      "application/vnd.jupyter.widget-view+json": {
       "model_id": "b5b4014e8b2c455dab51f933a5f24344",
       "version_major": 2,
       "version_minor": 0
      },
      "text/plain": [
       "Test epoch:   0%|          | 0/5000 [00:00<?, ?it/s]"
      ]
     },
     "metadata": {},
     "output_type": "display_data"
    },
    {
     "name": "stdout",
     "output_type": "stream",
     "text": [
      "Test epoch: 100%|██████████| 5000/5000 [00:01<00:00, 4991.76it/s, MulticlassAccuracy=0.368, avg_loss=1.68]\n"
     ]
    },
    {
     "data": {
      "application/vnd.jupyter.widget-view+json": {
       "model_id": "d5081d1712cd43308936dcf1f9e952e6",
       "version_major": 2,
       "version_minor": 0
      },
      "text/plain": [
       "Train loop:   0%|          | 0/40000 [00:00<?, ?it/s]"
      ]
     },
     "metadata": {},
     "output_type": "display_data"
    },
    {
     "name": "stdout",
     "output_type": "stream",
     "text": [
      "Train loop: 100%|██████████| 40000/40000 [01:18<00:00, 510.21it/s, MulticlassAccuracy=0.544, avg_loss=1.52]\n"
     ]
    },
    {
     "data": {
      "application/vnd.jupyter.widget-view+json": {
       "model_id": "2b67dd07c6944587bbc3efde02e36280",
       "version_major": 2,
       "version_minor": 0
      },
      "text/plain": [
       "Test epoch:   0%|          | 0/5000 [00:00<?, ?it/s]"
      ]
     },
     "metadata": {},
     "output_type": "display_data"
    },
    {
     "name": "stdout",
     "output_type": "stream",
     "text": [
      "Test epoch: 100%|██████████| 5000/5000 [00:01<00:00, 4975.55it/s, MulticlassAccuracy=0.444, avg_loss=1.6]\n"
     ]
    },
    {
     "data": {
      "application/vnd.jupyter.widget-view+json": {
       "model_id": "479b09ccb6ac48b2a271cf9985ebc557",
       "version_major": 2,
       "version_minor": 0
      },
      "text/plain": [
       "Train loop:   0%|          | 0/40000 [00:00<?, ?it/s]"
      ]
     },
     "metadata": {},
     "output_type": "display_data"
    },
    {
     "name": "stdout",
     "output_type": "stream",
     "text": [
      "Train loop: 100%|██████████| 40000/40000 [01:16<00:00, 520.12it/s, MulticlassAccuracy=0.568, avg_loss=1.4]\n"
     ]
    },
    {
     "data": {
      "application/vnd.jupyter.widget-view+json": {
       "model_id": "a5bc2806e7bd4669b5e15adf5f6c3c6e",
       "version_major": 2,
       "version_minor": 0
      },
      "text/plain": [
       "Test epoch:   0%|          | 0/5000 [00:00<?, ?it/s]"
      ]
     },
     "metadata": {},
     "output_type": "display_data"
    },
    {
     "name": "stdout",
     "output_type": "stream",
     "text": [
      "Test epoch: 100%|██████████| 5000/5000 [00:00<00:00, 5172.86it/s, MulticlassAccuracy=0.42, avg_loss=1.59]\n"
     ]
    },
    {
     "data": {
      "application/vnd.jupyter.widget-view+json": {
       "model_id": "a5f7f9b28c3e40a2a370c021bec019cb",
       "version_major": 2,
       "version_minor": 0
      },
      "text/plain": [
       "Train loop:   0%|          | 0/40000 [00:00<?, ?it/s]"
      ]
     },
     "metadata": {},
     "output_type": "display_data"
    },
    {
     "name": "stdout",
     "output_type": "stream",
     "text": [
      "Train loop: 100%|██████████| 40000/40000 [01:15<00:00, 532.66it/s, MulticlassAccuracy=0.59, avg_loss=1.29]\n"
     ]
    },
    {
     "data": {
      "application/vnd.jupyter.widget-view+json": {
       "model_id": "c1bf4ec7e65d408faf20bf775ee9255b",
       "version_major": 2,
       "version_minor": 0
      },
      "text/plain": [
       "Test epoch:   0%|          | 0/5000 [00:00<?, ?it/s]"
      ]
     },
     "metadata": {},
     "output_type": "display_data"
    },
    {
     "name": "stdout",
     "output_type": "stream",
     "text": [
      "Test epoch: 100%|██████████| 5000/5000 [00:00<00:00, 5336.20it/s, MulticlassAccuracy=0.412, avg_loss=1.69]\n"
     ]
    },
    {
     "data": {
      "application/vnd.jupyter.widget-view+json": {
       "model_id": "cb230d73acb440ec8f9dbe8bb80553cd",
       "version_major": 2,
       "version_minor": 0
      },
      "text/plain": [
       "Train loop:   0%|          | 0/40000 [00:00<?, ?it/s]"
      ]
     },
     "metadata": {},
     "output_type": "display_data"
    },
    {
     "name": "stdout",
     "output_type": "stream",
     "text": [
      "Train loop: 100%|██████████| 40000/40000 [01:13<00:00, 547.21it/s, MulticlassAccuracy=0.614, avg_loss=1.21]\n"
     ]
    },
    {
     "data": {
      "application/vnd.jupyter.widget-view+json": {
       "model_id": "a10109181ee1482297a452e4699ce895",
       "version_major": 2,
       "version_minor": 0
      },
      "text/plain": [
       "Test epoch:   0%|          | 0/5000 [00:00<?, ?it/s]"
      ]
     },
     "metadata": {},
     "output_type": "display_data"
    },
    {
     "name": "stdout",
     "output_type": "stream",
     "text": [
      "Test epoch: 100%|██████████| 5000/5000 [00:00<00:00, 5325.34it/s, MulticlassAccuracy=0.416, avg_loss=1.82]\n"
     ]
    },
    {
     "data": {
      "text/plain": [
       "<torch.utils.data.dataset.TensorDataset at 0x7fe9bbeab9d0>"
      ]
     },
     "execution_count": 46,
     "metadata": {},
     "output_type": "execute_result"
    }
   ],
   "source": [
    "opt = make_optimizer(net, opt_name='sgd', lr=lr, weight_decay=0.0)\n",
    "train_loop_with_poisons(\n",
    "    net, train_loader, val_loader,\n",
    "    criterion, opt,\n",
    "    epochs,\n",
    "    inverter, alpha_poison=0.05,\n",
    ")"
   ]
  },
  {
   "cell_type": "markdown",
   "metadata": {},
   "source": [
    "#### Using Adam optimizer for training"
   ]
  },
  {
   "cell_type": "code",
   "execution_count": null,
   "metadata": {},
   "outputs": [],
   "source": [
    "net = ResNet18(num_classes=num_classes).to(device)"
   ]
  },
  {
   "cell_type": "code",
   "execution_count": null,
   "metadata": {},
   "outputs": [
    {
     "data": {
      "application/vnd.jupyter.widget-view+json": {
       "model_id": "c2c0a90396f74e56a371a8948257b2cc",
       "version_major": 2,
       "version_minor": 0
      },
      "text/plain": [
       "Train epochs:   0%|          | 0/6 [00:00<?, ?epoch/s]"
      ]
     },
     "metadata": {},
     "output_type": "display_data"
    },
    {
     "data": {
      "application/vnd.jupyter.widget-view+json": {
       "model_id": "8a0957f731904d77b51d69984a6cf89a",
       "version_major": 2,
       "version_minor": 0
      },
      "text/plain": [
       "Train loop:   0%|          | 0/40000 [00:00<?, ?it/s]"
      ]
     },
     "metadata": {},
     "output_type": "display_data"
    },
    {
     "name": "stdout",
     "output_type": "stream",
     "text": [
      "Train loop: 100%|██████████| 40000/40000 [01:15<00:00, 532.19it/s, MulticlassAccuracy=0.607, avg_loss=1.46]\n"
     ]
    },
    {
     "data": {
      "application/vnd.jupyter.widget-view+json": {
       "model_id": "f2d44254818e453088008e2a4226492d",
       "version_major": 2,
       "version_minor": 0
      },
      "text/plain": [
       "Test epoch:   0%|          | 0/5000 [00:00<?, ?it/s]"
      ]
     },
     "metadata": {},
     "output_type": "display_data"
    },
    {
     "name": "stdout",
     "output_type": "stream",
     "text": [
      "Test epoch: 100%|██████████| 5000/5000 [00:00<00:00, 5310.95it/s, MulticlassAccuracy=0.421, avg_loss=1.75]\n"
     ]
    },
    {
     "data": {
      "application/vnd.jupyter.widget-view+json": {
       "model_id": "a02edf0b600f4365815418f91fafab1a",
       "version_major": 2,
       "version_minor": 0
      },
      "text/plain": [
       "Train loop:   0%|          | 0/40000 [00:00<?, ?it/s]"
      ]
     },
     "metadata": {},
     "output_type": "display_data"
    },
    {
     "name": "stdout",
     "output_type": "stream",
     "text": [
      "Train loop: 100%|██████████| 40000/40000 [01:14<00:00, 535.70it/s, MulticlassAccuracy=0.701, avg_loss=1.05]\n"
     ]
    },
    {
     "data": {
      "application/vnd.jupyter.widget-view+json": {
       "model_id": "0b033085c00f48c3a758dbbe2b7cde1d",
       "version_major": 2,
       "version_minor": 0
      },
      "text/plain": [
       "Test epoch:   0%|          | 0/5000 [00:00<?, ?it/s]"
      ]
     },
     "metadata": {},
     "output_type": "display_data"
    },
    {
     "name": "stdout",
     "output_type": "stream",
     "text": [
      "Test epoch: 100%|██████████| 5000/5000 [00:00<00:00, 5282.01it/s, MulticlassAccuracy=0.394, avg_loss=2.04]\n"
     ]
    },
    {
     "data": {
      "application/vnd.jupyter.widget-view+json": {
       "model_id": "dcf07d801b574ce594f1b82b7ff56086",
       "version_major": 2,
       "version_minor": 0
      },
      "text/plain": [
       "Train loop:   0%|          | 0/40000 [00:00<?, ?it/s]"
      ]
     },
     "metadata": {},
     "output_type": "display_data"
    },
    {
     "name": "stdout",
     "output_type": "stream",
     "text": [
      "Train loop: 100%|██████████| 40000/40000 [01:14<00:00, 534.71it/s, MulticlassAccuracy=0.765, avg_loss=0.867]\n"
     ]
    },
    {
     "data": {
      "application/vnd.jupyter.widget-view+json": {
       "model_id": "522cfc8d74224c26bdbd82436a52b4f6",
       "version_major": 2,
       "version_minor": 0
      },
      "text/plain": [
       "Test epoch:   0%|          | 0/5000 [00:00<?, ?it/s]"
      ]
     },
     "metadata": {},
     "output_type": "display_data"
    },
    {
     "name": "stdout",
     "output_type": "stream",
     "text": [
      "Test epoch: 100%|██████████| 5000/5000 [00:00<00:00, 5339.89it/s, MulticlassAccuracy=0.618, avg_loss=1.22]\n"
     ]
    },
    {
     "data": {
      "application/vnd.jupyter.widget-view+json": {
       "model_id": "ebac89258170436187ad93b52ee5243a",
       "version_major": 2,
       "version_minor": 0
      },
      "text/plain": [
       "Train loop:   0%|          | 0/40000 [00:00<?, ?it/s]"
      ]
     },
     "metadata": {},
     "output_type": "display_data"
    },
    {
     "name": "stdout",
     "output_type": "stream",
     "text": [
      "Train loop: 100%|██████████| 40000/40000 [01:15<00:00, 531.76it/s, MulticlassAccuracy=0.785, avg_loss=0.735]\n"
     ]
    },
    {
     "data": {
      "application/vnd.jupyter.widget-view+json": {
       "model_id": "4dbef65a7a944a1fbcfc73f6d12a7bf2",
       "version_major": 2,
       "version_minor": 0
      },
      "text/plain": [
       "Test epoch:   0%|          | 0/5000 [00:00<?, ?it/s]"
      ]
     },
     "metadata": {},
     "output_type": "display_data"
    },
    {
     "name": "stdout",
     "output_type": "stream",
     "text": [
      "Test epoch: 100%|██████████| 5000/5000 [00:00<00:00, 5106.01it/s, MulticlassAccuracy=0.575, avg_loss=1.8]\n"
     ]
    },
    {
     "data": {
      "application/vnd.jupyter.widget-view+json": {
       "model_id": "816b61d72ed0462889cceb59cf44b1f6",
       "version_major": 2,
       "version_minor": 0
      },
      "text/plain": [
       "Train loop:   0%|          | 0/40000 [00:00<?, ?it/s]"
      ]
     },
     "metadata": {},
     "output_type": "display_data"
    },
    {
     "name": "stdout",
     "output_type": "stream",
     "text": [
      "Train loop: 100%|██████████| 40000/40000 [01:18<00:00, 508.98it/s, MulticlassAccuracy=0.829, avg_loss=0.643]\n"
     ]
    },
    {
     "data": {
      "application/vnd.jupyter.widget-view+json": {
       "model_id": "2736611aebbb4be8a668c08831900060",
       "version_major": 2,
       "version_minor": 0
      },
      "text/plain": [
       "Test epoch:   0%|          | 0/5000 [00:00<?, ?it/s]"
      ]
     },
     "metadata": {},
     "output_type": "display_data"
    },
    {
     "name": "stdout",
     "output_type": "stream",
     "text": [
      "Test epoch: 100%|██████████| 5000/5000 [00:01<00:00, 4952.21it/s, MulticlassAccuracy=0.634, avg_loss=1.31]\n"
     ]
    },
    {
     "data": {
      "application/vnd.jupyter.widget-view+json": {
       "model_id": "094837499d4749d69be3a6f671a6c018",
       "version_major": 2,
       "version_minor": 0
      },
      "text/plain": [
       "Train loop:   0%|          | 0/40000 [00:00<?, ?it/s]"
      ]
     },
     "metadata": {},
     "output_type": "display_data"
    },
    {
     "name": "stdout",
     "output_type": "stream",
     "text": [
      "Train loop: 100%|██████████| 40000/40000 [01:17<00:00, 513.34it/s, MulticlassAccuracy=0.817, avg_loss=0.563]\n"
     ]
    },
    {
     "data": {
      "application/vnd.jupyter.widget-view+json": {
       "model_id": "14ec1e7e0d7b4e378d2eeb8ef0c1930b",
       "version_major": 2,
       "version_minor": 0
      },
      "text/plain": [
       "Test epoch:   0%|          | 0/5000 [00:00<?, ?it/s]"
      ]
     },
     "metadata": {},
     "output_type": "display_data"
    },
    {
     "name": "stdout",
     "output_type": "stream",
     "text": [
      "Test epoch: 100%|██████████| 5000/5000 [00:00<00:00, 5320.90it/s, MulticlassAccuracy=0.596, avg_loss=1.46]\n"
     ]
    }
   ],
   "source": [
    "# Adam regularizes the parameters so it is more robust to gradient attacks\n",
    "opt = make_optimizer(net, opt_name='adam', lr=lr)\n",
    "train_loop_with_poisons(\n",
    "    net, train_loader, val_loader,\n",
    "    criterion, opt,\n",
    "    epochs,\n",
    "    inverter, alpha_poison=0.2,\n",
    ");"
   ]
  },
  {
   "cell_type": "markdown",
   "metadata": {},
   "source": [
    "Interestingly, test accuracy jumps from 40 % to 60 % in one epoch. Explanation?"
   ]
  },
  {
   "cell_type": "markdown",
   "metadata": {},
   "source": [
    "## Machine unlearning"
   ]
  },
  {
   "cell_type": "code",
   "execution_count": null,
   "metadata": {},
   "outputs": [],
   "source": [
    "from image_classification.unlearning import gradient_descent, neg_grad_plus, unlearning_last_layers"
   ]
  },
  {
   "cell_type": "code",
   "execution_count": null,
   "metadata": {},
   "outputs": [
    {
     "data": {
      "application/vnd.jupyter.widget-view+json": {
       "model_id": "cf3ec101e71a4b1ca67b843b38192044",
       "version_major": 2,
       "version_minor": 0
      },
      "text/plain": [
       "Train epochs:   0%|          | 0/6 [00:00<?, ?epoch/s]"
      ]
     },
     "metadata": {},
     "output_type": "display_data"
    },
    {
     "data": {
      "application/vnd.jupyter.widget-view+json": {
       "model_id": "9d132399a91e4f7abbde0e609000d724",
       "version_major": 2,
       "version_minor": 0
      },
      "text/plain": [
       "Train loop:   0%|          | 0/40000 [00:00<?, ?it/s]"
      ]
     },
     "metadata": {},
     "output_type": "display_data"
    },
    {
     "name": "stdout",
     "output_type": "stream",
     "text": [
      "Train loop: 100%|██████████| 40000/40000 [01:15<00:00, 529.90it/s, MulticlassAccuracy=0.377, avg_loss=2.06]\n"
     ]
    },
    {
     "data": {
      "application/vnd.jupyter.widget-view+json": {
       "model_id": "dcc6a4266fda42649d43a6376d0f85e2",
       "version_major": 2,
       "version_minor": 0
      },
      "text/plain": [
       "Test epoch:   0%|          | 0/5000 [00:00<?, ?it/s]"
      ]
     },
     "metadata": {},
     "output_type": "display_data"
    },
    {
     "name": "stdout",
     "output_type": "stream",
     "text": [
      "Test epoch: 100%|██████████| 5000/5000 [00:01<00:00, 4771.40it/s, MulticlassAccuracy=0.254, avg_loss=1.85]\n"
     ]
    },
    {
     "data": {
      "application/vnd.jupyter.widget-view+json": {
       "model_id": "6f0fbe5d4df545c9b50dba9a87c8984e",
       "version_major": 2,
       "version_minor": 0
      },
      "text/plain": [
       "Train loop:   0%|          | 0/40000 [00:00<?, ?it/s]"
      ]
     },
     "metadata": {},
     "output_type": "display_data"
    },
    {
     "name": "stdout",
     "output_type": "stream",
     "text": [
      "Train loop: 100%|██████████| 40000/40000 [01:18<00:00, 507.32it/s, MulticlassAccuracy=0.499, avg_loss=1.67]\n"
     ]
    },
    {
     "data": {
      "application/vnd.jupyter.widget-view+json": {
       "model_id": "e6937f49af1a45d1978914da73154549",
       "version_major": 2,
       "version_minor": 0
      },
      "text/plain": [
       "Test epoch:   0%|          | 0/5000 [00:00<?, ?it/s]"
      ]
     },
     "metadata": {},
     "output_type": "display_data"
    },
    {
     "name": "stdout",
     "output_type": "stream",
     "text": [
      "Test epoch: 100%|██████████| 5000/5000 [00:00<00:00, 5069.43it/s, MulticlassAccuracy=0.382, avg_loss=1.89]\n"
     ]
    },
    {
     "data": {
      "application/vnd.jupyter.widget-view+json": {
       "model_id": "66c00416f903442f8d128d2155d202d5",
       "version_major": 2,
       "version_minor": 0
      },
      "text/plain": [
       "Train loop:   0%|          | 0/40000 [00:00<?, ?it/s]"
      ]
     },
     "metadata": {},
     "output_type": "display_data"
    },
    {
     "name": "stdout",
     "output_type": "stream",
     "text": [
      "Train loop: 100%|██████████| 40000/40000 [01:15<00:00, 531.48it/s, MulticlassAccuracy=0.506, avg_loss=1.52]\n"
     ]
    },
    {
     "data": {
      "application/vnd.jupyter.widget-view+json": {
       "model_id": "5b895bee1bb1447bb01ce9ffeb85453a",
       "version_major": 2,
       "version_minor": 0
      },
      "text/plain": [
       "Test epoch:   0%|          | 0/5000 [00:00<?, ?it/s]"
      ]
     },
     "metadata": {},
     "output_type": "display_data"
    },
    {
     "name": "stdout",
     "output_type": "stream",
     "text": [
      "Test epoch: 100%|██████████| 5000/5000 [00:00<00:00, 5252.39it/s, MulticlassAccuracy=0.373, avg_loss=1.91]\n"
     ]
    },
    {
     "data": {
      "application/vnd.jupyter.widget-view+json": {
       "model_id": "0eeddc1656c64b3fbe084ae799a2234a",
       "version_major": 2,
       "version_minor": 0
      },
      "text/plain": [
       "Train loop:   0%|          | 0/40000 [00:00<?, ?it/s]"
      ]
     },
     "metadata": {},
     "output_type": "display_data"
    },
    {
     "name": "stdout",
     "output_type": "stream",
     "text": [
      "Train loop: 100%|██████████| 40000/40000 [01:16<00:00, 520.72it/s, MulticlassAccuracy=0.486, avg_loss=1.41]\n"
     ]
    },
    {
     "data": {
      "application/vnd.jupyter.widget-view+json": {
       "model_id": "c063d9b795f14e31b03164c7c5b99b46",
       "version_major": 2,
       "version_minor": 0
      },
      "text/plain": [
       "Test epoch:   0%|          | 0/5000 [00:00<?, ?it/s]"
      ]
     },
     "metadata": {},
     "output_type": "display_data"
    },
    {
     "name": "stdout",
     "output_type": "stream",
     "text": [
      "Test epoch: 100%|██████████| 5000/5000 [00:00<00:00, 5273.19it/s, MulticlassAccuracy=0.416, avg_loss=1.69]\n"
     ]
    },
    {
     "data": {
      "application/vnd.jupyter.widget-view+json": {
       "model_id": "2b83c0dd9b9e4630917e0bcf39efad3a",
       "version_major": 2,
       "version_minor": 0
      },
      "text/plain": [
       "Train loop:   0%|          | 0/40000 [00:00<?, ?it/s]"
      ]
     },
     "metadata": {},
     "output_type": "display_data"
    },
    {
     "name": "stdout",
     "output_type": "stream",
     "text": [
      "Train loop: 100%|██████████| 40000/40000 [01:15<00:00, 530.96it/s, MulticlassAccuracy=0.548, avg_loss=1.31]\n"
     ]
    },
    {
     "data": {
      "application/vnd.jupyter.widget-view+json": {
       "model_id": "22fb98f43c074ae39df479c867fd56c5",
       "version_major": 2,
       "version_minor": 0
      },
      "text/plain": [
       "Test epoch:   0%|          | 0/5000 [00:00<?, ?it/s]"
      ]
     },
     "metadata": {},
     "output_type": "display_data"
    },
    {
     "name": "stdout",
     "output_type": "stream",
     "text": [
      "Test epoch: 100%|██████████| 5000/5000 [00:00<00:00, 5089.66it/s, MulticlassAccuracy=0.437, avg_loss=1.65]\n"
     ]
    },
    {
     "data": {
      "application/vnd.jupyter.widget-view+json": {
       "model_id": "6e0ed602fcc141b8a775571e59049f4a",
       "version_major": 2,
       "version_minor": 0
      },
      "text/plain": [
       "Train loop:   0%|          | 0/40000 [00:00<?, ?it/s]"
      ]
     },
     "metadata": {},
     "output_type": "display_data"
    },
    {
     "name": "stdout",
     "output_type": "stream",
     "text": [
      "Train loop: 100%|██████████| 40000/40000 [01:16<00:00, 526.14it/s, MulticlassAccuracy=0.585, avg_loss=1.23]\n"
     ]
    },
    {
     "data": {
      "application/vnd.jupyter.widget-view+json": {
       "model_id": "180d92758e9441fabe50bd04fb037cac",
       "version_major": 2,
       "version_minor": 0
      },
      "text/plain": [
       "Test epoch:   0%|          | 0/5000 [00:00<?, ?it/s]"
      ]
     },
     "metadata": {},
     "output_type": "display_data"
    },
    {
     "name": "stdout",
     "output_type": "stream",
     "text": [
      "Test epoch: 100%|██████████| 5000/5000 [00:00<00:00, 5197.57it/s, MulticlassAccuracy=0.388, avg_loss=1.73]\n"
     ]
    }
   ],
   "source": [
    "net = ResNet18(num_classes=num_classes).to(device)\n",
    "opt = make_optimizer(net, opt_name='sgd', lr=lr)\n",
    "forget_set = train_loop_with_poisons(\n",
    "    net, train_loader, val_loader,\n",
    "    criterion, opt,\n",
    "    epochs,\n",
    "    inverter, alpha_poison=0.2,\n",
    ")\n",
    "forget_loader = DataLoader(forget_set, batch_size)"
   ]
  },
  {
   "cell_type": "code",
   "execution_count": null,
   "metadata": {},
   "outputs": [],
   "source": [
    "from enum import Enum\n",
    "\n",
    "class Unlearning(Enum):\n",
    "    GRADIENT_DESCENT = 0\n",
    "    GRADIENT_ASCENT = 1\n",
    "    NOISY_GRADIENT_DESCENT = 2\n",
    "    NEG_GRAD_PLUS = 3\n",
    "    CFK = 4\n",
    "    EUK = 5\n",
    "    SCRUB = 6"
   ]
  },
  {
   "cell_type": "code",
   "execution_count": null,
   "metadata": {},
   "outputs": [],
   "source": [
    "def unlearn(\n",
    "        net: nn.Module,\n",
    "        train_loader: DataLoader,\n",
    "        forget_loader: DataLoader,\n",
    "        criterion: _Loss,\n",
    "        method: Unlearning,\n",
    "    ):\n",
    "    unlearner = deepcopy(net)\n",
    "    \n",
    "    match method:\n",
    "        case Unlearning.GRADIENT_DESCENT:\n",
    "            opt = make_optimizer(unlearner, opt_name='sgd', lr=lr)\n",
    "            gradient_descent(\n",
    "                unlearner, train_loader, val_loader,\n",
    "                criterion, opt, epochs=1, keep_pbars=False\n",
    "            )\n",
    "        \n",
    "        case Unlearning.NEG_GRAD_PLUS:\n",
    "            opt = make_optimizer(unlearner, opt_name='sgd', lr=lr)\n",
    "            for epoch in trange(10, desc='NegGrad+ epochs', unit='epoch', leave=True):\n",
    "                neg_grad_plus(\n",
    "                    unlearner, train_loader, forget_loader,\n",
    "                    criterion, opt, keep_pbars=False\n",
    "                )\n",
    "    \n",
    "        case Unlearning.EUK:\n",
    "            opt = make_optimizer(unlearner, opt_name='adam', lr=lr)\n",
    "            with unlearning_last_layers(unlearner, 6, 'euk'):\n",
    "                train_loop(unlearner, train_loader, criterion, opt, epochs=1)\n",
    "    \n",
    "    return unlearner"
   ]
  },
  {
   "cell_type": "markdown",
   "metadata": {},
   "source": [
    "#### No poisoning"
   ]
  },
  {
   "cell_type": "markdown",
   "metadata": {},
   "source": [
    "TODO: quantify effect of poisoning in terms of loss recovery effort (epochs). Can the model ever recover from poisoning with enough steps?"
   ]
  },
  {
   "cell_type": "code",
   "execution_count": null,
   "metadata": {},
   "outputs": [
    {
     "data": {
      "application/vnd.jupyter.widget-view+json": {
       "model_id": "4ba60f62a3bc4697a986287cae17435c",
       "version_major": 2,
       "version_minor": 0
      },
      "text/plain": [
       "Train epochs:   0%|          | 0/6 [00:00<?, ?epoch/s]"
      ]
     },
     "metadata": {},
     "output_type": "display_data"
    },
    {
     "data": {
      "application/vnd.jupyter.widget-view+json": {
       "model_id": "207f89d93e87444fa3893847b08b2160",
       "version_major": 2,
       "version_minor": 0
      },
      "text/plain": [
       "Train loop:   0%|          | 0/40000 [00:00<?, ?it/s]"
      ]
     },
     "metadata": {},
     "output_type": "display_data"
    },
    {
     "name": "stdout",
     "output_type": "stream",
     "text": [
      "Train loop: 100%|██████████| 40000/40000 [00:23<00:00, 1712.54it/s, MulticlassAccuracy=0.434, avg_loss=1.99]\n"
     ]
    },
    {
     "data": {
      "application/vnd.jupyter.widget-view+json": {
       "model_id": "a89c1e9425cc47a0a1b61d46dc5bd960",
       "version_major": 2,
       "version_minor": 0
      },
      "text/plain": [
       "Test epoch:   0%|          | 0/5000 [00:00<?, ?it/s]"
      ]
     },
     "metadata": {},
     "output_type": "display_data"
    },
    {
     "name": "stdout",
     "output_type": "stream",
     "text": [
      "Test epoch: 100%|██████████| 5000/5000 [00:00<00:00, 5091.09it/s, MulticlassAccuracy=0.253, avg_loss=1.76]\n"
     ]
    },
    {
     "data": {
      "application/vnd.jupyter.widget-view+json": {
       "model_id": "d7c1f0233fc347129d8ab0c2300f17d8",
       "version_major": 2,
       "version_minor": 0
      },
      "text/plain": [
       "Train loop:   0%|          | 0/40000 [00:00<?, ?it/s]"
      ]
     },
     "metadata": {},
     "output_type": "display_data"
    },
    {
     "name": "stdout",
     "output_type": "stream",
     "text": [
      "Train loop: 100%|██████████| 40000/40000 [00:23<00:00, 1715.46it/s, MulticlassAccuracy=0.453, avg_loss=1.65]\n"
     ]
    },
    {
     "data": {
      "application/vnd.jupyter.widget-view+json": {
       "model_id": "fb64be31e15947e08d051a018ad21822",
       "version_major": 2,
       "version_minor": 0
      },
      "text/plain": [
       "Train loop:   0%|          | 0/40000 [00:00<?, ?it/s]"
      ]
     },
     "metadata": {},
     "output_type": "display_data"
    },
    {
     "name": "stdout",
     "output_type": "stream",
     "text": [
      "Train loop: 100%|██████████| 40000/40000 [00:23<00:00, 1716.33it/s, MulticlassAccuracy=0.507, avg_loss=1.48]\n"
     ]
    },
    {
     "data": {
      "application/vnd.jupyter.widget-view+json": {
       "model_id": "e83c776985834565a9d19ab89b93a236",
       "version_major": 2,
       "version_minor": 0
      },
      "text/plain": [
       "Test epoch:   0%|          | 0/5000 [00:00<?, ?it/s]"
      ]
     },
     "metadata": {},
     "output_type": "display_data"
    },
    {
     "name": "stdout",
     "output_type": "stream",
     "text": [
      "Test epoch: 100%|██████████| 5000/5000 [00:00<00:00, 5104.54it/s, MulticlassAccuracy=0.411, avg_loss=1.46]\n"
     ]
    },
    {
     "data": {
      "application/vnd.jupyter.widget-view+json": {
       "model_id": "bc0d02f610504df0ab38990f05d151af",
       "version_major": 2,
       "version_minor": 0
      },
      "text/plain": [
       "Train loop:   0%|          | 0/40000 [00:00<?, ?it/s]"
      ]
     },
     "metadata": {},
     "output_type": "display_data"
    },
    {
     "name": "stdout",
     "output_type": "stream",
     "text": [
      "Train loop: 100%|██████████| 40000/40000 [00:23<00:00, 1711.54it/s, MulticlassAccuracy=0.543, avg_loss=1.36]\n"
     ]
    },
    {
     "data": {
      "application/vnd.jupyter.widget-view+json": {
       "model_id": "9c73f227de194daf9d288d85f2538886",
       "version_major": 2,
       "version_minor": 0
      },
      "text/plain": [
       "Train loop:   0%|          | 0/40000 [00:00<?, ?it/s]"
      ]
     },
     "metadata": {},
     "output_type": "display_data"
    },
    {
     "name": "stdout",
     "output_type": "stream",
     "text": [
      "Train loop: 100%|██████████| 40000/40000 [00:23<00:00, 1714.42it/s, MulticlassAccuracy=0.591, avg_loss=1.27]\n"
     ]
    },
    {
     "data": {
      "application/vnd.jupyter.widget-view+json": {
       "model_id": "2ec4aaa4f9554a63bd8d2dd1deaef23e",
       "version_major": 2,
       "version_minor": 0
      },
      "text/plain": [
       "Test epoch:   0%|          | 0/5000 [00:00<?, ?it/s]"
      ]
     },
     "metadata": {},
     "output_type": "display_data"
    },
    {
     "name": "stdout",
     "output_type": "stream",
     "text": [
      "Test epoch: 100%|██████████| 5000/5000 [00:00<00:00, 5159.33it/s, MulticlassAccuracy=0.47, avg_loss=1.31]\n"
     ]
    },
    {
     "data": {
      "application/vnd.jupyter.widget-view+json": {
       "model_id": "170fc674722b4ed8a7e38f8269f57d1a",
       "version_major": 2,
       "version_minor": 0
      },
      "text/plain": [
       "Train loop:   0%|          | 0/40000 [00:00<?, ?it/s]"
      ]
     },
     "metadata": {},
     "output_type": "display_data"
    },
    {
     "name": "stdout",
     "output_type": "stream",
     "text": [
      "Train loop: 100%|██████████| 40000/40000 [00:23<00:00, 1710.72it/s, MulticlassAccuracy=0.603, avg_loss=1.19]\n"
     ]
    },
    {
     "data": {
      "application/vnd.jupyter.widget-view+json": {
       "model_id": "02640d701eed4050bd38c1fc3386df92",
       "version_major": 2,
       "version_minor": 0
      },
      "text/plain": [
       "Test epoch:   0%|          | 0/5000 [00:00<?, ?it/s]"
      ]
     },
     "metadata": {},
     "output_type": "display_data"
    },
    {
     "name": "stdout",
     "output_type": "stream",
     "text": [
      "Test epoch: 100%|██████████| 5000/5000 [00:00<00:00, 5092.82it/s, MulticlassAccuracy=0.505, avg_loss=1.27]\n"
     ]
    }
   ],
   "source": [
    "clean_net = ResNet18(num_classes=num_classes).to(device)\n",
    "opt = make_optimizer(clean_net, opt_name='sgd', lr=lr)\n",
    "train_val_loop(\n",
    "    clean_net, train_loader, val_loader,\n",
    "    criterion, opt,\n",
    "    epochs=epochs,\n",
    "    metric=metric,\n",
    ");\n",
    "test_epoch(clean_net, val_loader, criterion, keep_pbars=True, metric=metric);"
   ]
  },
  {
   "cell_type": "markdown",
   "metadata": {},
   "source": [
    "#### No unlearning"
   ]
  },
  {
   "cell_type": "code",
   "execution_count": null,
   "metadata": {},
   "outputs": [
    {
     "data": {
      "application/vnd.jupyter.widget-view+json": {
       "model_id": "cdbb54ca7f5e4403b7f8d72580d85c9a",
       "version_major": 2,
       "version_minor": 0
      },
      "text/plain": [
       "Test epoch:   0%|          | 0/5000 [00:00<?, ?it/s]"
      ]
     },
     "metadata": {},
     "output_type": "display_data"
    },
    {
     "name": "stdout",
     "output_type": "stream",
     "text": [
      "Test epoch: 100%|██████████| 5000/5000 [00:00<00:00, 5070.77it/s, MulticlassAccuracy=0.388, avg_loss=1.73]\n"
     ]
    }
   ],
   "source": [
    "test_epoch(net, val_loader, criterion, keep_pbars=True, metric=metric);"
   ]
  },
  {
   "cell_type": "markdown",
   "metadata": {},
   "source": [
    "#### Gradient descent"
   ]
  },
  {
   "cell_type": "code",
   "execution_count": null,
   "metadata": {},
   "outputs": [
    {
     "data": {
      "application/vnd.jupyter.widget-view+json": {
       "model_id": "f560096e74ed4811b9408a61471cbf6d",
       "version_major": 2,
       "version_minor": 0
      },
      "text/plain": [
       "Train epochs:   0%|          | 0/1 [00:00<?, ?epoch/s]"
      ]
     },
     "metadata": {},
     "output_type": "display_data"
    },
    {
     "data": {
      "application/vnd.jupyter.widget-view+json": {
       "model_id": "24d3ea7bc8ef44e7a9b5f22d8b68b4b2",
       "version_major": 2,
       "version_minor": 0
      },
      "text/plain": [
       "Train loop:   0%|          | 0/40000 [00:00<?, ?it/s]"
      ]
     },
     "metadata": {},
     "output_type": "display_data"
    },
    {
     "data": {
      "application/vnd.jupyter.widget-view+json": {
       "model_id": "cf87dbf057284cd289b30c68a247af1c",
       "version_major": 2,
       "version_minor": 0
      },
      "text/plain": [
       "Test epoch:   0%|          | 0/5000 [00:00<?, ?it/s]"
      ]
     },
     "metadata": {},
     "output_type": "display_data"
    },
    {
     "data": {
      "application/vnd.jupyter.widget-view+json": {
       "model_id": "3b30c5c8018640c593d1991ba8240651",
       "version_major": 2,
       "version_minor": 0
      },
      "text/plain": [
       "Test epoch:   0%|          | 0/5000 [00:00<?, ?it/s]"
      ]
     },
     "metadata": {},
     "output_type": "display_data"
    },
    {
     "name": "stdout",
     "output_type": "stream",
     "text": [
      "Test epoch: 100%|██████████| 5000/5000 [00:01<00:00, 4798.71it/s, MulticlassAccuracy=0.474, avg_loss=1.25]\n"
     ]
    }
   ],
   "source": [
    "unlearner = unlearn(net, train_loader, forget_loader, criterion, Unlearning.GRADIENT_DESCENT)\n",
    "test_epoch(unlearner, val_loader, criterion, keep_pbars=True, metric=metric);"
   ]
  },
  {
   "cell_type": "markdown",
   "metadata": {},
   "source": [
    "#### NegGrad+"
   ]
  },
  {
   "cell_type": "code",
   "execution_count": null,
   "metadata": {},
   "outputs": [
    {
     "data": {
      "application/vnd.jupyter.widget-view+json": {
       "model_id": "0b6713c9751142f794beb4e8e999ee28",
       "version_major": 2,
       "version_minor": 0
      },
      "text/plain": [
       "NegGrad+ epochs:   0%|          | 0/10 [00:00<?, ?epoch/s]"
      ]
     },
     "metadata": {},
     "output_type": "display_data"
    },
    {
     "data": {
      "application/vnd.jupyter.widget-view+json": {
       "model_id": "464dbb9cfa7e4219af6880ef5b7037bd",
       "version_major": 2,
       "version_minor": 0
      },
      "text/plain": [
       "NegGrad+:   0%|          | 0/2400 [00:00<?, ?it/s]"
      ]
     },
     "metadata": {},
     "output_type": "display_data"
    },
    {
     "data": {
      "application/vnd.jupyter.widget-view+json": {
       "model_id": "113e15b5d82b485682e490eafcff15e4",
       "version_major": 2,
       "version_minor": 0
      },
      "text/plain": [
       "NegGrad+:   0%|          | 0/2400 [00:00<?, ?it/s]"
      ]
     },
     "metadata": {},
     "output_type": "display_data"
    },
    {
     "data": {
      "application/vnd.jupyter.widget-view+json": {
       "model_id": "e945e738ff7e4eca97f9faf2172d1adb",
       "version_major": 2,
       "version_minor": 0
      },
      "text/plain": [
       "NegGrad+:   0%|          | 0/2400 [00:00<?, ?it/s]"
      ]
     },
     "metadata": {},
     "output_type": "display_data"
    },
    {
     "data": {
      "application/vnd.jupyter.widget-view+json": {
       "model_id": "24ba0f2b917142559fd823d873586c49",
       "version_major": 2,
       "version_minor": 0
      },
      "text/plain": [
       "NegGrad+:   0%|          | 0/2400 [00:00<?, ?it/s]"
      ]
     },
     "metadata": {},
     "output_type": "display_data"
    },
    {
     "data": {
      "application/vnd.jupyter.widget-view+json": {
       "model_id": "ded91595335349f6acc9e6e523afebe3",
       "version_major": 2,
       "version_minor": 0
      },
      "text/plain": [
       "NegGrad+:   0%|          | 0/2400 [00:00<?, ?it/s]"
      ]
     },
     "metadata": {},
     "output_type": "display_data"
    },
    {
     "data": {
      "application/vnd.jupyter.widget-view+json": {
       "model_id": "ad6b10e06a68420b82becefb8f05ee40",
       "version_major": 2,
       "version_minor": 0
      },
      "text/plain": [
       "NegGrad+:   0%|          | 0/2400 [00:00<?, ?it/s]"
      ]
     },
     "metadata": {},
     "output_type": "display_data"
    },
    {
     "data": {
      "application/vnd.jupyter.widget-view+json": {
       "model_id": "205187b7a5164eb8a780756b9074d7ec",
       "version_major": 2,
       "version_minor": 0
      },
      "text/plain": [
       "NegGrad+:   0%|          | 0/2400 [00:00<?, ?it/s]"
      ]
     },
     "metadata": {},
     "output_type": "display_data"
    },
    {
     "data": {
      "application/vnd.jupyter.widget-view+json": {
       "model_id": "1a3c654f55a94e4e8c19fab4dbdb524a",
       "version_major": 2,
       "version_minor": 0
      },
      "text/plain": [
       "NegGrad+:   0%|          | 0/2400 [00:00<?, ?it/s]"
      ]
     },
     "metadata": {},
     "output_type": "display_data"
    },
    {
     "data": {
      "application/vnd.jupyter.widget-view+json": {
       "model_id": "4f1546b7df9443d1b609e10193be5a5c",
       "version_major": 2,
       "version_minor": 0
      },
      "text/plain": [
       "NegGrad+:   0%|          | 0/2400 [00:00<?, ?it/s]"
      ]
     },
     "metadata": {},
     "output_type": "display_data"
    },
    {
     "data": {
      "application/vnd.jupyter.widget-view+json": {
       "model_id": "ddecac599e6d4f6e84d869485d17d670",
       "version_major": 2,
       "version_minor": 0
      },
      "text/plain": [
       "NegGrad+:   0%|          | 0/2400 [00:00<?, ?it/s]"
      ]
     },
     "metadata": {},
     "output_type": "display_data"
    },
    {
     "data": {
      "application/vnd.jupyter.widget-view+json": {
       "model_id": "f472fa506ba04d7b85fc36ca4517b5a2",
       "version_major": 2,
       "version_minor": 0
      },
      "text/plain": [
       "Test epoch:   0%|          | 0/5000 [00:00<?, ?it/s]"
      ]
     },
     "metadata": {},
     "output_type": "display_data"
    },
    {
     "name": "stdout",
     "output_type": "stream",
     "text": [
      "Test epoch: 100%|██████████| 5000/5000 [00:01<00:00, 4943.03it/s, MulticlassAccuracy=0.442, avg_loss=1.44]\n"
     ]
    }
   ],
   "source": [
    "unlearner = unlearn(net, train_loader, forget_loader, criterion, Unlearning.NEG_GRAD_PLUS)\n",
    "test_epoch(unlearner, val_loader, criterion, keep_pbars=True, metric=metric);"
   ]
  },
  {
   "cell_type": "markdown",
   "metadata": {},
   "source": [
    "#### EUk ($k = 6$)"
   ]
  },
  {
   "cell_type": "code",
   "execution_count": null,
   "metadata": {},
   "outputs": [
    {
     "data": {
      "application/vnd.jupyter.widget-view+json": {
       "model_id": "94aa3f4073524d539d2e32369bd3fae4",
       "version_major": 2,
       "version_minor": 0
      },
      "text/plain": [
       "Train epochs:   0%|          | 0/1 [00:00<?, ?epoch/s]"
      ]
     },
     "metadata": {},
     "output_type": "display_data"
    },
    {
     "data": {
      "application/vnd.jupyter.widget-view+json": {
       "model_id": "2b7b8a23becb4b5da9b087cce99e7532",
       "version_major": 2,
       "version_minor": 0
      },
      "text/plain": [
       "Train loop:   0%|          | 0/40000 [00:00<?, ?it/s]"
      ]
     },
     "metadata": {},
     "output_type": "display_data"
    },
    {
     "name": "stdout",
     "output_type": "stream",
     "text": [
      "Train loop: 100%|██████████| 40000/40000 [00:09<00:00, 4174.69it/s, avg_loss=1.21]\n"
     ]
    },
    {
     "data": {
      "application/vnd.jupyter.widget-view+json": {
       "model_id": "bb273584703b4c2f8a82b5163a616e9a",
       "version_major": 2,
       "version_minor": 0
      },
      "text/plain": [
       "Test epoch:   0%|          | 0/5000 [00:00<?, ?it/s]"
      ]
     },
     "metadata": {},
     "output_type": "display_data"
    },
    {
     "name": "stdout",
     "output_type": "stream",
     "text": [
      "Test epoch: 100%|██████████| 5000/5000 [00:01<00:00, 4864.93it/s, MulticlassAccuracy=0.453, avg_loss=1.3]\n"
     ]
    }
   ],
   "source": [
    "unlearner = unlearn(net, train_loader, forget_loader, criterion, Unlearning.EUK)\n",
    "test_epoch(unlearner, val_loader, criterion, keep_pbars=True, metric=metric);"
   ]
  },
  {
   "cell_type": "markdown",
   "metadata": {},
   "source": [
    "Although more extensive testing is required, unlearning methods do not fully restore accuracy, at least not with only one epoch. Why is gradient descent enough?"
   ]
  },
  {
   "cell_type": "markdown",
   "metadata": {},
   "source": [
    "### Remaining tasks\n",
    "\n",
    "- Refactoring\n",
    "- Compare with gradient attacks\n",
    "- Compare with results from article\n",
    "- Use `Conv16` model for prototyping\n",
    "- _Little is Enough_ attack (requires efficient gradient stddev estimation)\n",
    "- Mean gradient estimation with auxiliary dataset\n",
    "- Testing against unlearning\n",
    "- Testing with different configs (optimizer, number of epochs, batch size, models)\n",
    "- Quantify results of data poisoning in terms of slowdown (x% -> y% accuracy = z training epochs)\n",
    "- Suggest other Hessian-based attacks"
   ]
  }
 ],
 "metadata": {
  "kernelspec": {
   "display_name": "ml",
   "language": "python",
   "name": "ml"
  },
  "language_info": {
   "codemirror_mode": {
    "name": "ipython",
    "version": 3
   },
   "file_extension": ".py",
   "mimetype": "text/x-python",
   "name": "python",
   "nbconvert_exporter": "python",
   "pygments_lexer": "ipython3",
   "version": "3.13.2"
  }
 },
 "nbformat": 4,
 "nbformat_minor": 2
}
