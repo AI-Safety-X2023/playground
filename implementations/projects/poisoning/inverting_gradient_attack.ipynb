{
 "cells": [
  {
   "cell_type": "markdown",
   "metadata": {},
   "source": [
    "# Inverting gradient attack"
   ]
  },
  {
   "cell_type": "code",
   "execution_count": 1,
   "metadata": {},
   "outputs": [],
   "source": [
    "from __future__ import annotations\n",
    "\n",
    "from copy import deepcopy\n",
    "import numpy as np\n",
    "import matplotlib.pyplot as plt\n",
    "import seaborn as sns\n",
    "from scipy import stats\n",
    "import pandas as pd\n",
    "import torch\n",
    "from torch import nn, Tensor\n",
    "from torch.nn import functional as F\n",
    "from torch.nn.modules.loss import _Loss, CrossEntropyLoss\n",
    "from torch.optim import Optimizer, SGD, Adam, AdamW\n",
    "from torch.utils.data import Dataset, DataLoader, TensorDataset\n",
    "from torchmetrics.classification import MulticlassAccuracy\n",
    "from torchmetrics.functional import total_variation\n",
    "import torchinfo\n",
    "from image_classification.utils import trange"
   ]
  },
  {
   "cell_type": "code",
   "execution_count": 2,
   "metadata": {},
   "outputs": [
    {
     "name": "stdout",
     "output_type": "stream",
     "text": [
      "cuda:0\n"
     ]
    }
   ],
   "source": [
    "device = torch.device('cuda:0' if torch.cuda.is_available() else 'cpu')\n",
    "\n",
    "print(device)"
   ]
  },
  {
   "cell_type": "markdown",
   "metadata": {},
   "source": [
    "## ResNet-18"
   ]
  },
  {
   "cell_type": "code",
   "execution_count": 3,
   "metadata": {},
   "outputs": [
    {
     "name": "stdout",
     "output_type": "stream",
     "text": [
      "Using cuda device\n"
     ]
    }
   ],
   "source": [
    "from image_classification.models import ResNet18\n",
    "from image_classification.datasets import cifar10_train_test, cifar100_train_test\n",
    "from image_classification.nn import train_loop, train_val_loop, test_epoch"
   ]
  },
  {
   "cell_type": "code",
   "execution_count": 4,
   "metadata": {},
   "outputs": [
    {
     "name": "stdout",
     "output_type": "stream",
     "text": [
      "Loading CIFAR-10\n"
     ]
    },
    {
     "data": {
      "text/plain": [
       "(40000, 5000, 5000, 10000)"
      ]
     },
     "execution_count": 4,
     "metadata": {},
     "output_type": "execute_result"
    }
   ],
   "source": [
    "# Set to 10 for CIFAR-10, 100 for CIFAR-100\n",
    "num_classes = 10\n",
    "\n",
    "# The images are already normalized by theses datasets\n",
    "if num_classes == 10:\n",
    "    get_train_test = cifar10_train_test\n",
    "elif num_classes == 100:\n",
    "    get_train_test = cifar100_train_test\n",
    "else:\n",
    "    raise ValueError(f\"Can't find CIFAR dataset with {num_classes} classes\")\n",
    "print(f\"Loading CIFAR-{num_classes}\")\n",
    "\n",
    "training_data, test_data = get_train_test(root='data')\n",
    "N_test = len(test_data)\n",
    "N_val = len(training_data) // 10\n",
    "N_aux = N_val\n",
    "N = len(training_data) - N_val - N_aux\n",
    "# This works since training data is already shuffled\n",
    "training_data, val_data, aux_data = training_data.split([N, N_val, N_aux])\n",
    "\n",
    "batch_size = 100\n",
    "N, N_val, N_aux, N_test"
   ]
  },
  {
   "cell_type": "code",
   "execution_count": 5,
   "metadata": {},
   "outputs": [],
   "source": [
    "train_loader = DataLoader(training_data, batch_size, drop_last=True)\n",
    "val_loader = DataLoader(val_data, batch_size, drop_last=True)\n",
    "aux_loader = DataLoader(aux_data, batch_size, drop_last=True)"
   ]
  },
  {
   "cell_type": "markdown",
   "metadata": {},
   "source": [
    "### Hyperparameters"
   ]
  },
  {
   "cell_type": "code",
   "execution_count": 6,
   "metadata": {},
   "outputs": [],
   "source": [
    "lr = 1e-3\n",
    "weight_decay = 5e-4\n",
    "# For learning rate scheduling\n",
    "max_lr = 0.1\n",
    "\n",
    "epochs = 6\n",
    "steps_per_epoch = N // batch_size\n",
    "\n",
    "lr_sched_params = dict(max_lr=max_lr, epochs=epochs, steps_per_epoch=steps_per_epoch)\n",
    "\n",
    "criterion = CrossEntropyLoss()\n",
    "\n",
    "top_k = {10: 1, 100: 5}[num_classes]\n",
    "\n",
    "metric = MulticlassAccuracy(num_classes=num_classes, top_k=top_k)"
   ]
  },
  {
   "cell_type": "markdown",
   "metadata": {},
   "source": [
    "### Optimizer (TODO: compare SGD & Adam)"
   ]
  },
  {
   "cell_type": "code",
   "execution_count": 7,
   "metadata": {},
   "outputs": [],
   "source": [
    "def make_optimizer(model: nn.Module, opt_name='adamw', lr=lr, weight_decay=weight_decay, **kwargs) -> Optimizer:\n",
    "    cls = {'sgd': SGD, 'adam': Adam, 'adamw': AdamW}[opt_name]\n",
    "    return cls(model.parameters(), lr=lr, weight_decay=weight_decay, **kwargs)"
   ]
  },
  {
   "cell_type": "markdown",
   "metadata": {},
   "source": [
    "## Inverting gradient attack"
   ]
  },
  {
   "cell_type": "code",
   "execution_count": 8,
   "metadata": {},
   "outputs": [],
   "source": [
    "# TODO: gradients per parameter instead?\n",
    "def model_gradients(model: nn.Module) -> Tensor:\n",
    "    \"\"\"\n",
    "    Returns the model gradients without detaching them.\n",
    "    \"\"\"\n",
    "    grads = [\n",
    "        param.grad.flatten()\n",
    "        for param in model.parameters()\n",
    "    ]\n",
    "    return torch.cat(grads)\n",
    "\n",
    "def average_model_gradient(model: nn.Module, batch_size: int) -> Tensor:\n",
    "    \"\"\"\n",
    "    Returns the model gradient averaged over the batch size.\n",
    "\n",
    "    Assumes the gradients have already been computed with loss backpropagation.\n",
    "    \"\"\"\n",
    "    return model_gradients(model).detach().clone() / batch_size"
   ]
  },
  {
   "cell_type": "code",
   "execution_count": 9,
   "metadata": {},
   "outputs": [],
   "source": [
    "max_data_variation = training_data.max_data_variation()"
   ]
  },
  {
   "cell_type": "code",
   "execution_count": 10,
   "metadata": {},
   "outputs": [],
   "source": [
    "from enum import Enum\n",
    "\n",
    "class GradientAttack(Enum):\n",
    "    \"\"\"\n",
    "    A type of gradient attack.\n",
    "    \"\"\"\n",
    "    \n",
    "    ASCENT = 0              # Gradient Ascent (Blanchard et al., 2017)\n",
    "    ORTHOGONAL = 1          # Orthogonal Gradient\n",
    "    LITTLE_IS_ENOUGH = 2    # Little is Enough (Shejwalkar & Houmansadr, 2021)"
   ]
  },
  {
   "cell_type": "code",
   "execution_count": 11,
   "metadata": {},
   "outputs": [],
   "source": [
    "def inverting_gradient_attack(\n",
    "        model: nn.Module, criterion: _Loss,\n",
    "        avg_clean_gradient: Tensor, x_base: Tensor, y_base: Tensor,\n",
    "        steps = 10,\n",
    "        tv_coef = 1.0,\n",
    "        method = GradientAttack.ASCENT,\n",
    "    ) -> Tensor:\n",
    "    \"\"\"\n",
    "    Create a poisoned data point with an inverting gradient attack.\n",
    "    \"\"\"\n",
    "\n",
    "    model.eval()\n",
    "    model.requires_grad_()\n",
    "    model.zero_grad()\n",
    "    avg_clean_gradient.requires_grad_(False)\n",
    "    \n",
    "    # TODO: find appropriate lr scheduling step\n",
    "    opt = Adam([x_base], lr=0.5)\n",
    "\n",
    "    for step in range(steps):\n",
    "        # `criterion` gradients must only be computed for `model`\n",
    "        #x_base.requires_grad_(False)\n",
    "        x_base.requires_grad_(True)\n",
    "\n",
    "        loss = criterion(model(x_base.unsqueeze(0)), y_base.unsqueeze(0))\n",
    "        loss.backward(create_graph=True) # Allows 2nd-order differentiation\n",
    "\n",
    "        # TODO: gradients per parameter instead\n",
    "        g_p = model_gradients(model)\n",
    "\n",
    "        match method:\n",
    "            case GradientAttack.ASCENT:\n",
    "                cos_sim = torch.cosine_similarity(g_p, avg_clean_gradient, dim=0)\n",
    "                # dot product increases the gradient size but makes unalignment easier\n",
    "                #loss_adv = g_p.dot(avg_clean_gradient)      \n",
    "                loss_adv = cos_sim\n",
    "            \n",
    "            case GradientAttack.ORTHOGONAL:\n",
    "                cos_sim = torch.cosine_similarity(g_p, avg_clean_gradient, dim=0)\n",
    "                # dot product increases the gradient size but makes unalignment easier\n",
    "                #loss_adv = g_p.dot(avg_clean_gradient)      \n",
    "                loss_adv = cos_sim.dot(cos_sim)\n",
    "\n",
    "            case GradientAttack.LITTLE_IS_ENOUGH:\n",
    "                # See Algorithm 3 in https://arxiv.org/pdf/1902.06156\n",
    "                raise NotImplementedError\n",
    "\n",
    "        if tv_coef:\n",
    "            tv = total_variation(x_base.unsqueeze(0))\n",
    "            normalization = x_base.numel() * 4 * max_data_variation ** 2\n",
    "            loss_adv += tv_coef * tv / normalization\n",
    "\n",
    "        #print(f\"Inverting gradient step {step}: loss = {loss.item()}, cos_sim = {cos_sim.item()}\")\n",
    "        \n",
    "        # TODO: torch.autograd??? test on a simpler model for debugging\n",
    "        #x_base.requires_grad_(True)\n",
    "        opt.zero_grad()\n",
    "\n",
    "        loss_adv.backward()\n",
    "        opt.step()\n",
    "        opt.zero_grad()\n",
    "        model.zero_grad()\n",
    "\n",
    "        x_base.requires_grad_(False)\n",
    "        training_data.clip_to_data_range(x_base, inplace=True)\n",
    "    \n",
    "    model.train()\n",
    "    return x_base\n"
   ]
  },
  {
   "cell_type": "code",
   "execution_count": 12,
   "metadata": {},
   "outputs": [],
   "source": [
    "# https://github.com/pytorch/pytorch/issues/23900\n",
    "def cycle(iterable: DataLoader):\n",
    "    \"\"\"\n",
    "    Cycle through the elements of a dataloader infinitely.\n",
    "    \"\"\"\n",
    "    iterator = iter(iterable)\n",
    "    while True:\n",
    "        try:\n",
    "            yield next(iterator)\n",
    "        except StopIteration:\n",
    "            iterator = iter(iterable)\n",
    "\n",
    "class GradientEstimator:\n",
    "    \"\"\"A class for average model gradient estimation.\"\"\"\n",
    "    def average_clean_gradient(self, model: nn.Module, criterion: _Loss) -> Tensor:\n",
    "        \"\"\"\n",
    "        Estimate the average gradient on a clean-distributed dataset.\n",
    "        \"\"\"\n",
    "        raise NotImplementedError\n",
    "\n",
    "class OmniscientGradientEstimator(GradientEstimator):\n",
    "    \"\"\"\n",
    "    Estimates the average gradient assuming it has already been computed\n",
    "    on a mini-batch with loss backpropagation.\n",
    "\n",
    "    # Example\n",
    "    ```python\n",
    "    grad_estim = OmniscientGradientEstimator(batch_size)\n",
    "    loss = criterion(model(X), y)\n",
    "    loss.backward()\n",
    "    avg_clean_gradient = grad_estim.average_clean_gradient(model, criterion)\n",
    "    ```\n",
    "    \"\"\"\n",
    "    def __init__(self, batch_size: int):\n",
    "        super().__init__()\n",
    "        self.batch_size = batch_size\n",
    "    \n",
    "    def average_clean_gradient(self, model: nn.Module, criterion: _Loss) -> Tensor:\n",
    "        return average_model_gradient(model, self.batch_size)\n",
    "    \n",
    "\n",
    "class ShadowGradientEstimator(GradientEstimator):\n",
    "    \"\"\"\n",
    "    Estimate the average clean gradient with an auxiliary dataset\n",
    "    that is similarly distributed to the training dataset.\n",
    "    \"\"\"\n",
    "    def __init__(self, aux_loader: DataLoader):\n",
    "        self.aux_loader = cycle(aux_loader)\n",
    "    \n",
    "    def average_clean_gradient(self, model: nn.Module, criterion: _Loss) -> Tensor:\n",
    "        # TODO: estimate on next mini-batch of aux_loader\n",
    "        raise NotImplementedError"
   ]
  },
  {
   "cell_type": "markdown",
   "metadata": {},
   "source": [
    "### Visualization"
   ]
  },
  {
   "cell_type": "code",
   "execution_count": 13,
   "metadata": {},
   "outputs": [],
   "source": [
    "def display_input_image(input: Tensor, label: Tensor, title='', cmap=None):\n",
    "    \"\"\"\n",
    "    Displays an an input image to a neural network.\n",
    "\n",
    "    `input`: a 3D tensor\n",
    "    `cmap`: grayscale by default.\n",
    "    \"\"\"\n",
    "    decoders = {\n",
    "        10: training_data.decode_cifar10_image,\n",
    "        100: training_data.decode_cifar100_image,\n",
    "    }\n",
    "    image = decoders[len(training_data.classes)](input)\n",
    "    class_ = training_data.decode_target(label)\n",
    "\n",
    "    fig, ax = plt.subplots()\n",
    "    ax.imshow(image, cmap=cmap, interpolation='nearest')\n",
    "    plt.title(class_)\n",
    "    fig.suptitle(title, fontsize=14)\n",
    "    fig.tight_layout()"
   ]
  },
  {
   "cell_type": "code",
   "execution_count": 14,
   "metadata": {},
   "outputs": [],
   "source": [
    "def test_attack(\n",
    "        model: nn.Module, criterion: _Loss,\n",
    "        train_loader: DataLoader,\n",
    "        poison_opt_steps: int = 10,\n",
    "    ):\n",
    "    model.eval()\n",
    "    model.zero_grad()\n",
    "\n",
    "    grad_estim = OmniscientGradientEstimator(train_loader.batch_size)\n",
    "\n",
    "    X, y = next(iter(train_loader))\n",
    "    X, y = X.to(device), y.to(device)\n",
    "    logits = model(X)\n",
    "    loss = criterion(logits, y)\n",
    "    loss.backward()\n",
    "\n",
    "    #y_p = y[0].detach().clone()\n",
    "    #X_p = X[0].detach().clone()\n",
    "    X_p, y_p = training_data.random_sample_noise()\n",
    "    y_p = y_p.to(device)\n",
    "\n",
    "    avg_clean_gradient = grad_estim.average_clean_gradient(model, criterion)\n",
    "    X_p = inverting_gradient_attack(\n",
    "        deepcopy(model),\n",
    "        criterion,\n",
    "        avg_clean_gradient,\n",
    "        X_p, y_p, steps=poison_opt_steps\n",
    "    )\n",
    "\n",
    "    model.zero_grad()\n",
    "\n",
    "    #display_input_image(X[0], y[0], title=\"Clean sample\")\n",
    "    display_input_image(\n",
    "        X_p, y_p,\n",
    "        title=f\"Poisoned sample (batch_size={len(X)}, {poison_opt_steps=})\",\n",
    "    )\n",
    "\n",
    "    return X, y, X_p, y_p"
   ]
  },
  {
   "cell_type": "markdown",
   "metadata": {},
   "source": [
    "### Poisoning"
   ]
  },
  {
   "cell_type": "code",
   "execution_count": 15,
   "metadata": {},
   "outputs": [],
   "source": [
    "from image_classification.datasets import UpdatableDataset\n",
    "from image_classification.nn import MetricLogger\n",
    "\n",
    "def train_epoch_with_poisons(\n",
    "        model: nn.Module,\n",
    "        dataloader: DataLoader,\n",
    "        criterion: _Loss,\n",
    "        optimizer: Optimizer,\n",
    "        keep_pbars=True,\n",
    "        poison_opt_steps=10,\n",
    "        alpha_poison=0.2,\n",
    "    ) -> tuple[UpdatableDataset, MetricLogger]:\n",
    "    #optimizer.zero_grad()\n",
    "    model.train()\n",
    "\n",
    "    logger = MetricLogger(\n",
    "        metric,\n",
    "        device=device,\n",
    "        desc='Train loop', total=len(dataloader.dataset), keep_pbars=keep_pbars,\n",
    "    )\n",
    "    poison_set = UpdatableDataset()\n",
    "    grad_estim = OmniscientGradientEstimator(dataloader.batch_size)\n",
    "\n",
    "    for X, y in dataloader:\n",
    "        X, y = X.to(device), y.to(device)\n",
    "        logits = model(X)\n",
    "        loss = criterion(logits, y)\n",
    "\n",
    "        loss.backward()\n",
    "\n",
    "        # --- poisoning attack\n",
    "        \n",
    "        avg_clean_gradient = grad_estim.average_clean_gradient(model, criterion)\n",
    "\n",
    "        #b_size = dataloader.batch_size\n",
    "        #i = np.random.randint(0, b_size)\n",
    "        #y_p = y[i].detach().clone()\n",
    "        #X_p = X[i].detach().clone()\n",
    "\n",
    "        X_p, y_p = training_data.random_sample_noise()\n",
    "        y_p = y_p.to(device)\n",
    "\n",
    "        X_p = inverting_gradient_attack(\n",
    "            deepcopy(model),\n",
    "            criterion,\n",
    "            avg_clean_gradient,\n",
    "            X_p, y_p, steps=poison_opt_steps\n",
    "        )\n",
    "        poison_set.append(X_p, y_p)\n",
    "\n",
    "        logits_p = model(X_p.unsqueeze(0))\n",
    "        loss_p = alpha_poison * criterion(logits_p, y_p.unsqueeze(0))\n",
    "\n",
    "        # This adds to `loss` model gradients due to gradient accumulation\n",
    "        loss_p.backward()\n",
    "        \n",
    "        # ---\n",
    "\n",
    "        optimizer.step()\n",
    "        optimizer.zero_grad()\n",
    "\n",
    "        # FIXME: does not include X_p, y_p, logits_p, loss_p\n",
    "        # TODO: log loss on poisons\n",
    "        # TODO: display some poisons\n",
    "        logger.compute_metrics(X, y, logits, loss.item())\n",
    "    \n",
    "    logger.finish()\n",
    "    return poison_set, logger"
   ]
  },
  {
   "cell_type": "code",
   "execution_count": 16,
   "metadata": {},
   "outputs": [],
   "source": [
    "def train_loop_with_poisons(\n",
    "        model: nn.Module,\n",
    "        train_loader: DataLoader,\n",
    "        val_loader: DataLoader,\n",
    "        criterion: _Loss,\n",
    "        optimizer: Optimizer,\n",
    "        epochs: int,\n",
    "        poison_opt_steps=5,\n",
    "        alpha_poison=0.05,\n",
    "        metric=metric,\n",
    "    ) -> TensorDataset:\n",
    "    poison_set = UpdatableDataset()\n",
    "    for epoch in trange(epochs, desc='Train epochs', unit='epoch', leave=True):\n",
    "        poison_set_epoch, _ = train_epoch_with_poisons(\n",
    "            model, train_loader,\n",
    "            criterion, optimizer,\n",
    "            poison_opt_steps=poison_opt_steps, alpha_poison=alpha_poison\n",
    "        )\n",
    "        poison_set.extend(poison_set_epoch)\n",
    "        test_epoch(model, val_loader, criterion, keep_pbars=True, metric=metric)\n",
    "    return poison_set.to_tensor_dataset()"
   ]
  },
  {
   "cell_type": "code",
   "execution_count": 33,
   "metadata": {},
   "outputs": [
    {
     "data": {
      "application/vnd.jupyter.widget-view+json": {
       "model_id": "9ce473107a6341aca99a8578fd207919",
       "version_major": 2,
       "version_minor": 0
      },
      "text/plain": [
       "Train epochs:   0%|          | 0/1 [00:00<?, ?epoch/s]"
      ]
     },
     "metadata": {},
     "output_type": "display_data"
    },
    {
     "data": {
      "application/vnd.jupyter.widget-view+json": {
       "model_id": "993a527bb96d485ca3a42cca77451945",
       "version_major": 2,
       "version_minor": 0
      },
      "text/plain": [
       "Train loop:   0%|          | 0/40000 [00:00<?, ?it/s]"
      ]
     },
     "metadata": {},
     "output_type": "display_data"
    },
    {
     "name": "stdout",
     "output_type": "stream",
     "text": [
      "Train loop: 100%|██████████| 40000/40000 [00:22<00:00, 1800.48it/s, avg_loss=1.42]\n"
     ]
    },
    {
     "data": {
      "application/vnd.jupyter.widget-view+json": {
       "model_id": "129e1995029a4ff19984092cfa6b0ae1",
       "version_major": 2,
       "version_minor": 0
      },
      "text/plain": [
       "Test epoch:   0%|          | 0/5000 [00:00<?, ?it/s]"
      ]
     },
     "metadata": {},
     "output_type": "display_data"
    },
    {
     "name": "stdout",
     "output_type": "stream",
     "text": [
      "Test epoch: 100%|██████████| 5000/5000 [00:00<00:00, 5584.33it/s, avg_loss=1.34]\n"
     ]
    }
   ],
   "source": [
    "net = ResNet18(num_classes=num_classes).to(device)\n",
    "opt = make_optimizer(net, opt_name='adam', lr=lr)\n",
    "# Pretrain the model to make it learn the features\n",
    "train_val_loop(\n",
    "    net, train_loader, val_loader,\n",
    "    criterion, opt,\n",
    "    epochs=1,\n",
    ")"
   ]
  },
  {
   "cell_type": "code",
   "execution_count": 42,
   "metadata": {},
   "outputs": [
    {
     "data": {
      "image/png": "[encoded data removed]",
      "text/plain": [
       "<Figure size 640x480 with 1 Axes>"
      ]
     },
     "metadata": {},
     "output_type": "display_data"
    }
   ],
   "source": [
    "# This is a form of data reconstruction attack\n",
    "test_attack(net, criterion, train_loader, poison_opt_steps=100);"
   ]
  },
  {
   "cell_type": "code",
   "execution_count": 19,
   "metadata": {},
   "outputs": [
    {
     "data": {
      "application/vnd.jupyter.widget-view+json": {
       "model_id": "208a1ec0ff8b4fe4984270290bb1bfd4",
       "version_major": 2,
       "version_minor": 0
      },
      "text/plain": [
       "Train epochs:   0%|          | 0/6 [00:00<?, ?epoch/s]"
      ]
     },
     "metadata": {},
     "output_type": "display_data"
    },
    {
     "data": {
      "application/vnd.jupyter.widget-view+json": {
       "model_id": "179e1d9f3290493b8fc1a757e41e270b",
       "version_major": 2,
       "version_minor": 0
      },
      "text/plain": [
       "Train loop:   0%|          | 0/40000 [00:00<?, ?it/s]"
      ]
     },
     "metadata": {},
     "output_type": "display_data"
    },
    {
     "name": "stdout",
     "output_type": "stream",
     "text": [
      "Train loop: 100%|██████████| 40000/40000 [01:11<00:00, 560.38it/s, MulticlassAccuracy=0.318, avg_loss=1.97]\n"
     ]
    },
    {
     "data": {
      "application/vnd.jupyter.widget-view+json": {
       "model_id": "00abe12473594d5a93bdad2052432770",
       "version_major": 2,
       "version_minor": 0
      },
      "text/plain": [
       "Test epoch:   0%|          | 0/5000 [00:00<?, ?it/s]"
      ]
     },
     "metadata": {},
     "output_type": "display_data"
    },
    {
     "name": "stdout",
     "output_type": "stream",
     "text": [
      "Test epoch: 100%|██████████| 5000/5000 [00:00<00:00, 5562.53it/s, MulticlassAccuracy=0.283, avg_loss=1.94]\n"
     ]
    },
    {
     "data": {
      "application/vnd.jupyter.widget-view+json": {
       "model_id": "de413bf355944fe5b629c9e772268ed9",
       "version_major": 2,
       "version_minor": 0
      },
      "text/plain": [
       "Train loop:   0%|          | 0/40000 [00:00<?, ?it/s]"
      ]
     },
     "metadata": {},
     "output_type": "display_data"
    },
    {
     "name": "stdout",
     "output_type": "stream",
     "text": [
      "Train loop: 100%|██████████| 40000/40000 [01:12<00:00, 551.05it/s, MulticlassAccuracy=0.445, avg_loss=1.66]\n"
     ]
    },
    {
     "data": {
      "application/vnd.jupyter.widget-view+json": {
       "model_id": "2c5df1c5eb4545c38cb0b66adc1355f3",
       "version_major": 2,
       "version_minor": 0
      },
      "text/plain": [
       "Test epoch:   0%|          | 0/5000 [00:00<?, ?it/s]"
      ]
     },
     "metadata": {},
     "output_type": "display_data"
    },
    {
     "name": "stdout",
     "output_type": "stream",
     "text": [
      "Test epoch: 100%|██████████| 5000/5000 [00:00<00:00, 5462.55it/s, MulticlassAccuracy=0.3, avg_loss=2.07]\n"
     ]
    },
    {
     "data": {
      "application/vnd.jupyter.widget-view+json": {
       "model_id": "cf4b0a4573384e1eb396e0fbca7fc2f8",
       "version_major": 2,
       "version_minor": 0
      },
      "text/plain": [
       "Train loop:   0%|          | 0/40000 [00:00<?, ?it/s]"
      ]
     },
     "metadata": {},
     "output_type": "display_data"
    },
    {
     "name": "stdout",
     "output_type": "stream",
     "text": [
      "Train loop: 100%|██████████| 40000/40000 [01:13<00:00, 544.31it/s, MulticlassAccuracy=0.548, avg_loss=1.52]\n"
     ]
    },
    {
     "data": {
      "application/vnd.jupyter.widget-view+json": {
       "model_id": "d88beeffaed14ebaaa6e22c7b35e95d4",
       "version_major": 2,
       "version_minor": 0
      },
      "text/plain": [
       "Test epoch:   0%|          | 0/5000 [00:00<?, ?it/s]"
      ]
     },
     "metadata": {},
     "output_type": "display_data"
    },
    {
     "name": "stdout",
     "output_type": "stream",
     "text": [
      "Test epoch: 100%|██████████| 5000/5000 [00:00<00:00, 5404.73it/s, MulticlassAccuracy=0.269, avg_loss=1.84]\n"
     ]
    },
    {
     "data": {
      "application/vnd.jupyter.widget-view+json": {
       "model_id": "25478e3fc310488587930c4709b84616",
       "version_major": 2,
       "version_minor": 0
      },
      "text/plain": [
       "Train loop:   0%|          | 0/40000 [00:00<?, ?it/s]"
      ]
     },
     "metadata": {},
     "output_type": "display_data"
    },
    {
     "name": "stdout",
     "output_type": "stream",
     "text": [
      "Train loop: 100%|██████████| 40000/40000 [01:14<00:00, 538.68it/s, MulticlassAccuracy=0.527, avg_loss=1.41]\n"
     ]
    },
    {
     "data": {
      "application/vnd.jupyter.widget-view+json": {
       "model_id": "3abf49a49ad2497c90a0e8f7fef319a8",
       "version_major": 2,
       "version_minor": 0
      },
      "text/plain": [
       "Test epoch:   0%|          | 0/5000 [00:00<?, ?it/s]"
      ]
     },
     "metadata": {},
     "output_type": "display_data"
    },
    {
     "name": "stdout",
     "output_type": "stream",
     "text": [
      "Test epoch: 100%|██████████| 5000/5000 [00:00<00:00, 5357.12it/s, MulticlassAccuracy=0.305, avg_loss=1.8]\n"
     ]
    },
    {
     "data": {
      "application/vnd.jupyter.widget-view+json": {
       "model_id": "9497311c6f874172a3bd13b9820f1024",
       "version_major": 2,
       "version_minor": 0
      },
      "text/plain": [
       "Train loop:   0%|          | 0/40000 [00:00<?, ?it/s]"
      ]
     },
     "metadata": {},
     "output_type": "display_data"
    },
    {
     "name": "stdout",
     "output_type": "stream",
     "text": [
      "Train loop: 100%|██████████| 40000/40000 [01:16<00:00, 524.53it/s, MulticlassAccuracy=0.577, avg_loss=1.32]\n"
     ]
    },
    {
     "data": {
      "application/vnd.jupyter.widget-view+json": {
       "model_id": "e10d7a05a3f84630b6b8ff49e187589e",
       "version_major": 2,
       "version_minor": 0
      },
      "text/plain": [
       "Test epoch:   0%|          | 0/5000 [00:00<?, ?it/s]"
      ]
     },
     "metadata": {},
     "output_type": "display_data"
    },
    {
     "name": "stdout",
     "output_type": "stream",
     "text": [
      "Test epoch: 100%|██████████| 5000/5000 [00:00<00:00, 5282.03it/s, MulticlassAccuracy=0.327, avg_loss=1.81]\n"
     ]
    },
    {
     "data": {
      "application/vnd.jupyter.widget-view+json": {
       "model_id": "02fde07e73eb45ecb8b268ee8357b6a8",
       "version_major": 2,
       "version_minor": 0
      },
      "text/plain": [
       "Train loop:   0%|          | 0/40000 [00:00<?, ?it/s]"
      ]
     },
     "metadata": {},
     "output_type": "display_data"
    },
    {
     "name": "stdout",
     "output_type": "stream",
     "text": [
      "Train loop: 100%|██████████| 40000/40000 [01:16<00:00, 525.49it/s, MulticlassAccuracy=0.661, avg_loss=1.23]\n"
     ]
    },
    {
     "data": {
      "application/vnd.jupyter.widget-view+json": {
       "model_id": "4281cb46e52840f7bdb544d101deb705",
       "version_major": 2,
       "version_minor": 0
      },
      "text/plain": [
       "Test epoch:   0%|          | 0/5000 [00:00<?, ?it/s]"
      ]
     },
     "metadata": {},
     "output_type": "display_data"
    },
    {
     "name": "stdout",
     "output_type": "stream",
     "text": [
      "Test epoch: 100%|██████████| 5000/5000 [00:00<00:00, 5319.39it/s, MulticlassAccuracy=0.293, avg_loss=1.85]\n"
     ]
    },
    {
     "data": {
      "text/plain": [
       "<torch.utils.data.dataset.TensorDataset at 0x7f5e434b6cf0>"
      ]
     },
     "execution_count": 19,
     "metadata": {},
     "output_type": "execute_result"
    }
   ],
   "source": [
    "# SGD is more vulnerable to gradient attacks\n",
    "net = ResNet18(num_classes=num_classes).to(device)\n",
    "opt = make_optimizer(net, opt_name='sgd', lr=lr, weight_decay=0.0)\n",
    "train_loop_with_poisons(\n",
    "    net, train_loader, val_loader,\n",
    "    criterion, opt,\n",
    "    epochs=epochs,\n",
    "    poison_opt_steps=5, alpha_poison=0.2,\n",
    ")"
   ]
  },
  {
   "cell_type": "markdown",
   "metadata": {},
   "source": [
    "batch_size = 100, alpha = 0.2, poison_opt_steps = 2, ResNet18, SGD(weight_decay=0.0), epochs = 6:\n",
    "\n",
    "accuracy : 58 -> 34\n",
    "\n",
    "TODO: test with more poison steps or different lr for poison optimizer"
   ]
  },
  {
   "cell_type": "markdown",
   "metadata": {},
   "source": [
    "#### Lower poisoning rate"
   ]
  },
  {
   "cell_type": "code",
   "execution_count": 20,
   "metadata": {},
   "outputs": [],
   "source": [
    "net = ResNet18(num_classes=num_classes).to(device)"
   ]
  },
  {
   "cell_type": "code",
   "execution_count": 21,
   "metadata": {},
   "outputs": [
    {
     "data": {
      "application/vnd.jupyter.widget-view+json": {
       "model_id": "b67c69b994994155ad6fd2d9ed0d4d75",
       "version_major": 2,
       "version_minor": 0
      },
      "text/plain": [
       "Train epochs:   0%|          | 0/6 [00:00<?, ?epoch/s]"
      ]
     },
     "metadata": {},
     "output_type": "display_data"
    },
    {
     "data": {
      "application/vnd.jupyter.widget-view+json": {
       "model_id": "84a4bdf370d74314a653b1ecde4a69d2",
       "version_major": 2,
       "version_minor": 0
      },
      "text/plain": [
       "Train loop:   0%|          | 0/40000 [00:00<?, ?it/s]"
      ]
     },
     "metadata": {},
     "output_type": "display_data"
    },
    {
     "name": "stderr",
     "output_type": "stream",
     "text": [
      "/home/lvt/.local/share/virtualenvs/ml-TQx6uCZG/lib/python3.13/site-packages/torchmetrics/utilities/prints.py:70: FutureWarning: Importing `total_variation` from `torchmetrics.functional` was deprecated and will be removed in 2.0. Import `total_variation` from `torchmetrics.image` instead.\n",
      "  _future_warning(\n"
     ]
    },
    {
     "name": "stdout",
     "output_type": "stream",
     "text": [
      "Train loop: 100%|██████████| 40000/40000 [01:17<00:00, 513.43it/s, MulticlassAccuracy=0.385, avg_loss=1.97]\n"
     ]
    },
    {
     "data": {
      "application/vnd.jupyter.widget-view+json": {
       "model_id": "10727318d7974f938145faa00caf8e1a",
       "version_major": 2,
       "version_minor": 0
      },
      "text/plain": [
       "Test epoch:   0%|          | 0/5000 [00:00<?, ?it/s]"
      ]
     },
     "metadata": {},
     "output_type": "display_data"
    },
    {
     "name": "stdout",
     "output_type": "stream",
     "text": [
      "Test epoch: 100%|██████████| 5000/5000 [00:00<00:00, 5242.91it/s, MulticlassAccuracy=0.206, avg_loss=2.02]\n"
     ]
    },
    {
     "data": {
      "application/vnd.jupyter.widget-view+json": {
       "model_id": "b18df6eb1c6c4ed6851c395ffd869cc9",
       "version_major": 2,
       "version_minor": 0
      },
      "text/plain": [
       "Train loop:   0%|          | 0/40000 [00:00<?, ?it/s]"
      ]
     },
     "metadata": {},
     "output_type": "display_data"
    },
    {
     "name": "stdout",
     "output_type": "stream",
     "text": [
      "Train loop: 100%|██████████| 40000/40000 [01:16<00:00, 524.14it/s, MulticlassAccuracy=0.514, avg_loss=1.65]\n"
     ]
    },
    {
     "data": {
      "application/vnd.jupyter.widget-view+json": {
       "model_id": "b18d5e315799447481a7398e0d46ff91",
       "version_major": 2,
       "version_minor": 0
      },
      "text/plain": [
       "Test epoch:   0%|          | 0/5000 [00:00<?, ?it/s]"
      ]
     },
     "metadata": {},
     "output_type": "display_data"
    },
    {
     "name": "stdout",
     "output_type": "stream",
     "text": [
      "Test epoch: 100%|██████████| 5000/5000 [00:00<00:00, 5338.03it/s, MulticlassAccuracy=0.276, avg_loss=2.02]\n"
     ]
    },
    {
     "data": {
      "application/vnd.jupyter.widget-view+json": {
       "model_id": "6aedf72273574ad3bae50ca85fd848fc",
       "version_major": 2,
       "version_minor": 0
      },
      "text/plain": [
       "Train loop:   0%|          | 0/40000 [00:00<?, ?it/s]"
      ]
     },
     "metadata": {},
     "output_type": "display_data"
    },
    {
     "name": "stdout",
     "output_type": "stream",
     "text": [
      "Train loop: 100%|██████████| 40000/40000 [01:18<00:00, 511.75it/s, MulticlassAccuracy=0.527, avg_loss=1.51]\n"
     ]
    },
    {
     "data": {
      "application/vnd.jupyter.widget-view+json": {
       "model_id": "de0b59cd05004eb5b308b878feea1337",
       "version_major": 2,
       "version_minor": 0
      },
      "text/plain": [
       "Test epoch:   0%|          | 0/5000 [00:00<?, ?it/s]"
      ]
     },
     "metadata": {},
     "output_type": "display_data"
    },
    {
     "name": "stdout",
     "output_type": "stream",
     "text": [
      "Test epoch: 100%|██████████| 5000/5000 [00:00<00:00, 5338.56it/s, MulticlassAccuracy=0.298, avg_loss=2.05]\n"
     ]
    },
    {
     "data": {
      "application/vnd.jupyter.widget-view+json": {
       "model_id": "424c8884df0a48c49709c550085c775b",
       "version_major": 2,
       "version_minor": 0
      },
      "text/plain": [
       "Train loop:   0%|          | 0/40000 [00:00<?, ?it/s]"
      ]
     },
     "metadata": {},
     "output_type": "display_data"
    },
    {
     "name": "stdout",
     "output_type": "stream",
     "text": [
      "Train loop: 100%|██████████| 40000/40000 [01:15<00:00, 527.60it/s, MulticlassAccuracy=0.565, avg_loss=1.4]\n"
     ]
    },
    {
     "data": {
      "application/vnd.jupyter.widget-view+json": {
       "model_id": "b46e8c83814b4ac2a04e78224d306724",
       "version_major": 2,
       "version_minor": 0
      },
      "text/plain": [
       "Test epoch:   0%|          | 0/5000 [00:00<?, ?it/s]"
      ]
     },
     "metadata": {},
     "output_type": "display_data"
    },
    {
     "name": "stdout",
     "output_type": "stream",
     "text": [
      "Test epoch: 100%|██████████| 5000/5000 [00:00<00:00, 5326.21it/s, MulticlassAccuracy=0.331, avg_loss=1.83]\n"
     ]
    },
    {
     "data": {
      "application/vnd.jupyter.widget-view+json": {
       "model_id": "9c1d22f6bea94e1e83b27b039250c11c",
       "version_major": 2,
       "version_minor": 0
      },
      "text/plain": [
       "Train loop:   0%|          | 0/40000 [00:00<?, ?it/s]"
      ]
     },
     "metadata": {},
     "output_type": "display_data"
    },
    {
     "name": "stdout",
     "output_type": "stream",
     "text": [
      "Train loop: 100%|██████████| 40000/40000 [01:15<00:00, 527.11it/s, MulticlassAccuracy=0.579, avg_loss=1.3]\n"
     ]
    },
    {
     "data": {
      "application/vnd.jupyter.widget-view+json": {
       "model_id": "20cab3867e1144e7bd585d60390831c3",
       "version_major": 2,
       "version_minor": 0
      },
      "text/plain": [
       "Test epoch:   0%|          | 0/5000 [00:00<?, ?it/s]"
      ]
     },
     "metadata": {},
     "output_type": "display_data"
    },
    {
     "name": "stdout",
     "output_type": "stream",
     "text": [
      "Test epoch: 100%|██████████| 5000/5000 [00:00<00:00, 5306.51it/s, MulticlassAccuracy=0.3, avg_loss=1.95]\n"
     ]
    },
    {
     "data": {
      "application/vnd.jupyter.widget-view+json": {
       "model_id": "b3a6fdea7266441a923ba5a4cd20ff9a",
       "version_major": 2,
       "version_minor": 0
      },
      "text/plain": [
       "Train loop:   0%|          | 0/40000 [00:00<?, ?it/s]"
      ]
     },
     "metadata": {},
     "output_type": "display_data"
    },
    {
     "name": "stdout",
     "output_type": "stream",
     "text": [
      "Train loop: 100%|██████████| 40000/40000 [01:16<00:00, 525.30it/s, MulticlassAccuracy=0.622, avg_loss=1.21]\n"
     ]
    },
    {
     "data": {
      "application/vnd.jupyter.widget-view+json": {
       "model_id": "e66018b3076a46ceab53a1765caf4348",
       "version_major": 2,
       "version_minor": 0
      },
      "text/plain": [
       "Test epoch:   0%|          | 0/5000 [00:00<?, ?it/s]"
      ]
     },
     "metadata": {},
     "output_type": "display_data"
    },
    {
     "name": "stdout",
     "output_type": "stream",
     "text": [
      "Test epoch: 100%|██████████| 5000/5000 [00:00<00:00, 5289.17it/s, MulticlassAccuracy=0.315, avg_loss=2.03]\n"
     ]
    },
    {
     "data": {
      "text/plain": [
       "<torch.utils.data.dataset.TensorDataset at 0x7f5e434daad0>"
      ]
     },
     "execution_count": 21,
     "metadata": {},
     "output_type": "execute_result"
    }
   ],
   "source": [
    "opt = make_optimizer(net, opt_name='sgd', lr=lr, weight_decay=0.0)\n",
    "train_loop_with_poisons(\n",
    "    net, train_loader, val_loader,\n",
    "    criterion, opt,\n",
    "    epochs=epochs,\n",
    "    poison_opt_steps=5, alpha_poison=0.05,\n",
    ")"
   ]
  },
  {
   "cell_type": "markdown",
   "metadata": {},
   "source": [
    "Result : accuracy drops to 30 %"
   ]
  },
  {
   "cell_type": "markdown",
   "metadata": {},
   "source": [
    "#### Using Adam optimizer for training"
   ]
  },
  {
   "cell_type": "code",
   "execution_count": 22,
   "metadata": {},
   "outputs": [],
   "source": [
    "net = ResNet18(num_classes=num_classes).to(device)"
   ]
  },
  {
   "cell_type": "code",
   "execution_count": 23,
   "metadata": {},
   "outputs": [
    {
     "data": {
      "application/vnd.jupyter.widget-view+json": {
       "model_id": "9d4c3cee5275406d9fe94131930cdfea",
       "version_major": 2,
       "version_minor": 0
      },
      "text/plain": [
       "Train epochs:   0%|          | 0/6 [00:00<?, ?epoch/s]"
      ]
     },
     "metadata": {},
     "output_type": "display_data"
    },
    {
     "data": {
      "application/vnd.jupyter.widget-view+json": {
       "model_id": "821b9949d4d24528a6d8ee0b27690402",
       "version_major": 2,
       "version_minor": 0
      },
      "text/plain": [
       "Train loop:   0%|          | 0/40000 [00:00<?, ?it/s]"
      ]
     },
     "metadata": {},
     "output_type": "display_data"
    },
    {
     "name": "stdout",
     "output_type": "stream",
     "text": [
      "Train loop: 100%|██████████| 40000/40000 [01:21<00:00, 493.71it/s, MulticlassAccuracy=0.686, avg_loss=1.46]\n"
     ]
    },
    {
     "data": {
      "application/vnd.jupyter.widget-view+json": {
       "model_id": "d6cb388a7b17400f9ace5d8db8411415",
       "version_major": 2,
       "version_minor": 0
      },
      "text/plain": [
       "Test epoch:   0%|          | 0/5000 [00:00<?, ?it/s]"
      ]
     },
     "metadata": {},
     "output_type": "display_data"
    },
    {
     "name": "stdout",
     "output_type": "stream",
     "text": [
      "Test epoch: 100%|██████████| 5000/5000 [00:00<00:00, 5302.29it/s, MulticlassAccuracy=0.475, avg_loss=1.75]\n"
     ]
    },
    {
     "data": {
      "application/vnd.jupyter.widget-view+json": {
       "model_id": "4c033f9dd322438490f7e2f9dd6a8a3f",
       "version_major": 2,
       "version_minor": 0
      },
      "text/plain": [
       "Train loop:   0%|          | 0/40000 [00:00<?, ?it/s]"
      ]
     },
     "metadata": {},
     "output_type": "display_data"
    },
    {
     "name": "stdout",
     "output_type": "stream",
     "text": [
      "Train loop: 100%|██████████| 40000/40000 [01:18<00:00, 512.15it/s, MulticlassAccuracy=0.683, avg_loss=1.04]\n"
     ]
    },
    {
     "data": {
      "application/vnd.jupyter.widget-view+json": {
       "model_id": "ce50227a5c17451f96b74e312ac6e3dc",
       "version_major": 2,
       "version_minor": 0
      },
      "text/plain": [
       "Test epoch:   0%|          | 0/5000 [00:00<?, ?it/s]"
      ]
     },
     "metadata": {},
     "output_type": "display_data"
    },
    {
     "name": "stdout",
     "output_type": "stream",
     "text": [
      "Test epoch: 100%|██████████| 5000/5000 [00:00<00:00, 5242.08it/s, MulticlassAccuracy=0.619, avg_loss=1.39]\n"
     ]
    },
    {
     "data": {
      "application/vnd.jupyter.widget-view+json": {
       "model_id": "fff7618fa9d14c4f93843ccdac72264d",
       "version_major": 2,
       "version_minor": 0
      },
      "text/plain": [
       "Train loop:   0%|          | 0/40000 [00:00<?, ?it/s]"
      ]
     },
     "metadata": {},
     "output_type": "display_data"
    },
    {
     "name": "stdout",
     "output_type": "stream",
     "text": [
      "Train loop: 100%|██████████| 40000/40000 [01:17<00:00, 514.01it/s, MulticlassAccuracy=0.776, avg_loss=0.857]\n"
     ]
    },
    {
     "data": {
      "application/vnd.jupyter.widget-view+json": {
       "model_id": "537e095fafa2400dbdbdf7276f573257",
       "version_major": 2,
       "version_minor": 0
      },
      "text/plain": [
       "Test epoch:   0%|          | 0/5000 [00:00<?, ?it/s]"
      ]
     },
     "metadata": {},
     "output_type": "display_data"
    },
    {
     "name": "stdout",
     "output_type": "stream",
     "text": [
      "Test epoch: 100%|██████████| 5000/5000 [00:00<00:00, 5259.90it/s, MulticlassAccuracy=0.439, avg_loss=1.94]\n"
     ]
    },
    {
     "data": {
      "application/vnd.jupyter.widget-view+json": {
       "model_id": "8154b28a01c74125abf622424d63de97",
       "version_major": 2,
       "version_minor": 0
      },
      "text/plain": [
       "Train loop:   0%|          | 0/40000 [00:00<?, ?it/s]"
      ]
     },
     "metadata": {},
     "output_type": "display_data"
    },
    {
     "name": "stdout",
     "output_type": "stream",
     "text": [
      "Train loop: 100%|██████████| 40000/40000 [01:18<00:00, 509.10it/s, MulticlassAccuracy=0.803, avg_loss=0.721]\n"
     ]
    },
    {
     "data": {
      "application/vnd.jupyter.widget-view+json": {
       "model_id": "cf97fcfeec834001ad747ba1df04ebf5",
       "version_major": 2,
       "version_minor": 0
      },
      "text/plain": [
       "Test epoch:   0%|          | 0/5000 [00:00<?, ?it/s]"
      ]
     },
     "metadata": {},
     "output_type": "display_data"
    },
    {
     "name": "stdout",
     "output_type": "stream",
     "text": [
      "Test epoch: 100%|██████████| 5000/5000 [00:00<00:00, 5185.23it/s, MulticlassAccuracy=0.438, avg_loss=1.89]\n"
     ]
    },
    {
     "data": {
      "application/vnd.jupyter.widget-view+json": {
       "model_id": "6f8a087382d345ffa46ad21df3c638fc",
       "version_major": 2,
       "version_minor": 0
      },
      "text/plain": [
       "Train loop:   0%|          | 0/40000 [00:00<?, ?it/s]"
      ]
     },
     "metadata": {},
     "output_type": "display_data"
    },
    {
     "name": "stdout",
     "output_type": "stream",
     "text": [
      "Train loop: 100%|██████████| 40000/40000 [01:18<00:00, 508.39it/s, MulticlassAccuracy=0.8, avg_loss=0.626]\n"
     ]
    },
    {
     "data": {
      "application/vnd.jupyter.widget-view+json": {
       "model_id": "ec3e527360a942e39fb852aba7a69b7f",
       "version_major": 2,
       "version_minor": 0
      },
      "text/plain": [
       "Test epoch:   0%|          | 0/5000 [00:00<?, ?it/s]"
      ]
     },
     "metadata": {},
     "output_type": "display_data"
    },
    {
     "name": "stdout",
     "output_type": "stream",
     "text": [
      "Test epoch: 100%|██████████| 5000/5000 [00:00<00:00, 5190.02it/s, MulticlassAccuracy=0.572, avg_loss=1.42]\n"
     ]
    },
    {
     "data": {
      "application/vnd.jupyter.widget-view+json": {
       "model_id": "dff19f08795543b09c15e0ab316009a2",
       "version_major": 2,
       "version_minor": 0
      },
      "text/plain": [
       "Train loop:   0%|          | 0/40000 [00:00<?, ?it/s]"
      ]
     },
     "metadata": {},
     "output_type": "display_data"
    },
    {
     "name": "stdout",
     "output_type": "stream",
     "text": [
      "Train loop: 100%|██████████| 40000/40000 [01:18<00:00, 509.13it/s, MulticlassAccuracy=0.818, avg_loss=0.557]\n"
     ]
    },
    {
     "data": {
      "application/vnd.jupyter.widget-view+json": {
       "model_id": "fb799681030f4a109281f5a834813d17",
       "version_major": 2,
       "version_minor": 0
      },
      "text/plain": [
       "Test epoch:   0%|          | 0/5000 [00:00<?, ?it/s]"
      ]
     },
     "metadata": {},
     "output_type": "display_data"
    },
    {
     "name": "stdout",
     "output_type": "stream",
     "text": [
      "Test epoch: 100%|██████████| 5000/5000 [00:00<00:00, 5192.24it/s, MulticlassAccuracy=0.556, avg_loss=1.62]\n"
     ]
    },
    {
     "data": {
      "text/plain": [
       "<torch.utils.data.dataset.TensorDataset at 0x7f5e434da490>"
      ]
     },
     "execution_count": 23,
     "metadata": {},
     "output_type": "execute_result"
    }
   ],
   "source": [
    "# Adam regularizes the parameters so it is more robust to gradient attacks\n",
    "opt = make_optimizer(net, opt_name='adam', lr=lr)\n",
    "train_loop_with_poisons(\n",
    "    net, train_loader, val_loader,\n",
    "    criterion, opt,\n",
    "    epochs=epochs,\n",
    "    poison_opt_steps=5, alpha_poison=0.2,\n",
    ")"
   ]
  },
  {
   "cell_type": "markdown",
   "metadata": {},
   "source": [
    "## Machine unlearning"
   ]
  },
  {
   "cell_type": "code",
   "execution_count": 24,
   "metadata": {},
   "outputs": [],
   "source": [
    "from image_classification.unlearning import gradient_descent, neg_grad_plus, unlearning_last_layers"
   ]
  },
  {
   "cell_type": "markdown",
   "metadata": {},
   "source": [
    "TODO: test this against SGD first...\n",
    "\n",
    "Refactor and create objects:\n",
    "- GradientInverter\n",
    "- PoisonedTrainer: store generated poisons"
   ]
  },
  {
   "cell_type": "code",
   "execution_count": null,
   "metadata": {},
   "outputs": [],
   "source": []
  },
  {
   "cell_type": "code",
   "execution_count": 25,
   "metadata": {},
   "outputs": [
    {
     "data": {
      "application/vnd.jupyter.widget-view+json": {
       "model_id": "0dc18a6b096846bd873d7aabd50bb638",
       "version_major": 2,
       "version_minor": 0
      },
      "text/plain": [
       "Train epochs:   0%|          | 0/6 [00:00<?, ?epoch/s]"
      ]
     },
     "metadata": {},
     "output_type": "display_data"
    },
    {
     "data": {
      "application/vnd.jupyter.widget-view+json": {
       "model_id": "3858a525c98a429692228ac0be359557",
       "version_major": 2,
       "version_minor": 0
      },
      "text/plain": [
       "Train loop:   0%|          | 0/40000 [00:00<?, ?it/s]"
      ]
     },
     "metadata": {},
     "output_type": "display_data"
    },
    {
     "name": "stdout",
     "output_type": "stream",
     "text": [
      "Train loop: 100%|██████████| 40000/40000 [01:18<00:00, 511.78it/s, MulticlassAccuracy=0.393, avg_loss=1.97]\n"
     ]
    },
    {
     "data": {
      "application/vnd.jupyter.widget-view+json": {
       "model_id": "c993a272cc6b4e0c866125f162b1300c",
       "version_major": 2,
       "version_minor": 0
      },
      "text/plain": [
       "Test epoch:   0%|          | 0/5000 [00:00<?, ?it/s]"
      ]
     },
     "metadata": {},
     "output_type": "display_data"
    },
    {
     "name": "stdout",
     "output_type": "stream",
     "text": [
      "Test epoch: 100%|██████████| 5000/5000 [00:00<00:00, 5156.76it/s, MulticlassAccuracy=0.245, avg_loss=2.06]\n"
     ]
    },
    {
     "data": {
      "application/vnd.jupyter.widget-view+json": {
       "model_id": "1d1c980f63bf4b1c8e0cf42d2c3964b4",
       "version_major": 2,
       "version_minor": 0
      },
      "text/plain": [
       "Train loop:   0%|          | 0/40000 [00:00<?, ?it/s]"
      ]
     },
     "metadata": {},
     "output_type": "display_data"
    },
    {
     "name": "stdout",
     "output_type": "stream",
     "text": [
      "Train loop: 100%|██████████| 40000/40000 [01:17<00:00, 513.07it/s, MulticlassAccuracy=0.525, avg_loss=1.66]\n"
     ]
    },
    {
     "data": {
      "application/vnd.jupyter.widget-view+json": {
       "model_id": "64213b7e84e842fa8bd910cd6964517d",
       "version_major": 2,
       "version_minor": 0
      },
      "text/plain": [
       "Test epoch:   0%|          | 0/5000 [00:00<?, ?it/s]"
      ]
     },
     "metadata": {},
     "output_type": "display_data"
    },
    {
     "name": "stdout",
     "output_type": "stream",
     "text": [
      "Test epoch: 100%|██████████| 5000/5000 [00:00<00:00, 5152.47it/s, MulticlassAccuracy=0.282, avg_loss=2.08]\n"
     ]
    },
    {
     "data": {
      "application/vnd.jupyter.widget-view+json": {
       "model_id": "4aeacec9cbfa4494b585e6c20eecf6e8",
       "version_major": 2,
       "version_minor": 0
      },
      "text/plain": [
       "Train loop:   0%|          | 0/40000 [00:00<?, ?it/s]"
      ]
     },
     "metadata": {},
     "output_type": "display_data"
    },
    {
     "name": "stdout",
     "output_type": "stream",
     "text": [
      "Train loop: 100%|██████████| 40000/40000 [01:18<00:00, 511.65it/s, MulticlassAccuracy=0.539, avg_loss=1.52]\n"
     ]
    },
    {
     "data": {
      "application/vnd.jupyter.widget-view+json": {
       "model_id": "083821c5a3ac4844a90ca64761208531",
       "version_major": 2,
       "version_minor": 0
      },
      "text/plain": [
       "Test epoch:   0%|          | 0/5000 [00:00<?, ?it/s]"
      ]
     },
     "metadata": {},
     "output_type": "display_data"
    },
    {
     "name": "stdout",
     "output_type": "stream",
     "text": [
      "Test epoch: 100%|██████████| 5000/5000 [00:00<00:00, 5180.91it/s, MulticlassAccuracy=0.325, avg_loss=1.9]\n"
     ]
    },
    {
     "data": {
      "application/vnd.jupyter.widget-view+json": {
       "model_id": "5bd413aa72f047bc8ea4292b3af9e38d",
       "version_major": 2,
       "version_minor": 0
      },
      "text/plain": [
       "Train loop:   0%|          | 0/40000 [00:00<?, ?it/s]"
      ]
     },
     "metadata": {},
     "output_type": "display_data"
    },
    {
     "name": "stdout",
     "output_type": "stream",
     "text": [
      "Train loop: 100%|██████████| 40000/40000 [01:18<00:00, 511.89it/s, MulticlassAccuracy=0.532, avg_loss=1.41]\n"
     ]
    },
    {
     "data": {
      "application/vnd.jupyter.widget-view+json": {
       "model_id": "f5b95803d75c4b64929286fcbbb60b90",
       "version_major": 2,
       "version_minor": 0
      },
      "text/plain": [
       "Test epoch:   0%|          | 0/5000 [00:00<?, ?it/s]"
      ]
     },
     "metadata": {},
     "output_type": "display_data"
    },
    {
     "name": "stdout",
     "output_type": "stream",
     "text": [
      "Test epoch: 100%|██████████| 5000/5000 [00:00<00:00, 5176.47it/s, MulticlassAccuracy=0.324, avg_loss=1.89]\n"
     ]
    },
    {
     "data": {
      "application/vnd.jupyter.widget-view+json": {
       "model_id": "73d8185e8c204561955c8ef2961914e0",
       "version_major": 2,
       "version_minor": 0
      },
      "text/plain": [
       "Train loop:   0%|          | 0/40000 [00:00<?, ?it/s]"
      ]
     },
     "metadata": {},
     "output_type": "display_data"
    },
    {
     "name": "stdout",
     "output_type": "stream",
     "text": [
      "Train loop: 100%|██████████| 40000/40000 [01:19<00:00, 501.26it/s, MulticlassAccuracy=0.577, avg_loss=1.32]\n"
     ]
    },
    {
     "data": {
      "application/vnd.jupyter.widget-view+json": {
       "model_id": "d93d8784139e4c3f8783dd83174e7df4",
       "version_major": 2,
       "version_minor": 0
      },
      "text/plain": [
       "Test epoch:   0%|          | 0/5000 [00:00<?, ?it/s]"
      ]
     },
     "metadata": {},
     "output_type": "display_data"
    },
    {
     "name": "stdout",
     "output_type": "stream",
     "text": [
      "Test epoch: 100%|██████████| 5000/5000 [00:01<00:00, 4996.24it/s, MulticlassAccuracy=0.325, avg_loss=1.88]\n"
     ]
    },
    {
     "data": {
      "application/vnd.jupyter.widget-view+json": {
       "model_id": "2cd0beafde894586a7a811d8886d4c51",
       "version_major": 2,
       "version_minor": 0
      },
      "text/plain": [
       "Train loop:   0%|          | 0/40000 [00:00<?, ?it/s]"
      ]
     },
     "metadata": {},
     "output_type": "display_data"
    },
    {
     "name": "stdout",
     "output_type": "stream",
     "text": [
      "Train loop: 100%|██████████| 40000/40000 [01:21<00:00, 488.35it/s, MulticlassAccuracy=0.57, avg_loss=1.23]\n"
     ]
    },
    {
     "data": {
      "application/vnd.jupyter.widget-view+json": {
       "model_id": "e720d67c76a24c0c87801f70b4edd58f",
       "version_major": 2,
       "version_minor": 0
      },
      "text/plain": [
       "Test epoch:   0%|          | 0/5000 [00:00<?, ?it/s]"
      ]
     },
     "metadata": {},
     "output_type": "display_data"
    },
    {
     "name": "stdout",
     "output_type": "stream",
     "text": [
      "Test epoch: 100%|██████████| 5000/5000 [00:01<00:00, 4984.27it/s, MulticlassAccuracy=0.327, avg_loss=1.97]\n"
     ]
    }
   ],
   "source": [
    "net = ResNet18(num_classes=num_classes).to(device)\n",
    "opt = make_optimizer(net, opt_name='sgd', lr=lr)\n",
    "forget_set = train_loop_with_poisons(\n",
    "    net, train_loader, val_loader,\n",
    "    criterion, opt,\n",
    "    epochs=epochs,\n",
    "    poison_opt_steps=5, alpha_poison=0.2,\n",
    ")\n",
    "forget_loader = DataLoader(forget_set, batch_size)"
   ]
  },
  {
   "cell_type": "code",
   "execution_count": 26,
   "metadata": {},
   "outputs": [],
   "source": [
    "class Unlearning(Enum):\n",
    "    GRADIENT_DESCENT = 0\n",
    "    GRADIENT_ASCENT = 1\n",
    "    NOISY_GRADIENT_DESCENT = 2\n",
    "    NEG_GRAD_PLUS = 3\n",
    "    CFK = 4\n",
    "    EUK = 5\n",
    "    SCRUB = 6"
   ]
  },
  {
   "cell_type": "code",
   "execution_count": 27,
   "metadata": {},
   "outputs": [],
   "source": [
    "def unlearn(\n",
    "        net: nn.Module,\n",
    "        train_loader: DataLoader,\n",
    "        forget_loader: DataLoader,\n",
    "        criterion: _Loss,\n",
    "        method: Unlearning,\n",
    "    ):\n",
    "    unlearner = deepcopy(net)\n",
    "    \n",
    "    match method:\n",
    "        case Unlearning.GRADIENT_DESCENT:\n",
    "            opt = make_optimizer(unlearner, opt_name='sgd', lr=lr)\n",
    "            gradient_descent(\n",
    "                unlearner, train_loader, val_loader,\n",
    "                criterion, opt, epochs=1, keep_pbars=False\n",
    "            )\n",
    "        \n",
    "        case Unlearning.NEG_GRAD_PLUS:\n",
    "            opt = make_optimizer(unlearner, opt_name='sgd', lr=lr)\n",
    "            for epoch in trange(10, desc='NegGrad+ epochs', unit='epoch', leave=True):\n",
    "                neg_grad_plus(\n",
    "                    unlearner, train_loader, forget_loader,\n",
    "                    criterion, opt, keep_pbars=False\n",
    "                )\n",
    "    \n",
    "        case Unlearning.EUK:\n",
    "            opt = make_optimizer(unlearner, opt_name='adam', lr=lr)\n",
    "            with unlearning_last_layers(unlearner, 6, 'euk'):\n",
    "                train_loop(unlearner, train_loader, criterion, opt, epochs=1)\n",
    "    \n",
    "    return unlearner"
   ]
  },
  {
   "cell_type": "markdown",
   "metadata": {},
   "source": [
    "#### No poisoning"
   ]
  },
  {
   "cell_type": "code",
   "execution_count": 28,
   "metadata": {},
   "outputs": [
    {
     "data": {
      "application/vnd.jupyter.widget-view+json": {
       "model_id": "31fa6cb4fd6840708442c3541cd53d8d",
       "version_major": 2,
       "version_minor": 0
      },
      "text/plain": [
       "Train epochs:   0%|          | 0/6 [00:00<?, ?epoch/s]"
      ]
     },
     "metadata": {},
     "output_type": "display_data"
    },
    {
     "data": {
      "application/vnd.jupyter.widget-view+json": {
       "model_id": "5be59d4ebaa340078b2931e248d5e4c2",
       "version_major": 2,
       "version_minor": 0
      },
      "text/plain": [
       "Train loop:   0%|          | 0/40000 [00:00<?, ?it/s]"
      ]
     },
     "metadata": {},
     "output_type": "display_data"
    },
    {
     "name": "stdout",
     "output_type": "stream",
     "text": [
      "Train loop: 100%|██████████| 40000/40000 [00:23<00:00, 1679.78it/s, MulticlassAccuracy=0.399, avg_loss=1.97]\n"
     ]
    },
    {
     "data": {
      "application/vnd.jupyter.widget-view+json": {
       "model_id": "1e089d5eaa764d599f45ff19fa0f5c2f",
       "version_major": 2,
       "version_minor": 0
      },
      "text/plain": [
       "Test epoch:   0%|          | 0/5000 [00:00<?, ?it/s]"
      ]
     },
     "metadata": {},
     "output_type": "display_data"
    },
    {
     "name": "stdout",
     "output_type": "stream",
     "text": [
      "Test epoch: 100%|██████████| 5000/5000 [00:00<00:00, 5028.12it/s, MulticlassAccuracy=0.329, avg_loss=1.75]\n"
     ]
    },
    {
     "data": {
      "application/vnd.jupyter.widget-view+json": {
       "model_id": "1b9154c0b9414a9aaecbdbab81357655",
       "version_major": 2,
       "version_minor": 0
      },
      "text/plain": [
       "Train loop:   0%|          | 0/40000 [00:00<?, ?it/s]"
      ]
     },
     "metadata": {},
     "output_type": "display_data"
    },
    {
     "name": "stdout",
     "output_type": "stream",
     "text": [
      "Train loop: 100%|██████████| 40000/40000 [00:23<00:00, 1671.01it/s, MulticlassAccuracy=0.501, avg_loss=1.64]\n"
     ]
    },
    {
     "data": {
      "application/vnd.jupyter.widget-view+json": {
       "model_id": "b98187ff90fd499f982eb8ddcd3fbdfc",
       "version_major": 2,
       "version_minor": 0
      },
      "text/plain": [
       "Train loop:   0%|          | 0/40000 [00:00<?, ?it/s]"
      ]
     },
     "metadata": {},
     "output_type": "display_data"
    },
    {
     "name": "stdout",
     "output_type": "stream",
     "text": [
      "Train loop: 100%|██████████| 40000/40000 [00:23<00:00, 1681.65it/s, MulticlassAccuracy=0.554, avg_loss=1.49]\n"
     ]
    },
    {
     "data": {
      "application/vnd.jupyter.widget-view+json": {
       "model_id": "83eaf3edb597440f8e0fa8d84a20c9d6",
       "version_major": 2,
       "version_minor": 0
      },
      "text/plain": [
       "Test epoch:   0%|          | 0/5000 [00:00<?, ?it/s]"
      ]
     },
     "metadata": {},
     "output_type": "display_data"
    },
    {
     "name": "stdout",
     "output_type": "stream",
     "text": [
      "Test epoch: 100%|██████████| 5000/5000 [00:00<00:00, 5030.82it/s, MulticlassAccuracy=0.391, avg_loss=1.47]\n"
     ]
    },
    {
     "data": {
      "application/vnd.jupyter.widget-view+json": {
       "model_id": "301f83f682b448cb8a9c25d5a7573b92",
       "version_major": 2,
       "version_minor": 0
      },
      "text/plain": [
       "Train loop:   0%|          | 0/40000 [00:00<?, ?it/s]"
      ]
     },
     "metadata": {},
     "output_type": "display_data"
    },
    {
     "name": "stdout",
     "output_type": "stream",
     "text": [
      "Train loop: 100%|██████████| 40000/40000 [00:23<00:00, 1682.72it/s, MulticlassAccuracy=0.624, avg_loss=1.38]\n"
     ]
    },
    {
     "data": {
      "application/vnd.jupyter.widget-view+json": {
       "model_id": "6b2b5395232145b0b7c8f8f95a3d2819",
       "version_major": 2,
       "version_minor": 0
      },
      "text/plain": [
       "Train loop:   0%|          | 0/40000 [00:00<?, ?it/s]"
      ]
     },
     "metadata": {},
     "output_type": "display_data"
    },
    {
     "name": "stdout",
     "output_type": "stream",
     "text": [
      "Train loop: 100%|██████████| 40000/40000 [00:23<00:00, 1674.42it/s, MulticlassAccuracy=0.631, avg_loss=1.29]\n"
     ]
    },
    {
     "data": {
      "application/vnd.jupyter.widget-view+json": {
       "model_id": "4e289126cef24e2c8e3819fdcda759a3",
       "version_major": 2,
       "version_minor": 0
      },
      "text/plain": [
       "Test epoch:   0%|          | 0/5000 [00:00<?, ?it/s]"
      ]
     },
     "metadata": {},
     "output_type": "display_data"
    },
    {
     "name": "stdout",
     "output_type": "stream",
     "text": [
      "Test epoch: 100%|██████████| 5000/5000 [00:01<00:00, 4929.21it/s, MulticlassAccuracy=0.469, avg_loss=1.34]\n"
     ]
    },
    {
     "data": {
      "application/vnd.jupyter.widget-view+json": {
       "model_id": "d21b7a8637d24d21971495ee65734561",
       "version_major": 2,
       "version_minor": 0
      },
      "text/plain": [
       "Train loop:   0%|          | 0/40000 [00:00<?, ?it/s]"
      ]
     },
     "metadata": {},
     "output_type": "display_data"
    },
    {
     "name": "stdout",
     "output_type": "stream",
     "text": [
      "Train loop: 100%|██████████| 40000/40000 [00:23<00:00, 1678.24it/s, MulticlassAccuracy=0.639, avg_loss=1.21]\n"
     ]
    },
    {
     "data": {
      "application/vnd.jupyter.widget-view+json": {
       "model_id": "b899cc9fc2634ebe9f1ae4b27604a7ea",
       "version_major": 2,
       "version_minor": 0
      },
      "text/plain": [
       "Test epoch:   0%|          | 0/5000 [00:00<?, ?it/s]"
      ]
     },
     "metadata": {},
     "output_type": "display_data"
    },
    {
     "name": "stdout",
     "output_type": "stream",
     "text": [
      "Test epoch: 100%|██████████| 5000/5000 [00:01<00:00, 4952.11it/s, MulticlassAccuracy=0.492, avg_loss=1.29]\n"
     ]
    }
   ],
   "source": [
    "clean_net = ResNet18(num_classes=num_classes).to(device)\n",
    "opt = make_optimizer(clean_net, opt_name='sgd', lr=lr)\n",
    "train_val_loop(\n",
    "    clean_net, train_loader, val_loader,\n",
    "    criterion, opt,\n",
    "    epochs=epochs,\n",
    "    metric=metric,\n",
    ");\n",
    "test_epoch(clean_net, val_loader, criterion, keep_pbars=True, metric=metric);"
   ]
  },
  {
   "cell_type": "markdown",
   "metadata": {},
   "source": [
    "#### No unlearning"
   ]
  },
  {
   "cell_type": "code",
   "execution_count": 29,
   "metadata": {},
   "outputs": [
    {
     "data": {
      "application/vnd.jupyter.widget-view+json": {
       "model_id": "0445670b3d7348a3a69cf6c5b63646f8",
       "version_major": 2,
       "version_minor": 0
      },
      "text/plain": [
       "Test epoch:   0%|          | 0/5000 [00:00<?, ?it/s]"
      ]
     },
     "metadata": {},
     "output_type": "display_data"
    },
    {
     "name": "stdout",
     "output_type": "stream",
     "text": [
      "Test epoch: 100%|██████████| 5000/5000 [00:00<00:00, 5035.53it/s, MulticlassAccuracy=0.327, avg_loss=1.97]\n"
     ]
    }
   ],
   "source": [
    "test_epoch(net, val_loader, criterion, keep_pbars=True, metric=metric);"
   ]
  },
  {
   "cell_type": "markdown",
   "metadata": {},
   "source": [
    "#### Gradient descent"
   ]
  },
  {
   "cell_type": "code",
   "execution_count": 30,
   "metadata": {},
   "outputs": [
    {
     "data": {
      "application/vnd.jupyter.widget-view+json": {
       "model_id": "f73fa783a8af424da7f265c9869cdd93",
       "version_major": 2,
       "version_minor": 0
      },
      "text/plain": [
       "Train epochs:   0%|          | 0/1 [00:00<?, ?epoch/s]"
      ]
     },
     "metadata": {},
     "output_type": "display_data"
    },
    {
     "data": {
      "application/vnd.jupyter.widget-view+json": {
       "model_id": "e4274e6cd44b400e9d3b09f49cfa2b71",
       "version_major": 2,
       "version_minor": 0
      },
      "text/plain": [
       "Train loop:   0%|          | 0/40000 [00:00<?, ?it/s]"
      ]
     },
     "metadata": {},
     "output_type": "display_data"
    },
    {
     "data": {
      "application/vnd.jupyter.widget-view+json": {
       "model_id": "2bf1f8c376104f49b44bdaa22bb57b85",
       "version_major": 2,
       "version_minor": 0
      },
      "text/plain": [
       "Test epoch:   0%|          | 0/5000 [00:00<?, ?it/s]"
      ]
     },
     "metadata": {},
     "output_type": "display_data"
    },
    {
     "data": {
      "application/vnd.jupyter.widget-view+json": {
       "model_id": "5583a2e9326244b3bc86506a1a50ca01",
       "version_major": 2,
       "version_minor": 0
      },
      "text/plain": [
       "Test epoch:   0%|          | 0/5000 [00:00<?, ?it/s]"
      ]
     },
     "metadata": {},
     "output_type": "display_data"
    },
    {
     "name": "stdout",
     "output_type": "stream",
     "text": [
      "Test epoch: 100%|██████████| 5000/5000 [00:01<00:00, 4927.82it/s, MulticlassAccuracy=0.514, avg_loss=1.25]\n"
     ]
    }
   ],
   "source": [
    "unlearner = unlearn(net, train_loader, forget_loader, criterion, Unlearning.GRADIENT_DESCENT)\n",
    "test_epoch(unlearner, val_loader, criterion, keep_pbars=True, metric=metric);"
   ]
  },
  {
   "cell_type": "markdown",
   "metadata": {},
   "source": [
    "#### NegGrad+"
   ]
  },
  {
   "cell_type": "code",
   "execution_count": 31,
   "metadata": {},
   "outputs": [
    {
     "data": {
      "application/vnd.jupyter.widget-view+json": {
       "model_id": "fc3f34e584644a89b6dbfe4520b95d19",
       "version_major": 2,
       "version_minor": 0
      },
      "text/plain": [
       "NegGrad+ epochs:   0%|          | 0/10 [00:00<?, ?epoch/s]"
      ]
     },
     "metadata": {},
     "output_type": "display_data"
    },
    {
     "data": {
      "application/vnd.jupyter.widget-view+json": {
       "model_id": "1df5cfe2b7dd4b5b99d50d9a833ef66c",
       "version_major": 2,
       "version_minor": 0
      },
      "text/plain": [
       "NegGrad+:   0%|          | 0/2400 [00:00<?, ?it/s]"
      ]
     },
     "metadata": {},
     "output_type": "display_data"
    },
    {
     "data": {
      "application/vnd.jupyter.widget-view+json": {
       "model_id": "3f86325806104ed0ae5a2e7df05410d9",
       "version_major": 2,
       "version_minor": 0
      },
      "text/plain": [
       "NegGrad+:   0%|          | 0/2400 [00:00<?, ?it/s]"
      ]
     },
     "metadata": {},
     "output_type": "display_data"
    },
    {
     "data": {
      "application/vnd.jupyter.widget-view+json": {
       "model_id": "5d8275be1a794bf889aca15b5748b6b7",
       "version_major": 2,
       "version_minor": 0
      },
      "text/plain": [
       "NegGrad+:   0%|          | 0/2400 [00:00<?, ?it/s]"
      ]
     },
     "metadata": {},
     "output_type": "display_data"
    },
    {
     "data": {
      "application/vnd.jupyter.widget-view+json": {
       "model_id": "806dc134ba3c4b4988dc989c7bf4e997",
       "version_major": 2,
       "version_minor": 0
      },
      "text/plain": [
       "NegGrad+:   0%|          | 0/2400 [00:00<?, ?it/s]"
      ]
     },
     "metadata": {},
     "output_type": "display_data"
    },
    {
     "data": {
      "application/vnd.jupyter.widget-view+json": {
       "model_id": "2d46622a60544476ba3d75b00c535dd3",
       "version_major": 2,
       "version_minor": 0
      },
      "text/plain": [
       "NegGrad+:   0%|          | 0/2400 [00:00<?, ?it/s]"
      ]
     },
     "metadata": {},
     "output_type": "display_data"
    },
    {
     "data": {
      "application/vnd.jupyter.widget-view+json": {
       "model_id": "8d3e3b9167b94703bfccb4e162ddbb60",
       "version_major": 2,
       "version_minor": 0
      },
      "text/plain": [
       "NegGrad+:   0%|          | 0/2400 [00:00<?, ?it/s]"
      ]
     },
     "metadata": {},
     "output_type": "display_data"
    },
    {
     "data": {
      "application/vnd.jupyter.widget-view+json": {
       "model_id": "c03923bbbf824b3e9ffb342743df4e0d",
       "version_major": 2,
       "version_minor": 0
      },
      "text/plain": [
       "NegGrad+:   0%|          | 0/2400 [00:00<?, ?it/s]"
      ]
     },
     "metadata": {},
     "output_type": "display_data"
    },
    {
     "data": {
      "application/vnd.jupyter.widget-view+json": {
       "model_id": "24384e9338e9456aafb0241de00b944f",
       "version_major": 2,
       "version_minor": 0
      },
      "text/plain": [
       "NegGrad+:   0%|          | 0/2400 [00:00<?, ?it/s]"
      ]
     },
     "metadata": {},
     "output_type": "display_data"
    },
    {
     "data": {
      "application/vnd.jupyter.widget-view+json": {
       "model_id": "9f27a16967e64798bc24bac05fb0065d",
       "version_major": 2,
       "version_minor": 0
      },
      "text/plain": [
       "NegGrad+:   0%|          | 0/2400 [00:00<?, ?it/s]"
      ]
     },
     "metadata": {},
     "output_type": "display_data"
    },
    {
     "data": {
      "application/vnd.jupyter.widget-view+json": {
       "model_id": "21112edb56a44c95b55e42a9b9c9017a",
       "version_major": 2,
       "version_minor": 0
      },
      "text/plain": [
       "NegGrad+:   0%|          | 0/2400 [00:00<?, ?it/s]"
      ]
     },
     "metadata": {},
     "output_type": "display_data"
    },
    {
     "data": {
      "application/vnd.jupyter.widget-view+json": {
       "model_id": "c8192914ff9b4a8dae27aedbabbc184c",
       "version_major": 2,
       "version_minor": 0
      },
      "text/plain": [
       "Test epoch:   0%|          | 0/5000 [00:00<?, ?it/s]"
      ]
     },
     "metadata": {},
     "output_type": "display_data"
    },
    {
     "name": "stdout",
     "output_type": "stream",
     "text": [
      "Test epoch: 100%|██████████| 5000/5000 [00:01<00:00, 4957.74it/s, MulticlassAccuracy=0.282, avg_loss=1.94]\n"
     ]
    }
   ],
   "source": [
    "unlearner = unlearn(net, train_loader, forget_loader, criterion, Unlearning.NEG_GRAD_PLUS)\n",
    "test_epoch(unlearner, val_loader, criterion, keep_pbars=True, metric=metric);"
   ]
  },
  {
   "cell_type": "markdown",
   "metadata": {},
   "source": [
    "#### EUk ($k = 6$)"
   ]
  },
  {
   "cell_type": "code",
   "execution_count": 32,
   "metadata": {},
   "outputs": [
    {
     "data": {
      "application/vnd.jupyter.widget-view+json": {
       "model_id": "c9c7b90123f346ce80637393fe7bfd82",
       "version_major": 2,
       "version_minor": 0
      },
      "text/plain": [
       "Train epochs:   0%|          | 0/1 [00:00<?, ?epoch/s]"
      ]
     },
     "metadata": {},
     "output_type": "display_data"
    },
    {
     "data": {
      "application/vnd.jupyter.widget-view+json": {
       "model_id": "acad12d0cf8a4b6ebb49ced59bc73b4c",
       "version_major": 2,
       "version_minor": 0
      },
      "text/plain": [
       "Train loop:   0%|          | 0/40000 [00:00<?, ?it/s]"
      ]
     },
     "metadata": {},
     "output_type": "display_data"
    },
    {
     "name": "stdout",
     "output_type": "stream",
     "text": [
      "Train loop: 100%|██████████| 40000/40000 [00:09<00:00, 4241.48it/s, avg_loss=1.21]\n"
     ]
    },
    {
     "data": {
      "application/vnd.jupyter.widget-view+json": {
       "model_id": "49b28ebe35a14925bfc6fa0a8eb28146",
       "version_major": 2,
       "version_minor": 0
      },
      "text/plain": [
       "Test epoch:   0%|          | 0/5000 [00:00<?, ?it/s]"
      ]
     },
     "metadata": {},
     "output_type": "display_data"
    },
    {
     "name": "stdout",
     "output_type": "stream",
     "text": [
      "Test epoch: 100%|██████████| 5000/5000 [00:00<00:00, 5001.93it/s, MulticlassAccuracy=0.522, avg_loss=1.28]\n"
     ]
    }
   ],
   "source": [
    "unlearner = unlearn(net, train_loader, forget_loader, criterion, Unlearning.EUK)\n",
    "test_epoch(unlearner, val_loader, criterion, keep_pbars=True, metric=metric);"
   ]
  },
  {
   "cell_type": "markdown",
   "metadata": {},
   "source": [
    "TODO: test `unlearning.model_layers()` correctness and check EUk results again on other notebooks"
   ]
  },
  {
   "cell_type": "markdown",
   "metadata": {},
   "source": [
    "### Remaining tasks\n",
    "\n",
    "- Refactoring\n",
    "- Change reconstruction attack by starting from a random pattern\n",
    "- _Little is Enough_ attack\n",
    "- Mean gradient estimation with auxiliary dataset\n",
    "- Testing against unlearning\n",
    "- Testing with different configs (optimizer, number of epochs, batch size, models)"
   ]
  }
 ],
 "metadata": {
  "kernelspec": {
   "display_name": "ml",
   "language": "python",
   "name": "ml"
  },
  "language_info": {
   "codemirror_mode": {
    "name": "ipython",
    "version": 3
   },
   "file_extension": ".py",
   "mimetype": "text/x-python",
   "name": "python",
   "nbconvert_exporter": "python",
   "pygments_lexer": "ipython3",
   "version": "3.13.2"
  }
 },
 "nbformat": 4,
 "nbformat_minor": 2
}
