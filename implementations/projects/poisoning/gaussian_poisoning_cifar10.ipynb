{
 "cells": [
  {
   "cell_type": "markdown",
   "metadata": {},
   "source": [
    "# Testing Machine Unlearning against Gaussian data poisoning\n",
    "\n",
    "This is a sample implementation of gaussian data poisoning as described by the AI Security paper [Machine Unlearning Fails to Remove Data Poisoning Attacks\n",
    "](https://arxiv.org/abs/2406.17216)."
   ]
  },
  {
   "cell_type": "markdown",
   "metadata": {},
   "source": [
    "## Imports"
   ]
  },
  {
   "cell_type": "code",
   "execution_count": 3,
   "metadata": {},
   "outputs": [],
   "source": [
    "from __future__ import annotations\n",
    "\n",
    "from copy import deepcopy\n",
    "import numpy as np\n",
    "import matplotlib.pyplot as plt\n",
    "from scipy import stats\n",
    "import pandas as pd\n",
    "import torch\n",
    "from torch import nn, Tensor\n",
    "from torch.nn import functional as F\n",
    "from torch.nn.modules.loss import _Loss, CrossEntropyLoss\n",
    "from torch.optim import Optimizer, SGD, AdamW\n",
    "from torch.utils.data import Dataset, DataLoader\n",
    "from torchvision.models import ResNet, resnet18\n",
    "from torchmetrics.classification import MulticlassAccuracy\n",
    "import torchinfo"
   ]
  },
  {
   "cell_type": "code",
   "execution_count": 4,
   "metadata": {},
   "outputs": [
    {
     "name": "stdout",
     "output_type": "stream",
     "text": [
      "Using cuda device\n"
     ]
    }
   ],
   "source": [
    "from image_classification.utils import seed_all_generators, use_tqdm\n",
    "from image_classification.accel import BEST_DEVICE, optimize_model\n",
    "from image_classification.datasets import EagerDataset, cifar10_train_test\n",
    "from image_classification.nn import (\n",
    "    train_loop,\n",
    "    test_epoch,\n",
    ")\n",
    "from image_classification.gaussian_poisoning import (\n",
    "    GaussianPoisoningDataset,\n",
    "    gaussian_unlearning_score,\n",
    ")\n",
    "from image_classification.unlearning import (\n",
    "    gradient_descent,\n",
    "    gradient_ascent,\n",
    "    neg_grad_plus,\n",
    "    oracle_unlearning,\n",
    "    unlearning_last_layers,\n",
    "    scrub,\n",
    "    NoisySGD,\n",
    ")\n",
    "\n",
    "# For deterministic results\n",
    "seed_all_generators(0x2023_2024)\n",
    "\n",
    "# NOTE: Don't forget to clear all outputs in vscode before running.\n",
    "# \n",
    "# WARNING (Windows): consider setting ascii=True and installing vscode-tqdm\n",
    "# if notebook display issues persist: https://pypi.org/project/vscode-tqdm/\n",
    "# Alternatively, set enable=False (but there won't be interactive output).\n",
    "use_tqdm(enable=True, ascii=False)"
   ]
  },
  {
   "cell_type": "markdown",
   "metadata": {},
   "source": [
    "## Datasets"
   ]
  },
  {
   "cell_type": "markdown",
   "metadata": {},
   "source": [
    "We work on the MNIST handwritten digits dataset."
   ]
  },
  {
   "cell_type": "markdown",
   "metadata": {},
   "source": [
    "### Get the dataset"
   ]
  },
  {
   "cell_type": "code",
   "execution_count": 5,
   "metadata": {},
   "outputs": [
    {
     "name": "stdout",
     "output_type": "stream",
     "text": [
      "Files already downloaded and verified\n",
      "Files already downloaded and verified\n"
     ]
    }
   ],
   "source": [
    "training_data, test_data = cifar10_train_test(root='data')\n",
    "\n",
    "N = len(training_data)\n",
    "batch_size = 50"
   ]
  },
  {
   "cell_type": "code",
   "execution_count": 6,
   "metadata": {},
   "outputs": [],
   "source": [
    "X = training_data.data\n",
    "y = training_data.targets"
   ]
  },
  {
   "cell_type": "code",
   "execution_count": 7,
   "metadata": {},
   "outputs": [],
   "source": [
    "def target_name(y: int) -> str:\n",
    "    return training_data.classes[y]"
   ]
  },
  {
   "cell_type": "markdown",
   "metadata": {},
   "source": [
    "### Poison the training samples"
   ]
  },
  {
   "cell_type": "markdown",
   "metadata": {},
   "source": [
    "The attacker poisons a fraction $\\varepsilon$ of the features with noise $(\\xi_z)_{z \\in S_\\mathrm{poison}}$ and stores the noise for future usage."
   ]
  },
  {
   "cell_type": "code",
   "execution_count": 8,
   "metadata": {},
   "outputs": [
    {
     "name": "stdout",
     "output_type": "stream",
     "text": [
      "Clean data standard deviation: 1\n",
      "Noise standard deviation: 0.1\n",
      "Noise data for poisoning: torch.Size([9999, 3, 32, 32])\n"
     ]
    }
   ],
   "source": [
    "poison_budget = 0.2\n",
    "# TODO: lower noise value\n",
    "noise_std = 0.1 * X.std().item()\n",
    "\n",
    "corrupted_dataset = GaussianPoisoningDataset(\n",
    "    training_data,\n",
    "    poison_budget,\n",
    "    noise_std,\n",
    ")\n",
    "\n",
    "S_poison: Tensor[bool] = corrupted_dataset.poison_support\n",
    "N_poison = corrupted_dataset.num_poisons()\n",
    "N_clean = N - N_poison\n",
    "\n",
    "y_base: Tensor = y[S_poison.cpu()]\n",
    "X_base: Tensor = corrupted_dataset.clean_dataset.data[S_poison]\n",
    "X_poison: Tensor = corrupted_dataset.data[S_poison]\n",
    "poisoning_noise: Tensor = corrupted_dataset.noise[S_poison]\n",
    "\n",
    "# Another independent standard noise used as a baseline for unlearning evaluation\n",
    "# (not used to corrupt the dataset)\n",
    "dummy_noise = noise_std * torch.randn_like(poisoning_noise)\n",
    "\n",
    "print(f'Clean data standard deviation: {X_base.std().item():.2g}')\n",
    "print(f'Noise standard deviation: {poisoning_noise.std().item():.2g}')\n",
    "print('Noise data for poisoning:', poisoning_noise.shape)"
   ]
  },
  {
   "cell_type": "markdown",
   "metadata": {},
   "source": [
    "### Inspecting the poisoned data"
   ]
  },
  {
   "cell_type": "code",
   "execution_count": 9,
   "metadata": {},
   "outputs": [],
   "source": [
    "def display_input_image(input: Tensor, label: Tensor, title='', cmap=None):\n",
    "    \"\"\"\n",
    "    Displays an an input image to a neural network.\n",
    "\n",
    "    `input`: a 3D tensor\n",
    "    `cmap`: grayscale by default.\n",
    "    \"\"\"\n",
    "    image = input.numpy(force=True)\n",
    "    class_ = target_name(label.item())\n",
    "\n",
    "    # Unnormalize CIFAR10 image to [0, 1]\n",
    "    mean = np.array([0.4914, 0.4822, 0.4465]).reshape(3, 1, 1)\n",
    "    std = np.array([0.247, 0.243, 0.261]).reshape(3, 1, 1)\n",
    "    image = (std * image) + mean\n",
    "\n",
    "    image = np.transpose(image, (1, 2, 0))\n",
    "\n",
    "    fig, ax = plt.subplots()\n",
    "    ax.imshow(image, cmap=cmap, interpolation='nearest')\n",
    "    plt.title(class_)\n",
    "    fig.suptitle(title, fontsize=14)\n",
    "    fig.tight_layout()"
   ]
  },
  {
   "cell_type": "code",
   "execution_count": 10,
   "metadata": {},
   "outputs": [],
   "source": [
    "%matplotlib tk"
   ]
  },
  {
   "cell_type": "code",
   "execution_count": 11,
   "metadata": {},
   "outputs": [],
   "source": [
    "display_input_image(X_base[0], y_base[0], title='Original image')"
   ]
  },
  {
   "cell_type": "code",
   "execution_count": 12,
   "metadata": {},
   "outputs": [
    {
     "name": "stderr",
     "output_type": "stream",
     "text": [
      "Clipping input data to the valid range for imshow with RGB data ([0..1] for floats or [0..255] for integers).\n"
     ]
    }
   ],
   "source": [
    "display_input_image(\n",
    "    X_poison[0], y_base[0],\n",
    "    title=f'Poisoned image with {int(100 * noise_std)} % gaussian noise'\n",
    ")"
   ]
  },
  {
   "cell_type": "markdown",
   "metadata": {},
   "source": [
    "Despite the amplitude of added noise, the image is still recognizable."
   ]
  },
  {
   "cell_type": "markdown",
   "metadata": {},
   "source": [
    "### Correlation between the poisoned data and the noise"
   ]
  },
  {
   "cell_type": "code",
   "execution_count": 10,
   "metadata": {},
   "outputs": [
    {
     "name": "stdout",
     "output_type": "stream",
     "text": [
      "Correlation matrix of clean samples and poisons\n",
      " [[1.         0.00695988]\n",
      " [0.00695988 1.        ]]\n",
      "Correlation matrix of poisoned samples and fresh gaussians\n",
      " [[1.         0.00815565]\n",
      " [0.00815565 1.        ]]\n",
      "Correlation matrix of poisoned samples and poisons\n",
      " [[1.         0.09347531]\n",
      " [0.09347531 1.        ]]\n",
      "Correlation matrix of fresh gaussians and poisons\n",
      " [[1.         0.00720037]\n",
      " [0.00720037 1.        ]]\n"
     ]
    }
   ],
   "source": [
    "# Estimate correlation between the `kx` coordinate of the samples `X`\n",
    "# and the `ky` coordinate of the samples `Y`.\n",
    "def correlation(X: Tensor, Y: Tensor, kx=0, ky=0):\n",
    "    #return torch.corrcoef(X[:, kx], Y[:, ky])\n",
    "    assert X.shape == Y.shape, f'Shape mismatch: {X.shape}, {Y.shape}'\n",
    "    X = X.flatten(start_dim=1)\n",
    "    Y = Y.flatten(start_dim=1)\n",
    "    return np.corrcoef(X[:, kx].numpy(force=True), Y[:, ky].numpy(force=True), rowvar=False)\n",
    "\n",
    "print(\n",
    "    'Correlation matrix of clean samples and poisons\\n',\n",
    "    correlation(X_base, poisoning_noise)\n",
    ")\n",
    "print(\n",
    "    'Correlation matrix of poisoned samples and fresh gaussians\\n',\n",
    "    correlation(X_base, dummy_noise)\n",
    ")\n",
    "print(\n",
    "    'Correlation matrix of poisoned samples and poisons\\n',\n",
    "    correlation(X_poison, poisoning_noise)\n",
    ")\n",
    "print(\n",
    "    'Correlation matrix of fresh gaussians and poisons\\n',\n",
    "    correlation(dummy_noise, poisoning_noise)\n",
    ")"
   ]
  },
  {
   "cell_type": "markdown",
   "metadata": {},
   "source": [
    "The defender unknowingly collects corrupted data, which contains a small fraction of poisons."
   ]
  },
  {
   "cell_type": "markdown",
   "metadata": {},
   "source": [
    "From now on, we consider the following scenario :\n",
    "1. The defender trains the model on the corrupted dataset.\n",
    "2. The defender realizes afterwards they have been poisoned, and is able to determine which part of the dataset has been corrupted.\n",
    "3. The defender runs the unlearning algorithm on the poisoned dataset.\n",
    "\n",
    "We may also study a stronger relaxation of step 2 with the hypothesis that the defender is able to determine the exact values of the poisons. This unrealistic scenario may be used to prove that Machine Unlearning is necessarily vulnerable to data poisoning. Indeed, if Machine Unlearning fails with such strong assumptions, we may conclude the effect of data poisoning on the model parameters is simply irreversible."
   ]
  },
  {
   "cell_type": "markdown",
   "metadata": {},
   "source": [
    "## The model architecture\n",
    "\n",
    "We use a convolutional neural network classifier on MNIST."
   ]
  },
  {
   "cell_type": "code",
   "execution_count": 11,
   "metadata": {},
   "outputs": [],
   "source": [
    "class Cifar10ResNet(nn.Module):\n",
    "    def __init__(self):\n",
    "        super().__init__()\n",
    "        self.resnet = resnet18(num_classes=10)\n",
    "    \n",
    "    def forward(self, x):\n",
    "        return self.resnet.forward(x).to('cpu')"
   ]
  },
  {
   "cell_type": "code",
   "execution_count": 12,
   "metadata": {},
   "outputs": [
    {
     "name": "stdout",
     "output_type": "stream",
     "text": [
      "Cifar10ResNet(\n",
      "  (resnet): ResNet(\n",
      "    (conv1): Conv2d(3, 64, kernel_size=(7, 7), stride=(2, 2), padding=(3, 3), bias=False)\n",
      "    (bn1): BatchNorm2d(64, eps=1e-05, momentum=0.1, affine=True, track_running_stats=True)\n",
      "    (relu): ReLU(inplace=True)\n",
      "    (maxpool): MaxPool2d(kernel_size=3, stride=2, padding=1, dilation=1, ceil_mode=False)\n",
      "    (layer1): Sequential(\n",
      "      (0): BasicBlock(\n",
      "        (conv1): Conv2d(64, 64, kernel_size=(3, 3), stride=(1, 1), padding=(1, 1), bias=False)\n",
      "        (bn1): BatchNorm2d(64, eps=1e-05, momentum=0.1, affine=True, track_running_stats=True)\n",
      "        (relu): ReLU(inplace=True)\n",
      "        (conv2): Conv2d(64, 64, kernel_size=(3, 3), stride=(1, 1), padding=(1, 1), bias=False)\n",
      "        (bn2): BatchNorm2d(64, eps=1e-05, momentum=0.1, affine=True, track_running_stats=True)\n",
      "      )\n",
      "      (1): BasicBlock(\n",
      "        (conv1): Conv2d(64, 64, kernel_size=(3, 3), stride=(1, 1), padding=(1, 1), bias=False)\n",
      "        (bn1): BatchNorm2d(64, eps=1e-05, momentum=0.1, affine=True, track_running_stats=True)\n",
      "        (relu): ReLU(inplace=True)\n",
      "        (conv2): Conv2d(64, 64, kernel_size=(3, 3), stride=(1, 1), padding=(1, 1), bias=False)\n",
      "        (bn2): BatchNorm2d(64, eps=1e-05, momentum=0.1, affine=True, track_running_stats=True)\n",
      "      )\n",
      "    )\n",
      "    (layer2): Sequential(\n",
      "      (0): BasicBlock(\n",
      "        (conv1): Conv2d(64, 128, kernel_size=(3, 3), stride=(2, 2), padding=(1, 1), bias=False)\n",
      "        (bn1): BatchNorm2d(128, eps=1e-05, momentum=0.1, affine=True, track_running_stats=True)\n",
      "        (relu): ReLU(inplace=True)\n",
      "        (conv2): Conv2d(128, 128, kernel_size=(3, 3), stride=(1, 1), padding=(1, 1), bias=False)\n",
      "        (bn2): BatchNorm2d(128, eps=1e-05, momentum=0.1, affine=True, track_running_stats=True)\n",
      "        (downsample): Sequential(\n",
      "          (0): Conv2d(64, 128, kernel_size=(1, 1), stride=(2, 2), bias=False)\n",
      "          (1): BatchNorm2d(128, eps=1e-05, momentum=0.1, affine=True, track_running_stats=True)\n",
      "        )\n",
      "      )\n",
      "      (1): BasicBlock(\n",
      "        (conv1): Conv2d(128, 128, kernel_size=(3, 3), stride=(1, 1), padding=(1, 1), bias=False)\n",
      "        (bn1): BatchNorm2d(128, eps=1e-05, momentum=0.1, affine=True, track_running_stats=True)\n",
      "        (relu): ReLU(inplace=True)\n",
      "        (conv2): Conv2d(128, 128, kernel_size=(3, 3), stride=(1, 1), padding=(1, 1), bias=False)\n",
      "        (bn2): BatchNorm2d(128, eps=1e-05, momentum=0.1, affine=True, track_running_stats=True)\n",
      "      )\n",
      "    )\n",
      "    (layer3): Sequential(\n",
      "      (0): BasicBlock(\n",
      "        (conv1): Conv2d(128, 256, kernel_size=(3, 3), stride=(2, 2), padding=(1, 1), bias=False)\n",
      "        (bn1): BatchNorm2d(256, eps=1e-05, momentum=0.1, affine=True, track_running_stats=True)\n",
      "        (relu): ReLU(inplace=True)\n",
      "        (conv2): Conv2d(256, 256, kernel_size=(3, 3), stride=(1, 1), padding=(1, 1), bias=False)\n",
      "        (bn2): BatchNorm2d(256, eps=1e-05, momentum=0.1, affine=True, track_running_stats=True)\n",
      "        (downsample): Sequential(\n",
      "          (0): Conv2d(128, 256, kernel_size=(1, 1), stride=(2, 2), bias=False)\n",
      "          (1): BatchNorm2d(256, eps=1e-05, momentum=0.1, affine=True, track_running_stats=True)\n",
      "        )\n",
      "      )\n",
      "      (1): BasicBlock(\n",
      "        (conv1): Conv2d(256, 256, kernel_size=(3, 3), stride=(1, 1), padding=(1, 1), bias=False)\n",
      "        (bn1): BatchNorm2d(256, eps=1e-05, momentum=0.1, affine=True, track_running_stats=True)\n",
      "        (relu): ReLU(inplace=True)\n",
      "        (conv2): Conv2d(256, 256, kernel_size=(3, 3), stride=(1, 1), padding=(1, 1), bias=False)\n",
      "        (bn2): BatchNorm2d(256, eps=1e-05, momentum=0.1, affine=True, track_running_stats=True)\n",
      "      )\n",
      "    )\n",
      "    (layer4): Sequential(\n",
      "      (0): BasicBlock(\n",
      "        (conv1): Conv2d(256, 512, kernel_size=(3, 3), stride=(2, 2), padding=(1, 1), bias=False)\n",
      "        (bn1): BatchNorm2d(512, eps=1e-05, momentum=0.1, affine=True, track_running_stats=True)\n",
      "        (relu): ReLU(inplace=True)\n",
      "        (conv2): Conv2d(512, 512, kernel_size=(3, 3), stride=(1, 1), padding=(1, 1), bias=False)\n",
      "        (bn2): BatchNorm2d(512, eps=1e-05, momentum=0.1, affine=True, track_running_stats=True)\n",
      "        (downsample): Sequential(\n",
      "          (0): Conv2d(256, 512, kernel_size=(1, 1), stride=(2, 2), bias=False)\n",
      "          (1): BatchNorm2d(512, eps=1e-05, momentum=0.1, affine=True, track_running_stats=True)\n",
      "        )\n",
      "      )\n",
      "      (1): BasicBlock(\n",
      "        (conv1): Conv2d(512, 512, kernel_size=(3, 3), stride=(1, 1), padding=(1, 1), bias=False)\n",
      "        (bn1): BatchNorm2d(512, eps=1e-05, momentum=0.1, affine=True, track_running_stats=True)\n",
      "        (relu): ReLU(inplace=True)\n",
      "        (conv2): Conv2d(512, 512, kernel_size=(3, 3), stride=(1, 1), padding=(1, 1), bias=False)\n",
      "        (bn2): BatchNorm2d(512, eps=1e-05, momentum=0.1, affine=True, track_running_stats=True)\n",
      "      )\n",
      "    )\n",
      "    (avgpool): AdaptiveAvgPool2d(output_size=(1, 1))\n",
      "    (fc): Linear(in_features=512, out_features=10, bias=True)\n",
      "  )\n",
      ")\n"
     ]
    }
   ],
   "source": [
    "model = Cifar10ResNet().to(BEST_DEVICE)\n",
    "\n",
    "print(model)"
   ]
  },
  {
   "cell_type": "markdown",
   "metadata": {},
   "source": [
    "## Train the model"
   ]
  },
  {
   "cell_type": "markdown",
   "metadata": {},
   "source": [
    "### Clean sets, corrupted sets and poisons"
   ]
  },
  {
   "cell_type": "code",
   "execution_count": 13,
   "metadata": {},
   "outputs": [],
   "source": [
    "# The retain set\n",
    "clean_subset = corrupted_dataset.clean_subset()\n",
    "clean_loader = DataLoader(clean_subset, batch_size, drop_last=True)\n",
    "\n",
    "# The forget set\n",
    "poisoned_subset = corrupted_dataset.poisoned_subset()\n",
    "poisoned_loader = DataLoader(poisoned_subset, batch_size, drop_last=True)\n",
    "\n",
    "# The forget set before poisoning\n",
    "base_subset = corrupted_dataset.clean_subset_before_poisoning()\n",
    "base_loader = DataLoader(base_subset, batch_size, drop_last=True)\n",
    "\n",
    "# The clean test set\n",
    "test_loader = DataLoader(test_data, batch_size, drop_last=True)\n",
    "\n",
    "# The corrupted set (clean and poisons)\n",
    "corrupted_loader = DataLoader(corrupted_dataset, batch_size, drop_last=True)"
   ]
  },
  {
   "cell_type": "markdown",
   "metadata": {},
   "source": [
    "### Hyperparameters"
   ]
  },
  {
   "cell_type": "code",
   "execution_count": 14,
   "metadata": {},
   "outputs": [],
   "source": [
    "lr = 1e-3\n",
    "weight_decay = 0.0\n",
    "\n",
    "epochs = 1\n",
    "\n",
    "loss_func = CrossEntropyLoss()\n",
    "\n",
    "metric = MulticlassAccuracy(num_classes=10)"
   ]
  },
  {
   "cell_type": "code",
   "execution_count": 15,
   "metadata": {},
   "outputs": [],
   "source": [
    "def make_optimizer(model: nn.Module, lr=lr, weight_decay=weight_decay) -> Optimizer:\n",
    "    return AdamW(model.parameters(), lr=lr, weight_decay=weight_decay)"
   ]
  },
  {
   "cell_type": "markdown",
   "metadata": {},
   "source": [
    "### Clean model"
   ]
  },
  {
   "cell_type": "code",
   "execution_count": 16,
   "metadata": {},
   "outputs": [
    {
     "data": {
      "application/vnd.jupyter.widget-view+json": {
       "model_id": "e65a57432a794e4f826b70b291d5d5d2",
       "version_major": 2,
       "version_minor": 0
      },
      "text/plain": [
       "Train epochs:   0%|          | 0/1 [00:00<?, ?epoch/s]"
      ]
     },
     "metadata": {},
     "output_type": "display_data"
    },
    {
     "data": {
      "application/vnd.jupyter.widget-view+json": {
       "model_id": "78d2e023c44b47eca0ccb3aa10b7f755",
       "version_major": 2,
       "version_minor": 0
      },
      "text/plain": [
       "Train loop:   0%|          | 0/40001 [00:00<?, ?it/s]"
      ]
     },
     "metadata": {},
     "output_type": "display_data"
    },
    {
     "name": "stderr",
     "output_type": "stream",
     "text": [
      "/home/lvt/.local/share/virtualenvs/ml-TQx6uCZG/lib/python3.12/site-packages/torch/autograd/graph.py:825: UserWarning: Attempting to run cuBLAS, but there was no current CUDA context! Attempting to set the primary context... (Triggered internally at ../aten/src/ATen/cuda/CublasHandlePool.cpp:135.)\n",
      "  return Variable._execution_engine.run_backward(  # Calls into the C++ engine to run the backward pass\n"
     ]
    },
    {
     "name": "stdout",
     "output_type": "stream",
     "text": [
      "Train loop: 100%|█████████▉| 40000/40001 [00:14<00:00, 2853.38it/s, loss=1.17]\n"
     ]
    },
    {
     "data": {
      "application/vnd.jupyter.widget-view+json": {
       "model_id": "d3909fc690664c478590e595f141b2c7",
       "version_major": 2,
       "version_minor": 0
      },
      "text/plain": [
       "Test loop:   0%|          | 0/10000 [00:00<?, ?it/s]"
      ]
     },
     "metadata": {},
     "output_type": "display_data"
    },
    {
     "name": "stdout",
     "output_type": "stream",
     "text": [
      "Test loop: 100%|██████████| 10000/10000 [00:01<00:00, 6777.29it/s, MulticlassAccuracy=0.559, avg_loss=1.2]\n"
     ]
    }
   ],
   "source": [
    "clean_model = deepcopy(model)\n",
    "opt = make_optimizer(clean_model)\n",
    "train_loop(clean_model, clean_loader, loss_func, opt, epochs=epochs)\n",
    "test_epoch(clean_model, test_loader, loss_func, keep_pbars=True, metric=metric)"
   ]
  },
  {
   "cell_type": "markdown",
   "metadata": {},
   "source": [
    "### Corrupted model"
   ]
  },
  {
   "cell_type": "code",
   "execution_count": 17,
   "metadata": {},
   "outputs": [
    {
     "data": {
      "application/vnd.jupyter.widget-view+json": {
       "model_id": "a3d8053f06c848268cbca2c8d2d66ab7",
       "version_major": 2,
       "version_minor": 0
      },
      "text/plain": [
       "Train epochs:   0%|          | 0/1 [00:00<?, ?epoch/s]"
      ]
     },
     "metadata": {},
     "output_type": "display_data"
    },
    {
     "data": {
      "application/vnd.jupyter.widget-view+json": {
       "model_id": "d7cc8bc257e44739889cf6636f7e4188",
       "version_major": 2,
       "version_minor": 0
      },
      "text/plain": [
       "Train loop:   0%|          | 0/50000 [00:00<?, ?it/s]"
      ]
     },
     "metadata": {},
     "output_type": "display_data"
    },
    {
     "name": "stdout",
     "output_type": "stream",
     "text": [
      "Train loop: 100%|██████████| 50000/50000 [00:14<00:00, 3426.13it/s, loss=1.27]\n"
     ]
    }
   ],
   "source": [
    "corrupted_model = deepcopy(model)\n",
    "opt = make_optimizer(corrupted_model)\n",
    "train_loop(corrupted_model, corrupted_loader, loss_func, opt, epochs=1)"
   ]
  },
  {
   "cell_type": "code",
   "execution_count": 18,
   "metadata": {},
   "outputs": [
    {
     "name": "stdout",
     "output_type": "stream",
     "text": [
      "\n",
      "\n",
      "On the clean subset:\n"
     ]
    },
    {
     "data": {
      "application/vnd.jupyter.widget-view+json": {
       "model_id": "fd885247182048d29178b88d2f79240f",
       "version_major": 2,
       "version_minor": 0
      },
      "text/plain": [
       "Test loop:   0%|          | 0/40001 [00:00<?, ?it/s]"
      ]
     },
     "metadata": {},
     "output_type": "display_data"
    },
    {
     "name": "stdout",
     "output_type": "stream",
     "text": [
      "Test loop: 100%|█████████▉| 40000/40001 [00:06<00:00, 6108.52it/s, MulticlassAccuracy=0.672, avg_loss=1.01]\n",
      "\n",
      "\n",
      "On the (clean) test set:\n"
     ]
    },
    {
     "data": {
      "application/vnd.jupyter.widget-view+json": {
       "model_id": "7eac63941cb54842b45f066aa7e10b3a",
       "version_major": 2,
       "version_minor": 0
      },
      "text/plain": [
       "Test loop:   0%|          | 0/10000 [00:00<?, ?it/s]"
      ]
     },
     "metadata": {},
     "output_type": "display_data"
    },
    {
     "name": "stdout",
     "output_type": "stream",
     "text": [
      "Test loop: 100%|██████████| 10000/10000 [00:01<00:00, 6705.00it/s, MulticlassAccuracy=0.608, avg_loss=1.07]\n",
      "\n",
      "\n",
      "On the original version of the poisoned subset before poisoning:\n"
     ]
    },
    {
     "data": {
      "application/vnd.jupyter.widget-view+json": {
       "model_id": "74ae3cf2aedb4d59bf92a8123f889724",
       "version_major": 2,
       "version_minor": 0
      },
      "text/plain": [
       "Test loop:   0%|          | 0/9999 [00:00<?, ?it/s]"
      ]
     },
     "metadata": {},
     "output_type": "display_data"
    },
    {
     "name": "stdout",
     "output_type": "stream",
     "text": [
      "Test loop: 100%|█████████▉| 9950/9999 [00:01<00:00, 5437.13it/s, MulticlassAccuracy=0.73, avg_loss=1.03]\n",
      "\n",
      "\n",
      "On the poisoned subset:\n"
     ]
    },
    {
     "data": {
      "application/vnd.jupyter.widget-view+json": {
       "model_id": "3541e55b1c3344ed9e842068d9461782",
       "version_major": 2,
       "version_minor": 0
      },
      "text/plain": [
       "Test loop:   0%|          | 0/9999 [00:00<?, ?it/s]"
      ]
     },
     "metadata": {},
     "output_type": "display_data"
    },
    {
     "name": "stdout",
     "output_type": "stream",
     "text": [
      "Test loop: 100%|█████████▉| 9950/9999 [00:01<00:00, 5322.63it/s, MulticlassAccuracy=0.73, avg_loss=1.03]\n"
     ]
    }
   ],
   "source": [
    "#inspect_model(corrupted_model)\n",
    "\n",
    "# FIXME: loss shouldn't be strictly equal to zero\n",
    "print('\\n\\nOn the clean subset:')\n",
    "test_epoch(corrupted_model, clean_loader, loss_func, keep_pbars=True, metric=metric)\n",
    "\n",
    "print('\\n\\nOn the (clean) test set:')\n",
    "test_epoch(corrupted_model, test_loader, loss_func, keep_pbars=True, metric=metric)\n",
    "\n",
    "print('\\n\\nOn the original version of the poisoned subset before poisoning:')\n",
    "test_epoch(corrupted_model, base_loader, loss_func, keep_pbars=True, metric=metric)\n",
    "\n",
    "print('\\n\\nOn the poisoned subset:')\n",
    "test_epoch(corrupted_model, poisoned_loader, loss_func, keep_pbars=True, metric=metric)\n"
   ]
  },
  {
   "cell_type": "markdown",
   "metadata": {},
   "source": [
    "It is quite remarkable that the model actually performs better on the clean dataset than the corrupted dataset, even though it was trained on the corrupted one. This means the model did not really learn the noise (did not overfit)."
   ]
  },
  {
   "cell_type": "markdown",
   "metadata": {},
   "source": [
    "### Are model outputs correlated to the noise?"
   ]
  },
  {
   "cell_type": "code",
   "execution_count": 19,
   "metadata": {},
   "outputs": [
    {
     "data": {
      "text/plain": [
       "torch.Size([9999, 10])"
      ]
     },
     "execution_count": 19,
     "metadata": {},
     "output_type": "execute_result"
    }
   ],
   "source": [
    "corrupted_model(X_poison).shape"
   ]
  },
  {
   "cell_type": "code",
   "execution_count": 20,
   "metadata": {},
   "outputs": [
    {
     "data": {
      "text/plain": [
       "torch.Size([9999, 3, 32, 32])"
      ]
     },
     "execution_count": 20,
     "metadata": {},
     "output_type": "execute_result"
    }
   ],
   "source": [
    "dummy_noise.shape"
   ]
  },
  {
   "cell_type": "markdown",
   "metadata": {},
   "source": [
    "TODO: use spearman rank correlation coef. ?"
   ]
  },
  {
   "cell_type": "code",
   "execution_count": 21,
   "metadata": {},
   "outputs": [],
   "source": [
    "#with torch.no_grad():\n",
    "#    print(\n",
    "#        'Correlation matrix of model outputs (before unlearning) and fresh noise\\n',\n",
    "#        correlation(corrupted_model(X_poison), dummy_noise)\n",
    "#    )\n",
    "#    print(\n",
    "#        'Correlation matrix of model outputs (before unlearning) and poisoning noise\\n',\n",
    "#        correlation(corrupted_model(X_poison), poisoning_noise)\n",
    "#    )"
   ]
  },
  {
   "cell_type": "markdown",
   "metadata": {},
   "source": [
    "**Nope! But this computation does not make sense!**"
   ]
  },
  {
   "cell_type": "markdown",
   "metadata": {},
   "source": [
    "### Model shift with poisoning\n",
    "\n",
    "TODO: prove that model update direction is orthogonal"
   ]
  },
  {
   "cell_type": "code",
   "execution_count": 22,
   "metadata": {},
   "outputs": [],
   "source": [
    "def model_to_tensor(model: nn.Module) -> Tensor:\n",
    "    params = [\n",
    "        param.detach().flatten()\n",
    "        for param in model.parameters()\n",
    "    ]\n",
    "    return torch.cat(params)\n",
    "\n",
    "def model_gradients(model: nn.Module) -> Tensor:\n",
    "    params = [\n",
    "        param.grad.detach().flatten()\n",
    "        for param in model.parameters()\n",
    "    ]\n",
    "    return torch.cat(params)\n",
    "        "
   ]
  },
  {
   "cell_type": "code",
   "execution_count": 23,
   "metadata": {},
   "outputs": [],
   "source": [
    "def make_corrupted_dataset(\n",
    "        poison_budget: float,\n",
    "        eps: float = noise_std,\n",
    "    ) -> GaussianPoisoningDataset:\n",
    "    return GaussianPoisoningDataset(\n",
    "        training_data,\n",
    "        poison_budget,\n",
    "        eps,\n",
    "    )\n",
    "\n",
    "def train_new_model_on(\n",
    "        dataset: Dataset,\n",
    "    ) -> Cifar10ResNet:\n",
    "    corrupted_loader = DataLoader(dataset, batch_size, drop_last=True)\n",
    "\n",
    "    poisoned_model = Cifar10ResNet().to(BEST_DEVICE)\n",
    "    opt = make_optimizer(poisoned_model, lr=5e-3)\n",
    "    train_loop(poisoned_model, corrupted_loader, loss_func, opt, epochs=epochs, keep_pbars=False)\n",
    "\n",
    "    return poisoned_model"
   ]
  },
  {
   "cell_type": "code",
   "execution_count": 24,
   "metadata": {},
   "outputs": [],
   "source": [
    "def model_relative_diff(\n",
    "        clean_model: nn.Module,\n",
    "        poisoned_model: nn.Module,\n",
    "    ) -> float:\n",
    "    clean_model.eval()\n",
    "    poisoned_model.eval()\n",
    "\n",
    "    theta_corr = model_to_tensor(poisoned_model)\n",
    "    theta_clean = model_to_tensor(clean_model)\n",
    "    diff = torch.norm(theta_corr - theta_clean, 1)\n",
    "    return (diff / torch.norm(theta_clean, 1)).item()"
   ]
  },
  {
   "cell_type": "code",
   "execution_count": 25,
   "metadata": {},
   "outputs": [
    {
     "data": {
      "text/plain": [
       "0.23351937532424927"
      ]
     },
     "execution_count": 25,
     "metadata": {},
     "output_type": "execute_result"
    }
   ],
   "source": [
    "model_relative_diff(clean_model, corrupted_model)"
   ]
  },
  {
   "cell_type": "code",
   "execution_count": 26,
   "metadata": {},
   "outputs": [],
   "source": [
    "from tqdm.auto import tqdm\n",
    "\n",
    "\n",
    "def model_shift_against_poison_budget(n=30):\n",
    "    poison_budgets = np.linspace(0.0, 1.0, n)\n",
    "    rows = []\n",
    "    for poison_budget in tqdm(poison_budgets, desc='Poison budget'):\n",
    "        corrupted_data = make_corrupted_dataset(poison_budget)\n",
    "        poisoned_model = train_new_model_on(corrupted_data)\n",
    "        model_shift = model_relative_diff(clean_model, poisoned_model)\n",
    "        rows.append([poison_budget, model_shift])\n",
    "    \n",
    "    return pd.DataFrame(rows, columns=['poison_budget', 'model_shift'])\n"
   ]
  },
  {
   "cell_type": "code",
   "execution_count": 27,
   "metadata": {},
   "outputs": [
    {
     "data": {
      "application/vnd.jupyter.widget-view+json": {
       "model_id": "677f1084ffef42f2bf55d173026e9e84",
       "version_major": 2,
       "version_minor": 0
      },
      "text/plain": [
       "Poison budget:   0%|          | 0/10 [00:00<?, ?it/s]"
      ]
     },
     "metadata": {},
     "output_type": "display_data"
    },
    {
     "data": {
      "application/vnd.jupyter.widget-view+json": {
       "model_id": "f627ac1f7dea4774ac4a9c2a2f8cb3ba",
       "version_major": 2,
       "version_minor": 0
      },
      "text/plain": [
       "Train epochs:   0%|          | 0/1 [00:00<?, ?epoch/s]"
      ]
     },
     "metadata": {},
     "output_type": "display_data"
    },
    {
     "data": {
      "application/vnd.jupyter.widget-view+json": {
       "model_id": "305f609649e4435887ed6f02c358c3ac",
       "version_major": 2,
       "version_minor": 0
      },
      "text/plain": [
       "Train loop:   0%|          | 0/50000 [00:00<?, ?it/s]"
      ]
     },
     "metadata": {},
     "output_type": "display_data"
    },
    {
     "data": {
      "application/vnd.jupyter.widget-view+json": {
       "model_id": "be6d4f704916404da9db867d03a44b71",
       "version_major": 2,
       "version_minor": 0
      },
      "text/plain": [
       "Train epochs:   0%|          | 0/1 [00:00<?, ?epoch/s]"
      ]
     },
     "metadata": {},
     "output_type": "display_data"
    },
    {
     "data": {
      "application/vnd.jupyter.widget-view+json": {
       "model_id": "9e21464b32004619b989c5cc123bf2c3",
       "version_major": 2,
       "version_minor": 0
      },
      "text/plain": [
       "Train loop:   0%|          | 0/50000 [00:00<?, ?it/s]"
      ]
     },
     "metadata": {},
     "output_type": "display_data"
    },
    {
     "data": {
      "application/vnd.jupyter.widget-view+json": {
       "model_id": "3e0faefb703e46a193048212bc6171ce",
       "version_major": 2,
       "version_minor": 0
      },
      "text/plain": [
       "Train epochs:   0%|          | 0/1 [00:00<?, ?epoch/s]"
      ]
     },
     "metadata": {},
     "output_type": "display_data"
    },
    {
     "data": {
      "application/vnd.jupyter.widget-view+json": {
       "model_id": "650d054e2fb74e639a728cdc84408c8c",
       "version_major": 2,
       "version_minor": 0
      },
      "text/plain": [
       "Train loop:   0%|          | 0/50000 [00:00<?, ?it/s]"
      ]
     },
     "metadata": {},
     "output_type": "display_data"
    },
    {
     "data": {
      "application/vnd.jupyter.widget-view+json": {
       "model_id": "02c2a17205a647929966d499d4734fac",
       "version_major": 2,
       "version_minor": 0
      },
      "text/plain": [
       "Train epochs:   0%|          | 0/1 [00:00<?, ?epoch/s]"
      ]
     },
     "metadata": {},
     "output_type": "display_data"
    },
    {
     "data": {
      "application/vnd.jupyter.widget-view+json": {
       "model_id": "5dcf699f81ae46378303e786cde8a3ff",
       "version_major": 2,
       "version_minor": 0
      },
      "text/plain": [
       "Train loop:   0%|          | 0/50000 [00:00<?, ?it/s]"
      ]
     },
     "metadata": {},
     "output_type": "display_data"
    },
    {
     "data": {
      "application/vnd.jupyter.widget-view+json": {
       "model_id": "50983fc280d847b9bf4c9eca51c75374",
       "version_major": 2,
       "version_minor": 0
      },
      "text/plain": [
       "Train epochs:   0%|          | 0/1 [00:00<?, ?epoch/s]"
      ]
     },
     "metadata": {},
     "output_type": "display_data"
    },
    {
     "data": {
      "application/vnd.jupyter.widget-view+json": {
       "model_id": "c85d5c489d0941ab9b250ce749b589a1",
       "version_major": 2,
       "version_minor": 0
      },
      "text/plain": [
       "Train loop:   0%|          | 0/50000 [00:00<?, ?it/s]"
      ]
     },
     "metadata": {},
     "output_type": "display_data"
    },
    {
     "data": {
      "application/vnd.jupyter.widget-view+json": {
       "model_id": "3ac3801b1ce44c3a991e159546230ff3",
       "version_major": 2,
       "version_minor": 0
      },
      "text/plain": [
       "Train epochs:   0%|          | 0/1 [00:00<?, ?epoch/s]"
      ]
     },
     "metadata": {},
     "output_type": "display_data"
    },
    {
     "data": {
      "application/vnd.jupyter.widget-view+json": {
       "model_id": "fba7be757bf44bada842e849ca1a49d5",
       "version_major": 2,
       "version_minor": 0
      },
      "text/plain": [
       "Train loop:   0%|          | 0/50000 [00:00<?, ?it/s]"
      ]
     },
     "metadata": {},
     "output_type": "display_data"
    },
    {
     "data": {
      "application/vnd.jupyter.widget-view+json": {
       "model_id": "60f6c50c0a3448b39f4937ff9fcd03a5",
       "version_major": 2,
       "version_minor": 0
      },
      "text/plain": [
       "Train epochs:   0%|          | 0/1 [00:00<?, ?epoch/s]"
      ]
     },
     "metadata": {},
     "output_type": "display_data"
    },
    {
     "data": {
      "application/vnd.jupyter.widget-view+json": {
       "model_id": "ef6334f893d84a0793fb5406646edacf",
       "version_major": 2,
       "version_minor": 0
      },
      "text/plain": [
       "Train loop:   0%|          | 0/50000 [00:00<?, ?it/s]"
      ]
     },
     "metadata": {},
     "output_type": "display_data"
    },
    {
     "data": {
      "application/vnd.jupyter.widget-view+json": {
       "model_id": "e35008101a674a6986f1729690d8d93f",
       "version_major": 2,
       "version_minor": 0
      },
      "text/plain": [
       "Train epochs:   0%|          | 0/1 [00:00<?, ?epoch/s]"
      ]
     },
     "metadata": {},
     "output_type": "display_data"
    },
    {
     "data": {
      "application/vnd.jupyter.widget-view+json": {
       "model_id": "cc140dfdd7364c1d8fca68770cc58567",
       "version_major": 2,
       "version_minor": 0
      },
      "text/plain": [
       "Train loop:   0%|          | 0/50000 [00:00<?, ?it/s]"
      ]
     },
     "metadata": {},
     "output_type": "display_data"
    },
    {
     "data": {
      "application/vnd.jupyter.widget-view+json": {
       "model_id": "05bfd692d7114836b458026df9c5bc4b",
       "version_major": 2,
       "version_minor": 0
      },
      "text/plain": [
       "Train epochs:   0%|          | 0/1 [00:00<?, ?epoch/s]"
      ]
     },
     "metadata": {},
     "output_type": "display_data"
    },
    {
     "data": {
      "application/vnd.jupyter.widget-view+json": {
       "model_id": "277a1b5dc5694c4ea8872708bd421e5b",
       "version_major": 2,
       "version_minor": 0
      },
      "text/plain": [
       "Train loop:   0%|          | 0/50000 [00:00<?, ?it/s]"
      ]
     },
     "metadata": {},
     "output_type": "display_data"
    },
    {
     "data": {
      "application/vnd.jupyter.widget-view+json": {
       "model_id": "8d7bb02f236b4a72b08ba0b68117e3f0",
       "version_major": 2,
       "version_minor": 0
      },
      "text/plain": [
       "Train epochs:   0%|          | 0/1 [00:00<?, ?epoch/s]"
      ]
     },
     "metadata": {},
     "output_type": "display_data"
    },
    {
     "data": {
      "application/vnd.jupyter.widget-view+json": {
       "model_id": "778ed00f6d6644d1a80730b3aaf990bf",
       "version_major": 2,
       "version_minor": 0
      },
      "text/plain": [
       "Train loop:   0%|          | 0/50000 [00:00<?, ?it/s]"
      ]
     },
     "metadata": {},
     "output_type": "display_data"
    }
   ],
   "source": [
    "df = model_shift_against_poison_budget(n=10)"
   ]
  },
  {
   "cell_type": "code",
   "execution_count": 28,
   "metadata": {},
   "outputs": [
    {
     "data": {
      "image/png": "[encoded data removed]",
      "text/plain": [
       "<Figure size 640x480 with 1 Axes>"
      ]
     },
     "metadata": {},
     "output_type": "display_data"
    }
   ],
   "source": [
    "df.plot.line(x='poison_budget', y='model_shift')\n",
    "plt.xlabel('Poison budget')\n",
    "plt.ylabel('Model shift relative to clean model')\n",
    "plt.title('Corrupted model shift against poison budget')\n",
    "plt.show()"
   ]
  },
  {
   "cell_type": "markdown",
   "metadata": {},
   "source": [
    "FIXME: this is not coherent with the order of magnitude of the previous value!"
   ]
  },
  {
   "cell_type": "code",
   "execution_count": 29,
   "metadata": {},
   "outputs": [],
   "source": [
    "def figure_5_a(\n",
    "        clean_model: nn.Module,\n",
    "        poisoned_model: nn.Module,\n",
    "        clean_loader: DataLoader,\n",
    "        loss_fn: _Loss,\n",
    "    ):\n",
    "    clean_model.eval()\n",
    "    poisoned_model.eval()\n",
    "\n",
    "    cos_sims = []\n",
    "\n",
    "    theta_clean = model_to_tensor(clean_model)\n",
    "\n",
    "    #def grad_hook(model: nn.Module, grad_input):\n",
    "    #    theta = model_to_tensor(model)\n",
    "    #    g = model_gradients(model)\n",
    "    #    v = theta - theta_clean\n",
    "    #    cos_sims.append(torch.cosine_similarity(v, g, dim=0).item())\n",
    "\n",
    "    #handle = poisoned_model.register_full_backward_pre_hook(grad_hook)\n",
    "\n",
    "    for X_b, y_b in clean_loader:\n",
    "        loss = loss_fn(poisoned_model(X_b), y_b)\n",
    "        loss.backward()\n",
    "\n",
    "        g = model_gradients(poisoned_model)\n",
    "        v = model_to_tensor(poisoned_model) - theta_clean\n",
    "        cos_sims.append(torch.cosine_similarity(v, g, dim=0).item())\n",
    "    \n",
    "    cos_sims = np.array(cos_sims)\n",
    "\n",
    "    #handle.remove()\n",
    "\n",
    "    plt.hist(cos_sims, bins='rice')\n",
    "    plt.xlabel(fr'$\\langle v, g_t \\rangle / \\Vert v \\Vert \\Vert g_t \\Vert$')\n",
    "    \n",
    "    axes = plt.gca()\n",
    "    axes.xaxis.set_major_formatter('{x:.1e}')\n",
    "\n",
    "    plt.title(fr'Cosine similarity between batch gradient updates and clean vs. poison model shift')\n",
    "    plt.show()\n"
   ]
  },
  {
   "cell_type": "code",
   "execution_count": 30,
   "metadata": {},
   "outputs": [
    {
     "data": {
      "image/png": "[encoded data removed]",
      "text/plain": [
       "<Figure size 640x480 with 1 Axes>"
      ]
     },
     "metadata": {},
     "output_type": "display_data"
    }
   ],
   "source": [
    "figure_5_a(clean_model, corrupted_model, clean_loader, loss_func)"
   ]
  },
  {
   "cell_type": "markdown",
   "metadata": {},
   "source": [
    "Interpretation: after poisoning, the model shift is orthogonal to the batch gradient updates, which means gradient-based methods fail to effectively unlearn the noise.\n",
    "\n",
    "TODO: give a mathematical explanation for simple models"
   ]
  },
  {
   "cell_type": "markdown",
   "metadata": {},
   "source": [
    "## Machine Unlearning"
   ]
  },
  {
   "cell_type": "markdown",
   "metadata": {},
   "source": [
    "### Gradient Descent (GD)\n",
    "\n",
    "> GD continues to train the model $\\theta_{\\mathrm{initial}}$ on the\n",
    "remaining dataset $S_{\\mathrm{train}} \\setminus U$ by using gradient descent. In particular, we obtain $\\theta_{\\mathrm{updated}}$ via\n",
    "> \n",
    "> $\\theta_{t+1} \\gets \\theta_t − \\eta g_t (\\theta_t)$ with $\\theta_1 = \\theta_{\\mathrm{initial}}$\n",
    "> \n",
    "> where $\\eta$ denotes the step size and $g_t$ denotes a (mini-batch) gradient computed for the the training\n",
    "loss $\\widehat{\\mathbb{E}}_{(x,y) \\in S_{\\mathrm{train}} \\setminus U} \\left[l((x, y), \\theta)\\right]$ defined using the remaining dataset $S_{\\mathrm{train}} \\setminus U$, where $l$ is a loss function, e.g., cross-entropy loss, hinge loss, etc."
   ]
  },
  {
   "cell_type": "markdown",
   "metadata": {},
   "source": [
    "### Gradient Ascent (GA)\n",
    "\n",
    "> GA is an unlearning algorithm which attempts to remove the influence of the forget set $U$ from the trained model by simply reversing the gradient updates that contain information about $U$. In particular, we update via\n",
    "> \n",
    "> $\\theta_{t+1} \\gets \\theta_t + \\eta g_t (\\theta_t)$ with $\\theta_1 = \\theta_{\\mathrm{initial}}$\n",
    "> \n",
    "> where $g_t$ denotes a (mini-batch) gradient computed for the the training loss $\\widehat{\\mathbb{E}}_{(x,y) \\in U} \\left[l((x, y), \\theta)\\right]$ on the deletion\n",
    "set."
   ]
  },
  {
   "cell_type": "markdown",
   "metadata": {},
   "source": [
    "## Evaluate the effect of Gaussian data poisoning\n",
    "\n",
    "We follow the *Algorithm 3* in the original paper of Pawelczyk et al."
   ]
  },
  {
   "cell_type": "code",
   "execution_count": 31,
   "metadata": {},
   "outputs": [],
   "source": [
    "# NOTE: the computed standard deviation might not be 1 due to gradient vanishing\n",
    "def evaluate_unlearning(\n",
    "        model: nn.Module,\n",
    "        base_data: Dataset,\n",
    "        noise: Dataset,\n",
    "        noise_std: float,\n",
    "        loss_fn: _Loss,\n",
    "        xi_name=r'$\\xi$', g_name='g', method='',\n",
    "    ):\n",
    "    I_poison = gaussian_unlearning_score(\n",
    "        model,\n",
    "        base_data,\n",
    "        noise,\n",
    "        noise_std,\n",
    "        loss_fn,\n",
    "    )\n",
    "\n",
    "    mean = I_poison.mean()\n",
    "    std = I_poison.std()\n",
    "\n",
    "    mean_std_theory = 1. / np.sqrt(float(len(noise)))\n",
    "\n",
    "    plt.hist(I_poison, density=True)\n",
    "\n",
    "    iz = np.linspace(I_poison.min(), I_poison.max())\n",
    "    distr = stats.norm(mean, std)\n",
    "    plt.plot(iz, distr.pdf(iz), label=fr'Gaussian fit: $\\mathcal{{N}}({mean:.3}, {std**2:.3})$')\n",
    "    \n",
    "    distr = stats.norm(0.0, 1.0)\n",
    "    plt.plot(iz, distr.pdf(iz), label=fr'Theory: $\\mathcal{{N}}(0 \\pm {mean_std_theory:.3g}, 1)$')\n",
    "\n",
    "    plt.xlabel(fr'$\\mathcal{{I}}_{{\\mathrm{{poison}}}} = \\frac{{\\langle \\xi, {g_name} \\rangle}}{{\\epsilon ||{g_name}||_2}}$')\n",
    "    plt.title(fr'Normalized dot product distribution between input gradients ${g_name}$ and {xi_name}')\n",
    "    if method:\n",
    "        plt.suptitle(method)\n",
    "    plt.legend()\n",
    "    plt.show()"
   ]
  },
  {
   "cell_type": "code",
   "execution_count": 32,
   "metadata": {},
   "outputs": [
    {
     "data": {
      "text/plain": [
       "<module 'image_classification.gaussian_poisoning' from '/home/lvt/dev/python/ml/psc/playground/implementations/projects/poisoning/image_classification/gaussian_poisoning.py'>"
      ]
     },
     "execution_count": 32,
     "metadata": {},
     "output_type": "execute_result"
    }
   ],
   "source": [
    "from importlib import reload\n",
    "import image_classification.gaussian_poisoning\n",
    "reload(image_classification.gaussian_poisoning)"
   ]
  },
  {
   "cell_type": "code",
   "execution_count": 33,
   "metadata": {},
   "outputs": [],
   "source": [
    "from image_classification.gaussian_poisoning import gaussian_unlearning_score"
   ]
  },
  {
   "cell_type": "code",
   "execution_count": 34,
   "metadata": {},
   "outputs": [
    {
     "data": {
      "image/png": "[encoded data removed]",
      "text/plain": [
       "<Figure size 640x480 with 1 Axes>"
      ]
     },
     "metadata": {},
     "output_type": "display_data"
    }
   ],
   "source": [
    "loss_func_no_reduction = CrossEntropyLoss(reduction='none')\n",
    "\n",
    "evaluate_unlearning(\n",
    "    corrupted_model, base_subset, dummy_noise, noise_std, loss_func_no_reduction,\n",
    "    xi_name=r'fresh gaussians $\\tilde{\\xi}$', g_name=r'g_{\\mathrm{initial}}', method='Independent noise'\n",
    ")"
   ]
  },
  {
   "cell_type": "markdown",
   "metadata": {},
   "source": [
    "When testing against independent noise, the result should be equivalent to perfect unlearning."
   ]
  },
  {
   "cell_type": "code",
   "execution_count": 35,
   "metadata": {},
   "outputs": [
    {
     "ename": "KeyboardInterrupt",
     "evalue": "",
     "output_type": "error",
     "traceback": [
      "\u001b[0;31m---------------------------------------------------------------------------\u001b[0m",
      "\u001b[0;31mKeyboardInterrupt\u001b[0m                         Traceback (most recent call last)",
      "Cell \u001b[0;32mIn[35], line 1\u001b[0m\n\u001b[0;32m----> 1\u001b[0m evaluate_unlearning(\n\u001b[1;32m      2\u001b[0m     corrupted_model, base_subset, poisoning_noise, noise_std, loss_func_no_reduction,\n\u001b[1;32m      3\u001b[0m     xi_name\u001b[39m=\u001b[39;49m\u001b[39mr\u001b[39;49m\u001b[39m'\u001b[39;49m\u001b[39mpoisons $\u001b[39;49m\u001b[39m\\\u001b[39;49m\u001b[39mxi$\u001b[39;49m\u001b[39m'\u001b[39;49m, g_name\u001b[39m=\u001b[39;49m\u001b[39mr\u001b[39;49m\u001b[39m'\u001b[39;49m\u001b[39mg_\u001b[39;49m\u001b[39m{\u001b[39;49m\u001b[39m\\\u001b[39;49m\u001b[39mmathrm\u001b[39;49m\u001b[39m{initial}\u001b[39;49;00m\u001b[39m}\u001b[39;49m\u001b[39m'\u001b[39;49m, method\u001b[39m=\u001b[39;49m\u001b[39m'\u001b[39;49m\u001b[39mNo unlearning\u001b[39;49m\u001b[39m'\u001b[39;49m\n\u001b[1;32m      4\u001b[0m )\n",
      "Cell \u001b[0;32mIn[31], line 10\u001b[0m, in \u001b[0;36mevaluate_unlearning\u001b[0;34m(model, base_data, noise, noise_std, loss_fn, xi_name, g_name, method)\u001b[0m\n\u001b[1;32m      2\u001b[0m \u001b[39mdef\u001b[39;00m\u001b[39m \u001b[39m\u001b[39mevaluate_unlearning\u001b[39m(\n\u001b[1;32m      3\u001b[0m         model: nn\u001b[39m.\u001b[39mModule,\n\u001b[1;32m      4\u001b[0m         base_data: Dataset,\n\u001b[0;32m   (...)\u001b[0m\n\u001b[1;32m      8\u001b[0m         xi_name\u001b[39m=\u001b[39m\u001b[39mr\u001b[39m\u001b[39m'\u001b[39m\u001b[39m$\u001b[39m\u001b[39m\\\u001b[39m\u001b[39mxi$\u001b[39m\u001b[39m'\u001b[39m, g_name\u001b[39m=\u001b[39m\u001b[39m'\u001b[39m\u001b[39mg\u001b[39m\u001b[39m'\u001b[39m, method\u001b[39m=\u001b[39m\u001b[39m'\u001b[39m\u001b[39m'\u001b[39m,\n\u001b[1;32m      9\u001b[0m     ):\n\u001b[0;32m---> 10\u001b[0m     I_poison \u001b[39m=\u001b[39m gaussian_unlearning_score(\n\u001b[1;32m     11\u001b[0m         model,\n\u001b[1;32m     12\u001b[0m         base_data,\n\u001b[1;32m     13\u001b[0m         noise,\n\u001b[1;32m     14\u001b[0m         noise_std,\n\u001b[1;32m     15\u001b[0m         loss_fn,\n\u001b[1;32m     16\u001b[0m     )\n\u001b[1;32m     18\u001b[0m     mean \u001b[39m=\u001b[39m I_poison\u001b[39m.\u001b[39mmean()\n\u001b[1;32m     19\u001b[0m     std \u001b[39m=\u001b[39m I_poison\u001b[39m.\u001b[39mstd()\n",
      "File \u001b[0;32m~/dev/python/ml/psc/playground/implementations/projects/poisoning/image_classification/gaussian_poisoning.py:159\u001b[0m, in \u001b[0;36mgaussian_unlearning_score\u001b[0;34m(model, base_data, noise, noise_std, loss_fn, batch_size, epsilon)\u001b[0m\n\u001b[1;32m    156\u001b[0m \u001b[39mfor\u001b[39;00m (X_b, y_b), noise_b \u001b[39min\u001b[39;00m \u001b[39mzip\u001b[39m(base_loader, noise_loader):\n\u001b[1;32m    157\u001b[0m     X_b\u001b[39m.\u001b[39mrequires_grad_(\u001b[39mTrue\u001b[39;00m)\n\u001b[0;32m--> 159\u001b[0m     logits \u001b[39m=\u001b[39m model(X_b)\n\u001b[1;32m    160\u001b[0m     loss_b \u001b[39m=\u001b[39m loss_fn(logits, y_b)\n\u001b[1;32m    162\u001b[0m     \u001b[39mif\u001b[39;00m \u001b[39mnot\u001b[39;00m \u001b[39mhasattr\u001b[39m(loss_b, \u001b[39m'\u001b[39m\u001b[39mshape\u001b[39m\u001b[39m'\u001b[39m) \u001b[39mor\u001b[39;00m loss_b\u001b[39m.\u001b[39mshape \u001b[39m==\u001b[39m ():\n",
      "File \u001b[0;32m~/.local/share/virtualenvs/ml-TQx6uCZG/lib/python3.12/site-packages/torch/nn/modules/module.py:1736\u001b[0m, in \u001b[0;36mModule._wrapped_call_impl\u001b[0;34m(self, *args, **kwargs)\u001b[0m\n\u001b[1;32m   1734\u001b[0m     \u001b[39mreturn\u001b[39;00m \u001b[39mself\u001b[39m\u001b[39m.\u001b[39m_compiled_call_impl(\u001b[39m*\u001b[39margs, \u001b[39m*\u001b[39m\u001b[39m*\u001b[39mkwargs)  \u001b[39m# type: ignore[misc]\u001b[39;00m\n\u001b[1;32m   1735\u001b[0m \u001b[39melse\u001b[39;00m:\n\u001b[0;32m-> 1736\u001b[0m     \u001b[39mreturn\u001b[39;00m \u001b[39mself\u001b[39;49m\u001b[39m.\u001b[39;49m_call_impl(\u001b[39m*\u001b[39;49margs, \u001b[39m*\u001b[39;49m\u001b[39m*\u001b[39;49mkwargs)\n",
      "File \u001b[0;32m~/.local/share/virtualenvs/ml-TQx6uCZG/lib/python3.12/site-packages/torch/nn/modules/module.py:1747\u001b[0m, in \u001b[0;36mModule._call_impl\u001b[0;34m(self, *args, **kwargs)\u001b[0m\n\u001b[1;32m   1742\u001b[0m \u001b[39m# If we don't have any hooks, we want to skip the rest of the logic in\u001b[39;00m\n\u001b[1;32m   1743\u001b[0m \u001b[39m# this function, and just call forward.\u001b[39;00m\n\u001b[1;32m   1744\u001b[0m \u001b[39mif\u001b[39;00m \u001b[39mnot\u001b[39;00m (\u001b[39mself\u001b[39m\u001b[39m.\u001b[39m_backward_hooks \u001b[39mor\u001b[39;00m \u001b[39mself\u001b[39m\u001b[39m.\u001b[39m_backward_pre_hooks \u001b[39mor\u001b[39;00m \u001b[39mself\u001b[39m\u001b[39m.\u001b[39m_forward_hooks \u001b[39mor\u001b[39;00m \u001b[39mself\u001b[39m\u001b[39m.\u001b[39m_forward_pre_hooks\n\u001b[1;32m   1745\u001b[0m         \u001b[39mor\u001b[39;00m _global_backward_pre_hooks \u001b[39mor\u001b[39;00m _global_backward_hooks\n\u001b[1;32m   1746\u001b[0m         \u001b[39mor\u001b[39;00m _global_forward_hooks \u001b[39mor\u001b[39;00m _global_forward_pre_hooks):\n\u001b[0;32m-> 1747\u001b[0m     \u001b[39mreturn\u001b[39;00m forward_call(\u001b[39m*\u001b[39;49margs, \u001b[39m*\u001b[39;49m\u001b[39m*\u001b[39;49mkwargs)\n\u001b[1;32m   1749\u001b[0m result \u001b[39m=\u001b[39m \u001b[39mNone\u001b[39;00m\n\u001b[1;32m   1750\u001b[0m called_always_called_hooks \u001b[39m=\u001b[39m \u001b[39mset\u001b[39m()\n",
      "Cell \u001b[0;32mIn[11], line 7\u001b[0m, in \u001b[0;36mCifar10ResNet.forward\u001b[0;34m(self, x)\u001b[0m\n\u001b[1;32m      6\u001b[0m \u001b[39mdef\u001b[39;00m\u001b[39m \u001b[39m\u001b[39mforward\u001b[39m(\u001b[39mself\u001b[39m, x):\n\u001b[0;32m----> 7\u001b[0m     \u001b[39mreturn\u001b[39;00m \u001b[39mself\u001b[39;49m\u001b[39m.\u001b[39;49mresnet\u001b[39m.\u001b[39;49mforward(x)\u001b[39m.\u001b[39mto(\u001b[39m'\u001b[39m\u001b[39mcpu\u001b[39m\u001b[39m'\u001b[39m)\n",
      "File \u001b[0;32m~/.local/share/virtualenvs/ml-TQx6uCZG/lib/python3.12/site-packages/torchvision/models/resnet.py:285\u001b[0m, in \u001b[0;36mResNet.forward\u001b[0;34m(self, x)\u001b[0m\n\u001b[1;32m    284\u001b[0m \u001b[39mdef\u001b[39;00m\u001b[39m \u001b[39m\u001b[39mforward\u001b[39m(\u001b[39mself\u001b[39m, x: Tensor) \u001b[39m-\u001b[39m\u001b[39m>\u001b[39m Tensor:\n\u001b[0;32m--> 285\u001b[0m     \u001b[39mreturn\u001b[39;00m \u001b[39mself\u001b[39;49m\u001b[39m.\u001b[39;49m_forward_impl(x)\n",
      "File \u001b[0;32m~/.local/share/virtualenvs/ml-TQx6uCZG/lib/python3.12/site-packages/torchvision/models/resnet.py:274\u001b[0m, in \u001b[0;36mResNet._forward_impl\u001b[0;34m(self, x)\u001b[0m\n\u001b[1;32m    271\u001b[0m x \u001b[39m=\u001b[39m \u001b[39mself\u001b[39m\u001b[39m.\u001b[39mmaxpool(x)\n\u001b[1;32m    273\u001b[0m x \u001b[39m=\u001b[39m \u001b[39mself\u001b[39m\u001b[39m.\u001b[39mlayer1(x)\n\u001b[0;32m--> 274\u001b[0m x \u001b[39m=\u001b[39m \u001b[39mself\u001b[39;49m\u001b[39m.\u001b[39;49mlayer2(x)\n\u001b[1;32m    275\u001b[0m x \u001b[39m=\u001b[39m \u001b[39mself\u001b[39m\u001b[39m.\u001b[39mlayer3(x)\n\u001b[1;32m    276\u001b[0m x \u001b[39m=\u001b[39m \u001b[39mself\u001b[39m\u001b[39m.\u001b[39mlayer4(x)\n",
      "File \u001b[0;32m~/.local/share/virtualenvs/ml-TQx6uCZG/lib/python3.12/site-packages/torch/nn/modules/module.py:1736\u001b[0m, in \u001b[0;36mModule._wrapped_call_impl\u001b[0;34m(self, *args, **kwargs)\u001b[0m\n\u001b[1;32m   1734\u001b[0m     \u001b[39mreturn\u001b[39;00m \u001b[39mself\u001b[39m\u001b[39m.\u001b[39m_compiled_call_impl(\u001b[39m*\u001b[39margs, \u001b[39m*\u001b[39m\u001b[39m*\u001b[39mkwargs)  \u001b[39m# type: ignore[misc]\u001b[39;00m\n\u001b[1;32m   1735\u001b[0m \u001b[39melse\u001b[39;00m:\n\u001b[0;32m-> 1736\u001b[0m     \u001b[39mreturn\u001b[39;00m \u001b[39mself\u001b[39;49m\u001b[39m.\u001b[39;49m_call_impl(\u001b[39m*\u001b[39;49margs, \u001b[39m*\u001b[39;49m\u001b[39m*\u001b[39;49mkwargs)\n",
      "File \u001b[0;32m~/.local/share/virtualenvs/ml-TQx6uCZG/lib/python3.12/site-packages/torch/nn/modules/module.py:1747\u001b[0m, in \u001b[0;36mModule._call_impl\u001b[0;34m(self, *args, **kwargs)\u001b[0m\n\u001b[1;32m   1742\u001b[0m \u001b[39m# If we don't have any hooks, we want to skip the rest of the logic in\u001b[39;00m\n\u001b[1;32m   1743\u001b[0m \u001b[39m# this function, and just call forward.\u001b[39;00m\n\u001b[1;32m   1744\u001b[0m \u001b[39mif\u001b[39;00m \u001b[39mnot\u001b[39;00m (\u001b[39mself\u001b[39m\u001b[39m.\u001b[39m_backward_hooks \u001b[39mor\u001b[39;00m \u001b[39mself\u001b[39m\u001b[39m.\u001b[39m_backward_pre_hooks \u001b[39mor\u001b[39;00m \u001b[39mself\u001b[39m\u001b[39m.\u001b[39m_forward_hooks \u001b[39mor\u001b[39;00m \u001b[39mself\u001b[39m\u001b[39m.\u001b[39m_forward_pre_hooks\n\u001b[1;32m   1745\u001b[0m         \u001b[39mor\u001b[39;00m _global_backward_pre_hooks \u001b[39mor\u001b[39;00m _global_backward_hooks\n\u001b[1;32m   1746\u001b[0m         \u001b[39mor\u001b[39;00m _global_forward_hooks \u001b[39mor\u001b[39;00m _global_forward_pre_hooks):\n\u001b[0;32m-> 1747\u001b[0m     \u001b[39mreturn\u001b[39;00m forward_call(\u001b[39m*\u001b[39;49margs, \u001b[39m*\u001b[39;49m\u001b[39m*\u001b[39;49mkwargs)\n\u001b[1;32m   1749\u001b[0m result \u001b[39m=\u001b[39m \u001b[39mNone\u001b[39;00m\n\u001b[1;32m   1750\u001b[0m called_always_called_hooks \u001b[39m=\u001b[39m \u001b[39mset\u001b[39m()\n",
      "File \u001b[0;32m~/.local/share/virtualenvs/ml-TQx6uCZG/lib/python3.12/site-packages/torch/nn/modules/container.py:250\u001b[0m, in \u001b[0;36mSequential.forward\u001b[0;34m(self, input)\u001b[0m\n\u001b[1;32m    248\u001b[0m \u001b[39mdef\u001b[39;00m\u001b[39m \u001b[39m\u001b[39mforward\u001b[39m(\u001b[39mself\u001b[39m, \u001b[39minput\u001b[39m):\n\u001b[1;32m    249\u001b[0m     \u001b[39mfor\u001b[39;00m module \u001b[39min\u001b[39;00m \u001b[39mself\u001b[39m:\n\u001b[0;32m--> 250\u001b[0m         \u001b[39minput\u001b[39m \u001b[39m=\u001b[39m module(\u001b[39minput\u001b[39;49m)\n\u001b[1;32m    251\u001b[0m     \u001b[39mreturn\u001b[39;00m \u001b[39minput\u001b[39m\n",
      "File \u001b[0;32m~/.local/share/virtualenvs/ml-TQx6uCZG/lib/python3.12/site-packages/torch/nn/modules/module.py:1736\u001b[0m, in \u001b[0;36mModule._wrapped_call_impl\u001b[0;34m(self, *args, **kwargs)\u001b[0m\n\u001b[1;32m   1734\u001b[0m     \u001b[39mreturn\u001b[39;00m \u001b[39mself\u001b[39m\u001b[39m.\u001b[39m_compiled_call_impl(\u001b[39m*\u001b[39margs, \u001b[39m*\u001b[39m\u001b[39m*\u001b[39mkwargs)  \u001b[39m# type: ignore[misc]\u001b[39;00m\n\u001b[1;32m   1735\u001b[0m \u001b[39melse\u001b[39;00m:\n\u001b[0;32m-> 1736\u001b[0m     \u001b[39mreturn\u001b[39;00m \u001b[39mself\u001b[39;49m\u001b[39m.\u001b[39;49m_call_impl(\u001b[39m*\u001b[39;49margs, \u001b[39m*\u001b[39;49m\u001b[39m*\u001b[39;49mkwargs)\n",
      "File \u001b[0;32m~/.local/share/virtualenvs/ml-TQx6uCZG/lib/python3.12/site-packages/torch/nn/modules/module.py:1747\u001b[0m, in \u001b[0;36mModule._call_impl\u001b[0;34m(self, *args, **kwargs)\u001b[0m\n\u001b[1;32m   1742\u001b[0m \u001b[39m# If we don't have any hooks, we want to skip the rest of the logic in\u001b[39;00m\n\u001b[1;32m   1743\u001b[0m \u001b[39m# this function, and just call forward.\u001b[39;00m\n\u001b[1;32m   1744\u001b[0m \u001b[39mif\u001b[39;00m \u001b[39mnot\u001b[39;00m (\u001b[39mself\u001b[39m\u001b[39m.\u001b[39m_backward_hooks \u001b[39mor\u001b[39;00m \u001b[39mself\u001b[39m\u001b[39m.\u001b[39m_backward_pre_hooks \u001b[39mor\u001b[39;00m \u001b[39mself\u001b[39m\u001b[39m.\u001b[39m_forward_hooks \u001b[39mor\u001b[39;00m \u001b[39mself\u001b[39m\u001b[39m.\u001b[39m_forward_pre_hooks\n\u001b[1;32m   1745\u001b[0m         \u001b[39mor\u001b[39;00m _global_backward_pre_hooks \u001b[39mor\u001b[39;00m _global_backward_hooks\n\u001b[1;32m   1746\u001b[0m         \u001b[39mor\u001b[39;00m _global_forward_hooks \u001b[39mor\u001b[39;00m _global_forward_pre_hooks):\n\u001b[0;32m-> 1747\u001b[0m     \u001b[39mreturn\u001b[39;00m forward_call(\u001b[39m*\u001b[39;49margs, \u001b[39m*\u001b[39;49m\u001b[39m*\u001b[39;49mkwargs)\n\u001b[1;32m   1749\u001b[0m result \u001b[39m=\u001b[39m \u001b[39mNone\u001b[39;00m\n\u001b[1;32m   1750\u001b[0m called_always_called_hooks \u001b[39m=\u001b[39m \u001b[39mset\u001b[39m()\n",
      "File \u001b[0;32m~/.local/share/virtualenvs/ml-TQx6uCZG/lib/python3.12/site-packages/torchvision/models/resnet.py:92\u001b[0m, in \u001b[0;36mBasicBlock.forward\u001b[0;34m(self, x)\u001b[0m\n\u001b[1;32m     89\u001b[0m \u001b[39mdef\u001b[39;00m\u001b[39m \u001b[39m\u001b[39mforward\u001b[39m(\u001b[39mself\u001b[39m, x: Tensor) \u001b[39m-\u001b[39m\u001b[39m>\u001b[39m Tensor:\n\u001b[1;32m     90\u001b[0m     identity \u001b[39m=\u001b[39m x\n\u001b[0;32m---> 92\u001b[0m     out \u001b[39m=\u001b[39m \u001b[39mself\u001b[39;49m\u001b[39m.\u001b[39;49mconv1(x)\n\u001b[1;32m     93\u001b[0m     out \u001b[39m=\u001b[39m \u001b[39mself\u001b[39m\u001b[39m.\u001b[39mbn1(out)\n\u001b[1;32m     94\u001b[0m     out \u001b[39m=\u001b[39m \u001b[39mself\u001b[39m\u001b[39m.\u001b[39mrelu(out)\n",
      "File \u001b[0;32m~/.local/share/virtualenvs/ml-TQx6uCZG/lib/python3.12/site-packages/torch/nn/modules/module.py:1736\u001b[0m, in \u001b[0;36mModule._wrapped_call_impl\u001b[0;34m(self, *args, **kwargs)\u001b[0m\n\u001b[1;32m   1734\u001b[0m     \u001b[39mreturn\u001b[39;00m \u001b[39mself\u001b[39m\u001b[39m.\u001b[39m_compiled_call_impl(\u001b[39m*\u001b[39margs, \u001b[39m*\u001b[39m\u001b[39m*\u001b[39mkwargs)  \u001b[39m# type: ignore[misc]\u001b[39;00m\n\u001b[1;32m   1735\u001b[0m \u001b[39melse\u001b[39;00m:\n\u001b[0;32m-> 1736\u001b[0m     \u001b[39mreturn\u001b[39;00m \u001b[39mself\u001b[39;49m\u001b[39m.\u001b[39;49m_call_impl(\u001b[39m*\u001b[39;49margs, \u001b[39m*\u001b[39;49m\u001b[39m*\u001b[39;49mkwargs)\n",
      "File \u001b[0;32m~/.local/share/virtualenvs/ml-TQx6uCZG/lib/python3.12/site-packages/torch/nn/modules/module.py:1747\u001b[0m, in \u001b[0;36mModule._call_impl\u001b[0;34m(self, *args, **kwargs)\u001b[0m\n\u001b[1;32m   1742\u001b[0m \u001b[39m# If we don't have any hooks, we want to skip the rest of the logic in\u001b[39;00m\n\u001b[1;32m   1743\u001b[0m \u001b[39m# this function, and just call forward.\u001b[39;00m\n\u001b[1;32m   1744\u001b[0m \u001b[39mif\u001b[39;00m \u001b[39mnot\u001b[39;00m (\u001b[39mself\u001b[39m\u001b[39m.\u001b[39m_backward_hooks \u001b[39mor\u001b[39;00m \u001b[39mself\u001b[39m\u001b[39m.\u001b[39m_backward_pre_hooks \u001b[39mor\u001b[39;00m \u001b[39mself\u001b[39m\u001b[39m.\u001b[39m_forward_hooks \u001b[39mor\u001b[39;00m \u001b[39mself\u001b[39m\u001b[39m.\u001b[39m_forward_pre_hooks\n\u001b[1;32m   1745\u001b[0m         \u001b[39mor\u001b[39;00m _global_backward_pre_hooks \u001b[39mor\u001b[39;00m _global_backward_hooks\n\u001b[1;32m   1746\u001b[0m         \u001b[39mor\u001b[39;00m _global_forward_hooks \u001b[39mor\u001b[39;00m _global_forward_pre_hooks):\n\u001b[0;32m-> 1747\u001b[0m     \u001b[39mreturn\u001b[39;00m forward_call(\u001b[39m*\u001b[39;49margs, \u001b[39m*\u001b[39;49m\u001b[39m*\u001b[39;49mkwargs)\n\u001b[1;32m   1749\u001b[0m result \u001b[39m=\u001b[39m \u001b[39mNone\u001b[39;00m\n\u001b[1;32m   1750\u001b[0m called_always_called_hooks \u001b[39m=\u001b[39m \u001b[39mset\u001b[39m()\n",
      "File \u001b[0;32m~/.local/share/virtualenvs/ml-TQx6uCZG/lib/python3.12/site-packages/torch/nn/modules/conv.py:554\u001b[0m, in \u001b[0;36mConv2d.forward\u001b[0;34m(self, input)\u001b[0m\n\u001b[1;32m    553\u001b[0m \u001b[39mdef\u001b[39;00m\u001b[39m \u001b[39m\u001b[39mforward\u001b[39m(\u001b[39mself\u001b[39m, \u001b[39minput\u001b[39m: Tensor) \u001b[39m-\u001b[39m\u001b[39m>\u001b[39m Tensor:\n\u001b[0;32m--> 554\u001b[0m     \u001b[39mreturn\u001b[39;00m \u001b[39mself\u001b[39;49m\u001b[39m.\u001b[39;49m_conv_forward(\u001b[39minput\u001b[39;49m, \u001b[39mself\u001b[39;49m\u001b[39m.\u001b[39;49mweight, \u001b[39mself\u001b[39;49m\u001b[39m.\u001b[39;49mbias)\n",
      "File \u001b[0;32m~/.local/share/virtualenvs/ml-TQx6uCZG/lib/python3.12/site-packages/torch/nn/modules/conv.py:549\u001b[0m, in \u001b[0;36mConv2d._conv_forward\u001b[0;34m(self, input, weight, bias)\u001b[0m\n\u001b[1;32m    537\u001b[0m \u001b[39mif\u001b[39;00m \u001b[39mself\u001b[39m\u001b[39m.\u001b[39mpadding_mode \u001b[39m!=\u001b[39m \u001b[39m\"\u001b[39m\u001b[39mzeros\u001b[39m\u001b[39m\"\u001b[39m:\n\u001b[1;32m    538\u001b[0m     \u001b[39mreturn\u001b[39;00m F\u001b[39m.\u001b[39mconv2d(\n\u001b[1;32m    539\u001b[0m         F\u001b[39m.\u001b[39mpad(\n\u001b[1;32m    540\u001b[0m             \u001b[39minput\u001b[39m, \u001b[39mself\u001b[39m\u001b[39m.\u001b[39m_reversed_padding_repeated_twice, mode\u001b[39m=\u001b[39m\u001b[39mself\u001b[39m\u001b[39m.\u001b[39mpadding_mode\n\u001b[0;32m   (...)\u001b[0m\n\u001b[1;32m    547\u001b[0m         \u001b[39mself\u001b[39m\u001b[39m.\u001b[39mgroups,\n\u001b[1;32m    548\u001b[0m     )\n\u001b[0;32m--> 549\u001b[0m \u001b[39mreturn\u001b[39;00m F\u001b[39m.\u001b[39;49mconv2d(\n\u001b[1;32m    550\u001b[0m     \u001b[39minput\u001b[39;49m, weight, bias, \u001b[39mself\u001b[39;49m\u001b[39m.\u001b[39;49mstride, \u001b[39mself\u001b[39;49m\u001b[39m.\u001b[39;49mpadding, \u001b[39mself\u001b[39;49m\u001b[39m.\u001b[39;49mdilation, \u001b[39mself\u001b[39;49m\u001b[39m.\u001b[39;49mgroups\n\u001b[1;32m    551\u001b[0m )\n",
      "\u001b[0;31mKeyboardInterrupt\u001b[0m: "
     ]
    }
   ],
   "source": [
    "evaluate_unlearning(\n",
    "    corrupted_model, base_subset, poisoning_noise, noise_std, loss_func_no_reduction,\n",
    "    xi_name=r'poisons $\\xi$', g_name=r'g_{\\mathrm{initial}}', method='No unlearning'\n",
    ")"
   ]
  },
  {
   "cell_type": "markdown",
   "metadata": {},
   "source": [
    "For fresh Gaussians, the distribution should be centered around $0$."
   ]
  },
  {
   "cell_type": "markdown",
   "metadata": {},
   "source": [
    "Due to data poisoning, the model gradients are influenced by $\\xi$ so the distribution is shifted."
   ]
  },
  {
   "cell_type": "markdown",
   "metadata": {},
   "source": [
    "FIXME: actually, there is very little correlation because the model seems to have minimized the loss over the clean samples rather than the poisoned samples, which is why the loss gradient is not correlated with the noise."
   ]
  },
  {
   "cell_type": "markdown",
   "metadata": {},
   "source": [
    "### Evaluate unlearning algorithms"
   ]
  },
  {
   "cell_type": "markdown",
   "metadata": {},
   "source": [
    "We plot the previous distribution again, after running the unlearning algorithm.\n",
    "If the distribution is still shifted, that means the model did not perfectly unlearn the poisons."
   ]
  },
  {
   "cell_type": "code",
   "execution_count": 36,
   "metadata": {},
   "outputs": [],
   "source": [
    "def display_post_unlearning_results(model: nn.Module, algo_name: str):\n",
    "    print('\\n\\nTest on clean samples:')\n",
    "    test_epoch(model, test_loader, loss_func, keep_pbars=True, metric=metric)\n",
    "    print('\\n\\nTest on poisoned samples:')\n",
    "    test_epoch(model, poisoned_loader, loss_func, keep_pbars=True, metric=metric)\n",
    "    print('\\n\\n')\n",
    "    evaluate_unlearning(\n",
    "        model, base_subset, poisoning_noise, noise_std, loss_func_no_reduction,\n",
    "        xi_name=r'Gaussian poisons $\\xi$',\n",
    "        g_name=r'g_{\\mathrm{updated}}',\n",
    "        method=algo_name,\n",
    "    )"
   ]
  },
  {
   "cell_type": "markdown",
   "metadata": {},
   "source": [
    "### Gradient descent"
   ]
  },
  {
   "cell_type": "code",
   "execution_count": null,
   "metadata": {},
   "outputs": [],
   "source": [
    "unlearner = deepcopy(corrupted_model)\n",
    "opt_gd = make_optimizer(unlearner, lr=0.5 * lr)\n",
    "gradient_descent(unlearner, clean_loader, test_loader, loss_func, opt_gd, epochs=1)\n",
    "display_post_unlearning_results(unlearner, algo_name='Gradient descent unlearning')"
   ]
  },
  {
   "cell_type": "markdown",
   "metadata": {},
   "source": [
    "### Noisy gradient descent"
   ]
  },
  {
   "cell_type": "code",
   "execution_count": null,
   "metadata": {},
   "outputs": [],
   "source": [
    "unlearner = deepcopy(corrupted_model)\n",
    "opt_ngd = NoisySGD(unlearner.parameters(), noise_scale=np.sqrt(1e-6), lr=1e-1)\n",
    "gradient_descent(unlearner, clean_loader, test_loader, loss_func, opt_gd, epochs=1)\n",
    "display_post_unlearning_results(unlearner, algo_name='Noisy gradient descent unlearning')"
   ]
  },
  {
   "cell_type": "markdown",
   "metadata": {},
   "source": [
    "### Gradient ascent"
   ]
  },
  {
   "cell_type": "code",
   "execution_count": null,
   "metadata": {},
   "outputs": [],
   "source": [
    "unlearner = deepcopy(corrupted_model)\n",
    "opt_ga = make_optimizer(unlearner, lr=0.1 * lr)\n",
    "gradient_ascent(unlearner, clean_loader, test_loader, loss_func, opt_ga, epochs=epochs)\n",
    "display_post_unlearning_results(unlearner, algo_name='Gradient ascent unlearning')"
   ]
  },
  {
   "cell_type": "markdown",
   "metadata": {},
   "source": [
    "Gradient ascent completely fails to maintain a good overall performance. Seems like the algorithm is overfitting on unlearning."
   ]
  },
  {
   "cell_type": "markdown",
   "metadata": {},
   "source": [
    "### NegGrad+"
   ]
  },
  {
   "cell_type": "code",
   "execution_count": 38,
   "metadata": {},
   "outputs": [
    {
     "data": {
      "application/vnd.jupyter.widget-view+json": {
       "model_id": "0d06cc6df82c4c6782f5b2fa54f04ee1",
       "version_major": 2,
       "version_minor": 0
      },
      "text/plain": [
       "NegGrad+:   0%|          | 0/9999 [00:00<?, ?it/s]"
      ]
     },
     "metadata": {},
     "output_type": "display_data"
    },
    {
     "name": "stdout",
     "output_type": "stream",
     "text": [
      "NegGrad+: 100%|█████████▉| 9950/9999 [00:05<00:00, 1683.36it/s, loss=0.944, loss_forget=1.14, loss_retain=0.954]\n",
      "\n",
      "\n",
      "Test on clean samples:\n"
     ]
    },
    {
     "data": {
      "application/vnd.jupyter.widget-view+json": {
       "model_id": "53aa001e60fe41479ee6237f6ab9b109",
       "version_major": 2,
       "version_minor": 0
      },
      "text/plain": [
       "Test loop:   0%|          | 0/10000 [00:00<?, ?it/s]"
      ]
     },
     "metadata": {},
     "output_type": "display_data"
    },
    {
     "name": "stdout",
     "output_type": "stream",
     "text": [
      "Test loop: 100%|██████████| 10000/10000 [00:01<00:00, 5392.51it/s, MulticlassAccuracy=0.565, avg_loss=1.17]\n",
      "\n",
      "\n",
      "Test on poisoned samples:\n"
     ]
    },
    {
     "data": {
      "application/vnd.jupyter.widget-view+json": {
       "model_id": "e8b046b1d6f941c99d60a552ff320d24",
       "version_major": 2,
       "version_minor": 0
      },
      "text/plain": [
       "Test loop:   0%|          | 0/9999 [00:00<?, ?it/s]"
      ]
     },
     "metadata": {},
     "output_type": "display_data"
    },
    {
     "name": "stdout",
     "output_type": "stream",
     "text": [
      "Test loop: 100%|█████████▉| 9950/9999 [00:01<00:00, 5215.48it/s, MulticlassAccuracy=0.635, avg_loss=1.16]\n",
      "\n",
      "\n",
      "\n"
     ]
    }
   ],
   "source": [
    "unlearner = deepcopy(corrupted_model)\n",
    "opt_ngp = make_optimizer(unlearner, lr=lr)\n",
    "neg_grad_plus(unlearner, clean_loader, poisoned_loader, loss_func, opt_ngp, beta=0.995)\n",
    "display_post_unlearning_results(unlearner, algo_name='NegGrad+')"
   ]
  },
  {
   "cell_type": "markdown",
   "metadata": {},
   "source": [
    "### Oracle unlearning (ours)"
   ]
  },
  {
   "cell_type": "code",
   "execution_count": null,
   "metadata": {},
   "outputs": [],
   "source": [
    "unlearner = deepcopy(corrupted_model)\n",
    "# TODO:\n",
    "# Future work: how to set learning rate according to GUS? Is GUS a relevant metric?\n",
    "opt_oracle = make_optimizer(unlearner, lr=0.1 * lr)\n",
    "\n",
    "oracle_unlearning(unlearner, base_loader, poisoned_loader, loss_func, opt_oracle)\n",
    "display_post_unlearning_results(unlearner, algo_name='Oracle')"
   ]
  },
  {
   "cell_type": "markdown",
   "metadata": {},
   "source": [
    "### CFk"
   ]
  },
  {
   "cell_type": "code",
   "execution_count": null,
   "metadata": {},
   "outputs": [],
   "source": [
    "unlearner = deepcopy(corrupted_model)\n",
    "with unlearning_last_layers(unlearner, 1, mode='cfk'):\n",
    "    opt_cfk = make_optimizer(unlearner, lr=0.5 * lr)\n",
    "    train_loop(unlearner, clean_loader, loss_func, opt_cfk, epochs=1)\n",
    "display_post_unlearning_results(unlearner, algo_name='CFk')"
   ]
  },
  {
   "cell_type": "markdown",
   "metadata": {},
   "source": [
    "### EUk"
   ]
  },
  {
   "cell_type": "code",
   "execution_count": null,
   "metadata": {},
   "outputs": [],
   "source": [
    "unlearner = deepcopy(corrupted_model)\n",
    "with unlearning_last_layers(unlearner, 1, mode='euk'):\n",
    "    opt_euk = make_optimizer(unlearner, lr=0.5 * lr)\n",
    "    train_loop(unlearner, clean_loader, loss_func, opt_euk, epochs=epochs)\n",
    "display_post_unlearning_results(unlearner, algo_name='EUk')"
   ]
  },
  {
   "cell_type": "markdown",
   "metadata": {},
   "source": [
    "### SCRUB"
   ]
  },
  {
   "cell_type": "code",
   "execution_count": null,
   "metadata": {},
   "outputs": [],
   "source": [
    "teacher = deepcopy(corrupted_model)\n",
    "student = deepcopy(teacher)\n",
    "opt_scrub = make_optimizer(unlearner, lr=lr)\n",
    "scrub(\n",
    "    teacher, student,\n",
    "    clean_loader, poisoned_loader,\n",
    "    loss_func, opt_scrub,\n",
    "    max_steps=epochs, steps=epochs,\n",
    ")\n",
    "display_post_unlearning_results(unlearner, algo_name='SCRUB')"
   ]
  },
  {
   "cell_type": "markdown",
   "metadata": {},
   "source": [
    "## Takeaways\n",
    "\n",
    "Disclaimer: the experiment results do not provide strong evidence.\n",
    "\n",
    "Ablation study :\n",
    "\n",
    "- Larger models are more vulnerable to data poisoning. Indeed, when the model dimension is very high compared to the feature dimension, the model is likely to overfit on the poisons, therefore making them hard to forget.\n",
    "- Data poisoning has a larger effect on high-dimensioned data. We should adapt our experiment to images to see the difference.\n",
    "- For simple problems such as linear regression, the effect of data poisoning seems to decrease as the number of samples grows. To get an intuition of why this is true, consider the $1$-dimensional linear regression: the estimated slope coefficient converges to the true slope coefficient, even if the training data is poisoned.\n",
    "- Techniques such as gradient ascent unlearning (GA) are more efficient at removing poisons, however the model becomes widly inaccurate on the base dataset. This highlights the tradeoff between privacy and usefulness. For unlearning, we need to make a compromise between GD and GA."
   ]
  }
 ],
 "metadata": {
  "language_info": {
   "name": "python"
  }
 },
 "nbformat": 4,
 "nbformat_minor": 2
}
