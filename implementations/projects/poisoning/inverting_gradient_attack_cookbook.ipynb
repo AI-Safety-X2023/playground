{
 "cells": [
  {
   "cell_type": "markdown",
   "metadata": {},
   "source": [
    "# Inverting gradient attack"
   ]
  },
  {
   "cell_type": "markdown",
   "metadata": {},
   "source": [
    "We run the inverting gradient data poisoning attack by [Bouaziz et al.](https://arxiv.org/abs/2410.21453) We compare the effectiveness of machine unlearning as a defense, with a robust gradient aggregation rule.\n",
    "\n",
    "We consider the same machine unlearning algorithms tested by [Pawelczyk et al.](https://arxiv.org/abs/2406.17216) and we use the $m$-KRUM aggregator introduced by [Blanchard et al.](https://arxiv.org/abs/1703.02757)"
   ]
  },
  {
   "cell_type": "markdown",
   "metadata": {},
   "source": [
    "### Imports"
   ]
  },
  {
   "cell_type": "code",
   "execution_count": 1,
   "metadata": {},
   "outputs": [
    {
     "name": "stdout",
     "output_type": "stream",
     "text": [
      "Using cuda device\n"
     ]
    }
   ],
   "source": [
    "from __future__ import annotations\n",
    "\n",
    "from copy import deepcopy\n",
    "import dataclasses\n",
    "import numpy as np\n",
    "import matplotlib.pyplot as plt\n",
    "import seaborn as sns\n",
    "from scipy import stats\n",
    "import pandas as pd\n",
    "import torch\n",
    "from torch import nn, Tensor\n",
    "from torch.nn.modules.loss import _Loss, CrossEntropyLoss\n",
    "from torch.optim import Optimizer, SGD, Adam\n",
    "from torch.utils.data import Dataset, DataLoader, random_split\n",
    "\n",
    "from torchmetrics.classification import MulticlassAccuracy\n",
    "from image_classification.nn import Logs\n",
    "from image_classification.accel import BEST_DEVICE"
   ]
  },
  {
   "cell_type": "markdown",
   "metadata": {},
   "source": [
    "## Base learning settings"
   ]
  },
  {
   "cell_type": "markdown",
   "metadata": {},
   "source": [
    "### Model\n",
    "\n",
    "For quick prototyping, also consider using [`ShuffleNetV2`](https://arxiv.org/abs/1807.11164v1), a 300M-parameter model that is much smaller than [`ResNet18`](https://arxiv.org/abs/1704.06904). Experiments can be made on both models or on only one of them."
   ]
  },
  {
   "cell_type": "code",
   "execution_count": 2,
   "metadata": {},
   "outputs": [],
   "source": [
    "from image_classification.models import ResNet18, ShuffleNetV2\n",
    "from image_classification.datasets import cifar10_train_test, cifar100_train_test"
   ]
  },
  {
   "cell_type": "markdown",
   "metadata": {},
   "source": [
    "### Dataset\n",
    "\n",
    "We use CIFAR-10 by default."
   ]
  },
  {
   "cell_type": "code",
   "execution_count": 3,
   "metadata": {},
   "outputs": [
    {
     "name": "stdout",
     "output_type": "stream",
     "text": [
      "Loading CIFAR-10\n"
     ]
    },
    {
     "data": {
      "text/plain": [
       "(40000, 5000, 5000, 10000)"
      ]
     },
     "execution_count": 3,
     "metadata": {},
     "output_type": "execute_result"
    }
   ],
   "source": [
    "# Set to 10 for CIFAR-10, 100 for CIFAR-100\n",
    "num_classes = 10\n",
    "\n",
    "# The images are already normalized by these datasets\n",
    "if num_classes == 10:\n",
    "    get_train_test = cifar10_train_test\n",
    "elif num_classes == 100:\n",
    "    get_train_test = cifar100_train_test\n",
    "else:\n",
    "    raise ValueError(f\"Can't find CIFAR dataset with {num_classes} classes\")\n",
    "print(f\"Loading CIFAR-{num_classes}\")\n",
    "\n",
    "training_data, test_data = get_train_test(root='data')\n",
    "N_test = len(test_data)\n",
    "N_val = len(training_data) // 10\n",
    "N_aux = N_val\n",
    "N = len(training_data) - N_val - N_aux\n",
    "# This works since training data is already shuffled\n",
    "training_data, val_data, aux_data = training_data.split([N, N_val, N_aux])\n",
    "\n",
    "batch_size = 100\n",
    "N, N_val, N_aux, N_test"
   ]
  },
  {
   "cell_type": "code",
   "execution_count": 4,
   "metadata": {},
   "outputs": [],
   "source": [
    "train_loader = DataLoader(training_data, batch_size, drop_last=True)\n",
    "val_loader = DataLoader(val_data, batch_size, drop_last=True)\n",
    "aux_loader = DataLoader(aux_data, batch_size, drop_last=True)"
   ]
  },
  {
   "cell_type": "markdown",
   "metadata": {},
   "source": [
    "### Hyperparameters"
   ]
  },
  {
   "cell_type": "code",
   "execution_count": 5,
   "metadata": {},
   "outputs": [],
   "source": [
    "criterion = CrossEntropyLoss()"
   ]
  },
  {
   "cell_type": "markdown",
   "metadata": {},
   "source": [
    "## Inverting gradient attack"
   ]
  },
  {
   "cell_type": "code",
   "execution_count": 6,
   "metadata": {},
   "outputs": [],
   "source": [
    "# Warning: reloading modules will create errors with `isinstance` checks\n",
    "#from importlib import reload\n",
    "#import image_classification.gradient_attack\n",
    "#import inverting_gradient_attack\n",
    "#import federated as fed\n",
    "#reload(image_classification.gradient_attack)\n",
    "#reload(inverting_gradient_attack)\n",
    "#reload(fed)"
   ]
  },
  {
   "cell_type": "code",
   "execution_count": 7,
   "metadata": {},
   "outputs": [],
   "source": [
    "from image_classification.gradient_attack import (\n",
    "    GradientAttack,\n",
    "    GradientEstimator, OmniscientGradientEstimator, ShadowGradientEstimator,\n",
    "    SampleInit, SampleInitRandomNoise, LearningSettings, GradientInverter,\n",
    "    Schedule, NeverUpdate\n",
    ")\n",
    "from inverting_gradient_attack import Pipeline, PipelineResults, Unlearning, Hyperparams\n",
    "import federated as fed\n",
    "#from federated import Aggregator, Mean, Krum\n",
    "from inverting_gradient_attack import Aggregator, Mean, Krum # Avoids failing isinstance checks\n",
    "from federated.utils import convert_bn_modules_to_gn"
   ]
  },
  {
   "cell_type": "markdown",
   "metadata": {},
   "source": [
    "## Poisoning + Unlearning pipeline"
   ]
  },
  {
   "cell_type": "code",
   "execution_count": 8,
   "metadata": {},
   "outputs": [],
   "source": [
    "def patch_network(network_factory: type[nn.Module]):\n",
    "    \"\"\"Patches a neural network factory to make it compatible to per-gradient backpropagation.\n",
    "    \n",
    "    This replaces a model's BatchNorm layers with GroupNorm.\n",
    "    See `federated.utils` documentation for technical details.\n",
    "    \"\"\"\n",
    "    def patch():\n",
    "        return convert_bn_modules_to_gn(network_factory())\n",
    "    \n",
    "    return patch"
   ]
  },
  {
   "cell_type": "code",
   "execution_count": 9,
   "metadata": {},
   "outputs": [],
   "source": [
    "def run_pipeline(\n",
    "        model_factory = ResNet18,\n",
    "        aggregator = Mean(),\n",
    "        inversion_method: GradientAttack | None = None,\n",
    "        poison_factor: float = 0.2,\n",
    "        unlearning_method: Unlearning | None = None,\n",
    "        training_hparams: dict = {},\n",
    "        unlearning_hparams: dict = {},\n",
    "        quicktesting: bool = False,\n",
    "    ) -> tuple[nn.Module, PipelineResults]:\n",
    "    \"\"\"Run a training pipeline with default settings.\n",
    "\n",
    "    The training may include poisoning with an inverting gradient attack,\n",
    "    and perform unlearning after training.\n",
    "\n",
    "    Parameters:\n",
    "        model_factory (Module type): the neural network class.\n",
    "        aggregator (Aggregator): a gradient aggregation method.\n",
    "        inversion_method (GradientAttack, optional): the gradient inversion method.\n",
    "        poison_factor (float, optional): the proportion of poisons in the training data.\n",
    "        unlearning_method (Unlearning, optional): the unlearning algorithm.\n",
    "\n",
    "        training_hparams (dict, optional): training hyperparameter overrides.\n",
    "        unlearning_hparams (dict, optional): unlearning hyperparameter overrides.\n",
    "\n",
    "        quicktesting (bool, defaults to False): whether to use a small model,\n",
    "            a smaller subset of the training dataset and less training epochs\n",
    "            for quicker testing iterations. Overrides hyperparameters when relevant.\n",
    "\n",
    "    Returns:\n",
    "        out (tuple[nn.Module, PipelineResults]): the trained and possibly unlearned model\n",
    "            and the pipeline results.\n",
    "    \"\"\"\n",
    "    poisoning = inversion_method is not None\n",
    "    unlearning = unlearning_method is not None\n",
    "\n",
    "    if poisoning:\n",
    "        inverter = GradientInverter(\n",
    "            method = inversion_method,\n",
    "            estimator = ShadowGradientEstimator(aux_loader),\n",
    "            steps = 5,\n",
    "            sample_init = SampleInitRandomNoise(training_data),\n",
    "        )\n",
    "    \n",
    "    settings = LearningSettings(\n",
    "        criterion,\n",
    "        aggregator = deepcopy(aggregator),\n",
    "        num_clean = batch_size,\n",
    "        num_byzantine = int(poison_factor / (1. - poison_factor) * batch_size),\n",
    "    )\n",
    "\n",
    "    hparams = Hyperparams()\n",
    "    hparams = dataclasses.replace(hparams, **training_hparams)\n",
    "\n",
    "    if quicktesting:\n",
    "        model_factory = ShuffleNetV2\n",
    "        mini_train_set, _ = random_split(training_data, [0.1, 0.9])\n",
    "        train_loader_ = DataLoader(mini_train_set, batch_size)\n",
    "        hparams = dataclasses.replace(hparams, epochs=1)\n",
    "        if poisoning:\n",
    "            inverter.steps = 1\n",
    "    else:\n",
    "        train_loader_ = train_loader\n",
    "\n",
    "    pipeline = Pipeline(settings, train_loader_, val_loader, hparams)\n",
    "    if unlearning:\n",
    "        pipeline.unlearning_hparams[unlearning_method].update(unlearning_hparams)\n",
    "    print(pipeline)\n",
    "\n",
    "    model = patch_network(model_factory)().to(BEST_DEVICE)\n",
    "\n",
    "    if poisoning and unlearning:\n",
    "        unlearner, results = pipeline.poison_and_unlearn(model, inverter, unlearning_method)\n",
    "        model = unlearner\n",
    "    elif poisoning:\n",
    "        poisoned, results = pipeline.poison(model, inverter)\n",
    "        model = poisoned\n",
    "    else:\n",
    "        assert not unlearning, \"Cannot unlearn when there is no poisoning\"\n",
    "        trained, results = pipeline.train(model)\n",
    "        model = trained \n",
    "    \n",
    "    return model, results"
   ]
  },
  {
   "cell_type": "markdown",
   "metadata": {},
   "source": [
    "### Normal training"
   ]
  },
  {
   "cell_type": "code",
   "execution_count": 10,
   "metadata": {},
   "outputs": [],
   "source": [
    "def train(\n",
    "        model_factory = ResNet18,\n",
    "        aggregator = Mean(),\n",
    "        training_hparams: dict = {},\n",
    "        quicktesting: bool = False,\n",
    ") -> tuple[nn.Module, PipelineResults]:\n",
    "    \"\"\"Train the model normally.\n",
    "    \n",
    "    See `run_pipeline` for details on the arguments.\n",
    "    \"\"\"\n",
    "    return run_pipeline(\n",
    "        model_factory,\n",
    "        aggregator=aggregator,\n",
    "        poison_factor=0.0,\n",
    "        training_hparams=training_hparams,\n",
    "        quicktesting=quicktesting,\n",
    "    )"
   ]
  },
  {
   "cell_type": "markdown",
   "metadata": {},
   "source": [
    "### Training with data poisoning\n",
    "\n",
    "This inverting gradient data poisoning attack can be defended by changing the aggregator to KRUM."
   ]
  },
  {
   "cell_type": "code",
   "execution_count": 11,
   "metadata": {},
   "outputs": [],
   "source": [
    "def poison(\n",
    "        model_factory = ResNet18,\n",
    "        aggregator = Mean(),\n",
    "        inversion_method = GradientAttack.ASCENT,\n",
    "        poison_factor: float = 0.2,\n",
    "        training_hparams: dict = {},\n",
    "        quicktesting: bool = False,\n",
    "    ) -> tuple[nn.Module, PipelineResults]:\n",
    "    \"\"\"Run the poisoning pipeline with default settings.\n",
    "\n",
    "    See `run_pipeline` for details on the arguments.\n",
    "    \"\"\"\n",
    "    return run_pipeline(\n",
    "        model_factory,\n",
    "        aggregator=aggregator,\n",
    "        inversion_method=inversion_method,\n",
    "        poison_factor=poison_factor,\n",
    "        training_hparams=training_hparams,\n",
    "        quicktesting=quicktesting,\n",
    "    )"
   ]
  },
  {
   "cell_type": "markdown",
   "metadata": {},
   "source": [
    "### Poisoning and then Unlearning\n",
    "\n",
    "Machine unlearning is used against a gradient inversion data poisoning attack."
   ]
  },
  {
   "cell_type": "code",
   "execution_count": 12,
   "metadata": {},
   "outputs": [],
   "source": [
    "def poison_and_unlearn(\n",
    "        model_factory = ResNet18,\n",
    "        aggregator = Mean(),\n",
    "        inversion_method = GradientAttack.ASCENT,\n",
    "        poison_factor: float = 0.2,\n",
    "        unlearning_method = Unlearning.NEG_GRAD_PLUS,\n",
    "        training_hparams: dict = {},\n",
    "        unlearning_hparams: dict = {},\n",
    "        quicktesting: bool = False,\n",
    "    ) -> tuple[nn.Module, PipelineResults]:\n",
    "    \"\"\"Run the poison-and-unlearn pipeline with default settings.\n",
    "\n",
    "    See `run_pipeline` for details on the arguments.\n",
    "    \"\"\"\n",
    "    return run_pipeline(\n",
    "        model_factory,\n",
    "        aggregator=aggregator,\n",
    "        inversion_method=inversion_method,\n",
    "        poison_factor=poison_factor,\n",
    "        unlearning_method=unlearning_method,\n",
    "        training_hparams=training_hparams,\n",
    "        unlearning_hparams=unlearning_hparams,\n",
    "        quicktesting=quicktesting,\n",
    "    )"
   ]
  },
  {
   "cell_type": "markdown",
   "metadata": {},
   "source": [
    "## Experiments"
   ]
  },
  {
   "cell_type": "code",
   "execution_count": 19,
   "metadata": {},
   "outputs": [
    {
     "name": "stdout",
     "output_type": "stream",
     "text": [
      "Pipeline(settings=LearningSettings(criterion=CrossEntropyLoss(), aggregator=Krum(num_byzantine=11, num_selected=86), num_clean=100, num_byzantine=0), train_loader=Dataloader(<len=40000>), val_loader=Dataloader(<len=5000>), hparams=Hyperparams(lr=0.001, weight_decay=0.0005, max_lr=0.1, batch_size=100, epochs=1, num_classes=10, top_k=1, criterion=CrossEntropyLoss()), unlearning_hparams={<Unlearning.GRADIENT_DESCENT: 0>: {'lr': 0.001, 'epochs': 1}, <Unlearning.NOISY_GRADIENT_DESCENT: 2>: {'lr': 0.001, 'epochs': 1, 'noise_scale': 0.00031622776601683794}, <Unlearning.GRADIENT_ASCENT: 1>: {'lr': 1e-05, 'epochs': 1}, <Unlearning.NEG_GRAD_PLUS: 3>: {'lr': 0.001, 'beta': 0.999, 'epochs': 1}, <Unlearning.CFK: 4>: {'k': 6, 'lr': 0.001, 'epochs': 0}, <Unlearning.EUK: 5>: {'k': 6, 'lr': 0.001, 'epochs': 0}, <Unlearning.SCRUB: 6>: {'max_steps': 1, 'steps': 1, 'alpha': 0.1, 'beta': 0.01, 'gamma': 0.9}})\n"
     ]
    },
    {
     "data": {
      "application/vnd.jupyter.widget-view+json": {
       "model_id": "547cd3425fc048cfa5d7b5477de75075",
       "version_major": 2,
       "version_minor": 0
      },
      "text/plain": [
       "Train epochs:   0%|          | 0/1 [00:00<?, ?epoch/s]"
      ]
     },
     "metadata": {},
     "output_type": "display_data"
    },
    {
     "data": {
      "application/vnd.jupyter.widget-view+json": {
       "model_id": "f9cf33971f4641ac809b51d2878ee6d6",
       "version_major": 2,
       "version_minor": 0
      },
      "text/plain": [
       "Train loop:   0%|          | 0/40000 [00:00<?, ?it/s]"
      ]
     },
     "metadata": {},
     "output_type": "display_data"
    },
    {
     "name": "stdout",
     "output_type": "stream",
     "text": [
      "Train loop: 100%|██████████| 40000/40000 [00:09<00:00, 4113.76it/s, accuracy=0.509, avg_loss=1.93]\n"
     ]
    },
    {
     "data": {
      "application/vnd.jupyter.widget-view+json": {
       "model_id": "56aa486643f24a1bb2dcbff4f3a8a2e3",
       "version_major": 2,
       "version_minor": 0
      },
      "text/plain": [
       "Test epoch:   0%|          | 0/5000 [00:00<?, ?it/s]"
      ]
     },
     "metadata": {},
     "output_type": "display_data"
    },
    {
     "name": "stdout",
     "output_type": "stream",
     "text": [
      "Test epoch: 100%|██████████| 5000/5000 [00:00<00:00, 9592.57it/s, accuracy=0.411, avg_loss=1.65]\n"
     ]
    }
   ],
   "source": [
    "model, train_results = train(\n",
    "    ShuffleNetV2,\n",
    "    aggregator = Krum.with_learning_settings(batch_size, alpha = 0.05),\n",
    "    training_hparams = dict(epochs=1),\n",
    "    quicktesting=False, # quicktesting=True gives bad results (model outputs constant???)\n",
    ")"
   ]
  },
  {
   "cell_type": "code",
   "execution_count": 20,
   "metadata": {},
   "outputs": [
    {
     "name": "stdout",
     "output_type": "stream",
     "text": [
      "Pipeline(settings=LearningSettings(criterion=CrossEntropyLoss(), aggregator=Krum(num_byzantine=11, num_selected=86), num_clean=100, num_byzantine=5), train_loader=Dataloader(<len=40000>), val_loader=Dataloader(<len=5000>), hparams=Hyperparams(lr=0.001, weight_decay=0.0005, max_lr=0.1, batch_size=100, epochs=1, num_classes=10, top_k=1, criterion=CrossEntropyLoss()), unlearning_hparams={<Unlearning.GRADIENT_DESCENT: 0>: {'lr': 0.001, 'epochs': 1}, <Unlearning.NOISY_GRADIENT_DESCENT: 2>: {'lr': 0.001, 'epochs': 1, 'noise_scale': 0.00031622776601683794}, <Unlearning.GRADIENT_ASCENT: 1>: {'lr': 1e-05, 'epochs': 1}, <Unlearning.NEG_GRAD_PLUS: 3>: {'lr': 0.001, 'beta': 0.999, 'epochs': 1}, <Unlearning.CFK: 4>: {'k': 6, 'lr': 0.001, 'epochs': 0}, <Unlearning.EUK: 5>: {'k': 6, 'lr': 0.001, 'epochs': 0}, <Unlearning.SCRUB: 6>: {'max_steps': 1, 'steps': 1, 'alpha': 0.1, 'beta': 0.01, 'gamma': 0.9}})\n",
      "Poisoning GradientInverter(method=GradientAttack.ASCENT, estimator=<image_classification.gradient_attack.ShadowGradientEstimator object at 0x7f3498937890>, steps=5, tv_coef=0.0, lr=0.2, sample_init=<image_classification.gradient_attack.SampleInitRandomNoise object at 0x7f3498937610>, label_update_schedule=<image_classification.gradient_attack.PowerofTwoSchedule object at 0x7f3498935810>) with hparams=Hyperparams(lr=0.001, weight_decay=0.0005, max_lr=0.1, batch_size=100, epochs=1, num_classes=10, top_k=1, criterion=CrossEntropyLoss()))\n"
     ]
    },
    {
     "data": {
      "application/vnd.jupyter.widget-view+json": {
       "model_id": "75f33384094f466a9682af8c898d0037",
       "version_major": 2,
       "version_minor": 0
      },
      "text/plain": [
       "Train epochs:   0%|          | 0/1 [00:00<?, ?epoch/s]"
      ]
     },
     "metadata": {},
     "output_type": "display_data"
    },
    {
     "data": {
      "application/vnd.jupyter.widget-view+json": {
       "model_id": "d84523da590f467ca1df2b14710e3742",
       "version_major": 2,
       "version_minor": 0
      },
      "text/plain": [
       "Train loop:   0%|          | 0/40000 [00:00<?, ?it/s]"
      ]
     },
     "metadata": {},
     "output_type": "display_data"
    },
    {
     "data": {
      "application/vnd.jupyter.widget-view+json": {
       "model_id": "a0faca992a524b4e981f0d12f39c892c",
       "version_major": 2,
       "version_minor": 0
      },
      "text/plain": [
       "Test epoch:   0%|          | 0/5000 [00:00<?, ?it/s]"
      ]
     },
     "metadata": {},
     "output_type": "display_data"
    },
    {
     "name": "stdout",
     "output_type": "stream",
     "text": [
      "Test epoch: 100%|██████████| 5000/5000 [00:00<00:00, 7814.20it/s, accuracy=0.353, avg_loss=1.87]\n",
      "Running NEG_GRAD_PLUS with unlearning_hparams={'lr': 0.001, 'beta': 0.999, 'epochs': 1})\n"
     ]
    },
    {
     "data": {
      "application/vnd.jupyter.widget-view+json": {
       "model_id": "5e3c30843e9c4274991185ed4ff50999",
       "version_major": 2,
       "version_minor": 0
      },
      "text/plain": [
       "NegGrad+ epochs:   0%|          | 0/1 [00:00<?, ?epoch/s]"
      ]
     },
     "metadata": {},
     "output_type": "display_data"
    },
    {
     "data": {
      "application/vnd.jupyter.widget-view+json": {
       "model_id": "4ec2f382a4ca4e5e996d065457fb5a9d",
       "version_major": 2,
       "version_minor": 0
      },
      "text/plain": [
       "NegGrad+:   0%|          | 0/2000 [00:00<?, ?it/s]"
      ]
     },
     "metadata": {},
     "output_type": "display_data"
    }
   ],
   "source": [
    "unlearner, poison_unlearn_results = poison_and_unlearn(\n",
    "    ShuffleNetV2,\n",
    "    aggregator = Krum.with_learning_settings(batch_size, alpha = 0.05),\n",
    "    inversion_method = GradientAttack.ASCENT,\n",
    "    poison_factor = 0.05,\n",
    "    unlearning_method = Unlearning.NEG_GRAD_PLUS,\n",
    "    training_hparams = dict(epochs=1),\n",
    "    unlearning_hparams = dict(),\n",
    "    quicktesting=False,\n",
    ")"
   ]
  },
  {
   "cell_type": "code",
   "execution_count": 47,
   "metadata": {},
   "outputs": [],
   "source": [
    "from torchmetrics import Metric\n",
    "\n",
    "def plot_accuracy(\n",
    "        train_metrics: list[dict[str, Metric]],\n",
    "        val_metrics: list[dict[str, Metric]] = None,\n",
    "        ax: plt.Axes = None,\n",
    "    ):\n",
    "    # Mean accuracy per step\n",
    "    # TODO: plot moving average or epoch tracking average instead\n",
    "    train_acc_per_step_per_epoch = [\n",
    "        epoch_metrics['MetricTracker'].compute_all()['accuracy'].mean(dim=1)\n",
    "        for epoch_metrics in train_metrics\n",
    "    ]\n",
    "    train_acc_per_step = torch.cat(train_acc_per_step_per_epoch).numpy(force=True)\n",
    "    ax.plot(np.arange(len(train_acc_per_step)), train_acc_per_step, label='Train accuracy')\n",
    "    \n",
    "    if val_metrics:\n",
    "        val_acc_per_step_per_epoch = torch.vstack([\n",
    "            epoch_metrics['MetricTracker'].compute_all()['accuracy'].mean(dim=1)\n",
    "            for epoch_metrics in val_metrics\n",
    "        ]).numpy(force=True)\n",
    "        val_acc_per_epoch = val_acc_per_step_per_epoch.mean(axis=1)\n",
    "        val_acc_std_per_epoch = val_acc_per_step_per_epoch.std(axis=1)\n",
    "\n",
    "        epoch_end_steps = np.cumsum(list(map(len, train_acc_per_step_per_epoch)))\n",
    "        ax.scatter(epoch_end_steps, val_acc_per_epoch, label='Validation accuracy', c='orange')\n",
    "        ax.errorbar(epoch_end_steps, val_acc_per_epoch, yerr=val_acc_std_per_epoch, c='orange')\n",
    "    \n",
    "    ax.set_xlabel(\"Step\")\n",
    "    ax.set_ylabel(\"Mean accuracy\")\n",
    "    ax.set_ylim((0.0, 1.0))\n",
    "    ax.legend()\n",
    "\n",
    "def display_logs(logs: Logs, ax: plt.Axes):\n",
    "    plot_accuracy(logs.train_metrics, logs.val_metrics, ax=ax)\n",
    "\n",
    "def display_pipeline_results(results: PipelineResults):\n",
    "    if results.unlearning:\n",
    "        assert results.poisoning\n",
    "\n",
    "        fig, axes = plt.subplots(nrows=1, ncols=2)\n",
    "\n",
    "        display_logs(results.train_logs, ax=axes[0])\n",
    "        axes[0].set_title(\"Training accuracy (poisoning)\")\n",
    "\n",
    "        display_logs(results.unlearn_logs, ax=axes[1])\n",
    "        axes[1].set_title(\"Training accuracy (unlearning)\")\n",
    "\n",
    "        fig.tight_layout()\n",
    "    \n",
    "    else:\n",
    "        ax = plt.subplot()\n",
    "        display_logs(results.train_logs, ax=ax)\n",
    "\n",
    "        label = \"poisoning\" if results.poisoning else \"clean\"\n",
    "        ax.set_title(f\"Training accuracy ({label})\")"
   ]
  },
  {
   "cell_type": "code",
   "execution_count": 48,
   "metadata": {},
   "outputs": [
    {
     "data": {
      "image/png": "[encoded data removed]",
      "text/plain": [
       "<Figure size 640x480 with 1 Axes>"
      ]
     },
     "metadata": {},
     "output_type": "display_data"
    }
   ],
   "source": [
    "display_pipeline_results(train_results)"
   ]
  },
  {
   "cell_type": "code",
   "execution_count": 49,
   "metadata": {},
   "outputs": [
    {
     "data": {
      "image/png": "[encoded data removed]",
      "text/plain": [
       "<Figure size 640x480 with 2 Axes>"
      ]
     },
     "metadata": {},
     "output_type": "display_data"
    }
   ],
   "source": [
    "display_pipeline_results(poison_unlearn_results)"
   ]
  },
  {
   "cell_type": "code",
   "execution_count": 50,
   "metadata": {},
   "outputs": [
    {
     "data": {
      "text/plain": [
       "[{'MetricTracker': MetricTracker(\n",
       "    (0-20): 21 x MetricCollection(\n",
       "      (accuracy): MulticlassAccuracy()\n",
       "    )\n",
       "  )}]"
      ]
     },
     "execution_count": 50,
     "metadata": {},
     "output_type": "execute_result"
    }
   ],
   "source": [
    "poison_unlearn_results.unlearn_logs.train_metrics"
   ]
  },
  {
   "cell_type": "markdown",
   "metadata": {},
   "source": [
    "TO CHECK:\n",
    "- metric is correctly computed\n",
    "- plot validation accuracy"
   ]
  }
 ],
 "metadata": {
  "kernelspec": {
   "display_name": "ml",
   "language": "python",
   "name": "ml"
  },
  "language_info": {
   "codemirror_mode": {
    "name": "ipython",
    "version": 3
   },
   "file_extension": ".py",
   "mimetype": "text/x-python",
   "name": "python",
   "nbconvert_exporter": "python",
   "pygments_lexer": "ipython3",
   "version": "3.13.2"
  }
 },
 "nbformat": 4,
 "nbformat_minor": 2
}
