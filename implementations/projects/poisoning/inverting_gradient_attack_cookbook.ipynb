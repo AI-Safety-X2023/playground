{
 "cells": [
  {
   "cell_type": "markdown",
   "metadata": {},
   "source": [
    "# Inverting gradient attack"
   ]
  },
  {
   "cell_type": "code",
   "execution_count": null,
   "metadata": {},
   "outputs": [
    {
     "name": "stdout",
     "output_type": "stream",
     "text": [
      "Using cpu device\n"
     ]
    }
   ],
   "source": [
    "from __future__ import annotations\n",
    "\n",
    "from copy import deepcopy\n",
    "import dataclasses\n",
    "import numpy as np\n",
    "import matplotlib.pyplot as plt\n",
    "import seaborn as sns\n",
    "from scipy import stats\n",
    "import pandas as pd\n",
    "import torch\n",
    "from torch import nn, Tensor\n",
    "from torch.nn.modules.loss import _Loss, CrossEntropyLoss\n",
    "from torch.optim import Optimizer, SGD, Adam\n",
    "from torch.utils.data import Dataset, DataLoader, Subset, TensorDataset\n",
    "from torchmetrics.classification import MulticlassAccuracy\n",
    "from image_classification.nn import Logs\n",
    "from image_classification.accel import BEST_DEVICE"
   ]
  },
  {
   "cell_type": "markdown",
   "metadata": {},
   "source": [
    "## ResNet-18"
   ]
  },
  {
   "cell_type": "markdown",
   "metadata": {},
   "source": [
    "For quick prototyping, also consider using `ShuffleNetV2`, a 300M-parameter model that is much smaller than `ResNet18`. Experiments can be made on both models or on only one of them."
   ]
  },
  {
   "cell_type": "code",
   "execution_count": 2,
   "metadata": {},
   "outputs": [],
   "source": [
    "from image_classification.models import ResNet18, ShuffleNetV2\n",
    "from image_classification.datasets import cifar10_train_test, cifar100_train_test"
   ]
  },
  {
   "cell_type": "code",
   "execution_count": 3,
   "metadata": {},
   "outputs": [
    {
     "name": "stdout",
     "output_type": "stream",
     "text": [
      "Loading CIFAR-10\n"
     ]
    },
    {
     "data": {
      "text/plain": [
       "(40000, 5000, 5000, 10000)"
      ]
     },
     "execution_count": 3,
     "metadata": {},
     "output_type": "execute_result"
    }
   ],
   "source": [
    "# Set to 10 for CIFAR-10, 100 for CIFAR-100\n",
    "num_classes = 10\n",
    "\n",
    "# The images are already normalized by theses datasets\n",
    "if num_classes == 10:\n",
    "    get_train_test = cifar10_train_test\n",
    "elif num_classes == 100:\n",
    "    get_train_test = cifar100_train_test\n",
    "else:\n",
    "    raise ValueError(f\"Can't find CIFAR dataset with {num_classes} classes\")\n",
    "print(f\"Loading CIFAR-{num_classes}\")\n",
    "\n",
    "training_data, test_data = get_train_test(root='data')\n",
    "N_test = len(test_data)\n",
    "N_val = len(training_data) // 10\n",
    "N_aux = N_val\n",
    "N = len(training_data) - N_val - N_aux\n",
    "# This works since training data is already shuffled\n",
    "training_data, val_data, aux_data = training_data.split([N, N_val, N_aux])\n",
    "\n",
    "batch_size = 100\n",
    "N, N_val, N_aux, N_test"
   ]
  },
  {
   "cell_type": "code",
   "execution_count": 4,
   "metadata": {},
   "outputs": [],
   "source": [
    "train_loader = DataLoader(training_data, batch_size, drop_last=True)\n",
    "val_loader = DataLoader(val_data, batch_size, drop_last=True)\n",
    "aux_loader = DataLoader(aux_data, batch_size, drop_last=True)"
   ]
  },
  {
   "cell_type": "markdown",
   "metadata": {},
   "source": [
    "### Hyperparameters"
   ]
  },
  {
   "cell_type": "code",
   "execution_count": 5,
   "metadata": {},
   "outputs": [],
   "source": [
    "criterion = CrossEntropyLoss()"
   ]
  },
  {
   "cell_type": "markdown",
   "metadata": {},
   "source": [
    "## Inverting gradient attack"
   ]
  },
  {
   "cell_type": "code",
   "execution_count": 31,
   "metadata": {},
   "outputs": [
    {
     "data": {
      "text/plain": [
       "<module 'federated' from '/home/lvt/dev/python/ml/psc/playground/implementations/projects/poisoning/federated/__init__.py'>"
      ]
     },
     "execution_count": 31,
     "metadata": {},
     "output_type": "execute_result"
    }
   ],
   "source": [
    "from importlib import reload\n",
    "import image_classification.gradient_attack\n",
    "import inverting_gradient_attack\n",
    "import federated as fed\n",
    "reload(image_classification.gradient_attack)\n",
    "reload(inverting_gradient_attack)\n",
    "reload(fed)"
   ]
  },
  {
   "cell_type": "code",
   "execution_count": 32,
   "metadata": {},
   "outputs": [],
   "source": [
    "from image_classification.gradient_attack import (\n",
    "    GradientAttack,\n",
    "    GradientEstimator, OmniscientGradientEstimator, ShadowGradientEstimator,\n",
    "    SampleInit, SampleInitRandomNoise, LearningSettings, GradientInverter,\n",
    "    Schedule, NeverUpdate\n",
    ")\n",
    "from inverting_gradient_attack import Pipeline, PipelineResults, Unlearning, Hyperparams\n",
    "import federated as fed\n",
    "#from federated import Aggregator, Mean, Krum\n",
    "from inverting_gradient_attack import Aggregator, Mean, Krum # Avoids failing isinstance checks\n",
    "from federated.utils import convert_bn_modules_to_gn"
   ]
  },
  {
   "cell_type": "markdown",
   "metadata": {},
   "source": [
    "## Poisoning + Unlearning pipeline"
   ]
  },
  {
   "cell_type": "code",
   "execution_count": 33,
   "metadata": {},
   "outputs": [],
   "source": [
    "def patch_network(network_factory: type[nn.Module]):\n",
    "    \"\"\"Patches a neural network factory to make it compatible to per-gradient backpropagation.\n",
    "    \n",
    "    This replaces a model's BatchNorm layers with GroupNorm.\n",
    "    See `federated.utils` documentation for technical details.\n",
    "    \"\"\"\n",
    "    def patch():\n",
    "        return convert_bn_modules_to_gn(network_factory())\n",
    "    \n",
    "    return patch"
   ]
  },
  {
   "cell_type": "code",
   "execution_count": 34,
   "metadata": {},
   "outputs": [],
   "source": [
    "def train(\n",
    "        model_factory = ResNet18,\n",
    "        aggregator = Mean(),\n",
    "        training_hparams: dict = {},\n",
    "        quicktesting: bool = False,\n",
    ") -> tuple[nn.Module, Logs]:\n",
    "    \"\"\"Train the model normally.\n",
    "    \n",
    "    Parameters:\n",
    "        model_factory (Module type): the neural network class.\n",
    "        aggregator (Aggregator): a gradient aggregation method.\n",
    "\n",
    "        training_hparams (dict, optional): training hyperparameter overrides.\n",
    "\n",
    "        quicktesting (bool, defaults to False): whether to use a small model,\n",
    "            a smaller subset of the training dataset and less training epochs\n",
    "            for quicker testing iterations. Overrides hyperparameters when relevant.\n",
    "\n",
    "    Returns:\n",
    "        out (tuple[nn.Module, Logs]): the trained model and the training logs.\n",
    "    \"\"\"\n",
    "    settings = LearningSettings(\n",
    "        criterion,\n",
    "        aggregator = deepcopy(aggregator),\n",
    "        num_clean = batch_size,\n",
    "        num_byzantine = 0,\n",
    "    )\n",
    "    hparams = Hyperparams()\n",
    "    hparams = dataclasses.replace(hparams, **training_hparams)\n",
    "\n",
    "    if quicktesting:\n",
    "        model_factory = ShuffleNetV2\n",
    "        mini_train_set = Subset(training_data, np.arange(N_aux))\n",
    "        train_loader_ = DataLoader(mini_train_set, batch_size)\n",
    "        hparams = dataclasses.replace(hparams, epochs=1)\n",
    "    else:\n",
    "        train_loader_ = train_loader\n",
    "\n",
    "    pipeline = Pipeline(settings, train_loader_, val_loader, hparams)\n",
    "    \n",
    "    model = patch_network(model_factory)().to(BEST_DEVICE)\n",
    "    logs = pipeline.train_loop(model)\n",
    "    return model, logs\n",
    "    "
   ]
  },
  {
   "cell_type": "code",
   "execution_count": 35,
   "metadata": {},
   "outputs": [],
   "source": [
    "def poison_and_unlearn(\n",
    "        model_factory = ResNet18,\n",
    "        aggregator = Mean(),\n",
    "        inversion_method = GradientAttack.ASCENT,\n",
    "        poison_factor: float = 0.2,\n",
    "        unlearning_method = Unlearning.NEG_GRAD_PLUS,\n",
    "        training_hparams: dict = {},\n",
    "        unlearning_hparams: dict = {},\n",
    "        quicktesting: bool = False,\n",
    "    ) -> tuple[nn.Module, PipelineResults]:\n",
    "    \"\"\"Run the poison-and-unlearn pipeline with default settings.\n",
    "\n",
    "    Parameters:\n",
    "        model_factory (Module type): the neural network class.\n",
    "        inversion_method (GradientAttack): the gradient inversion method.\n",
    "        poison_factor (float): the proportion of poisons in the training data.\n",
    "        aggregator (Aggregator): a gradient aggregation method.\n",
    "        unlearning_method (Unlearning): the unlearning algorithm.\n",
    "\n",
    "        training_hparams (dict, optional): training hyperparameter overrides.\n",
    "        unlearning_hparams (dict, optional): unlearning hyperparameter overrides.\n",
    "\n",
    "        quicktesting (bool, defaults to False): whether to use a small model,\n",
    "            a smaller subset of the training dataset and less training epochs\n",
    "            for quicker testing iterations. Overrides hyperparameters when relevant.\n",
    "\n",
    "    Returns:\n",
    "        out (tuple[nn.Module, PipelineResults]): the unlearner and the pipeline results.\n",
    "    \"\"\"\n",
    "    inverter = GradientInverter(\n",
    "        method = inversion_method,\n",
    "        estimator = ShadowGradientEstimator(aux_loader),\n",
    "        steps = 5,\n",
    "        sample_init = SampleInitRandomNoise(training_data),\n",
    "    )\n",
    "    settings = LearningSettings(\n",
    "        criterion,\n",
    "        aggregator = deepcopy(aggregator),\n",
    "        num_clean = batch_size,\n",
    "        num_byzantine = int(poison_factor / (1. - poison_factor) * batch_size),\n",
    "    )\n",
    "    hparams = Hyperparams()\n",
    "    hparams = dataclasses.replace(hparams, **training_hparams)\n",
    "\n",
    "    if quicktesting:\n",
    "        model_factory = ShuffleNetV2\n",
    "        mini_train_set = Subset(training_data, np.arange(N_aux))\n",
    "        train_loader_ = DataLoader(mini_train_set, batch_size)\n",
    "        hparams = dataclasses.replace(hparams, epochs=1)\n",
    "    else:\n",
    "        train_loader_ = train_loader\n",
    "\n",
    "    pipeline = Pipeline(settings, train_loader_, val_loader, hparams)\n",
    "    pipeline.unlearning_hparams[unlearning_method].update(unlearning_hparams)\n",
    "    \n",
    "    model = patch_network(model_factory)().to(BEST_DEVICE)\n",
    "    unlearner, results = pipeline.poison_and_unlearn(model, inverter, unlearning_method)\n",
    "    # Now model is the poisoned model without unlearning\n",
    "    return unlearner, results"
   ]
  },
  {
   "cell_type": "code",
   "execution_count": 36,
   "metadata": {},
   "outputs": [],
   "source": [
    "def make_robust_aggregator(batch_size: int, alpha: float) -> Krum:\n",
    "    \"\"\"Configure a robust aggregation method.\n",
    "\n",
    "    Parameters:\n",
    "        batch_size (int): the clean data batch size.\n",
    "            Warning : this is not the true batch size since it does not include poisons,\n",
    "            the latter are artificially inserted into the batch.\n",
    "        alpha (float): the maximum proportion of poisons to defend against.\n",
    "\n",
    "    Returns:\n",
    "        aggregator (Krum): a robust aggregator.\n",
    "    \"\"\"\n",
    "    alpha = 0.1\n",
    "    f = int(alpha / (1 - alpha) * batch_size)\n",
    "    n = batch_size + f\n",
    "    m = n - (2 * f + 3)\n",
    "    return Krum(f, m)"
   ]
  },
  {
   "cell_type": "code",
   "execution_count": 37,
   "metadata": {},
   "outputs": [
    {
     "name": "stderr",
     "output_type": "stream",
     "text": [
      "/home/lvt/.local/share/virtualenvs/ml-TQx6uCZG/lib/python3.13/site-packages/torchmetrics/utilities/prints.py:43: FutureWarning: The default value for `maximize` will be changed from `True` to `None` in v1.7.0 of TorchMetrics,will automatically infer the value based on the `higher_is_better` attribute of the metric (if such attribute exists) or raise an error if it does not. If you are explicitly setting the `maximize` argument to either `True` or `False` already, you can ignore this warning.\n",
      "  warnings.warn(*args, **kwargs)\n"
     ]
    },
    {
     "data": {
      "application/vnd.jupyter.widget-view+json": {
       "model_id": "b17fe0517a7c43b68f0124e0790b7482",
       "version_major": 2,
       "version_minor": 0
      },
      "text/plain": [
       "Train epochs:   0%|          | 0/1 [00:00<?, ?epoch/s]"
      ]
     },
     "metadata": {},
     "output_type": "display_data"
    },
    {
     "data": {
      "application/vnd.jupyter.widget-view+json": {
       "model_id": "866cb8aab4a3419890f22b39cb796d3d",
       "version_major": 2,
       "version_minor": 0
      },
      "text/plain": [
       "Train loop:   0%|          | 0/5000 [00:00<?, ?it/s]"
      ]
     },
     "metadata": {},
     "output_type": "display_data"
    },
    {
     "name": "stdout",
     "output_type": "stream",
     "text": [
      "Train loop: 100%|██████████| 5000/5000 [00:11<00:00, 441.26it/s, accuracy=0.108, avg_loss=2.35]\n"
     ]
    },
    {
     "data": {
      "application/vnd.jupyter.widget-view+json": {
       "model_id": "12d517b757ac46be81361eaa00427752",
       "version_major": 2,
       "version_minor": 0
      },
      "text/plain": [
       "Test epoch:   0%|          | 0/5000 [00:00<?, ?it/s]"
      ]
     },
     "metadata": {},
     "output_type": "display_data"
    },
    {
     "name": "stdout",
     "output_type": "stream",
     "text": [
      "Test epoch: 100%|██████████| 5000/5000 [00:03<00:00, 1510.29it/s, accuracy=0.0994, avg_loss=2.29]\n"
     ]
    }
   ],
   "source": [
    "unlearner, results = train(\n",
    "    ShuffleNetV2,\n",
    "    aggregator = make_robust_aggregator(batch_size, alpha = 0.1),\n",
    "    training_hparams = dict(epochs=1),\n",
    "    quicktesting=True,\n",
    ")"
   ]
  },
  {
   "cell_type": "code",
   "execution_count": 38,
   "metadata": {},
   "outputs": [
    {
     "data": {
      "application/vnd.jupyter.widget-view+json": {
       "model_id": "d7388c429a6b42309ddd83d7407ecb48",
       "version_major": 2,
       "version_minor": 0
      },
      "text/plain": [
       "Train epochs:   0%|          | 0/1 [00:00<?, ?epoch/s]"
      ]
     },
     "metadata": {},
     "output_type": "display_data"
    },
    {
     "data": {
      "application/vnd.jupyter.widget-view+json": {
       "model_id": "1f2a507ac84a4db98807ed504da1ab41",
       "version_major": 2,
       "version_minor": 0
      },
      "text/plain": [
       "Train loop:   0%|          | 0/5000 [00:00<?, ?it/s]"
      ]
     },
     "metadata": {},
     "output_type": "display_data"
    },
    {
     "name": "stdout",
     "output_type": "stream",
     "text": [
      "Train loop: 100%|██████████| 5000/5000 [01:59<00:00, 41.90it/s, accuracy=0.1, avg_loss=4.09]\n"
     ]
    },
    {
     "data": {
      "application/vnd.jupyter.widget-view+json": {
       "model_id": "3882a61c5eec486a8ea27f80a55d05ec",
       "version_major": 2,
       "version_minor": 0
      },
      "text/plain": [
       "Test epoch:   0%|          | 0/5000 [00:00<?, ?it/s]"
      ]
     },
     "metadata": {},
     "output_type": "display_data"
    },
    {
     "name": "stdout",
     "output_type": "stream",
     "text": [
      "Test epoch: 100%|██████████| 5000/5000 [00:03<00:00, 1443.64it/s, accuracy=0.1, avg_loss=2.53]\n"
     ]
    },
    {
     "data": {
      "application/vnd.jupyter.widget-view+json": {
       "model_id": "9d1eb2e42bd049c6a127a2fb22b5d898",
       "version_major": 2,
       "version_minor": 0
      },
      "text/plain": [
       "NegGrad+ epochs:   0%|          | 0/1 [00:00<?, ?epoch/s]"
      ]
     },
     "metadata": {},
     "output_type": "display_data"
    },
    {
     "data": {
      "application/vnd.jupyter.widget-view+json": {
       "model_id": "58ebe102cf514d31a2f0f1e752c6867c",
       "version_major": 2,
       "version_minor": 0
      },
      "text/plain": [
       "NegGrad+:   0%|          | 0/50 [00:00<?, ?it/s]"
      ]
     },
     "metadata": {},
     "output_type": "display_data"
    }
   ],
   "source": [
    "unlearner, results = poison_and_unlearn(\n",
    "    ShuffleNetV2,\n",
    "    aggregator = make_robust_aggregator(batch_size, alpha = 0.1),\n",
    "    inversion_method = GradientAttack.ASCENT,\n",
    "    poison_factor = 0.05,\n",
    "    unlearning_method = Unlearning.NEG_GRAD_PLUS,\n",
    "    training_hparams = dict(epochs=1),\n",
    "    unlearning_hparams = dict(),\n",
    "    quicktesting=True,\n",
    ")"
   ]
  },
  {
   "cell_type": "code",
   "execution_count": 39,
   "metadata": {},
   "outputs": [],
   "source": [
    "def display_results(results: PipelineResults):\n",
    "    # Mean accuracy per step\n",
    "    # TODO: plot moving average or epoch tracking average instead\n",
    "    accuracy_per_step = torch.cat([\n",
    "        epoch_metrics['MetricTracker'].compute_all()['accuracy'].mean(dim=1)\n",
    "        for epoch_metrics in results.train_logs.train_metrics\n",
    "    ])\n",
    "    plt.plot(np.arange(len(accuracy_per_step)), accuracy_per_step)\n",
    "    plt.xlabel(\"Step\")\n",
    "    plt.ylabel(\"Mean accuracy\")\n",
    "    plt.ylim((0.0, 1.0))\n",
    "    plt.title(\"Training accuracy (poisoning)\")\n",
    "    plt.show()"
   ]
  },
  {
   "cell_type": "code",
   "execution_count": 40,
   "metadata": {},
   "outputs": [
    {
     "data": {
      "image/png": "[encoded data removed]",
      "text/plain": [
       "<Figure size 640x480 with 1 Axes>"
      ]
     },
     "metadata": {},
     "output_type": "display_data"
    }
   ],
   "source": [
    "display_results(results)"
   ]
  },
  {
   "cell_type": "code",
   "execution_count": null,
   "metadata": {},
   "outputs": [],
   "source": []
  }
 ],
 "metadata": {
  "kernelspec": {
   "display_name": "ml",
   "language": "python",
   "name": "ml"
  },
  "language_info": {
   "codemirror_mode": {
    "name": "ipython",
    "version": 3
   },
   "file_extension": ".py",
   "mimetype": "text/x-python",
   "name": "python",
   "nbconvert_exporter": "python",
   "pygments_lexer": "ipython3",
   "version": "3.13.2"
  }
 },
 "nbformat": 4,
 "nbformat_minor": 2
}
