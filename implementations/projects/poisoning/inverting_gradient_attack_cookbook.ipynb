{
 "cells": [
  {
   "cell_type": "markdown",
   "metadata": {},
   "source": [
    "# Inverting gradient attack"
   ]
  },
  {
   "cell_type": "markdown",
   "metadata": {},
   "source": [
    "We run the inverting gradient data poisoning attack by [Bouaziz et al.](https://arxiv.org/abs/2410.21453) We compare the effectiveness of machine unlearning as a defense, with a robust gradient aggregation rule.\n",
    "\n",
    "We consider the same machine unlearning algorithms tested by [Pawelczyk et al.](https://arxiv.org/abs/2406.17216) and we use the $m$-KRUM aggregator introduced by [Blanchard et al.](https://arxiv.org/abs/1703.02757)"
   ]
  },
  {
   "cell_type": "markdown",
   "metadata": {
    "jp-MarkdownHeadingCollapsed": true
   },
   "source": [
    "## Setup"
   ]
  },
  {
   "cell_type": "markdown",
   "metadata": {},
   "source": [
    "### Package installations"
   ]
  },
  {
   "cell_type": "markdown",
   "metadata": {},
   "source": [
    "Run this uncommented cell below to install the required packages:"
   ]
  },
  {
   "cell_type": "code",
   "execution_count": 1,
   "metadata": {},
   "outputs": [],
   "source": [
    "#%pip install numpy matplotlib scipy pandas seaborn tqdm scikit-learn SciencePlots\n",
    "#%pip install torch torchvision tensorboard torchmetrics torchinfo"
   ]
  },
  {
   "cell_type": "markdown",
   "metadata": {},
   "source": [
    "### Imports"
   ]
  },
  {
   "cell_type": "code",
   "execution_count": 39,
   "metadata": {},
   "outputs": [],
   "source": [
    "from __future__ import annotations\n",
    "\n",
    "from copy import deepcopy\n",
    "import dataclasses\n",
    "from pathlib import Path\n",
    "import os\n",
    "import numpy as np\n",
    "import matplotlib.pyplot as plt\n",
    "import seaborn as sns\n",
    "from scipy import stats\n",
    "import pandas as pd\n",
    "import torch\n",
    "from torch import nn, Tensor\n",
    "from torch.nn.modules.loss import _Loss, CrossEntropyLoss\n",
    "from torch.optim import Optimizer, SGD, Adam\n",
    "from torch.utils.data import Dataset, DataLoader, Subset, random_split\n",
    "from torchmetrics.classification import MulticlassAccuracy\n",
    "from IPython.display import clear_output\n",
    "\n",
    "from image_classification.nn import Logs, test_epoch\n",
    "from image_classification.accel import BEST_DEVICE"
   ]
  },
  {
   "cell_type": "markdown",
   "metadata": {},
   "source": [
    "### Data directories"
   ]
  },
  {
   "cell_type": "code",
   "execution_count": 40,
   "metadata": {},
   "outputs": [],
   "source": [
    "DATA_DIR = Path.cwd() / 'data' / 'inverting_gradient_attack_cookbook'\n",
    "os.makedirs(DATA_DIR, exist_ok=True)"
   ]
  },
  {
   "cell_type": "markdown",
   "metadata": {
    "jp-MarkdownHeadingCollapsed": true
   },
   "source": [
    "## Base learning settings"
   ]
  },
  {
   "cell_type": "markdown",
   "metadata": {
    "jp-MarkdownHeadingCollapsed": true
   },
   "source": [
    "### Model\n",
    "\n",
    "For quick prototyping, also consider using [`ShuffleNetV2`](https://arxiv.org/abs/1807.11164v1), a 300M-parameter model that is much smaller than [`ResNet18`](https://arxiv.org/abs/1704.06904). Experiments can be made on both models or on only one of them."
   ]
  },
  {
   "cell_type": "code",
   "execution_count": 41,
   "metadata": {},
   "outputs": [],
   "source": [
    "from image_classification.models import ResNet18, ShuffleNetV2, ConvNet16\n",
    "from image_classification.datasets import cifar10_train_test, cifar100_train_test"
   ]
  },
  {
   "cell_type": "markdown",
   "metadata": {
    "jp-MarkdownHeadingCollapsed": true
   },
   "source": [
    "### Dataset\n",
    "\n",
    "We use CIFAR-10 by default."
   ]
  },
  {
   "cell_type": "code",
   "execution_count": 42,
   "metadata": {},
   "outputs": [
    {
     "name": "stdout",
     "output_type": "stream",
     "text": [
      "Loading CIFAR-10\n"
     ]
    },
    {
     "data": {
      "text/plain": [
       "(40000, 5000, 5000, 10000)"
      ]
     },
     "execution_count": 42,
     "metadata": {},
     "output_type": "execute_result"
    }
   ],
   "source": [
    "# Set to 10 for CIFAR-10, 100 for CIFAR-100\n",
    "num_classes = 10\n",
    "\n",
    "# The images are already normalized by these datasets\n",
    "if num_classes == 10:\n",
    "    get_train_test = cifar10_train_test\n",
    "elif num_classes == 100:\n",
    "    get_train_test = cifar100_train_test\n",
    "else:\n",
    "    raise ValueError(f\"Can't find CIFAR dataset with {num_classes} classes\")\n",
    "print(f\"Loading CIFAR-{num_classes}\")\n",
    "\n",
    "training_data, test_data = get_train_test(root='data')\n",
    "N_test = len(test_data)\n",
    "N_val = len(training_data) // 10\n",
    "N_aux = N_val\n",
    "N = len(training_data) - N_val - N_aux\n",
    "# This works since training data is already shuffled\n",
    "training_data, val_data, aux_data = training_data.split([N, N_val, N_aux])\n",
    "\n",
    "batch_size = 100\n",
    "N, N_val, N_aux, N_test"
   ]
  },
  {
   "cell_type": "code",
   "execution_count": 43,
   "metadata": {},
   "outputs": [],
   "source": [
    "train_loader = DataLoader(training_data, batch_size, drop_last=True)\n",
    "test_loader = DataLoader(test_data, batch_size, drop_last=True)\n",
    "val_loader = DataLoader(val_data, batch_size, drop_last=True)\n",
    "# We can use a small batch size (~25) on the auxiliary dataset since the attack complexity is quadratic.\n",
    "# If testing Krum, aux_loader and train_loader must have the same batch size for consistency\n",
    "aux_loader = DataLoader(aux_data, batch_size, drop_last=True)"
   ]
  },
  {
   "cell_type": "markdown",
   "metadata": {
    "jp-MarkdownHeadingCollapsed": true
   },
   "source": [
    "### Hyperparameters"
   ]
  },
  {
   "cell_type": "code",
   "execution_count": 44,
   "metadata": {},
   "outputs": [],
   "source": [
    "criterion = CrossEntropyLoss()"
   ]
  },
  {
   "cell_type": "markdown",
   "metadata": {},
   "source": [
    "## Inverting gradient attack"
   ]
  },
  {
   "cell_type": "code",
   "execution_count": 45,
   "metadata": {},
   "outputs": [],
   "source": [
    "from image_classification.gradient_attack import (\n",
    "    GradientAttack,\n",
    "    GradientEstimator, OmniscientGradientEstimator, ShadowGradientEstimator,\n",
    "    SampleInit, SampleInitRandomNoise, SampleInitFeedback, LearningSettings, GradientInverter,\n",
    "    Schedule, NeverUpdate\n",
    ")\n",
    "from inverting_gradient_attack import Pipeline, PipelineResults, Unlearning, Hyperparams\n",
    "import federated as fed\n",
    "#from federated import Aggregator, Mean, Krum\n",
    "from inverting_gradient_attack import Aggregator, Mean, Krum # Avoids failing isinstance checks\n",
    "from federated.utils import convert_bn_modules_to_gn"
   ]
  },
  {
   "cell_type": "markdown",
   "metadata": {},
   "source": [
    "## Poisoning + Unlearning pipeline"
   ]
  },
  {
   "cell_type": "markdown",
   "metadata": {},
   "source": [
    "### Patch model with GroupNorm"
   ]
  },
  {
   "cell_type": "code",
   "execution_count": 46,
   "metadata": {},
   "outputs": [],
   "source": [
    "def patch_network(network_factory: type[nn.Module]):\n",
    "    \"\"\"Patches a neural network factory to make it compatible to per-gradient backpropagation.\n",
    "    \n",
    "    This replaces a model's BatchNorm layers with GroupNorm.\n",
    "    See `federated.utils` documentation for technical details.\n",
    "    \"\"\"\n",
    "    def patch():\n",
    "        return convert_bn_modules_to_gn(network_factory())\n",
    "    \n",
    "    return patch"
   ]
  },
  {
   "cell_type": "markdown",
   "metadata": {
    "jp-MarkdownHeadingCollapsed": true
   },
   "source": [
    "### Evaluation"
   ]
  },
  {
   "cell_type": "code",
   "execution_count": 47,
   "metadata": {},
   "outputs": [],
   "source": [
    "def compute_accuracy(model: nn.Module) -> float:\n",
    "    \"\"\"Compute the model accuracy on the test set.\"\"\"\n",
    "    metric = MulticlassAccuracy(num_classes)\n",
    "    logger = test_epoch(\n",
    "        model,\n",
    "        test_loader,\n",
    "        criterion,\n",
    "        metric=metric,\n",
    "    )\n",
    "    return logger.metrics['MulticlassAccuracy'].compute().item()"
   ]
  },
  {
   "cell_type": "markdown",
   "metadata": {},
   "source": [
    "### Pipeline"
   ]
  },
  {
   "cell_type": "code",
   "execution_count": 48,
   "metadata": {},
   "outputs": [],
   "source": [
    "def run_pipeline(\n",
    "        model_factory = ResNet18,\n",
    "        aggregator = Mean(),\n",
    "        opt_cls: type[Optimizer] = Adam,\n",
    "        inversion_method: GradientAttack | None = None,\n",
    "        poison_factor: float = 0.2,\n",
    "        unlearning_method: Unlearning | None = None,\n",
    "        training_hparams: dict = {},\n",
    "        unlearning_hparams: dict = {},\n",
    "        quicktesting: bool = False,\n",
    "        forget_set: Dataset = None,\n",
    "    ) -> tuple[nn.Module, PipelineResults]:\n",
    "    \"\"\"Run a training pipeline with default settings.\n",
    "\n",
    "    The training may include poisoning with an inverting gradient attack,\n",
    "    and perform unlearning after training.\n",
    "\n",
    "    Parameters:\n",
    "        model_factory (Module type): the neural network class.\n",
    "        aggregator (Aggregator): a gradient aggregation method.\n",
    "        inversion_method (GradientAttack, optional): the gradient inversion method.\n",
    "        poison_factor (float, optional): the proportion of poisons in the training data.\n",
    "        unlearning_method (Unlearning, optional): the unlearning algorithm.\n",
    "        forget_set (Dataset, optional): the dataset to unlearn. Not needed if poisoning.\n",
    "\n",
    "        training_hparams (dict, optional): training hyperparameter overrides.\n",
    "        unlearning_hparams (dict, optional): unlearning hyperparameter overrides.\n",
    "\n",
    "        quicktesting (bool, defaults to False): whether to use a small model,\n",
    "            a smaller subset of the training dataset and less training epochs\n",
    "            for quicker testing iterations. Overrides hyperparameters when relevant.\n",
    "\n",
    "    Returns:\n",
    "        out (tuple[nn.Module, PipelineResults]): the trained and possibly unlearned model\n",
    "            and the pipeline results.\n",
    "    \"\"\"\n",
    "    poisoning = inversion_method is not None\n",
    "    unlearning = unlearning_method is not None\n",
    "\n",
    "    if poisoning:\n",
    "        inverter = GradientInverter(\n",
    "            method = inversion_method,\n",
    "            estimator = ShadowGradientEstimator(aux_loader),\n",
    "            steps = 15,\n",
    "            lr = 0.6,\n",
    "            lr_decay = 0.93,\n",
    "            momentum = 0.5,\n",
    "            sample_init = SampleInitFeedback(aux_data),\n",
    "            #sample_init = SampleInitRandomNoise(training_data),\n",
    "        )\n",
    "    \n",
    "    settings = LearningSettings(\n",
    "        criterion,\n",
    "        aggregator = deepcopy(aggregator),\n",
    "        num_clean = batch_size,\n",
    "        num_byzantine = int(poison_factor / (1. - poison_factor) * batch_size),\n",
    "    )\n",
    "\n",
    "    hparams = Hyperparams.presets(opt_cls, model_factory)\n",
    "    hparams = dataclasses.replace(hparams, batch_size=batch_size, num_classes=num_classes)\n",
    "    hparams = dataclasses.replace(hparams, **training_hparams)\n",
    "\n",
    "    if quicktesting:\n",
    "        model_factory = ShuffleNetV2\n",
    "        mini_train_set, _ = random_split(training_data, [0.1, 0.9])\n",
    "        train_loader_ = DataLoader(mini_train_set, batch_size)\n",
    "        hparams = dataclasses.replace(hparams, epochs=1)\n",
    "        if poisoning:\n",
    "            inverter.steps = 1\n",
    "    else:\n",
    "        train_loader_ = train_loader\n",
    "\n",
    "    pipeline = Pipeline(\n",
    "        settings, train_loader_, val_loader,\n",
    "        opt_cls=opt_cls, hparams=hparams,\n",
    "    )\n",
    "    if unlearning:\n",
    "        pipeline.unlearning_hparams[unlearning_method].update(unlearning_hparams)\n",
    "    print(pipeline)\n",
    "\n",
    "    model = patch_network(model_factory)().to(BEST_DEVICE)\n",
    "\n",
    "    if poisoning and unlearning:\n",
    "        unlearner, results = pipeline.poison_and_unlearn(model, inverter, unlearning_method)\n",
    "        model = unlearner\n",
    "    elif poisoning:\n",
    "        poisoned, results = pipeline.poison(model, inverter)\n",
    "        model = poisoned\n",
    "    elif unlearning:\n",
    "        unlearner, results = pipeline.unlearn(model, forget_set, unlearning_method)\n",
    "        model = unlearner\n",
    "    else:\n",
    "        trained, results = pipeline.train(model)\n",
    "        model = trained \n",
    "    \n",
    "    return model, results"
   ]
  },
  {
   "cell_type": "markdown",
   "metadata": {
    "jp-MarkdownHeadingCollapsed": true
   },
   "source": [
    "### Normal training"
   ]
  },
  {
   "cell_type": "code",
   "execution_count": 49,
   "metadata": {},
   "outputs": [],
   "source": [
    "def train(\n",
    "        model_factory = ResNet18,\n",
    "        opt_cls: type[Optimizer] = Adam,\n",
    "        aggregator = Mean(),\n",
    "        training_hparams: dict = {},\n",
    "        quicktesting: bool = False,\n",
    ") -> tuple[nn.Module, PipelineResults]:\n",
    "    \"\"\"Train the model normally.\n",
    "    \n",
    "    See `run_pipeline` for details on the arguments.\n",
    "    \"\"\"\n",
    "    return run_pipeline(\n",
    "        model_factory,\n",
    "        aggregator=aggregator,\n",
    "        opt_cls=opt_cls,\n",
    "        poison_factor=0.0,\n",
    "        training_hparams=training_hparams,\n",
    "        quicktesting=quicktesting,\n",
    "    )"
   ]
  },
  {
   "cell_type": "markdown",
   "metadata": {
    "jp-MarkdownHeadingCollapsed": true
   },
   "source": [
    "### Training with data poisoning\n",
    "\n",
    "This inverting gradient data poisoning attack can be defended by changing the aggregator to KRUM."
   ]
  },
  {
   "cell_type": "code",
   "execution_count": 50,
   "metadata": {},
   "outputs": [],
   "source": [
    "def poison(\n",
    "        model_factory = ResNet18,\n",
    "        opt_cls: type[Optimizer] = Adam,\n",
    "        aggregator = Mean(),\n",
    "        inversion_method = GradientAttack.ASCENT,\n",
    "        poison_factor: float = 0.2,\n",
    "        training_hparams: dict = {},\n",
    "        quicktesting: bool = False,\n",
    "    ) -> tuple[nn.Module, PipelineResults]:\n",
    "    \"\"\"Run the poisoning pipeline with default settings.\n",
    "\n",
    "    See `run_pipeline` for details on the arguments.\n",
    "    \"\"\"\n",
    "    return run_pipeline(\n",
    "        model_factory,\n",
    "        aggregator=aggregator,\n",
    "        opt_cls=opt_cls,\n",
    "        inversion_method=inversion_method,\n",
    "        poison_factor=poison_factor,\n",
    "        training_hparams=training_hparams,\n",
    "        quicktesting=quicktesting,\n",
    "    )"
   ]
  },
  {
   "cell_type": "markdown",
   "metadata": {
    "jp-MarkdownHeadingCollapsed": true
   },
   "source": [
    "### Poisoning and then Unlearning\n",
    "\n",
    "Machine unlearning is used against a gradient inversion data poisoning attack."
   ]
  },
  {
   "cell_type": "code",
   "execution_count": 51,
   "metadata": {},
   "outputs": [],
   "source": [
    "def poison_and_unlearn(\n",
    "        model_factory = ResNet18,\n",
    "        aggregator = Mean(),\n",
    "        opt_cls: type[Optimizer] = Adam,\n",
    "        inversion_method = GradientAttack.ASCENT,\n",
    "        poison_factor: float = 0.2,\n",
    "        unlearning_method = Unlearning.NEG_GRAD_PLUS,\n",
    "        training_hparams: dict = {},\n",
    "        unlearning_hparams: dict = {},\n",
    "        quicktesting: bool = False,\n",
    "    ) -> tuple[nn.Module, PipelineResults]:\n",
    "    \"\"\"Run the poison-and-unlearn pipeline with default settings.\n",
    "\n",
    "    See `run_pipeline` for details on the arguments.\n",
    "    \"\"\"\n",
    "    return run_pipeline(\n",
    "        model_factory,\n",
    "        aggregator=aggregator,\n",
    "        opt_cls=opt_cls,\n",
    "        inversion_method=inversion_method,\n",
    "        poison_factor=poison_factor,\n",
    "        unlearning_method=unlearning_method,\n",
    "        training_hparams=training_hparams,\n",
    "        unlearning_hparams=unlearning_hparams,\n",
    "        quicktesting=quicktesting,\n",
    "    )"
   ]
  },
  {
   "cell_type": "markdown",
   "metadata": {
    "jp-MarkdownHeadingCollapsed": true
   },
   "source": [
    "### Just unlearn"
   ]
  },
  {
   "cell_type": "code",
   "execution_count": 52,
   "metadata": {},
   "outputs": [],
   "source": [
    "def unlearn(\n",
    "        model: nn.Module,\n",
    "        forget_set: Dataset,\n",
    "        aggregator = Mean(),\n",
    "        opt_cls: type[Optimizer] = Adam,\n",
    "        unlearning_method = Unlearning.NEG_GRAD_PLUS,\n",
    "        unlearning_hparams: dict = {},\n",
    "        quicktesting: bool = False,\n",
    "    ) -> tuple[nn.Module, PipelineResults]:\n",
    "    \"\"\"Run the unlearn pipeline with default settings.\n",
    "\n",
    "    See `run_pipeline` for details on the arguments.\n",
    "    \"\"\"\n",
    "    return run_pipeline(\n",
    "        lambda: deepcopy(model),\n",
    "        aggregator=aggregator,\n",
    "        opt_cls=opt_cls,\n",
    "        unlearning_method=unlearning_method,\n",
    "        unlearning_hparams=unlearning_hparams,\n",
    "        quicktesting=quicktesting,\n",
    "        forget_set=forget_set,\n",
    "    )"
   ]
  },
  {
   "cell_type": "markdown",
   "metadata": {
    "jp-MarkdownHeadingCollapsed": true
   },
   "source": [
    "### Plot results"
   ]
  },
  {
   "cell_type": "code",
   "execution_count": 53,
   "metadata": {},
   "outputs": [],
   "source": [
    "from torchmetrics import Metric\n",
    "\n",
    "def plot_accuracy(\n",
    "        train_metrics: list[dict[str, Metric]],\n",
    "        val_metrics: list[dict[str, Metric]] = None,\n",
    "        ax: plt.Axes = None,\n",
    "    ):\n",
    "    # Mean accuracy per step\n",
    "    # TODO: plot moving average or epoch tracking average instead\n",
    "    train_acc_per_step_per_epoch = [\n",
    "        epoch_metrics['MetricTracker'].compute_all()['accuracy'].mean(dim=1)\n",
    "        for epoch_metrics in train_metrics\n",
    "    ]\n",
    "    train_acc_per_step = torch.cat(train_acc_per_step_per_epoch).numpy(force=True)\n",
    "    ax.scatter(np.arange(len(train_acc_per_step)), train_acc_per_step, s=10, alpha=0.2, label='Train accuracy')\n",
    "    \n",
    "    if val_metrics:\n",
    "        val_acc_per_step_per_epoch = torch.vstack([\n",
    "            epoch_metrics['MetricTracker'].compute_all()['accuracy'].mean(dim=1)\n",
    "            for epoch_metrics in val_metrics\n",
    "        ]).numpy(force=True)\n",
    "        val_acc_per_epoch = val_acc_per_step_per_epoch.mean(axis=1)\n",
    "        val_acc_std_per_epoch = val_acc_per_step_per_epoch.std(axis=1)\n",
    "\n",
    "        epoch_end_steps = np.cumsum(list(map(len, train_acc_per_step_per_epoch)))\n",
    "        ax.scatter(epoch_end_steps, val_acc_per_epoch, label='Validation accuracy', c='orange')\n",
    "        ax.errorbar(epoch_end_steps, val_acc_per_epoch, yerr=val_acc_std_per_epoch, c='orange')\n",
    "\n",
    "    ax.grid()\n",
    "    ax.set_xlabel(\"Step\")\n",
    "    ax.set_ylabel(\"Mean accuracy\")\n",
    "    ax.set_ylim((0.0, 1.0))\n",
    "    ax.legend()\n",
    "\n",
    "def display_logs(logs: Logs, ax: plt.Axes):\n",
    "    plot_accuracy(logs.train_metrics, logs.val_metrics, ax=ax)\n",
    "\n",
    "def display_pipeline_results(results: PipelineResults):\n",
    "    if results.unlearning:\n",
    "        assert results.poisoning\n",
    "\n",
    "        fig, axes = plt.subplots(nrows=1, ncols=2)\n",
    "\n",
    "        display_logs(results.train_logs, ax=axes[0])\n",
    "        axes[0].set_title(\"Training accuracy (poisoning)\")\n",
    "\n",
    "        display_logs(results.unlearn_logs, ax=axes[1])\n",
    "        axes[1].set_title(\"Training accuracy (unlearning)\")\n",
    "\n",
    "        fig.tight_layout()\n",
    "    \n",
    "    else:\n",
    "        ax = plt.subplot()\n",
    "        display_logs(results.train_logs, ax=ax)\n",
    "\n",
    "        label = \"poisoning\" if results.poisoning else \"clean\"\n",
    "        ax.set_title(f\"Training accuracy ({label})\")"
   ]
  },
  {
   "cell_type": "code",
   "execution_count": 54,
   "metadata": {},
   "outputs": [],
   "source": [
    "import scienceplots\n",
    "\n",
    "plt.style.use('science')\n",
    "\n",
    "FIGURES_DIR = DATA_DIR / 'figures'\n",
    "os.makedirs(FIGURES_DIR, exist_ok=True)\n",
    "\n",
    "def save_figure(name: str, format='pdf'):\n",
    "    figure_path = FIGURES_DIR / f\"{name}.{format}\"\n",
    "    plt.savefig(figure_path)"
   ]
  },
  {
   "cell_type": "markdown",
   "metadata": {},
   "source": [
    "### Backup models\n",
    "\n",
    "Save models after training in case we want to reuse them."
   ]
  },
  {
   "cell_type": "code",
   "execution_count": 55,
   "metadata": {},
   "outputs": [],
   "source": [
    "def save_model(model: nn.Module, file_name: str, base_dir = DATA_DIR):\n",
    "    os.makedirs(base_dir, exist_ok=True)\n",
    "    file_path = Path(base_dir) / file_name\n",
    "    torch.save(model.state_dict(), file_path)"
   ]
  },
  {
   "cell_type": "markdown",
   "metadata": {},
   "source": [
    "## Experiments"
   ]
  },
  {
   "cell_type": "markdown",
   "metadata": {},
   "source": [
    "### Quick tests"
   ]
  },
  {
   "cell_type": "code",
   "execution_count": 56,
   "metadata": {},
   "outputs": [
    {
     "name": "stdout",
     "output_type": "stream",
     "text": [
      "Pipeline(settings=LearningSettings(criterion=CrossEntropyLoss(), aggregator=Krum(num_byzantine=11, num_selected=86), num_clean=100, num_byzantine=25), train_loader=Dataloader(<len=4000>), val_loader=Dataloader(<len=5000>), hparams=Hyperparams(lr=0.05, momentum=0, weight_decay=0, max_lr=0.1, batch_size=100, epochs=1, num_classes=10, top_k=1, criterion=CrossEntropyLoss()), unlearning_hparams={<Unlearning.GRADIENT_DESCENT: 0>: {'lr': 0.05, 'epochs': 1}, <Unlearning.NOISY_GRADIENT_DESCENT: 2>: {'lr': 0.05, 'epochs': 1, 'noise_scale': 0.00031622776601683794}, <Unlearning.GRADIENT_ASCENT: 1>: {'lr': 1e-05, 'epochs': 1}, <Unlearning.NEG_GRAD_PLUS: 3>: {'lr': 0.05, 'beta': 0.999, 'epochs': 1}, <Unlearning.CFK: 4>: {'k': 6, 'lr': 0.05, 'epochs': 0}, <Unlearning.EUK: 5>: {'k': 6, 'lr': 0.05, 'epochs': 0}, <Unlearning.SCRUB: 6>: {'max_steps': 1, 'steps': 1, 'alpha': 0.1, 'beta': 0.01, 'gamma': 0.9}})\n",
      "Poisoning GradientInverter(method=Little Is Enough, estimator=ShadowGradientEstimator(aux_loader = DataLoader(<data_len=5000>)), steps=1, tv_coef=0.0, lr=0.6, sample_init=SampleInitFeedback(), label_update_schedule=PowerofTwoSchedule()) with hparams=Hyperparams(lr=0.05, momentum=0, weight_decay=0, max_lr=0.1, batch_size=100, epochs=1, num_classes=10, top_k=1, criterion=CrossEntropyLoss()))\n"
     ]
    },
    {
     "data": {
      "application/vnd.jupyter.widget-view+json": {
       "model_id": "f06466844831465a8d7eac67d189a8e5",
       "version_major": 2,
       "version_minor": 0
      },
      "text/plain": [
       "Train epochs:   0%|          | 0/1 [00:00<?, ?epoch/s]"
      ]
     },
     "metadata": {},
     "output_type": "display_data"
    },
    {
     "data": {
      "application/vnd.jupyter.widget-view+json": {
       "model_id": "1e46d60b727249f2b2a06c05041d1fb6",
       "version_major": 2,
       "version_minor": 0
      },
      "text/plain": [
       "Train loop:   0%|          | 0/4000 [00:00<?, ?it/s]"
      ]
     },
     "metadata": {},
     "output_type": "display_data"
    },
    {
     "data": {
      "application/vnd.jupyter.widget-view+json": {
       "model_id": "3fa104857ac544e6b87a92e780cd81a2",
       "version_major": 2,
       "version_minor": 0
      },
      "text/plain": [
       "Test epoch:   0%|          | 0/5000 [00:00<?, ?it/s]"
      ]
     },
     "metadata": {},
     "output_type": "display_data"
    },
    {
     "name": "stdout",
     "output_type": "stream",
     "text": [
      "Test epoch: 100%|██████████| 5000/5000 [00:03<00:00, 1647.87it/s, accuracy=0.1, avg_loss=2.83]\n",
      "Running SCRUB with unlearning_hparams={'max_steps': 1, 'steps': 1, 'alpha': 0.1, 'beta': 0.01, 'gamma': 0.9})\n"
     ]
    },
    {
     "ename": "KeyError",
     "evalue": "'epochs'",
     "output_type": "error",
     "traceback": [
      "\u001b[31m---------------------------------------------------------------------------\u001b[39m",
      "\u001b[31mKeyError\u001b[39m                                  Traceback (most recent call last)",
      "\u001b[36mCell\u001b[39m\u001b[36m \u001b[39m\u001b[32mIn[56]\u001b[39m\u001b[32m, line 1\u001b[39m\n\u001b[32m----> \u001b[39m\u001b[32m1\u001b[39m poisoned, poison_results = \u001b[43mpoison_and_unlearn\u001b[49m\u001b[43m(\u001b[49m\n\u001b[32m      2\u001b[39m \u001b[43m    \u001b[49m\u001b[43mConvNet16\u001b[49m\u001b[43m,\u001b[49m\n\u001b[32m      3\u001b[39m \u001b[43m    \u001b[49m\u001b[43maggregator\u001b[49m\u001b[43m=\u001b[49m\u001b[43mKrum\u001b[49m\u001b[43m.\u001b[49m\u001b[43mwith_learning_settings\u001b[49m\u001b[43m(\u001b[49m\u001b[43mbatch_size\u001b[49m\u001b[43m,\u001b[49m\u001b[43m \u001b[49m\u001b[43mtol\u001b[49m\u001b[43m=\u001b[49m\u001b[32;43m0.2\u001b[39;49m\u001b[43m)\u001b[49m\u001b[43m,\u001b[49m\n\u001b[32m      4\u001b[39m \u001b[43m    \u001b[49m\u001b[43mopt_cls\u001b[49m\u001b[43m=\u001b[49m\u001b[43mSGD\u001b[49m\u001b[43m,\u001b[49m\n\u001b[32m      5\u001b[39m \u001b[43m    \u001b[49m\u001b[43minversion_method\u001b[49m\u001b[43m=\u001b[49m\u001b[43mGradientAttack\u001b[49m\u001b[43m.\u001b[49m\u001b[43mLITTLE_IS_ENOUGH\u001b[49m\u001b[43m,\u001b[49m\n\u001b[32m      6\u001b[39m \u001b[43m    \u001b[49m\u001b[43mpoison_factor\u001b[49m\u001b[43m=\u001b[49m\u001b[32;43m0.2\u001b[39;49m\u001b[43m,\u001b[49m\n\u001b[32m      7\u001b[39m \u001b[43m    \u001b[49m\u001b[43munlearning_method\u001b[49m\u001b[43m=\u001b[49m\u001b[43mUnlearning\u001b[49m\u001b[43m.\u001b[49m\u001b[43mSCRUB\u001b[49m\u001b[43m,\u001b[49m\n\u001b[32m      8\u001b[39m \u001b[43m    \u001b[49m\u001b[43mtraining_hparams\u001b[49m\u001b[43m=\u001b[49m\u001b[38;5;28;43mdict\u001b[39;49m\u001b[43m(\u001b[49m\u001b[43mlr\u001b[49m\u001b[43m=\u001b[49m\u001b[32;43m0.05\u001b[39;49m\u001b[43m,\u001b[49m\u001b[43m \u001b[49m\u001b[43mepochs\u001b[49m\u001b[43m=\u001b[49m\u001b[32;43m1\u001b[39;49m\u001b[43m,\u001b[49m\u001b[43m \u001b[49m\u001b[43mweight_decay\u001b[49m\u001b[43m=\u001b[49m\u001b[32;43m0\u001b[39;49m\u001b[43m,\u001b[49m\u001b[43m \u001b[49m\u001b[43mmomentum\u001b[49m\u001b[43m=\u001b[49m\u001b[32;43m0\u001b[39;49m\u001b[43m)\u001b[49m\u001b[43m,\u001b[49m\n\u001b[32m      9\u001b[39m \u001b[43m    \u001b[49m\u001b[43mquicktesting\u001b[49m\u001b[43m=\u001b[49m\u001b[38;5;28;43;01mTrue\u001b[39;49;00m\u001b[43m,\u001b[49m\n\u001b[32m     10\u001b[39m \u001b[43m)\u001b[49m\n\u001b[32m     11\u001b[39m save_model(poisoned, \u001b[33m\"\u001b[39m\u001b[33mConvNet16_test\u001b[39m\u001b[33m\"\u001b[39m)\n",
      "\u001b[36mCell\u001b[39m\u001b[36m \u001b[39m\u001b[32mIn[51]\u001b[39m\u001b[32m, line 16\u001b[39m, in \u001b[36mpoison_and_unlearn\u001b[39m\u001b[34m(model_factory, aggregator, opt_cls, inversion_method, poison_factor, unlearning_method, training_hparams, unlearning_hparams, quicktesting)\u001b[39m\n\u001b[32m      1\u001b[39m \u001b[38;5;28;01mdef\u001b[39;00m\u001b[38;5;250m \u001b[39m\u001b[34mpoison_and_unlearn\u001b[39m(\n\u001b[32m      2\u001b[39m         model_factory = ResNet18,\n\u001b[32m      3\u001b[39m         aggregator = Mean(),\n\u001b[32m   (...)\u001b[39m\u001b[32m     10\u001b[39m         quicktesting: \u001b[38;5;28mbool\u001b[39m = \u001b[38;5;28;01mFalse\u001b[39;00m,\n\u001b[32m     11\u001b[39m     ) -> \u001b[38;5;28mtuple\u001b[39m[nn.Module, PipelineResults]:\n\u001b[32m     12\u001b[39m \u001b[38;5;250m    \u001b[39m\u001b[33;03m\"\"\"Run the poison-and-unlearn pipeline with default settings.\u001b[39;00m\n\u001b[32m     13\u001b[39m \n\u001b[32m     14\u001b[39m \u001b[33;03m    See `run_pipeline` for details on the arguments.\u001b[39;00m\n\u001b[32m     15\u001b[39m \u001b[33;03m    \"\"\"\u001b[39;00m\n\u001b[32m---> \u001b[39m\u001b[32m16\u001b[39m     \u001b[38;5;28;01mreturn\u001b[39;00m \u001b[43mrun_pipeline\u001b[49m\u001b[43m(\u001b[49m\n\u001b[32m     17\u001b[39m \u001b[43m        \u001b[49m\u001b[43mmodel_factory\u001b[49m\u001b[43m,\u001b[49m\n\u001b[32m     18\u001b[39m \u001b[43m        \u001b[49m\u001b[43maggregator\u001b[49m\u001b[43m=\u001b[49m\u001b[43maggregator\u001b[49m\u001b[43m,\u001b[49m\n\u001b[32m     19\u001b[39m \u001b[43m        \u001b[49m\u001b[43mopt_cls\u001b[49m\u001b[43m=\u001b[49m\u001b[43mopt_cls\u001b[49m\u001b[43m,\u001b[49m\n\u001b[32m     20\u001b[39m \u001b[43m        \u001b[49m\u001b[43minversion_method\u001b[49m\u001b[43m=\u001b[49m\u001b[43minversion_method\u001b[49m\u001b[43m,\u001b[49m\n\u001b[32m     21\u001b[39m \u001b[43m        \u001b[49m\u001b[43mpoison_factor\u001b[49m\u001b[43m=\u001b[49m\u001b[43mpoison_factor\u001b[49m\u001b[43m,\u001b[49m\n\u001b[32m     22\u001b[39m \u001b[43m        \u001b[49m\u001b[43munlearning_method\u001b[49m\u001b[43m=\u001b[49m\u001b[43munlearning_method\u001b[49m\u001b[43m,\u001b[49m\n\u001b[32m     23\u001b[39m \u001b[43m        \u001b[49m\u001b[43mtraining_hparams\u001b[49m\u001b[43m=\u001b[49m\u001b[43mtraining_hparams\u001b[49m\u001b[43m,\u001b[49m\n\u001b[32m     24\u001b[39m \u001b[43m        \u001b[49m\u001b[43munlearning_hparams\u001b[49m\u001b[43m=\u001b[49m\u001b[43munlearning_hparams\u001b[49m\u001b[43m,\u001b[49m\n\u001b[32m     25\u001b[39m \u001b[43m        \u001b[49m\u001b[43mquicktesting\u001b[49m\u001b[43m=\u001b[49m\u001b[43mquicktesting\u001b[49m\u001b[43m,\u001b[49m\n\u001b[32m     26\u001b[39m \u001b[43m    \u001b[49m\u001b[43m)\u001b[49m\n",
      "\u001b[36mCell\u001b[39m\u001b[36m \u001b[39m\u001b[32mIn[48]\u001b[39m\u001b[32m, line 84\u001b[39m, in \u001b[36mrun_pipeline\u001b[39m\u001b[34m(model_factory, aggregator, opt_cls, inversion_method, poison_factor, unlearning_method, training_hparams, unlearning_hparams, quicktesting, forget_set)\u001b[39m\n\u001b[32m     81\u001b[39m model = patch_network(model_factory)().to(BEST_DEVICE)\n\u001b[32m     83\u001b[39m \u001b[38;5;28;01mif\u001b[39;00m poisoning \u001b[38;5;129;01mand\u001b[39;00m unlearning:\n\u001b[32m---> \u001b[39m\u001b[32m84\u001b[39m     unlearner, results = \u001b[43mpipeline\u001b[49m\u001b[43m.\u001b[49m\u001b[43mpoison_and_unlearn\u001b[49m\u001b[43m(\u001b[49m\u001b[43mmodel\u001b[49m\u001b[43m,\u001b[49m\u001b[43m \u001b[49m\u001b[43minverter\u001b[49m\u001b[43m,\u001b[49m\u001b[43m \u001b[49m\u001b[43munlearning_method\u001b[49m\u001b[43m)\u001b[49m\n\u001b[32m     85\u001b[39m     model = unlearner\n\u001b[32m     86\u001b[39m \u001b[38;5;28;01melif\u001b[39;00m poisoning:\n",
      "\u001b[36mFile \u001b[39m\u001b[32m~/dev/python/ml/psc/playground/implementations/projects/poisoning/inverting_gradient_attack.py:617\u001b[39m, in \u001b[36mPipeline.poison_and_unlearn\u001b[39m\u001b[34m(self, model, inverter, unlearning_method)\u001b[39m\n\u001b[32m    615\u001b[39m forget_set, train_logs = \u001b[38;5;28mself\u001b[39m.train_loop_with_poisons(model, inverter)\n\u001b[32m    616\u001b[39m forget_loader = DataLoader(forget_set, \u001b[38;5;28mself\u001b[39m.hparams.batch_size)\n\u001b[32m--> \u001b[39m\u001b[32m617\u001b[39m unlearner, unlearn_logs = \u001b[38;5;28;43mself\u001b[39;49m\u001b[43m.\u001b[49m\u001b[43munlearn_loop\u001b[49m\u001b[43m(\u001b[49m\u001b[43mmodel\u001b[49m\u001b[43m,\u001b[49m\u001b[43m \u001b[49m\u001b[43mforget_loader\u001b[49m\u001b[43m,\u001b[49m\u001b[43m \u001b[49m\u001b[43munlearning_method\u001b[49m\u001b[43m)\u001b[49m\n\u001b[32m    618\u001b[39m \u001b[38;5;28;01mreturn\u001b[39;00m unlearner, PipelineResults(\n\u001b[32m    619\u001b[39m     train_logs=train_logs,\n\u001b[32m    620\u001b[39m     unlearn_logs=unlearn_logs,\n\u001b[32m    621\u001b[39m     poison_set=forget_set,\n\u001b[32m    622\u001b[39m )\n",
      "\u001b[36mFile \u001b[39m\u001b[32m~/dev/python/ml/psc/playground/implementations/projects/poisoning/inverting_gradient_attack.py:480\u001b[39m, in \u001b[36mPipeline.unlearn_loop\u001b[39m\u001b[34m(self, model, forget_loader, method)\u001b[39m\n\u001b[32m    477\u001b[39m unlearner = deepcopy(model)\n\u001b[32m    479\u001b[39m uhparams: \u001b[38;5;28mdict\u001b[39m = \u001b[38;5;28mself\u001b[39m.unlearning_hparams[method]\n\u001b[32m--> \u001b[39m\u001b[32m480\u001b[39m epochs = \u001b[43muhparams\u001b[49m\u001b[43m[\u001b[49m\u001b[33;43m'\u001b[39;49m\u001b[33;43mepochs\u001b[39;49m\u001b[33;43m'\u001b[39;49m\u001b[43m]\u001b[49m\n\u001b[32m    481\u001b[39m k = uhparams.get(\u001b[33m'\u001b[39m\u001b[33mk\u001b[39m\u001b[33m'\u001b[39m)\n\u001b[32m    483\u001b[39m \u001b[38;5;28;01mmatch\u001b[39;00m method:\n",
      "\u001b[31mKeyError\u001b[39m: 'epochs'"
     ]
    }
   ],
   "source": [
    "poisoned, poison_results = poison_and_unlearn(\n",
    "    ConvNet16,\n",
    "    aggregator=Krum.with_learning_settings(batch_size, tol=0.2),\n",
    "    opt_cls=SGD,\n",
    "    inversion_method=GradientAttack.LITTLE_IS_ENOUGH,\n",
    "    poison_factor=0.2,\n",
    "    unlearning_method=Unlearning.SCRUB,\n",
    "    training_hparams=dict(lr=0.05, epochs=1, weight_decay=0, momentum=0),\n",
    "    quicktesting=True,\n",
    ")\n",
    "save_model(poisoned, \"ConvNet16_test\")"
   ]
  },
  {
   "cell_type": "code",
   "execution_count": null,
   "metadata": {},
   "outputs": [],
   "source": [
    "display_pipeline_results(poison_results)\n",
    "\n",
    "save_figure(\"Figure_test\")"
   ]
  },
  {
   "cell_type": "markdown",
   "metadata": {
    "jp-MarkdownHeadingCollapsed": true
   },
   "source": [
    "### Poison selection rate\n",
    "\n",
    "We test GA, OG and LIE against $m$-Krum to compute the poison selection rate."
   ]
  },
  {
   "cell_type": "code",
   "execution_count": null,
   "metadata": {},
   "outputs": [],
   "source": [
    "def eval_krum_selection_rate(\n",
    "        model_factory: type[nn.Module],\n",
    "        alpha: float,\n",
    "        tol: float,\n",
    "        method: GradientAttack,\n",
    "        quicktesting: bool = True,\n",
    "    ) -> np.ndarray:\n",
    "    \"\"\"Compute Krum poison selection rate.\"\"\"\n",
    "    num_clean = batch_size\n",
    "    num_byzantine = int(alpha / (1. - alpha) * num_clean)\n",
    "    _, poison_results = poison(\n",
    "        model_factory,\n",
    "        aggregator = Krum.with_learning_settings(num_clean, tol),\n",
    "        inversion_method = method,\n",
    "        poison_factor = alpha,\n",
    "        training_hparams = dict(epochs=1),\n",
    "        quicktesting=quicktesting,\n",
    "    )\n",
    "    clear_output()\n",
    "    num_selected_poisons = torch.cat([\n",
    "        per_epoch['num_selected_poisons'].compute()\n",
    "        for per_epoch in poison_results.train_logs.train_metrics\n",
    "    ])\n",
    "    return (num_selected_poisons / num_byzantine).numpy(force=True)\n",
    "\n",
    "def compute_selection_rate_table(\n",
    "        model_factory: type[nn.Module],\n",
    "        quicktesting: bool = True,\n",
    "    ) -> pd.DataFrame:\n",
    "    \"\"\"Compute a poison selection rate table per model, poison factor, Krum tolerance.\"\"\"\n",
    "    poison_factor = np.array([0.01, 0.05, 0.1, 0.2, 0.3, 0.4])\n",
    "    tolerance = np.array([0.1]) #np.array([0.01, 0.05, 0.1, 0.2, 0.3, 0.4])\n",
    "    atk_method = [\n",
    "        GradientAttack.ASCENT,\n",
    "        GradientAttack.ORTHOGONAL,\n",
    "        GradientAttack.LITTLE_IS_ENOUGH,\n",
    "    ]\n",
    "    rows = []\n",
    "    for alpha in poison_factor:\n",
    "        for tol in tolerance:\n",
    "            for method in atk_method:\n",
    "                selection_rate = eval_krum_selection_rate(\n",
    "                    model_factory, alpha, tol, method,\n",
    "                    quicktesting=quicktesting,\n",
    "                )\n",
    "                rows.append((alpha, tol, str(method), selection_rate.mean()))\n",
    "    return pd.DataFrame(\n",
    "        rows,\n",
    "        columns=['poison_factor', 'tolerance', 'attack_method', 'average_selection_rate'],\n",
    "    )\n",
    "\n",
    "def display_selection_rate(\n",
    "        selection_rate: np.ndarray,\n",
    "        alpha: float,\n",
    "        tol: float,\n",
    "        method: GradientAttack,\n",
    "    ):\n",
    "    avg_selection_rate = selection_rate.mean()\n",
    "\n",
    "    plt.scatter(selection_rate)\n",
    "    plt.hlines(avg_selection_rate, 0, len(selection_rate), colors='orange')\n",
    "    plt.xlabel(\"Step\")\n",
    "    plt.ylabel(\"Poison selection rate\")\n",
    "    plt.title(f\"{method} Poison selection rate by Krum\")\n",
    "    plt.suptitle(fr\"Krum resilience: {tol:.2}, true poison ratio: {alpha:.2}\")\n",
    "    plt.show()"
   ]
  },
  {
   "cell_type": "code",
   "execution_count": null,
   "metadata": {},
   "outputs": [],
   "source": [
    "selection_rate_table = compute_selection_rate_table(ShuffleNetV2, quicktesting=True)\n",
    "selection_rate_table"
   ]
  },
  {
   "cell_type": "markdown",
   "metadata": {},
   "source": [
    "### Gradient Ascent data poisoning without defense"
   ]
  },
  {
   "cell_type": "code",
   "execution_count": null,
   "metadata": {
    "scrolled": true
   },
   "outputs": [],
   "source": [
    "all_results = []\n",
    "alphas = [0.01, 0.05, 0.1, 0.2, 0.3, 0.4]\n",
    "n_epochs = 30\n",
    "for alpha in alphas:\n",
    "    poisoned, poison_results = poison(\n",
    "        ConvNet16,\n",
    "        opt_cls=SGD,\n",
    "        aggregator=Mean(),\n",
    "        inversion_method=GradientAttack.ASCENT,\n",
    "        poison_factor=alpha,\n",
    "        training_hparams=dict(lr=0.05, epochs=n_epochs, weight_decay=0, momentum=0),\n",
    "        quicktesting=False,\n",
    "    )\n",
    "    save_model(poisoned, f\"ConvNet16_sgd_mean_epochs-10_poisoned_ga_alpha-{alpha}\")\n",
    "    all_results.append(poison_results)\n",
    "    clear_output(wait=True)"
   ]
  },
  {
   "cell_type": "code",
   "execution_count": null,
   "metadata": {},
   "outputs": [],
   "source": [
    "from torchmetrics import Metric\n",
    "\n",
    "def plot_poisoning_accuracy(\n",
    "        val_metrics: list[dict[str, Metric]] = None,\n",
    "        ax: plt.Axes = None,\n",
    "        alpha: float = 0.0,\n",
    "        idx: int = 0,\n",
    "    ):\n",
    "    if val_metrics:\n",
    "        val_acc_per_step_per_epoch = torch.vstack([\n",
    "            epoch_metrics['MetricTracker'].compute_all()['accuracy'].mean(dim=1)\n",
    "            for epoch_metrics in val_metrics\n",
    "        ]).numpy(force=True)\n",
    "        val_acc_per_epoch = val_acc_per_step_per_epoch.mean(axis=1)\n",
    "        val_acc_std_per_epoch = val_acc_per_step_per_epoch.std(axis=1)\n",
    "\n",
    "        epochs = np.arange(len(val_acc_per_epoch))\n",
    "        ax.scatter(epochs, val_acc_per_epoch, label=rf'$\\alpha=${alpha}', c=f'C{idx}')\n",
    "        ax.errorbar(epochs, val_acc_per_epoch, yerr=val_acc_std_per_epoch, c=f'C{idx}')\n",
    "\n",
    "def display_poisoning_logs(logs: Logs, ax: plt.Axes, alpha: float, idx: int):\n",
    "    plot_poisoning_accuracy(logs.val_metrics, ax=ax, alpha=alpha, idx=idx)\n",
    "\n",
    "def display_poisoning_results(all_results: list[PipelineResults]):\n",
    "    ax = plt.subplot()\n",
    "    for i, (alpha, results) in enumerate(zip(alphas, all_results)):\n",
    "        display_poisoning_logs(results.train_logs, ax=ax, alpha=alpha, idx=i)\n",
    "\n",
    "    ax.hlines(0.1, 0, n_epochs, linestyles='dashed', colors='black')\n",
    "    \n",
    "    ax.grid()\n",
    "    ax.set_xlabel(\"Epoch\")\n",
    "    ax.set_ylabel(\"Accuracy\")\n",
    "    ax.set_ylim((0.0, 1.0))\n",
    "    ax.legend()\n",
    "\n",
    "    ax.set_title(f\"ConvNet training accuracy\\n(poisoning with GA)\")"
   ]
  },
  {
   "cell_type": "code",
   "execution_count": null,
   "metadata": {},
   "outputs": [
    {
     "data": {
      "image/png": "[encoded data removed]",
      "text/plain": [
       "<Figure size 1000x600 with 1 Axes>"
      ]
     },
     "metadata": {},
     "output_type": "display_data"
    }
   ],
   "source": [
    "display_poisoning_results(all_results)\n",
    "save_figure(\"poisoning_convnet_sgd_with_ga\")"
   ]
  },
  {
   "cell_type": "markdown",
   "metadata": {},
   "source": [
    "### Unlearning vs Gradient Ascent data poisoning"
   ]
  },
  {
   "cell_type": "code",
   "execution_count": null,
   "metadata": {},
   "outputs": [],
   "source": [
    "# Saving the results in case notebook gets interrupted\n",
    "BACKUP = {}\n",
    "\n",
    "def compute_unlearning_accuracies(\n",
    "        model_factory: type[nn.Module] = ConvNet16,\n",
    "        opt_cls: type[Optimizer] = SGD,\n",
    "        poison_factor = np.array([0.4]), #np.array([0.2, 0.3, 0.4])\n",
    "        quicktesting: bool = False,\n",
    "    ) -> tuple[nn.Module, pd.DataFrame, dict[tuple[float, Unlearning], np.ndarray]]:\n",
    "    \"\"\"\n",
    "    Compute an accuracy table and an per-epoch accuracy dict\n",
    "    per poison factor and unlearning method.\n",
    "    \"\"\"\n",
    "    epochs = 10\n",
    "    training_hparams = dict(epochs = epochs)\n",
    "    unlearn_method = [\n",
    "        Unlearning.GRADIENT_DESCENT,\n",
    "        Unlearning.GRADIENT_ASCENT,\n",
    "        Unlearning.NEG_GRAD_PLUS,\n",
    "        Unlearning.EUK,\n",
    "        Unlearning.SCRUB,\n",
    "    ]\n",
    "    # Tuned for ConvNet16\n",
    "    unlearn_hparams = {\n",
    "        Unlearning.GRADIENT_DESCENT: dict(lr=5e-2, epochs=5),\n",
    "        Unlearning.GRADIENT_ASCENT: dict(lr=1e-7, epochs=20),\n",
    "        Unlearning.NEG_GRAD_PLUS: dict(lr=5e-2, beta=0.9999, epochs=20),\n",
    "        Unlearning.EUK: dict(k=2, lr=5e-2, epochs=5),\n",
    "        Unlearning.SCRUB: dict(lr=5e-3, max_steps=2, steps=3, epochs=5),\n",
    "    }\n",
    "    all_logs = {}\n",
    "    rows = []\n",
    "    for alpha in poison_factor:\n",
    "        poisoned, poison_results = poison(\n",
    "            model_factory,\n",
    "            opt_cls=opt_cls,\n",
    "            aggregator=Mean(),\n",
    "            inversion_method=GradientAttack.ASCENT,\n",
    "            poison_factor=alpha,\n",
    "            training_hparams=training_hparams,\n",
    "            quicktesting=quicktesting,\n",
    "        )\n",
    "        BACKUP[(alpha, 'poison_results')] = poison_results\n",
    "        file_prefix = f\"{unlearner._get_name()}_sgd_poison_{alpha}_epochs-{epochs}\"\n",
    "        save_model(poisoned, f\"{file_prefix}.ckpt\")\n",
    "        forget_set = poison_results.poison_set\n",
    "        num_byzantine = int(alpha / (1. - alpha) * batch_size)\n",
    "        forget_set = Subset(\n",
    "            poison_results.poison_set,\n",
    "            # Poisons are identical at each step, so skip them in order to make\n",
    "            # a smaller forget set\n",
    "            torch.arange(0, len(forget_set), num_byzantine),\n",
    "        )\n",
    "        print(f\"{len(forget_set)} poisons\")\n",
    "        \n",
    "        for method in unlearn_method:\n",
    "            unlearner, unlearn_results = unlearn(\n",
    "                poisoned,\n",
    "                forget_set,\n",
    "                unlearning_method=method,\n",
    "                unlearning_hparams=unlearn_hparams[method],\n",
    "                quicktesting=quicktesting,\n",
    "            )\n",
    "            save_model(unlearner, f\"{file_prefix}_{method}.ckpt\")\n",
    "            \n",
    "            clear_output()\n",
    "            logs = unlearn_results.unlearn_logs\n",
    "\n",
    "            val_acc_per_step_per_epoch = torch.vstack([\n",
    "                epoch_metrics['MetricTracker'].compute_all()['accuracy'].mean(dim=1)\n",
    "                for epoch_metrics in logs.val_metrics\n",
    "            ]).numpy(force=True)\n",
    "            val_acc_per_epoch: Tensor = val_acc_per_step_per_epoch.mean(axis=1)\n",
    "            best_val_epoch = np.argmax(val_acc_per_epoch)\n",
    "            best_val_acc = val_acc_per_epoch[best_val_epoch]\n",
    "            rows.append((alpha, str(method), best_val_acc, best_val_epoch))\n",
    "            all_logs[(alpha, method)] = logs\n",
    "    table = pd.DataFrame(\n",
    "        rows,\n",
    "        columns=['poison_factor', 'unlearning_method', 'best_accuracy', 'best_accuracy_epoch'],\n",
    "    )\n",
    "    return poisoned, table, all_logs\n",
    "\n",
    "def display_unlearning_accuracies(\n",
    "        all_logs: dict[tuple[float, Unlearning], Logs],\n",
    "        baseline: float,\n",
    "    ):\n",
    "    plt.figure(figsize=(10, 6))\n",
    "    min_acc = baseline\n",
    "    max_step = 0\n",
    "    for ((alpha, method), logs) in all_logs.items():\n",
    "        val_acc_per_step_per_epoch = torch.vstack([\n",
    "            epoch_metrics['MetricTracker'].compute_all()['accuracy'].mean(dim=1)\n",
    "            for epoch_metrics in logs.val_metrics\n",
    "        ]).numpy(force=True)\n",
    "        val_acc_per_epoch = [min_acc] + list(val_acc_per_step_per_epoch.mean(axis=1))\n",
    "        epoch_steps = np.cumsum([0] + [\n",
    "            len(epoch_metrics['MetricTracker'].compute_all()['accuracy'])\n",
    "            for epoch_metrics in logs.train_metrics\n",
    "        ])\n",
    "        if alpha == 0.0:\n",
    "            plt.plot(\n",
    "                epoch_steps, val_acc_per_epoch,\n",
    "                label=\"No poisoning\", linestyle=\"dotted\", color='black',\n",
    "            )\n",
    "            max_acc = max(val_acc_per_epoch)\n",
    "        else:\n",
    "            plt.plot(epoch_steps, val_acc_per_epoch, label=rf\"{method}\")\n",
    "        max_step = max(epoch_steps.max(), max_step)\n",
    "    \n",
    "    plt.hlines(\n",
    "        min_acc, 0, max_step,\n",
    "        linestyles='dashed', colors='red',\n",
    "        label=fr\"After poisoning ($\\alpha=${alpha})\", alpha=0.5,\n",
    "    )\n",
    "    plt.hlines(\n",
    "        max_acc, 0, max_step,\n",
    "        linestyles='dashed', colors='black', alpha=0.4,\n",
    "    )\n",
    "    plt.ylim(0.0, 1.0)\n",
    "    plt.grid()\n",
    "\n",
    "    plt.xlabel(\"Step\")\n",
    "    plt.ylabel(\"Validation accuracy\")\n",
    "    plt.title(f\"Accuracy when unlearning\")\n",
    "    plt.suptitle(f\"ConvNet16 poisoned with Gradient Ascent poisoning\")\n",
    "    plt.legend()\n",
    "    plt.show()\n",
    "\n",
    "    save_figure(\"poisoned_convnet_sgd_with_ga_unlearn_accuracy\")"
   ]
  },
  {
   "cell_type": "code",
   "execution_count": null,
   "metadata": {
    "scrolled": true
   },
   "outputs": [
    {
     "data": {
      "text/html": [
       "<div>\n",
       "<style scoped>\n",
       "    .dataframe tbody tr th:only-of-type {\n",
       "        vertical-align: middle;\n",
       "    }\n",
       "\n",
       "    .dataframe tbody tr th {\n",
       "        vertical-align: top;\n",
       "    }\n",
       "\n",
       "    .dataframe thead th {\n",
       "        text-align: right;\n",
       "    }\n",
       "</style>\n",
       "<table border=\"1\" class=\"dataframe\">\n",
       "  <thead>\n",
       "    <tr style=\"text-align: right;\">\n",
       "      <th></th>\n",
       "      <th>poison_factor</th>\n",
       "      <th>unlearning_method</th>\n",
       "      <th>best_accuracy</th>\n",
       "      <th>best_accuracy_epoch</th>\n",
       "    </tr>\n",
       "  </thead>\n",
       "  <tbody>\n",
       "    <tr>\n",
       "      <th>0</th>\n",
       "      <td>0.0</td>\n",
       "      <td>None</td>\n",
       "      <td>0.516599</td>\n",
       "      <td>3</td>\n",
       "    </tr>\n",
       "    <tr>\n",
       "      <th>1</th>\n",
       "      <td>0.2</td>\n",
       "      <td>None</td>\n",
       "      <td>0.455888</td>\n",
       "      <td>2</td>\n",
       "    </tr>\n",
       "    <tr>\n",
       "      <th>2</th>\n",
       "      <td>0.2</td>\n",
       "      <td>NegGrad+</td>\n",
       "      <td>0.640251</td>\n",
       "      <td>3</td>\n",
       "    </tr>\n",
       "    <tr>\n",
       "      <th>3</th>\n",
       "      <td>0.2</td>\n",
       "      <td>EUk</td>\n",
       "      <td>0.563028</td>\n",
       "      <td>4</td>\n",
       "    </tr>\n",
       "  </tbody>\n",
       "</table>\n",
       "</div>"
      ],
      "text/plain": [
       "   poison_factor unlearning_method  best_accuracy  best_accuracy_epoch\n",
       "0            0.0              None       0.516599                    3\n",
       "1            0.2              None       0.455888                    2\n",
       "2            0.2          NegGrad+       0.640251                    3\n",
       "3            0.2               EUk       0.563028                    4"
      ]
     },
     "execution_count": 37,
     "metadata": {},
     "output_type": "execute_result"
    }
   ],
   "source": [
    "poisoned, unlearning_acc_table, all_logs = compute_unlearning_accuracies(\n",
    "    ConvNet16, opt_cls=SGD, quicktesting=False,\n",
    ")\n",
    "unlearning_acc_table"
   ]
  },
  {
   "cell_type": "code",
   "execution_count": null,
   "metadata": {},
   "outputs": [],
   "source": [
    "min_acc = compute_accuracy(poisoned)"
   ]
  },
  {
   "cell_type": "code",
   "execution_count": null,
   "metadata": {},
   "outputs": [],
   "source": [
    "training_hparams = dict(epochs=5)\n",
    "trained, train_results = train(\n",
    "    ConvNet16,\n",
    "    opt_cls=SGD,\n",
    "    aggregator=Mean(),\n",
    "    training_hparams=training_hparams,\n",
    "    quicktesting=False,\n",
    ")\n",
    "all_logs[(0.0, None)] = train_results.train_logs\n",
    "all_logs_ = {(alpha, m): r for ((alpha, m), r) in all_logs.items() if alpha == 0.4}"
   ]
  },
  {
   "cell_type": "code",
   "execution_count": null,
   "metadata": {},
   "outputs": [],
   "source": [
    "display_unlearning_accuracies(all_logs_, min_acc)"
   ]
  },
  {
   "cell_type": "markdown",
   "metadata": {
    "jp-MarkdownHeadingCollapsed": true
   },
   "source": [
    "### Assessing $m$-Krum's utility\n",
    "\n",
    "We study the effect of using a robust aggregator on the model's test accuracy."
   ]
  },
  {
   "cell_type": "code",
   "execution_count": null,
   "metadata": {},
   "outputs": [],
   "source": [
    "def assess_krum(\n",
    "        model_factory: type[nn.Module],\n",
    "        training_hparams = dict(epochs=1),\n",
    "        n_points: int = 11,\n",
    "    ) -> tuple[float, pd.DataFrame]:\n",
    "\n",
    "    def baseline() -> float:\n",
    "        model, _ = train(\n",
    "            model_factory,\n",
    "            aggregator = Mean(),\n",
    "            training_hparams = training_hparams,\n",
    "            quicktesting=False,\n",
    "        )\n",
    "        return compute_accuracy(model)\n",
    "    \n",
    "    def eval_krum_with_poison_factor(tol: float) -> float:\n",
    "        model, _ = train(\n",
    "            model_factory,\n",
    "            aggregator = Krum.with_learning_settings(batch_size, tol),\n",
    "            training_hparams = training_hparams,\n",
    "            quicktesting=False,\n",
    "        )\n",
    "        clear_output(wait=True)\n",
    "        return compute_accuracy(model)\n",
    "        \n",
    "    base_acc = baseline()\n",
    "\n",
    "    x_f = np.linspace(0.0, 0.4, n_points)\n",
    "    y_accuracy = np.vectorize(eval_krum_with_poison_factor)(x_f)\n",
    "\n",
    "    df = pd.DataFrame({'f': x_f, 'accuracy': y_accuracy})\n",
    "    return base_acc, df"
   ]
  },
  {
   "cell_type": "code",
   "execution_count": null,
   "metadata": {},
   "outputs": [
    {
     "data": {
      "application/vnd.jupyter.widget-view+json": {
       "model_id": "777ee350b7af422a8d736358df552dbe",
       "version_major": 2,
       "version_minor": 0
      },
      "text/plain": [
       "Test epoch:   0%|          | 0/10000 [00:00<?, ?it/s]"
      ]
     },
     "metadata": {},
     "output_type": "display_data"
    }
   ],
   "source": [
    "base_acc, x_f_y_acc = assess_krum(ShuffleNetV2, training_hparams=dict(epochs=4))"
   ]
  },
  {
   "cell_type": "code",
   "execution_count": null,
   "metadata": {},
   "outputs": [
    {
     "data": {
      "image/png": "[encoded data removed]",
      "text/plain": [
       "<Figure size 640x480 with 1 Axes>"
      ]
     },
     "metadata": {},
     "output_type": "display_data"
    }
   ],
   "source": [
    "def display_krum_assessment(base_acc: float, x_f_y_acc: pd.DataFrame):\n",
    "    # TODO: error bars + statistical test\n",
    "    x_f = x_f_y_acc['f']\n",
    "    y_accuracy = x_f_y_acc['accuracy']\n",
    "    plt.hlines(base_acc, min(x_f), max(x_f), label=\"mean aggregation\", colors='orange')\n",
    "\n",
    "    plt.scatter(x_f, y_accuracy, label=r\"$f$-resilient multi-Krum\")\n",
    "    plt.xlabel(r\"$f$ (tolerance)\")\n",
    "    plt.ylabel(r\"accuracy\")\n",
    "    plt.legend(loc=\"upper left\")\n",
    "    plt.title(r\"Impact of multi-Krum on the test accuracy\")\n",
    "    plt.show()\n",
    "\n",
    "display_krum_assessment(base_acc, x_f_y_acc)\n",
    "save_figure(\"krum_impact_of_accuracy_without_poisoning\")"
   ]
  },
  {
   "cell_type": "code",
   "execution_count": null,
   "metadata": {},
   "outputs": [
    {
     "name": "stdout",
     "output_type": "stream",
     "text": [
      "Base accuracy (mean): 0.584\n",
      "Krum accuracy:\n"
     ]
    },
    {
     "data": {
      "text/html": [
       "<div>\n",
       "<style scoped>\n",
       "    .dataframe tbody tr th:only-of-type {\n",
       "        vertical-align: middle;\n",
       "    }\n",
       "\n",
       "    .dataframe tbody tr th {\n",
       "        vertical-align: top;\n",
       "    }\n",
       "\n",
       "    .dataframe thead th {\n",
       "        text-align: right;\n",
       "    }\n",
       "</style>\n",
       "<table border=\"1\" class=\"dataframe\">\n",
       "  <thead>\n",
       "    <tr style=\"text-align: right;\">\n",
       "      <th></th>\n",
       "      <th>f</th>\n",
       "      <th>accuracy</th>\n",
       "    </tr>\n",
       "  </thead>\n",
       "  <tbody>\n",
       "    <tr>\n",
       "      <th>0</th>\n",
       "      <td>0.00</td>\n",
       "      <td>0.6027</td>\n",
       "    </tr>\n",
       "    <tr>\n",
       "      <th>1</th>\n",
       "      <td>0.04</td>\n",
       "      <td>0.6009</td>\n",
       "    </tr>\n",
       "    <tr>\n",
       "      <th>2</th>\n",
       "      <td>0.08</td>\n",
       "      <td>0.6013</td>\n",
       "    </tr>\n",
       "    <tr>\n",
       "      <th>3</th>\n",
       "      <td>0.12</td>\n",
       "      <td>0.6173</td>\n",
       "    </tr>\n",
       "    <tr>\n",
       "      <th>4</th>\n",
       "      <td>0.16</td>\n",
       "      <td>0.6056</td>\n",
       "    </tr>\n",
       "    <tr>\n",
       "      <th>5</th>\n",
       "      <td>0.20</td>\n",
       "      <td>0.5807</td>\n",
       "    </tr>\n",
       "    <tr>\n",
       "      <th>6</th>\n",
       "      <td>0.24</td>\n",
       "      <td>0.5567</td>\n",
       "    </tr>\n",
       "    <tr>\n",
       "      <th>7</th>\n",
       "      <td>0.28</td>\n",
       "      <td>0.5983</td>\n",
       "    </tr>\n",
       "    <tr>\n",
       "      <th>8</th>\n",
       "      <td>0.32</td>\n",
       "      <td>0.5884</td>\n",
       "    </tr>\n",
       "    <tr>\n",
       "      <th>9</th>\n",
       "      <td>0.36</td>\n",
       "      <td>0.6004</td>\n",
       "    </tr>\n",
       "    <tr>\n",
       "      <th>10</th>\n",
       "      <td>0.40</td>\n",
       "      <td>0.6199</td>\n",
       "    </tr>\n",
       "  </tbody>\n",
       "</table>\n",
       "</div>"
      ],
      "text/plain": [
       "       f  accuracy\n",
       "0   0.00    0.6027\n",
       "1   0.04    0.6009\n",
       "2   0.08    0.6013\n",
       "3   0.12    0.6173\n",
       "4   0.16    0.6056\n",
       "5   0.20    0.5807\n",
       "6   0.24    0.5567\n",
       "7   0.28    0.5983\n",
       "8   0.32    0.5884\n",
       "9   0.36    0.6004\n",
       "10  0.40    0.6199"
      ]
     },
     "execution_count": 40,
     "metadata": {},
     "output_type": "execute_result"
    }
   ],
   "source": [
    "print(f\"Base accuracy (mean): {base_acc:.3}\")\n",
    "print(f\"Krum accuracy:\")\n",
    "x_f_y_acc"
   ]
  },
  {
   "cell_type": "markdown",
   "metadata": {},
   "source": [
    "When there is no poisoning, Krum incurs a minimal accuracy decrease (~3%) even in the most pessimistic learning settings. Since the accuracy also increases, we can tell with high statistical confidence that Krum does not decrease accuracy by a significant amount."
   ]
  },
  {
   "cell_type": "markdown",
   "metadata": {},
   "source": [
    "### Testing Krum against poisoning\n",
    "\n",
    "Warning: this part takes a long time to run."
   ]
  },
  {
   "cell_type": "code",
   "execution_count": null,
   "metadata": {},
   "outputs": [],
   "source": [
    "def test_krum_against_poisoning(\n",
    "        model_factory: type[nn.Module],\n",
    "        opt_cls: type[Optimizer] = Adam,\n",
    "        inversion_method = GradientAttack.ASCENT,\n",
    "        quicktesting: bool = False,\n",
    "    ) -> tuple[pd.DataFrame, dict[tuple[float, Unlearning], np.ndarray]]:\n",
    "    \"\"\"\n",
    "    Compute an accuracy table and an per-epoch accuracy dict\n",
    "    per poison factor and Krum parameters.\n",
    "    \"\"\"\n",
    "    poison_factor = np.array([0.00, 0.05, 0.1, 0.2, 0.3, 0.4])\n",
    "    tolerance = np.array([0.3])\n",
    "    epochs = 6\n",
    "    training_hparams = dict(epochs=epochs)\n",
    "    accuracies = {}\n",
    "    rows = []\n",
    "    for alpha in poison_factor:\n",
    "        num_clean = batch_size\n",
    "        num_byzantine = int(alpha / (1. - alpha) * num_clean)\n",
    "        for tol in tolerance:\n",
    "            if num_byzantine == 0:\n",
    "                poisoned, poison_results = train(\n",
    "                    model_factory,\n",
    "                    opt_cls=opt_cls,\n",
    "                    aggregator=Krum.with_learning_settings(num_clean, tol),\n",
    "                    training_hparams=training_hparams,\n",
    "                    quicktesting=quicktesting,\n",
    "                )\n",
    "            else:\n",
    "                poisoned, poison_results = poison(\n",
    "                    model_factory,\n",
    "                    opt_cls=opt_cls,\n",
    "                    aggregator=Krum.with_learning_settings(num_clean, tol),\n",
    "                    inversion_method=inversion_method,\n",
    "                    poison_factor=alpha,\n",
    "                    training_hparams=training_hparams,\n",
    "                    quicktesting=quicktesting,\n",
    "                )\n",
    "            file_name = f\"{poisoned._get_name()}_sgd_krum_{tol}_lie_{alpha}_epochs-{epochs}.ckpt\"\n",
    "            save_model(poisoned, file_name)\n",
    "            clear_output(wait=True)\n",
    "            logs = poison_results.train_logs\n",
    "\n",
    "            val_acc_per_step_per_epoch = torch.vstack([\n",
    "                epoch_metrics['MetricTracker'].compute_all()['accuracy'].mean(dim=1)\n",
    "                for epoch_metrics in logs.train_metrics\n",
    "            ]).numpy(force=True)\n",
    "            val_acc_per_epoch: Tensor = val_acc_per_step_per_epoch.mean(axis=1)\n",
    "            best_val_epoch = np.argmax(val_acc_per_epoch)\n",
    "            best_val_acc = val_acc_per_epoch[best_val_epoch]\n",
    "            rows.append((alpha, tol, best_val_acc, best_val_epoch))\n",
    "            accuracies[(alpha, tol)] = val_acc_per_epoch\n",
    "    table = pd.DataFrame(\n",
    "        rows,\n",
    "        columns=['poison_factor', 'tolerance', 'best_accuracy', 'best_accuracy_epoch'],\n",
    "    )\n",
    "    # TODO: add baselines without poisoning and without unlearning\n",
    "    return table, accuracies\n",
    "\n",
    "def display_krum_accuracies(\n",
    "        accuracies: dict[tuple[float, Unlearning], np.ndarray],\n",
    "        model_name='ConvNet16',\n",
    "        opt_name='SGD',\n",
    "        attack_name='GA',\n",
    "    ):\n",
    "    for ((alpha, tol), val_acc_per_epoch) in accuracies.items():\n",
    "        plt.plot(val_acc_per_epoch, label=rf\"\\alpha={alpha} ($f=${tol})\")\n",
    "    \n",
    "    # TODO: add baselines\n",
    "\n",
    "    plt.xlabel(\"Epoch\")\n",
    "    plt.ylabel(\"Validation accuracy\")\n",
    "    plt.title(f\"Accuracy with robust aggregation\")\n",
    "    plt.suptitle(f\"{model_name} + {opt_name} + Krum\")\n",
    "    plt.legend()\n",
    "    plt.show()\n",
    "    save_figure(f\"{model_name}_Krum_{opt_name}_accuracy_against_{attack_name}\")"
   ]
  },
  {
   "cell_type": "code",
   "execution_count": null,
   "metadata": {},
   "outputs": [],
   "source": []
  },
  {
   "cell_type": "code",
   "execution_count": null,
   "metadata": {},
   "outputs": [
    {
     "name": "stdout",
     "output_type": "stream",
     "text": [
      "Pipeline(settings=LearningSettings(criterion=CrossEntropyLoss(), aggregator=Krum(num_byzantine=5, num_selected=42), num_clean=50, num_byzantine=12), train_loader=Dataloader(<len=40000>), val_loader=Dataloader(<len=5000>), hparams=Hyperparams(lr=0.002, momentum=0.9, weight_decay=1e-05, max_lr=0.1, batch_size=50, epochs=6, num_classes=10, top_k=1, criterion=CrossEntropyLoss()), unlearning_hparams={<Unlearning.GRADIENT_DESCENT: 0>: {'lr': 0.002, 'epochs': 1}, <Unlearning.NOISY_GRADIENT_DESCENT: 2>: {'lr': 0.002, 'epochs': 1, 'noise_scale': np.float64(0.00031622776601683794)}, <Unlearning.GRADIENT_ASCENT: 1>: {'lr': 1e-05, 'epochs': 1}, <Unlearning.NEG_GRAD_PLUS: 3>: {'lr': 0.002, 'beta': 0.999, 'epochs': 6}, <Unlearning.CFK: 4>: {'k': 6, 'lr': 0.002, 'epochs': 3}, <Unlearning.EUK: 5>: {'k': 6, 'lr': 0.002, 'epochs': 3}, <Unlearning.SCRUB: 6>: {'max_steps': 1, 'steps': 1, 'alpha': 0.1, 'beta': 0.01, 'gamma': 0.9}})\n",
      "Poisoning GradientInverter(method=Little Is Enough, estimator=ShadowGradientEstimator(aux_loader = DataLoader(<data_len=5000>)), steps=5, tv_coef=0.0, lr=0.3, sample_init=SampleInitFeedback(), label_update_schedule=PowerofTwoSchedule()) with hparams=Hyperparams(lr=0.002, momentum=0.9, weight_decay=1e-05, max_lr=0.1, batch_size=50, epochs=6, num_classes=10, top_k=1, criterion=CrossEntropyLoss()))\n"
     ]
    },
    {
     "data": {
      "application/vnd.jupyter.widget-view+json": {
       "model_id": "c259d465e2c14237bfc8a5ec0dc0836a",
       "version_major": 2,
       "version_minor": 0
      },
      "text/plain": [
       "Train epochs:   0%|          | 0/6 [00:00<?, ?epoch/s]"
      ]
     },
     "metadata": {},
     "output_type": "display_data"
    },
    {
     "data": {
      "application/vnd.jupyter.widget-view+json": {
       "model_id": "a7d2e04f907d48d09a6a1b77748b65f8",
       "version_major": 2,
       "version_minor": 0
      },
      "text/plain": [
       "Train loop:   0%|          | 0/40000 [00:00<?, ?it/s]"
      ]
     },
     "metadata": {},
     "output_type": "display_data"
    },
    {
     "data": {
      "application/vnd.jupyter.widget-view+json": {
       "model_id": "f07fec9c0cd14ff58b5de4fc99ec91af",
       "version_major": 2,
       "version_minor": 0
      },
      "text/plain": [
       "Test epoch:   0%|          | 0/5000 [00:00<?, ?it/s]"
      ]
     },
     "metadata": {},
     "output_type": "display_data"
    },
    {
     "name": "stdout",
     "output_type": "stream",
     "text": [
      "Test epoch: 100%|██████████| 5000/5000 [00:00<00:00, 6249.77it/s, accuracy=0.1, avg_loss=2.4]\n"
     ]
    },
    {
     "data": {
      "application/vnd.jupyter.widget-view+json": {
       "model_id": "968af780655d445e9fbf0344249e4d56",
       "version_major": 2,
       "version_minor": 0
      },
      "text/plain": [
       "Train loop:   0%|          | 0/40000 [00:00<?, ?it/s]"
      ]
     },
     "metadata": {},
     "output_type": "display_data"
    },
    {
     "data": {
      "application/vnd.jupyter.widget-view+json": {
       "model_id": "f94fb46c421e414694230d5adb932c40",
       "version_major": 2,
       "version_minor": 0
      },
      "text/plain": [
       "Test epoch:   0%|          | 0/5000 [00:00<?, ?it/s]"
      ]
     },
     "metadata": {},
     "output_type": "display_data"
    },
    {
     "name": "stdout",
     "output_type": "stream",
     "text": [
      "Test epoch: 100%|██████████| 5000/5000 [00:00<00:00, 6313.85it/s, accuracy=0.1, avg_loss=2.9]\n"
     ]
    },
    {
     "data": {
      "application/vnd.jupyter.widget-view+json": {
       "model_id": "1ea475505dbb411ea7521bc316c0896e",
       "version_major": 2,
       "version_minor": 0
      },
      "text/plain": [
       "Train loop:   0%|          | 0/40000 [00:00<?, ?it/s]"
      ]
     },
     "metadata": {},
     "output_type": "display_data"
    },
    {
     "data": {
      "application/vnd.jupyter.widget-view+json": {
       "model_id": "2d5257601c1844d9b11d2f660f805ea9",
       "version_major": 2,
       "version_minor": 0
      },
      "text/plain": [
       "Test epoch:   0%|          | 0/5000 [00:00<?, ?it/s]"
      ]
     },
     "metadata": {},
     "output_type": "display_data"
    },
    {
     "name": "stdout",
     "output_type": "stream",
     "text": [
      "Test epoch: 100%|██████████| 5000/5000 [00:00<00:00, 6267.84it/s, accuracy=0.1, avg_loss=2.61]\n"
     ]
    },
    {
     "data": {
      "application/vnd.jupyter.widget-view+json": {
       "model_id": "82aed517c95f41f6bae1ec4573150f29",
       "version_major": 2,
       "version_minor": 0
      },
      "text/plain": [
       "Train loop:   0%|          | 0/40000 [00:00<?, ?it/s]"
      ]
     },
     "metadata": {},
     "output_type": "display_data"
    }
   ],
   "source": [
    "krum_acc_table, krum_acc_dict = test_krum_against_poisoning(\n",
    "    ConvNet16, opt_cls=SGD, inversion_method=GradientAttack.ASCENT,\n",
    ")\n",
    "krum_acc_table"
   ]
  },
  {
   "cell_type": "code",
   "execution_count": null,
   "metadata": {},
   "outputs": [],
   "source": [
    "display_krum_accuracies(\n",
    "    krum_acc_dict,\n",
    "    model_name='ConvNet16', opt_name='SGD', attack_name='GA',\n",
    ")"
   ]
  },
  {
   "cell_type": "code",
   "execution_count": null,
   "metadata": {},
   "outputs": [],
   "source": [
    "# FIXME: try Min-Sum instead of vanilla LIE against Krum"
   ]
  },
  {
   "cell_type": "markdown",
   "metadata": {},
   "source": [
    "### Other experiments"
   ]
  },
  {
   "cell_type": "markdown",
   "metadata": {},
   "source": [
    "#### Mean + SGD vs LIE (Min-Sum)"
   ]
  },
  {
   "cell_type": "code",
   "execution_count": null,
   "metadata": {},
   "outputs": [],
   "source": [
    "def test_against_lie(\n",
    "        model_factory: type[nn.Module],\n",
    "        opt_cls: type[Optimizer] = SGD,\n",
    "        quicktesting: bool = False,\n",
    "    ) -> tuple[pd.DataFrame, dict[tuple[float, Unlearning], np.ndarray]]:\n",
    "    \"\"\"\n",
    "    Compute an accuracy table and an per-epoch accuracy dict\n",
    "    per poison factor and Krum parameters.\n",
    "    \"\"\"\n",
    "    poison_factor = np.array([0.00, 0.05, 0.1, 0.2, 0.3, 0.4])\n",
    "    accuracies = {}\n",
    "    rows = []\n",
    "    epochs = 6\n",
    "    training_hparams = dict(epochs=epochs)\n",
    "    for alpha in poison_factor:\n",
    "        num_clean = batch_size\n",
    "        num_byzantine = int(alpha / (1. - alpha) * num_clean)\n",
    "        if num_byzantine == 0:\n",
    "            poisoned, poison_results = train(\n",
    "                model_factory,\n",
    "                opt_cls=opt_cls,\n",
    "                aggregator=Mean(),\n",
    "                training_hparams=training_hparams,\n",
    "                quicktesting=quicktesting,\n",
    "            )\n",
    "        else:\n",
    "            poisoned, poison_results = poison(\n",
    "                model_factory,\n",
    "                opt_cls=opt_cls,\n",
    "                aggregator=Mean(),\n",
    "                # FIXME: use Min-Sum instead of vanilla LIE\n",
    "                inversion_method=GradientAttack.LITTLE_IS_ENOUGH,\n",
    "                poison_factor=alpha,\n",
    "                training_hparams=training_hparams,\n",
    "                quicktesting=quicktesting,\n",
    "            )\n",
    "        file_name = f\"{poisoned._get_name()}_sgd_mean_lie_{alpha}_epochs-{epochs}\"\n",
    "        save_model(poisoned, file_name)\n",
    "        clear_output(wait=True)\n",
    "        logs = poison_results.train_logs\n",
    "\n",
    "        val_acc_per_step_per_epoch = torch.vstack([\n",
    "            epoch_metrics['MetricTracker'].compute_all()['accuracy'].mean(dim=1)\n",
    "            for epoch_metrics in logs.train_metrics\n",
    "        ]).numpy(force=True)\n",
    "        val_acc_per_epoch: Tensor = val_acc_per_step_per_epoch.mean(axis=1)\n",
    "        best_val_epoch = np.argmax(val_acc_per_epoch)\n",
    "        best_val_acc = val_acc_per_epoch[best_val_epoch]\n",
    "        rows.append((alpha, best_val_acc, best_val_epoch))\n",
    "        accuracies[alpha] = val_acc_per_epoch\n",
    "    table = pd.DataFrame(\n",
    "        rows,\n",
    "        columns=['poison_factor', 'best_accuracy', 'best_accuracy_epoch'],\n",
    "    )\n",
    "    return table, accuracies\n",
    "\n",
    "def display_lie_accuracies(\n",
    "        accuracies: dict[tuple[float, Unlearning], np.ndarray],\n",
    "        model_name = \"ConvNet16\",\n",
    "        opt_name = \"SGD\",\n",
    "    ):\n",
    "    for ((alpha, tol), val_acc_per_epoch) in accuracies.items():\n",
    "        plt.plot(val_acc_per_epoch, label=rf\"\\alpha={alpha} ($f=${tol})\")\n",
    "    \n",
    "    # TODO: add baselines\n",
    "\n",
    "    plt.xlabel(\"Epoch\")\n",
    "    plt.ylabel(\"Validation accuracy\")\n",
    "    plt.title(f\"Accuracy with no defense against LIE\")\n",
    "    plt.suptitle(f\"{model_name} + Krum\")\n",
    "    plt.legend()\n",
    "    plt.show()\n",
    "    save_figure(f\"{model_name}_{opt_name}_Krum_LIE_accuracy\")"
   ]
  },
  {
   "cell_type": "code",
   "execution_count": null,
   "metadata": {},
   "outputs": [],
   "source": [
    "poison_acc_table, poison_acc_dict = test_against_lie(ConvNet16, SGD)\n",
    "poison_acc_table"
   ]
  },
  {
   "cell_type": "code",
   "execution_count": null,
   "metadata": {},
   "outputs": [],
   "source": [
    "display_lie_accuracies(poison_acc_dict, \"ConvNet16\", \"SGD\")"
   ]
  },
  {
   "cell_type": "markdown",
   "metadata": {
    "jp-MarkdownHeadingCollapsed": true
   },
   "source": [
    "#### Mean + Adam vs LIE (Min-Sum)"
   ]
  },
  {
   "cell_type": "code",
   "execution_count": null,
   "metadata": {},
   "outputs": [],
   "source": [
    "poison_acc_table, poison_acc_dict = test_against_lie(ConvNet16, Adam)\n",
    "poison_acc_table"
   ]
  },
  {
   "cell_type": "code",
   "execution_count": null,
   "metadata": {},
   "outputs": [],
   "source": [
    "display_lie_accuracies(poison_acc_dict, \"ConvNet16\", \"Adam\")"
   ]
  },
  {
   "cell_type": "markdown",
   "metadata": {
    "jp-MarkdownHeadingCollapsed": true
   },
   "source": [
    "## Testing gradient estimation with auxiliary dataset\n",
    "\n",
    "We test the estimation quality of the average clean gradient."
   ]
  },
  {
   "cell_type": "code",
   "execution_count": null,
   "metadata": {},
   "outputs": [],
   "source": [
    "def eval_gradient_estimation(\n",
    "        model: nn.Module,\n",
    "        train: bool = True,\n",
    "        momentum: float = 0.9,\n",
    "    ) -> list[float]:\n",
    "    model = deepcopy(model)\n",
    "    model.train(train)\n",
    "    estimator = ShadowGradientEstimator(aux_loader, momentum=momentum)\n",
    "    omniscient = OmniscientGradientEstimator()\n",
    "\n",
    "    mini_train_set = random_split(training_data, [0.4, 0.6])[0]\n",
    "    mini_train_loader = DataLoader(mini_train_set, batch_size=batch_size)\n",
    "    optimizer = Adam(model.parameters())\n",
    "\n",
    "    scores = []\n",
    "    for X, y in mini_train_loader:\n",
    "        X, y = X.to(BEST_DEVICE), y.to(BEST_DEVICE)\n",
    "        criterion(model(X), y).backward()\n",
    "        g_true = omniscient.average_clean_gradient(model, criterion)\n",
    "        if train:\n",
    "            optimizer.step()\n",
    "        optimizer.zero_grad()\n",
    "\n",
    "        g_pred = estimator.average_clean_gradient(model, criterion)\n",
    "\n",
    "        cos_sim = torch.cosine_similarity(g_true, g_pred, dim=0).item()\n",
    "        scores.append(cos_sim)\n",
    "    return scores\n",
    "\n",
    "def show_scores(scores: list[float], ax: plt.Axes):\n",
    "    ax.plot(scores)\n",
    "    ax.hlines(np.mean(scores), 0, len(scores), color='orange')\n",
    "    ax.set_xlabel(\"Step\")\n",
    "    ax.set_ylabel(\"Cosine similarity\")\n"
   ]
  },
  {
   "cell_type": "code",
   "execution_count": null,
   "metadata": {},
   "outputs": [],
   "source": [
    "def gradient_estimation_comparison(model: nn.Module):\n",
    "    fig, axes = plt.subplots(1, 5, sharey=True)\n",
    "    fig.set_figwidth(12)\n",
    "\n",
    "    momentum = 0.9\n",
    "    scores_1 = eval_gradient_estimation(model, train=False, momentum=momentum)\n",
    "    show_scores(scores_1, ax=axes[0])\n",
    "    axes[0].set_title(f\"No training\\nmomentum: {momentum}\")\n",
    "\n",
    "    scores_2 = eval_gradient_estimation(model, momentum=momentum)\n",
    "    show_scores(scores_2, ax=axes[1])\n",
    "    axes[1].set_title(f\"Training\\nmomentum: {momentum}\")\n",
    "\n",
    "    momentum = 0.7\n",
    "    scores_3 = eval_gradient_estimation(model, train=False, momentum=momentum)\n",
    "    show_scores(scores_3, ax=axes[2])\n",
    "    axes[2].set_title(f\"No training\\nmomentum: {momentum}\")\n",
    "\n",
    "    scores_4 = eval_gradient_estimation(model, momentum=momentum)\n",
    "    show_scores(scores_4, ax=axes[3])\n",
    "    axes[3].set_title(f\"Training\\nmomentum: {momentum}\")\n",
    "\n",
    "    scores_5 = eval_gradient_estimation(model, momentum=0.0)\n",
    "    show_scores(scores_5, ax=axes[4])\n",
    "    axes[4].set_title(f\"Training\\nno momentum\")\n",
    "\n",
    "    fig.suptitle(\"True batch gradient vs. estimated average gradient\")\n",
    "    fig.tight_layout()"
   ]
  },
  {
   "cell_type": "code",
   "execution_count": null,
   "metadata": {},
   "outputs": [
    {
     "data": {
      "image/png": "[encoded data removed]",
      "text/plain": [
       "<Figure size 1200x480 with 5 Axes>"
      ]
     },
     "metadata": {},
     "output_type": "display_data"
    }
   ],
   "source": [
    "model = train(\n",
    "    ConvNet16,\n",
    "    opt_cls=Adam,\n",
    "    training_hparams=dict(epochs=1),\n",
    ")\n",
    "gradient_estimation_comparison(model)"
   ]
  }
 ],
 "metadata": {
  "kernelspec": {
   "display_name": "ml",
   "language": "python",
   "name": "ml"
  },
  "language_info": {
   "codemirror_mode": {
    "name": "ipython",
    "version": 3
   },
   "file_extension": ".py",
   "mimetype": "text/x-python",
   "name": "python",
   "nbconvert_exporter": "python",
   "pygments_lexer": "ipython3",
   "version": "3.13.2"
  }
 },
 "nbformat": 4,
 "nbformat_minor": 4
}
