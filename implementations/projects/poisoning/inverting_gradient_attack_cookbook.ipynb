{
 "cells": [
  {
   "cell_type": "markdown",
   "metadata": {},
   "source": [
    "# Inverting gradient attack"
   ]
  },
  {
   "cell_type": "markdown",
   "metadata": {},
   "source": [
    "We run the inverting gradient data poisoning attack by [Bouaziz et al.](https://arxiv.org/abs/2410.21453) We compare the effectiveness of machine unlearning as a defense, with a robust gradient aggregation rule.\n",
    "\n",
    "We consider the same machine unlearning algorithms tested by [Pawelczyk et al.](https://arxiv.org/abs/2406.17216) and we use the $m$-KRUM aggregator introduced by [Blanchard et al.](https://arxiv.org/abs/1703.02757)"
   ]
  },
  {
   "cell_type": "markdown",
   "metadata": {},
   "source": [
    "### Imports"
   ]
  },
  {
   "cell_type": "code",
   "execution_count": 1,
   "metadata": {},
   "outputs": [
    {
     "name": "stdout",
     "output_type": "stream",
     "text": [
      "Using cuda device\n"
     ]
    }
   ],
   "source": [
    "from __future__ import annotations\n",
    "\n",
    "from copy import deepcopy\n",
    "import dataclasses\n",
    "import numpy as np\n",
    "import matplotlib.pyplot as plt\n",
    "import seaborn as sns\n",
    "from scipy import stats\n",
    "import pandas as pd\n",
    "import torch\n",
    "from torch import nn, Tensor\n",
    "from torch.nn.modules.loss import _Loss, CrossEntropyLoss\n",
    "from torch.optim import Optimizer, SGD, Adam\n",
    "from torch.utils.data import Dataset, DataLoader, random_split\n",
    "from torchmetrics.classification import MulticlassAccuracy\n",
    "from IPython.display import clear_output\n",
    "\n",
    "from image_classification.nn import Logs, test_epoch\n",
    "from image_classification.accel import BEST_DEVICE"
   ]
  },
  {
   "cell_type": "markdown",
   "metadata": {},
   "source": [
    "## Base learning settings"
   ]
  },
  {
   "cell_type": "markdown",
   "metadata": {},
   "source": [
    "### Model\n",
    "\n",
    "For quick prototyping, also consider using [`ShuffleNetV2`](https://arxiv.org/abs/1807.11164v1), a 300M-parameter model that is much smaller than [`ResNet18`](https://arxiv.org/abs/1704.06904). Experiments can be made on both models or on only one of them."
   ]
  },
  {
   "cell_type": "code",
   "execution_count": 2,
   "metadata": {},
   "outputs": [],
   "source": [
    "from image_classification.models import ResNet18, ShuffleNetV2\n",
    "from image_classification.datasets import cifar10_train_test, cifar100_train_test"
   ]
  },
  {
   "cell_type": "markdown",
   "metadata": {},
   "source": [
    "### Dataset\n",
    "\n",
    "We use CIFAR-10 by default."
   ]
  },
  {
   "cell_type": "code",
   "execution_count": 3,
   "metadata": {},
   "outputs": [
    {
     "name": "stdout",
     "output_type": "stream",
     "text": [
      "Loading CIFAR-10\n",
      "Files already downloaded and verified\n",
      "Files already downloaded and verified\n"
     ]
    },
    {
     "data": {
      "text/plain": [
       "(40000, 5000, 5000, 10000)"
      ]
     },
     "execution_count": 3,
     "metadata": {},
     "output_type": "execute_result"
    }
   ],
   "source": [
    "# Set to 10 for CIFAR-10, 100 for CIFAR-100\n",
    "num_classes = 10\n",
    "\n",
    "# The images are already normalized by these datasets\n",
    "if num_classes == 10:\n",
    "    get_train_test = cifar10_train_test\n",
    "elif num_classes == 100:\n",
    "    get_train_test = cifar100_train_test\n",
    "else:\n",
    "    raise ValueError(f\"Can't find CIFAR dataset with {num_classes} classes\")\n",
    "print(f\"Loading CIFAR-{num_classes}\")\n",
    "\n",
    "training_data, test_data = get_train_test(root='data')\n",
    "N_test = len(test_data)\n",
    "N_val = len(training_data) // 10\n",
    "N_aux = N_val\n",
    "N = len(training_data) - N_val - N_aux\n",
    "# This works since training data is already shuffled\n",
    "training_data, val_data, aux_data = training_data.split([N, N_val, N_aux])\n",
    "\n",
    "batch_size = 100\n",
    "N, N_val, N_aux, N_test"
   ]
  },
  {
   "cell_type": "code",
   "execution_count": 4,
   "metadata": {},
   "outputs": [],
   "source": [
    "train_loader = DataLoader(training_data, batch_size, drop_last=True)\n",
    "test_loader = DataLoader(test_data, batch_size, drop_last=True)\n",
    "val_loader = DataLoader(val_data, batch_size, drop_last=True)\n",
    "aux_loader = DataLoader(aux_data, batch_size, drop_last=True)"
   ]
  },
  {
   "cell_type": "markdown",
   "metadata": {},
   "source": [
    "### Hyperparameters"
   ]
  },
  {
   "cell_type": "code",
   "execution_count": 5,
   "metadata": {},
   "outputs": [],
   "source": [
    "criterion = CrossEntropyLoss()"
   ]
  },
  {
   "cell_type": "markdown",
   "metadata": {},
   "source": [
    "## Inverting gradient attack"
   ]
  },
  {
   "cell_type": "code",
   "execution_count": 6,
   "metadata": {},
   "outputs": [],
   "source": [
    "from image_classification.gradient_attack import (\n",
    "    GradientAttack,\n",
    "    GradientEstimator, OmniscientGradientEstimator, ShadowGradientEstimator,\n",
    "    SampleInit, SampleInitRandomNoise, LearningSettings, GradientInverter,\n",
    "    Schedule, NeverUpdate\n",
    ")\n",
    "from inverting_gradient_attack import Pipeline, PipelineResults, Unlearning, Hyperparams\n",
    "import federated as fed\n",
    "#from federated import Aggregator, Mean, Krum\n",
    "from inverting_gradient_attack import Aggregator, Mean, Krum # Avoids failing isinstance checks\n",
    "from federated.utils import convert_bn_modules_to_gn"
   ]
  },
  {
   "cell_type": "markdown",
   "metadata": {},
   "source": [
    "## Poisoning + Unlearning pipeline"
   ]
  },
  {
   "cell_type": "code",
   "execution_count": 7,
   "metadata": {},
   "outputs": [],
   "source": [
    "def patch_network(network_factory: type[nn.Module]):\n",
    "    \"\"\"Patches a neural network factory to make it compatible to per-gradient backpropagation.\n",
    "    \n",
    "    This replaces a model's BatchNorm layers with GroupNorm.\n",
    "    See `federated.utils` documentation for technical details.\n",
    "    \"\"\"\n",
    "    def patch():\n",
    "        return convert_bn_modules_to_gn(network_factory())\n",
    "    \n",
    "    return patch"
   ]
  },
  {
   "cell_type": "markdown",
   "metadata": {},
   "source": [
    "### Evaluation"
   ]
  },
  {
   "cell_type": "code",
   "execution_count": 8,
   "metadata": {},
   "outputs": [],
   "source": [
    "def compute_accuracy(model: nn.Module) -> float:\n",
    "    \"\"\"Compute the model accuracy on the test set.\"\"\"\n",
    "    metric = MulticlassAccuracy(num_classes)\n",
    "    logger = test_epoch(\n",
    "        model,\n",
    "        test_loader,\n",
    "        criterion,\n",
    "        metric=metric,\n",
    "    )\n",
    "    return logger.metrics['MulticlassAccuracy'].compute().item()"
   ]
  },
  {
   "cell_type": "markdown",
   "metadata": {},
   "source": [
    "### Pipeline"
   ]
  },
  {
   "cell_type": "code",
   "execution_count": 9,
   "metadata": {},
   "outputs": [],
   "source": [
    "def run_pipeline(\n",
    "        model_factory = ResNet18,\n",
    "        aggregator = Mean(),\n",
    "        inversion_method: GradientAttack | None = None,\n",
    "        poison_factor: float = 0.2,\n",
    "        unlearning_method: Unlearning | None = None,\n",
    "        training_hparams: dict = {},\n",
    "        unlearning_hparams: dict = {},\n",
    "        quicktesting: bool = False,\n",
    "    ) -> tuple[nn.Module, PipelineResults]:\n",
    "    \"\"\"Run a training pipeline with default settings.\n",
    "\n",
    "    The training may include poisoning with an inverting gradient attack,\n",
    "    and perform unlearning after training.\n",
    "\n",
    "    Parameters:\n",
    "        model_factory (Module type): the neural network class.\n",
    "        aggregator (Aggregator): a gradient aggregation method.\n",
    "        inversion_method (GradientAttack, optional): the gradient inversion method.\n",
    "        poison_factor (float, optional): the proportion of poisons in the training data.\n",
    "        unlearning_method (Unlearning, optional): the unlearning algorithm.\n",
    "\n",
    "        training_hparams (dict, optional): training hyperparameter overrides.\n",
    "        unlearning_hparams (dict, optional): unlearning hyperparameter overrides.\n",
    "\n",
    "        quicktesting (bool, defaults to False): whether to use a small model,\n",
    "            a smaller subset of the training dataset and less training epochs\n",
    "            for quicker testing iterations. Overrides hyperparameters when relevant.\n",
    "\n",
    "    Returns:\n",
    "        out (tuple[nn.Module, PipelineResults]): the trained and possibly unlearned model\n",
    "            and the pipeline results.\n",
    "    \"\"\"\n",
    "    poisoning = inversion_method is not None\n",
    "    unlearning = unlearning_method is not None\n",
    "\n",
    "    if poisoning:\n",
    "        inverter = GradientInverter(\n",
    "            method = inversion_method,\n",
    "            estimator = ShadowGradientEstimator(aux_loader),\n",
    "            steps = 5,\n",
    "            sample_init = SampleInitRandomNoise(training_data),\n",
    "        )\n",
    "    \n",
    "    settings = LearningSettings(\n",
    "        criterion,\n",
    "        aggregator = deepcopy(aggregator),\n",
    "        num_clean = batch_size,\n",
    "        num_byzantine = int(poison_factor / (1. - poison_factor) * batch_size),\n",
    "    )\n",
    "\n",
    "    hparams = Hyperparams(batch_size=batch_size, num_classes=num_classes)\n",
    "    hparams = dataclasses.replace(hparams, **training_hparams)\n",
    "\n",
    "    if quicktesting:\n",
    "        model_factory = ShuffleNetV2\n",
    "        mini_train_set, _ = random_split(training_data, [0.1, 0.9])\n",
    "        train_loader_ = DataLoader(mini_train_set, batch_size)\n",
    "        hparams = dataclasses.replace(hparams, epochs=1)\n",
    "        if poisoning:\n",
    "            inverter.steps = 1\n",
    "    else:\n",
    "        train_loader_ = train_loader\n",
    "\n",
    "    pipeline = Pipeline(settings, train_loader_, val_loader, hparams)\n",
    "    if unlearning:\n",
    "        pipeline.unlearning_hparams[unlearning_method].update(unlearning_hparams)\n",
    "    print(pipeline)\n",
    "\n",
    "    model = patch_network(model_factory)().to(BEST_DEVICE)\n",
    "\n",
    "    if poisoning and unlearning:\n",
    "        unlearner, results = pipeline.poison_and_unlearn(model, inverter, unlearning_method)\n",
    "        model = unlearner\n",
    "    elif poisoning:\n",
    "        poisoned, results = pipeline.poison(model, inverter)\n",
    "        model = poisoned\n",
    "    else:\n",
    "        assert not unlearning, \"Cannot unlearn when there is no poisoning\"\n",
    "        trained, results = pipeline.train(model)\n",
    "        model = trained \n",
    "    \n",
    "    return model, results"
   ]
  },
  {
   "cell_type": "markdown",
   "metadata": {},
   "source": [
    "### Normal training"
   ]
  },
  {
   "cell_type": "code",
   "execution_count": 10,
   "metadata": {},
   "outputs": [],
   "source": [
    "def train(\n",
    "        model_factory = ResNet18,\n",
    "        aggregator = Mean(),\n",
    "        training_hparams: dict = {},\n",
    "        quicktesting: bool = False,\n",
    ") -> tuple[nn.Module, PipelineResults]:\n",
    "    \"\"\"Train the model normally.\n",
    "    \n",
    "    See `run_pipeline` for details on the arguments.\n",
    "    \"\"\"\n",
    "    return run_pipeline(\n",
    "        model_factory,\n",
    "        aggregator=aggregator,\n",
    "        poison_factor=0.0,\n",
    "        training_hparams=training_hparams,\n",
    "        quicktesting=quicktesting,\n",
    "    )"
   ]
  },
  {
   "cell_type": "markdown",
   "metadata": {},
   "source": [
    "### Training with data poisoning\n",
    "\n",
    "This inverting gradient data poisoning attack can be defended by changing the aggregator to KRUM."
   ]
  },
  {
   "cell_type": "code",
   "execution_count": 11,
   "metadata": {},
   "outputs": [],
   "source": [
    "def poison(\n",
    "        model_factory = ResNet18,\n",
    "        aggregator = Mean(),\n",
    "        inversion_method = GradientAttack.ASCENT,\n",
    "        poison_factor: float = 0.2,\n",
    "        training_hparams: dict = {},\n",
    "        quicktesting: bool = False,\n",
    "    ) -> tuple[nn.Module, PipelineResults]:\n",
    "    \"\"\"Run the poisoning pipeline with default settings.\n",
    "\n",
    "    See `run_pipeline` for details on the arguments.\n",
    "    \"\"\"\n",
    "    return run_pipeline(\n",
    "        model_factory,\n",
    "        aggregator=aggregator,\n",
    "        inversion_method=inversion_method,\n",
    "        poison_factor=poison_factor,\n",
    "        training_hparams=training_hparams,\n",
    "        quicktesting=quicktesting,\n",
    "    )"
   ]
  },
  {
   "cell_type": "markdown",
   "metadata": {},
   "source": [
    "### Poisoning and then Unlearning\n",
    "\n",
    "Machine unlearning is used against a gradient inversion data poisoning attack."
   ]
  },
  {
   "cell_type": "code",
   "execution_count": 12,
   "metadata": {},
   "outputs": [],
   "source": [
    "def poison_and_unlearn(\n",
    "        model_factory = ResNet18,\n",
    "        aggregator = Mean(),\n",
    "        inversion_method = GradientAttack.ASCENT,\n",
    "        poison_factor: float = 0.2,\n",
    "        unlearning_method = Unlearning.NEG_GRAD_PLUS,\n",
    "        training_hparams: dict = {},\n",
    "        unlearning_hparams: dict = {},\n",
    "        quicktesting: bool = False,\n",
    "    ) -> tuple[nn.Module, PipelineResults]:\n",
    "    \"\"\"Run the poison-and-unlearn pipeline with default settings.\n",
    "\n",
    "    See `run_pipeline` for details on the arguments.\n",
    "    \"\"\"\n",
    "    return run_pipeline(\n",
    "        model_factory,\n",
    "        aggregator=aggregator,\n",
    "        inversion_method=inversion_method,\n",
    "        poison_factor=poison_factor,\n",
    "        unlearning_method=unlearning_method,\n",
    "        training_hparams=training_hparams,\n",
    "        unlearning_hparams=unlearning_hparams,\n",
    "        quicktesting=quicktesting,\n",
    "    )"
   ]
  },
  {
   "cell_type": "markdown",
   "metadata": {},
   "source": [
    "## Experiments"
   ]
  },
  {
   "cell_type": "markdown",
   "metadata": {},
   "source": [
    "### Assessing $m$-Krum's utility\n",
    "\n",
    "We study the effect of using a robust aggregator on the model's test accuracy."
   ]
  },
  {
   "cell_type": "code",
   "execution_count": 13,
   "metadata": {},
   "outputs": [],
   "source": [
    "def assess_krum(\n",
    "        model_factory: type[nn.Module],\n",
    "        training_hparams = dict(epochs=1),\n",
    "        n_points: int = 11,\n",
    "    ) -> tuple[float, pd.DataFrame]:\n",
    "\n",
    "    def baseline() -> float:\n",
    "        model, _ = train(\n",
    "            model_factory,\n",
    "            aggregator = Mean(),\n",
    "            training_hparams = training_hparams,\n",
    "            quicktesting=False,\n",
    "        )\n",
    "        return compute_accuracy(model)\n",
    "    \n",
    "    def eval_krum_with_poison_factor(tol: float) -> float:\n",
    "        model, _ = train(\n",
    "            model_factory,\n",
    "            aggregator = Krum.with_learning_settings(batch_size, tol),\n",
    "            training_hparams = training_hparams,\n",
    "            quicktesting=False,\n",
    "        )\n",
    "        clear_output(wait=True)\n",
    "        return compute_accuracy(model)\n",
    "        \n",
    "    base_acc = baseline()\n",
    "\n",
    "    x_f = np.linspace(0.0, 0.4, n_points)\n",
    "    y_accuracy = np.vectorize(eval_krum_with_poison_factor)(x_f)\n",
    "\n",
    "    df = pd.DataFrame({'f': x_f, 'accuracy': y_accuracy})\n",
    "    return base_acc, df"
   ]
  },
  {
   "cell_type": "code",
   "execution_count": 14,
   "metadata": {},
   "outputs": [
    {
     "data": {
      "application/vnd.jupyter.widget-view+json": {
       "model_id": "e22883485be54654a2940fbc120e8d6c",
       "version_major": 2,
       "version_minor": 0
      },
      "text/plain": [
       "Test epoch:   0%|          | 0/10000 [00:00<?, ?it/s]"
      ]
     },
     "metadata": {},
     "output_type": "display_data"
    }
   ],
   "source": [
    "base_acc, x_f_y_acc = assess_krum(ShuffleNetV2)"
   ]
  },
  {
   "cell_type": "code",
   "execution_count": 15,
   "metadata": {},
   "outputs": [
    {
     "data": {
      "image/png": "[encoded data removed]",
      "text/plain": [
       "<Figure size 640x480 with 1 Axes>"
      ]
     },
     "metadata": {},
     "output_type": "display_data"
    }
   ],
   "source": [
    "def display_krum_assessment(base_acc: float, x_f_y_acc: pd.DataFrame):\n",
    "    # TODO: error bars + statistical test\n",
    "    x_f = x_f_y_acc['f']\n",
    "    y_accuracy = x_f_y_acc['accuracy']\n",
    "    plt.hlines(base_acc, min(x_f), max(x_f), label=\"mean aggregation\", colors='orange')\n",
    "\n",
    "    plt.scatter(x_f, y_accuracy, label=r\"$f$-resilient multi-Krum\")\n",
    "    plt.xlabel(r\"$f$ (Byzantine proportion)\")\n",
    "    plt.ylabel(r\"accuracy\")\n",
    "    plt.legend(loc=\"upper left\")\n",
    "    plt.title(r\"Impact of multi-Krum on the test accuracy\")\n",
    "    plt.show()\n",
    "\n",
    "display_krum_assessment(base_acc, x_f_y_acc)"
   ]
  },
  {
   "cell_type": "code",
   "execution_count": 16,
   "metadata": {},
   "outputs": [
    {
     "name": "stdout",
     "output_type": "stream",
     "text": [
      "Base accuracy (mean): 0.389\n",
      "Krum accuracy:\n"
     ]
    },
    {
     "data": {
      "text/html": [
       "<div>\n",
       "<style scoped>\n",
       "    .dataframe tbody tr th:only-of-type {\n",
       "        vertical-align: middle;\n",
       "    }\n",
       "\n",
       "    .dataframe tbody tr th {\n",
       "        vertical-align: top;\n",
       "    }\n",
       "\n",
       "    .dataframe thead th {\n",
       "        text-align: right;\n",
       "    }\n",
       "</style>\n",
       "<table border=\"1\" class=\"dataframe\">\n",
       "  <thead>\n",
       "    <tr style=\"text-align: right;\">\n",
       "      <th></th>\n",
       "      <th>f</th>\n",
       "      <th>accuracy</th>\n",
       "    </tr>\n",
       "  </thead>\n",
       "  <tbody>\n",
       "    <tr>\n",
       "      <th>0</th>\n",
       "      <td>0.00</td>\n",
       "      <td>0.4177</td>\n",
       "    </tr>\n",
       "    <tr>\n",
       "      <th>1</th>\n",
       "      <td>0.04</td>\n",
       "      <td>0.3790</td>\n",
       "    </tr>\n",
       "    <tr>\n",
       "      <th>2</th>\n",
       "      <td>0.08</td>\n",
       "      <td>0.3852</td>\n",
       "    </tr>\n",
       "    <tr>\n",
       "      <th>3</th>\n",
       "      <td>0.12</td>\n",
       "      <td>0.3992</td>\n",
       "    </tr>\n",
       "    <tr>\n",
       "      <th>4</th>\n",
       "      <td>0.16</td>\n",
       "      <td>0.4092</td>\n",
       "    </tr>\n",
       "    <tr>\n",
       "      <th>5</th>\n",
       "      <td>0.20</td>\n",
       "      <td>0.3883</td>\n",
       "    </tr>\n",
       "    <tr>\n",
       "      <th>6</th>\n",
       "      <td>0.24</td>\n",
       "      <td>0.4403</td>\n",
       "    </tr>\n",
       "    <tr>\n",
       "      <th>7</th>\n",
       "      <td>0.28</td>\n",
       "      <td>0.4186</td>\n",
       "    </tr>\n",
       "    <tr>\n",
       "      <th>8</th>\n",
       "      <td>0.32</td>\n",
       "      <td>0.4213</td>\n",
       "    </tr>\n",
       "    <tr>\n",
       "      <th>9</th>\n",
       "      <td>0.36</td>\n",
       "      <td>0.3802</td>\n",
       "    </tr>\n",
       "    <tr>\n",
       "      <th>10</th>\n",
       "      <td>0.40</td>\n",
       "      <td>0.3877</td>\n",
       "    </tr>\n",
       "  </tbody>\n",
       "</table>\n",
       "</div>"
      ],
      "text/plain": [
       "       f  accuracy\n",
       "0   0.00    0.4177\n",
       "1   0.04    0.3790\n",
       "2   0.08    0.3852\n",
       "3   0.12    0.3992\n",
       "4   0.16    0.4092\n",
       "5   0.20    0.3883\n",
       "6   0.24    0.4403\n",
       "7   0.28    0.4186\n",
       "8   0.32    0.4213\n",
       "9   0.36    0.3802\n",
       "10  0.40    0.3877"
      ]
     },
     "execution_count": 16,
     "metadata": {},
     "output_type": "execute_result"
    }
   ],
   "source": [
    "print(f\"Base accuracy (mean): {base_acc:.3}\")\n",
    "print(f\"Krum accuracy:\")\n",
    "x_f_y_acc"
   ]
  },
  {
   "cell_type": "markdown",
   "metadata": {},
   "source": [
    "When there is no poisoning, Krum incurs a minimal accuracy decrease (~3%) even in the most pessimistic learning settings. Since the accuracy also increases, we can tell with high statistical confidence that Krum does not decrease accuracy by a significant amount."
   ]
  },
  {
   "cell_type": "markdown",
   "metadata": {},
   "source": [
    "### Poison selection rate\n",
    "\n",
    "We test GA, OG and LIE against $m$-Krum to compute the poison selection rate."
   ]
  },
  {
   "cell_type": "code",
   "execution_count": 19,
   "metadata": {},
   "outputs": [],
   "source": [
    "def eval_krum_selection_rate(\n",
    "        model_factory: type[nn.Module],\n",
    "        alpha: float,\n",
    "        tol: float,\n",
    "        method: GradientAttack,\n",
    "        quicktesting: bool = True,\n",
    "    ) -> np.ndarray:\n",
    "    \"\"\"Compute Krum poison selection rate.\"\"\"\n",
    "    num_clean = batch_size\n",
    "    num_byzantine = int(alpha / (1. - alpha) * num_clean)\n",
    "    _, poison_results = poison(\n",
    "        model_factory,\n",
    "        aggregator = Krum.with_learning_settings(num_clean, tol),\n",
    "        inversion_method = method,\n",
    "        poison_factor = alpha,\n",
    "        training_hparams = dict(epochs=1),\n",
    "        quicktesting=quicktesting,\n",
    "    )\n",
    "    clear_output()\n",
    "    num_selected_poisons = torch.cat([\n",
    "        per_epoch['num_selected_poisons'].compute()\n",
    "        for per_epoch in poison_results.train_logs.train_metrics\n",
    "    ])\n",
    "    return (num_selected_poisons / num_byzantine).numpy(force=True)\n",
    "\n",
    "def compute_selection_rate_table(\n",
    "        model_factory: type[nn.Module],\n",
    "        quicktesting: bool = True,\n",
    "    ) -> pd.DataFrame:\n",
    "    \"\"\"Compute a poison selection rate table per model, poison factor, Krum tolerance.\"\"\"\n",
    "    poison_factor = np.array([0.01, 0.05, 0.1, 0.2, 0.3, 0.4])\n",
    "    tolerance = np.array([0.1]) #np.array([0.01, 0.05, 0.1, 0.2, 0.3, 0.4])\n",
    "    atk_method = [\n",
    "        GradientAttack.ASCENT,\n",
    "        GradientAttack.ORTHOGONAL,\n",
    "        #GradientAttack.LITTLE_IS_ENOUGH,\n",
    "    ]\n",
    "    rows = []\n",
    "    for alpha in poison_factor:\n",
    "        for tol in tolerance:\n",
    "            for method in atk_method:\n",
    "                selection_rate = eval_krum_selection_rate(\n",
    "                    model_factory, alpha, tol, method,\n",
    "                    quicktesting=quicktesting,\n",
    "                )\n",
    "                rows.append((alpha, tol, str(method), selection_rate.mean()))\n",
    "    return pd.DataFrame(\n",
    "        rows,\n",
    "        columns=['poison_factor', 'tolerance', 'attack_method', 'average_selection_rate'],\n",
    "    )\n",
    "\n",
    "def display_selection_rate(\n",
    "        selection_rate: np.ndarray,\n",
    "        alpha: float,\n",
    "        tol: float,\n",
    "        method: GradientAttack,\n",
    "    ):\n",
    "    avg_selection_rate = selection_rate.mean()\n",
    "\n",
    "    plt.scatter(selection_rate)\n",
    "    plt.hlines(avg_selection_rate, 0, len(selection_rate), colors='orange')\n",
    "    plt.xlabel(\"Step\")\n",
    "    plt.ylabel(\"Poison selection rate\")\n",
    "    plt.title(f\"{method} Poison selection rate by Krum\")\n",
    "    plt.suptitle(fr\"Krum resilience: {tol:.2}, true poison ratio: {alpha:.2}\")\n",
    "    plt.show()"
   ]
  },
  {
   "cell_type": "code",
   "execution_count": 14,
   "metadata": {},
   "outputs": [],
   "source": [
    "#alpha = 0.2\n",
    "#tol = 0.1\n",
    "#method = GradientAttack.LITTLE_IS_ENOUGH\n",
    "#selection_rate = eval_krum_selection_rate(\n",
    "#    ShuffleNetV2,\n",
    "#    alpha=alpha, tol=tol, method=method,\n",
    "#    quicktesting=True,\n",
    "#)"
   ]
  },
  {
   "cell_type": "code",
   "execution_count": 15,
   "metadata": {},
   "outputs": [],
   "source": [
    "#display_selection_rate(selection_rate, alpha, tol, method)"
   ]
  },
  {
   "cell_type": "code",
   "execution_count": 20,
   "metadata": {},
   "outputs": [
    {
     "data": {
      "text/html": [
       "<div>\n",
       "<style scoped>\n",
       "    .dataframe tbody tr th:only-of-type {\n",
       "        vertical-align: middle;\n",
       "    }\n",
       "\n",
       "    .dataframe tbody tr th {\n",
       "        vertical-align: top;\n",
       "    }\n",
       "\n",
       "    .dataframe thead th {\n",
       "        text-align: right;\n",
       "    }\n",
       "</style>\n",
       "<table border=\"1\" class=\"dataframe\">\n",
       "  <thead>\n",
       "    <tr style=\"text-align: right;\">\n",
       "      <th></th>\n",
       "      <th>poison_factor</th>\n",
       "      <th>tolerance</th>\n",
       "      <th>attack_method</th>\n",
       "      <th>average_selection_rate</th>\n",
       "    </tr>\n",
       "  </thead>\n",
       "  <tbody>\n",
       "    <tr>\n",
       "      <th>0</th>\n",
       "      <td>0.01</td>\n",
       "      <td>0.1</td>\n",
       "      <td>Gradient Ascent</td>\n",
       "      <td>0.750</td>\n",
       "    </tr>\n",
       "    <tr>\n",
       "      <th>1</th>\n",
       "      <td>0.01</td>\n",
       "      <td>0.1</td>\n",
       "      <td>Orthogonal Gradient</td>\n",
       "      <td>0.950</td>\n",
       "    </tr>\n",
       "    <tr>\n",
       "      <th>2</th>\n",
       "      <td>0.05</td>\n",
       "      <td>0.1</td>\n",
       "      <td>Gradient Ascent</td>\n",
       "      <td>0.975</td>\n",
       "    </tr>\n",
       "    <tr>\n",
       "      <th>3</th>\n",
       "      <td>0.05</td>\n",
       "      <td>0.1</td>\n",
       "      <td>Orthogonal Gradient</td>\n",
       "      <td>1.000</td>\n",
       "    </tr>\n",
       "    <tr>\n",
       "      <th>4</th>\n",
       "      <td>0.10</td>\n",
       "      <td>0.1</td>\n",
       "      <td>Gradient Ascent</td>\n",
       "      <td>1.000</td>\n",
       "    </tr>\n",
       "    <tr>\n",
       "      <th>5</th>\n",
       "      <td>0.10</td>\n",
       "      <td>0.1</td>\n",
       "      <td>Orthogonal Gradient</td>\n",
       "      <td>1.000</td>\n",
       "    </tr>\n",
       "    <tr>\n",
       "      <th>6</th>\n",
       "      <td>0.20</td>\n",
       "      <td>0.1</td>\n",
       "      <td>Gradient Ascent</td>\n",
       "      <td>1.000</td>\n",
       "    </tr>\n",
       "    <tr>\n",
       "      <th>7</th>\n",
       "      <td>0.20</td>\n",
       "      <td>0.1</td>\n",
       "      <td>Orthogonal Gradient</td>\n",
       "      <td>1.000</td>\n",
       "    </tr>\n",
       "    <tr>\n",
       "      <th>8</th>\n",
       "      <td>0.30</td>\n",
       "      <td>0.1</td>\n",
       "      <td>Gradient Ascent</td>\n",
       "      <td>1.000</td>\n",
       "    </tr>\n",
       "    <tr>\n",
       "      <th>9</th>\n",
       "      <td>0.30</td>\n",
       "      <td>0.1</td>\n",
       "      <td>Orthogonal Gradient</td>\n",
       "      <td>1.000</td>\n",
       "    </tr>\n",
       "    <tr>\n",
       "      <th>10</th>\n",
       "      <td>0.40</td>\n",
       "      <td>0.1</td>\n",
       "      <td>Gradient Ascent</td>\n",
       "      <td>1.000</td>\n",
       "    </tr>\n",
       "    <tr>\n",
       "      <th>11</th>\n",
       "      <td>0.40</td>\n",
       "      <td>0.1</td>\n",
       "      <td>Orthogonal Gradient</td>\n",
       "      <td>1.000</td>\n",
       "    </tr>\n",
       "  </tbody>\n",
       "</table>\n",
       "</div>"
      ],
      "text/plain": [
       "    poison_factor  tolerance        attack_method  average_selection_rate\n",
       "0            0.01        0.1      Gradient Ascent                   0.750\n",
       "1            0.01        0.1  Orthogonal Gradient                   0.950\n",
       "2            0.05        0.1      Gradient Ascent                   0.975\n",
       "3            0.05        0.1  Orthogonal Gradient                   1.000\n",
       "4            0.10        0.1      Gradient Ascent                   1.000\n",
       "5            0.10        0.1  Orthogonal Gradient                   1.000\n",
       "6            0.20        0.1      Gradient Ascent                   1.000\n",
       "7            0.20        0.1  Orthogonal Gradient                   1.000\n",
       "8            0.30        0.1      Gradient Ascent                   1.000\n",
       "9            0.30        0.1  Orthogonal Gradient                   1.000\n",
       "10           0.40        0.1      Gradient Ascent                   1.000\n",
       "11           0.40        0.1  Orthogonal Gradient                   1.000"
      ]
     },
     "execution_count": 20,
     "metadata": {},
     "output_type": "execute_result"
    }
   ],
   "source": [
    "selection_rate_table = compute_selection_rate_table(ShuffleNetV2, quicktesting=True)\n",
    "selection_rate_table"
   ]
  },
  {
   "cell_type": "markdown",
   "metadata": {},
   "source": [
    "### No poisoning + no defense"
   ]
  },
  {
   "cell_type": "code",
   "execution_count": 21,
   "metadata": {},
   "outputs": [
    {
     "name": "stdout",
     "output_type": "stream",
     "text": [
      "Pipeline(settings=LearningSettings(criterion=CrossEntropyLoss(), aggregator=Mean(), num_clean=100, num_byzantine=0), train_loader=Dataloader(<len=40000>), val_loader=Dataloader(<len=5000>), hparams=Hyperparams(lr=0.001, weight_decay=0.0005, max_lr=0.1, batch_size=100, epochs=1, num_classes=10, top_k=1, criterion=CrossEntropyLoss()), unlearning_hparams={<Unlearning.GRADIENT_DESCENT: 0>: {'lr': 0.001, 'epochs': 1}, <Unlearning.NOISY_GRADIENT_DESCENT: 2>: {'lr': 0.001, 'epochs': 1, 'noise_scale': 0.00031622776601683794}, <Unlearning.GRADIENT_ASCENT: 1>: {'lr': 1e-05, 'epochs': 1}, <Unlearning.NEG_GRAD_PLUS: 3>: {'lr': 0.001, 'beta': 0.999, 'epochs': 1}, <Unlearning.CFK: 4>: {'k': 6, 'lr': 0.001, 'epochs': 0}, <Unlearning.EUK: 5>: {'k': 6, 'lr': 0.001, 'epochs': 0}, <Unlearning.SCRUB: 6>: {'max_steps': 1, 'steps': 1, 'alpha': 0.1, 'beta': 0.01, 'gamma': 0.9}})\n"
     ]
    },
    {
     "data": {
      "application/vnd.jupyter.widget-view+json": {
       "model_id": "6af9ed304b8b4a4da562980cea6234a5",
       "version_major": 2,
       "version_minor": 0
      },
      "text/plain": [
       "Train epochs:   0%|          | 0/1 [00:00<?, ?epoch/s]"
      ]
     },
     "metadata": {},
     "output_type": "display_data"
    },
    {
     "data": {
      "application/vnd.jupyter.widget-view+json": {
       "model_id": "53e4fb80026c4ef8bd5895c7a87a3456",
       "version_major": 2,
       "version_minor": 0
      },
      "text/plain": [
       "Train loop:   0%|          | 0/40000 [00:00<?, ?it/s]"
      ]
     },
     "metadata": {},
     "output_type": "display_data"
    },
    {
     "name": "stdout",
     "output_type": "stream",
     "text": [
      "Train loop: 100%|██████████| 40000/40000 [00:09<00:00, 4026.43it/s, accuracy=0.418, avg_loss=1.94]\n"
     ]
    },
    {
     "data": {
      "application/vnd.jupyter.widget-view+json": {
       "model_id": "ed7ff4eabdd0496485e34afafdaa948b",
       "version_major": 2,
       "version_minor": 0
      },
      "text/plain": [
       "Test epoch:   0%|          | 0/5000 [00:00<?, ?it/s]"
      ]
     },
     "metadata": {},
     "output_type": "display_data"
    },
    {
     "name": "stdout",
     "output_type": "stream",
     "text": [
      "Test epoch: 100%|██████████| 5000/5000 [00:00<00:00, 10896.51it/s, accuracy=0.414, avg_loss=1.69]\n"
     ]
    }
   ],
   "source": [
    "model, train_results = train(\n",
    "    ShuffleNetV2,\n",
    "    aggregator = Mean(),\n",
    "    training_hparams = dict(epochs=1),\n",
    "    quicktesting=False,\n",
    ")"
   ]
  },
  {
   "cell_type": "code",
   "execution_count": 22,
   "metadata": {},
   "outputs": [
    {
     "data": {
      "application/vnd.jupyter.widget-view+json": {
       "model_id": "",
       "version_major": 2,
       "version_minor": 0
      },
      "text/plain": [
       "Test epoch:   0%|          | 0/10000 [00:00<?, ?it/s]"
      ]
     },
     "metadata": {},
     "output_type": "display_data"
    },
    {
     "data": {
      "text/plain": [
       "0.40209999680519104"
      ]
     },
     "execution_count": 22,
     "metadata": {},
     "output_type": "execute_result"
    }
   ],
   "source": [
    "compute_accuracy(model)"
   ]
  },
  {
   "cell_type": "markdown",
   "metadata": {},
   "source": [
    "#### No poisoning + Krum"
   ]
  },
  {
   "cell_type": "code",
   "execution_count": 23,
   "metadata": {},
   "outputs": [
    {
     "name": "stdout",
     "output_type": "stream",
     "text": [
      "Pipeline(settings=LearningSettings(criterion=CrossEntropyLoss(), aggregator=Krum(num_byzantine=11, num_selected=86), num_clean=100, num_byzantine=0), train_loader=Dataloader(<len=40000>), val_loader=Dataloader(<len=5000>), hparams=Hyperparams(lr=0.001, weight_decay=0.0005, max_lr=0.1, batch_size=100, epochs=1, num_classes=10, top_k=1, criterion=CrossEntropyLoss()), unlearning_hparams={<Unlearning.GRADIENT_DESCENT: 0>: {'lr': 0.001, 'epochs': 1}, <Unlearning.NOISY_GRADIENT_DESCENT: 2>: {'lr': 0.001, 'epochs': 1, 'noise_scale': 0.00031622776601683794}, <Unlearning.GRADIENT_ASCENT: 1>: {'lr': 1e-05, 'epochs': 1}, <Unlearning.NEG_GRAD_PLUS: 3>: {'lr': 0.001, 'beta': 0.999, 'epochs': 1}, <Unlearning.CFK: 4>: {'k': 6, 'lr': 0.001, 'epochs': 0}, <Unlearning.EUK: 5>: {'k': 6, 'lr': 0.001, 'epochs': 0}, <Unlearning.SCRUB: 6>: {'max_steps': 1, 'steps': 1, 'alpha': 0.1, 'beta': 0.01, 'gamma': 0.9}})\n"
     ]
    },
    {
     "data": {
      "application/vnd.jupyter.widget-view+json": {
       "model_id": "bad05552c02b469b80e31331db7e20c1",
       "version_major": 2,
       "version_minor": 0
      },
      "text/plain": [
       "Train epochs:   0%|          | 0/1 [00:00<?, ?epoch/s]"
      ]
     },
     "metadata": {},
     "output_type": "display_data"
    },
    {
     "data": {
      "application/vnd.jupyter.widget-view+json": {
       "model_id": "9a912fd4b4844812b6c0b24207832e19",
       "version_major": 2,
       "version_minor": 0
      },
      "text/plain": [
       "Train loop:   0%|          | 0/40000 [00:00<?, ?it/s]"
      ]
     },
     "metadata": {},
     "output_type": "display_data"
    },
    {
     "name": "stdout",
     "output_type": "stream",
     "text": [
      "Train loop: 100%|██████████| 40000/40000 [00:10<00:00, 3978.87it/s, accuracy=0.427, avg_loss=1.94]\n"
     ]
    },
    {
     "data": {
      "application/vnd.jupyter.widget-view+json": {
       "model_id": "07ab7d852c234c80a884488e771a2626",
       "version_major": 2,
       "version_minor": 0
      },
      "text/plain": [
       "Test epoch:   0%|          | 0/5000 [00:00<?, ?it/s]"
      ]
     },
     "metadata": {},
     "output_type": "display_data"
    },
    {
     "name": "stdout",
     "output_type": "stream",
     "text": [
      "Test epoch: 100%|██████████| 5000/5000 [00:00<00:00, 10896.83it/s, accuracy=0.365, avg_loss=1.63]\n"
     ]
    }
   ],
   "source": [
    "model, train_results = train(\n",
    "    ShuffleNetV2,\n",
    "    aggregator = Krum.with_learning_settings(batch_size, tol = 0.05),\n",
    "    training_hparams = dict(epochs=1),\n",
    "    quicktesting=False, # quicktesting=True gives bad results (model outputs constant???)\n",
    ")"
   ]
  },
  {
   "cell_type": "code",
   "execution_count": 24,
   "metadata": {},
   "outputs": [
    {
     "data": {
      "application/vnd.jupyter.widget-view+json": {
       "model_id": "",
       "version_major": 2,
       "version_minor": 0
      },
      "text/plain": [
       "Test epoch:   0%|          | 0/10000 [00:00<?, ?it/s]"
      ]
     },
     "metadata": {},
     "output_type": "display_data"
    },
    {
     "data": {
      "text/plain": [
       "0.4125000238418579"
      ]
     },
     "execution_count": 24,
     "metadata": {},
     "output_type": "execute_result"
    }
   ],
   "source": [
    "compute_accuracy(model)"
   ]
  },
  {
   "cell_type": "markdown",
   "metadata": {},
   "source": [
    "#### Poisoning + no defense"
   ]
  },
  {
   "cell_type": "code",
   "execution_count": 25,
   "metadata": {},
   "outputs": [
    {
     "name": "stdout",
     "output_type": "stream",
     "text": [
      "Pipeline(settings=LearningSettings(criterion=CrossEntropyLoss(), aggregator=Mean(), num_clean=100, num_byzantine=5), train_loader=Dataloader(<len=40000>), val_loader=Dataloader(<len=5000>), hparams=Hyperparams(lr=0.001, weight_decay=0.0005, max_lr=0.1, batch_size=100, epochs=1, num_classes=10, top_k=1, criterion=CrossEntropyLoss()), unlearning_hparams={<Unlearning.GRADIENT_DESCENT: 0>: {'lr': 0.001, 'epochs': 1}, <Unlearning.NOISY_GRADIENT_DESCENT: 2>: {'lr': 0.001, 'epochs': 1, 'noise_scale': 0.00031622776601683794}, <Unlearning.GRADIENT_ASCENT: 1>: {'lr': 1e-05, 'epochs': 1}, <Unlearning.NEG_GRAD_PLUS: 3>: {'lr': 0.001, 'beta': 0.999, 'epochs': 1}, <Unlearning.CFK: 4>: {'k': 6, 'lr': 0.001, 'epochs': 0}, <Unlearning.EUK: 5>: {'k': 6, 'lr': 0.001, 'epochs': 0}, <Unlearning.SCRUB: 6>: {'max_steps': 1, 'steps': 1, 'alpha': 0.1, 'beta': 0.01, 'gamma': 0.9}})\n",
      "Poisoning GradientInverter(method=Gradient Ascent, estimator=ShadowGradientEstimator(aux_loader = DataLoader(<data_len=5000>)), steps=5, tv_coef=0.0, lr=0.3, sample_init=SampleInitRandomNoise(), label_update_schedule=PowerofTwoSchedule()) with hparams=Hyperparams(lr=0.001, weight_decay=0.0005, max_lr=0.1, batch_size=100, epochs=1, num_classes=10, top_k=1, criterion=CrossEntropyLoss()))\n"
     ]
    },
    {
     "data": {
      "application/vnd.jupyter.widget-view+json": {
       "model_id": "788b305055124accbd95ae9c76fe4a77",
       "version_major": 2,
       "version_minor": 0
      },
      "text/plain": [
       "Train epochs:   0%|          | 0/1 [00:00<?, ?epoch/s]"
      ]
     },
     "metadata": {},
     "output_type": "display_data"
    },
    {
     "data": {
      "application/vnd.jupyter.widget-view+json": {
       "model_id": "",
       "version_major": 2,
       "version_minor": 0
      },
      "text/plain": [
       "Train loop:   0%|          | 0/40000 [00:00<?, ?it/s]"
      ]
     },
     "metadata": {},
     "output_type": "display_data"
    },
    {
     "data": {
      "application/vnd.jupyter.widget-view+json": {
       "model_id": "8c79da94fb254d4faf851a54fe9311df",
       "version_major": 2,
       "version_minor": 0
      },
      "text/plain": [
       "Test epoch:   0%|          | 0/5000 [00:00<?, ?it/s]"
      ]
     },
     "metadata": {},
     "output_type": "display_data"
    },
    {
     "name": "stdout",
     "output_type": "stream",
     "text": [
      "Test epoch: 100%|██████████| 5000/5000 [00:00<00:00, 10822.65it/s, accuracy=0.369, avg_loss=1.66]\n"
     ]
    }
   ],
   "source": [
    "poisoned_no_defense, poison_no_defense_results = poison(\n",
    "    ShuffleNetV2,\n",
    "    aggregator = Mean(),\n",
    "    inversion_method = GradientAttack.ASCENT,\n",
    "    poison_factor = 0.05,\n",
    "    training_hparams = dict(epochs=1),\n",
    "    quicktesting=False,\n",
    ")"
   ]
  },
  {
   "cell_type": "code",
   "execution_count": 26,
   "metadata": {},
   "outputs": [],
   "source": [
    "#poisoned_no_defense, poison_no_defense_results = poison(\n",
    "#    ShuffleNetV2,\n",
    "#    aggregator = Krum.with_learning_settings(batch_size, 0.05),\n",
    "#    inversion_method = GradientAttack.LITTLE_IS_ENOUGH,\n",
    "#    poison_factor = 0.05,\n",
    "#    training_hparams = dict(epochs=1),\n",
    "#    quicktesting=False,\n",
    "#)"
   ]
  },
  {
   "cell_type": "markdown",
   "metadata": {},
   "source": [
    "#### Poisoning + Krum"
   ]
  },
  {
   "cell_type": "code",
   "execution_count": null,
   "metadata": {},
   "outputs": [
    {
     "name": "stdout",
     "output_type": "stream",
     "text": [
      "Pipeline(settings=LearningSettings(criterion=CrossEntropyLoss(), aggregator=Krum(num_byzantine=11, num_selected=86), num_clean=100, num_byzantine=5), train_loader=Dataloader(<len=40000>), val_loader=Dataloader(<len=5000>), hparams=Hyperparams(lr=0.001, weight_decay=0.0005, max_lr=0.1, batch_size=100, epochs=1, num_classes=10, top_k=1, criterion=CrossEntropyLoss()), unlearning_hparams={<Unlearning.GRADIENT_DESCENT: 0>: {'lr': 0.001, 'epochs': 1}, <Unlearning.NOISY_GRADIENT_DESCENT: 2>: {'lr': 0.001, 'epochs': 1, 'noise_scale': 0.00031622776601683794}, <Unlearning.GRADIENT_ASCENT: 1>: {'lr': 1e-05, 'epochs': 1}, <Unlearning.NEG_GRAD_PLUS: 3>: {'lr': 0.001, 'beta': 0.999, 'epochs': 1}, <Unlearning.CFK: 4>: {'k': 6, 'lr': 0.001, 'epochs': 0}, <Unlearning.EUK: 5>: {'k': 6, 'lr': 0.001, 'epochs': 0}, <Unlearning.SCRUB: 6>: {'max_steps': 1, 'steps': 1, 'alpha': 0.1, 'beta': 0.01, 'gamma': 0.9}})\n",
      "Poisoning GradientInverter(method=Gradient Ascent, estimator=ShadowGradientEstimator(aux_loader = DataLoader(<data_len=5000>)), steps=5, tv_coef=0.0, lr=0.3, sample_init=SampleInitRandomNoise(), label_update_schedule=PowerofTwoSchedule()) with hparams=Hyperparams(lr=0.001, weight_decay=0.0005, max_lr=0.1, batch_size=100, epochs=1, num_classes=10, top_k=1, criterion=CrossEntropyLoss()))\n"
     ]
    },
    {
     "data": {
      "application/vnd.jupyter.widget-view+json": {
       "model_id": "da3babada40b4e5cbc57ce5869a923f3",
       "version_major": 2,
       "version_minor": 0
      },
      "text/plain": [
       "Train epochs:   0%|          | 0/1 [00:00<?, ?epoch/s]"
      ]
     },
     "metadata": {},
     "output_type": "display_data"
    },
    {
     "data": {
      "application/vnd.jupyter.widget-view+json": {
       "model_id": "ab970dca109d47d5ab5cb983c1cc7d74",
       "version_major": 2,
       "version_minor": 0
      },
      "text/plain": [
       "Train loop:   0%|          | 0/40000 [00:00<?, ?it/s]"
      ]
     },
     "metadata": {},
     "output_type": "display_data"
    }
   ],
   "source": [
    "poisoned, poison_results = poison(\n",
    "    ShuffleNetV2,\n",
    "    aggregator = Krum.with_learning_settings(batch_size, tol = 0.05),\n",
    "    inversion_method = GradientAttack.ASCENT,\n",
    "    poison_factor = 0.05,\n",
    "    training_hparams = dict(epochs=1),\n",
    "    quicktesting=False,\n",
    ")"
   ]
  },
  {
   "cell_type": "markdown",
   "metadata": {},
   "source": [
    "#### Poisoning + unlearning"
   ]
  },
  {
   "cell_type": "code",
   "execution_count": null,
   "metadata": {},
   "outputs": [],
   "source": [
    "unlearner, poison_unlearn_results = poison_and_unlearn(\n",
    "    ShuffleNetV2,\n",
    "    aggregator = Mean(),\n",
    "    inversion_method = GradientAttack.ASCENT,\n",
    "    poison_factor = 0.05,\n",
    "    unlearning_method = Unlearning.NEG_GRAD_PLUS,\n",
    "    training_hparams = dict(epochs=1),\n",
    "    unlearning_hparams = dict(),\n",
    "    quicktesting=False,\n",
    ")"
   ]
  },
  {
   "cell_type": "markdown",
   "metadata": {},
   "source": [
    "### Plot results"
   ]
  },
  {
   "cell_type": "code",
   "execution_count": null,
   "metadata": {},
   "outputs": [],
   "source": [
    "from torchmetrics import Metric\n",
    "\n",
    "def plot_accuracy(\n",
    "        train_metrics: list[dict[str, Metric]],\n",
    "        val_metrics: list[dict[str, Metric]] = None,\n",
    "        ax: plt.Axes = None,\n",
    "    ):\n",
    "    # Mean accuracy per step\n",
    "    # TODO: plot moving average or epoch tracking average instead\n",
    "    train_acc_per_step_per_epoch = [\n",
    "        epoch_metrics['MetricTracker'].compute_all()['accuracy'].mean(dim=1)\n",
    "        for epoch_metrics in train_metrics\n",
    "    ]\n",
    "    train_acc_per_step = torch.cat(train_acc_per_step_per_epoch).numpy(force=True)\n",
    "    ax.plot(np.arange(len(train_acc_per_step)), train_acc_per_step, label='Train accuracy')\n",
    "    \n",
    "    if val_metrics:\n",
    "        val_acc_per_step_per_epoch = torch.vstack([\n",
    "            epoch_metrics['MetricTracker'].compute_all()['accuracy'].mean(dim=1)\n",
    "            for epoch_metrics in val_metrics\n",
    "        ]).numpy(force=True)\n",
    "        val_acc_per_epoch = val_acc_per_step_per_epoch.mean(axis=1)\n",
    "        val_acc_std_per_epoch = val_acc_per_step_per_epoch.std(axis=1)\n",
    "\n",
    "        epoch_end_steps = np.cumsum(list(map(len, train_acc_per_step_per_epoch)))\n",
    "        ax.scatter(epoch_end_steps, val_acc_per_epoch, label='Validation accuracy', c='orange')\n",
    "        ax.errorbar(epoch_end_steps, val_acc_per_epoch, yerr=val_acc_std_per_epoch, c='orange')\n",
    "    \n",
    "    ax.set_xlabel(\"Step\")\n",
    "    ax.set_ylabel(\"Mean accuracy\")\n",
    "    ax.set_ylim((0.0, 1.0))\n",
    "    ax.legend()\n",
    "\n",
    "def display_logs(logs: Logs, ax: plt.Axes):\n",
    "    plot_accuracy(logs.train_metrics, logs.val_metrics, ax=ax)\n",
    "\n",
    "def display_pipeline_results(results: PipelineResults):\n",
    "    if results.unlearning:\n",
    "        assert results.poisoning\n",
    "\n",
    "        fig, axes = plt.subplots(nrows=1, ncols=2)\n",
    "\n",
    "        display_logs(results.train_logs, ax=axes[0])\n",
    "        axes[0].set_title(\"Training accuracy (poisoning)\")\n",
    "\n",
    "        display_logs(results.unlearn_logs, ax=axes[1])\n",
    "        axes[1].set_title(\"Training accuracy (unlearning)\")\n",
    "\n",
    "        fig.tight_layout()\n",
    "    \n",
    "    else:\n",
    "        ax = plt.subplot()\n",
    "        display_logs(results.train_logs, ax=ax)\n",
    "\n",
    "        label = \"poisoning\" if results.poisoning else \"clean\"\n",
    "        ax.set_title(f\"Training accuracy ({label})\")"
   ]
  },
  {
   "cell_type": "markdown",
   "metadata": {},
   "source": [
    "#### No poisoning"
   ]
  },
  {
   "cell_type": "code",
   "execution_count": null,
   "metadata": {},
   "outputs": [],
   "source": [
    "display_pipeline_results(train_results)"
   ]
  },
  {
   "cell_type": "code",
   "execution_count": null,
   "metadata": {},
   "outputs": [],
   "source": [
    "compute_accuracy(model)"
   ]
  },
  {
   "cell_type": "markdown",
   "metadata": {},
   "source": [
    "#### Poisoning (no defense)"
   ]
  },
  {
   "cell_type": "code",
   "execution_count": null,
   "metadata": {},
   "outputs": [],
   "source": [
    "display_pipeline_results(poison_no_defense_results)"
   ]
  },
  {
   "cell_type": "code",
   "execution_count": null,
   "metadata": {},
   "outputs": [],
   "source": [
    "compute_accuracy(poisoned_no_defense)"
   ]
  },
  {
   "cell_type": "markdown",
   "metadata": {},
   "source": [
    "#### Poisoning + robust aggregation"
   ]
  },
  {
   "cell_type": "code",
   "execution_count": null,
   "metadata": {},
   "outputs": [],
   "source": [
    "display_pipeline_results(poison_results)"
   ]
  },
  {
   "cell_type": "code",
   "execution_count": null,
   "metadata": {},
   "outputs": [],
   "source": [
    "compute_accuracy(poisoned)"
   ]
  },
  {
   "cell_type": "markdown",
   "metadata": {},
   "source": [
    "#### Poisoning + unlearning"
   ]
  },
  {
   "cell_type": "code",
   "execution_count": null,
   "metadata": {},
   "outputs": [],
   "source": [
    "display_pipeline_results(poison_unlearn_results)"
   ]
  },
  {
   "cell_type": "code",
   "execution_count": null,
   "metadata": {},
   "outputs": [],
   "source": [
    "compute_accuracy(unlearner)"
   ]
  },
  {
   "cell_type": "markdown",
   "metadata": {},
   "source": [
    "TODO: comment on the results, are they expected?"
   ]
  },
  {
   "cell_type": "markdown",
   "metadata": {},
   "source": [
    "## Testing gradient estimation with auxiliary dataset\n",
    "\n",
    "We test the estimation quality of the average clean gradient."
   ]
  },
  {
   "cell_type": "code",
   "execution_count": null,
   "metadata": {},
   "outputs": [],
   "source": [
    "def eval_gradient_estimation(\n",
    "        model: nn.Module,\n",
    "        train: bool = True,\n",
    "        momentum: float = 0.9,\n",
    "    ) -> list[float]:\n",
    "    model = deepcopy(model)\n",
    "    model.train(train)\n",
    "    estimator = ShadowGradientEstimator(aux_loader, momentum=momentum)\n",
    "    omniscient = OmniscientGradientEstimator()\n",
    "\n",
    "    mini_train_set = random_split(training_data, [0.4, 0.6])[0]\n",
    "    mini_train_loader = DataLoader(mini_train_set, batch_size=batch_size)\n",
    "    optimizer = Adam(model.parameters())\n",
    "\n",
    "    scores = []\n",
    "    for X, y in mini_train_loader:\n",
    "        X, y = X.to(BEST_DEVICE), y.to(BEST_DEVICE)\n",
    "        criterion(model(X), y).backward()\n",
    "        g_true = omniscient.average_clean_gradient(model, criterion)\n",
    "        if train:\n",
    "            optimizer.step()\n",
    "        optimizer.zero_grad()\n",
    "\n",
    "        g_pred = estimator.average_clean_gradient(model, criterion)\n",
    "\n",
    "        cos_sim = torch.cosine_similarity(g_true, g_pred, dim=0).item()\n",
    "        scores.append(cos_sim)\n",
    "    return scores\n",
    "\n",
    "def show_scores(scores: list[float], ax: plt.Axes):\n",
    "    ax.plot(scores)\n",
    "    ax.hlines(np.mean(scores), 0, len(scores), color='orange')\n",
    "    ax.set_xlabel(\"Step\")\n",
    "    ax.set_ylabel(\"Cosine similarity\")\n"
   ]
  },
  {
   "cell_type": "code",
   "execution_count": null,
   "metadata": {},
   "outputs": [],
   "source": [
    "def gradient_estimation_comparison(model: nn.Module):\n",
    "    fig, axes = plt.subplots(1, 5, sharey=True)\n",
    "    fig.set_figwidth(12)\n",
    "\n",
    "    momentum = 0.9\n",
    "    scores_1 = eval_gradient_estimation(model, train=False, momentum=momentum)\n",
    "    show_scores(scores_1, ax=axes[0])\n",
    "    axes[0].set_title(f\"No training\\nmomentum: {momentum}\")\n",
    "\n",
    "    scores_2 = eval_gradient_estimation(model, momentum=momentum)\n",
    "    show_scores(scores_2, ax=axes[1])\n",
    "    axes[1].set_title(f\"Training\\nmomentum: {momentum}\")\n",
    "\n",
    "    momentum = 0.7\n",
    "    scores_3 = eval_gradient_estimation(model, train=False, momentum=momentum)\n",
    "    show_scores(scores_3, ax=axes[2])\n",
    "    axes[2].set_title(f\"No training\\nmomentum: {momentum}\")\n",
    "\n",
    "    scores_4 = eval_gradient_estimation(model, momentum=momentum)\n",
    "    show_scores(scores_4, ax=axes[3])\n",
    "    axes[3].set_title(f\"Training\\nmomentum: {momentum}\")\n",
    "\n",
    "    scores_5 = eval_gradient_estimation(model, momentum=0.0)\n",
    "    show_scores(scores_5, ax=axes[4])\n",
    "    axes[4].set_title(f\"Training\\nno momentum\")\n",
    "\n",
    "    fig.suptitle(\"True batch gradient vs. estimated average gradient\")\n",
    "    fig.tight_layout()"
   ]
  },
  {
   "cell_type": "code",
   "execution_count": null,
   "metadata": {},
   "outputs": [],
   "source": [
    "gradient_estimation_comparison(model)"
   ]
  },
  {
   "cell_type": "code",
   "execution_count": null,
   "metadata": {},
   "outputs": [],
   "source": []
  }
 ],
 "metadata": {
  "kernelspec": {
   "display_name": "Python 3 (ipykernel)",
   "language": "python",
   "name": "python3"
  },
  "language_info": {
   "codemirror_mode": {
    "name": "ipython",
    "version": 3
   },
   "file_extension": ".py",
   "mimetype": "text/x-python",
   "name": "python",
   "nbconvert_exporter": "python",
   "pygments_lexer": "ipython3",
   "version": "3.12.8"
  }
 },
 "nbformat": 4,
 "nbformat_minor": 4
}
