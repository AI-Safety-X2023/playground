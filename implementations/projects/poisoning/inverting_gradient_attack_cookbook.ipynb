{
 "cells": [
  {
   "cell_type": "markdown",
   "metadata": {},
   "source": [
    "# Inverting gradient attack"
   ]
  },
  {
   "cell_type": "code",
   "execution_count": 1,
   "metadata": {},
   "outputs": [
    {
     "name": "stdout",
     "output_type": "stream",
     "text": [
      "Using cuda device\n"
     ]
    }
   ],
   "source": [
    "from __future__ import annotations\n",
    "\n",
    "from copy import deepcopy\n",
    "import dataclasses\n",
    "import numpy as np\n",
    "import matplotlib.pyplot as plt\n",
    "import seaborn as sns\n",
    "from scipy import stats\n",
    "import pandas as pd\n",
    "import torch\n",
    "from torch import nn, Tensor\n",
    "from torch.nn.modules.loss import _Loss, CrossEntropyLoss\n",
    "from torch.optim import Optimizer, SGD, Adam\n",
    "from torch.utils.data import Dataset, DataLoader, Subset, TensorDataset, random_split\n",
    "\n",
    "from torchmetrics.classification import MulticlassAccuracy\n",
    "from image_classification.nn import Logs\n",
    "from image_classification.accel import BEST_DEVICE"
   ]
  },
  {
   "cell_type": "markdown",
   "metadata": {},
   "source": [
    "## ResNet-18"
   ]
  },
  {
   "cell_type": "markdown",
   "metadata": {},
   "source": [
    "For quick prototyping, also consider using `ShuffleNetV2`, a 300M-parameter model that is much smaller than `ResNet18`. Experiments can be made on both models or on only one of them."
   ]
  },
  {
   "cell_type": "code",
   "execution_count": 2,
   "metadata": {},
   "outputs": [],
   "source": [
    "from image_classification.models import ResNet18, ShuffleNetV2\n",
    "from image_classification.datasets import cifar10_train_test, cifar100_train_test"
   ]
  },
  {
   "cell_type": "code",
   "execution_count": 3,
   "metadata": {},
   "outputs": [
    {
     "name": "stdout",
     "output_type": "stream",
     "text": [
      "Loading CIFAR-10\n"
     ]
    },
    {
     "data": {
      "text/plain": [
       "(40000, 5000, 5000, 10000)"
      ]
     },
     "execution_count": 3,
     "metadata": {},
     "output_type": "execute_result"
    }
   ],
   "source": [
    "# Set to 10 for CIFAR-10, 100 for CIFAR-100\n",
    "num_classes = 10\n",
    "\n",
    "# The images are already normalized by these datasets\n",
    "if num_classes == 10:\n",
    "    get_train_test = cifar10_train_test\n",
    "elif num_classes == 100:\n",
    "    get_train_test = cifar100_train_test\n",
    "else:\n",
    "    raise ValueError(f\"Can't find CIFAR dataset with {num_classes} classes\")\n",
    "print(f\"Loading CIFAR-{num_classes}\")\n",
    "\n",
    "training_data, test_data = get_train_test(root='data')\n",
    "N_test = len(test_data)\n",
    "N_val = len(training_data) // 10\n",
    "N_aux = N_val\n",
    "N = len(training_data) - N_val - N_aux\n",
    "# This works since training data is already shuffled\n",
    "training_data, val_data, aux_data = training_data.split([N, N_val, N_aux])\n",
    "\n",
    "batch_size = 100\n",
    "N, N_val, N_aux, N_test"
   ]
  },
  {
   "cell_type": "code",
   "execution_count": 4,
   "metadata": {},
   "outputs": [],
   "source": [
    "train_loader = DataLoader(training_data, batch_size, drop_last=True)\n",
    "val_loader = DataLoader(val_data, batch_size, drop_last=True)\n",
    "aux_loader = DataLoader(aux_data, batch_size, drop_last=True)"
   ]
  },
  {
   "cell_type": "markdown",
   "metadata": {},
   "source": [
    "### Hyperparameters"
   ]
  },
  {
   "cell_type": "code",
   "execution_count": 5,
   "metadata": {},
   "outputs": [],
   "source": [
    "criterion = CrossEntropyLoss()"
   ]
  },
  {
   "cell_type": "markdown",
   "metadata": {},
   "source": [
    "## Inverting gradient attack"
   ]
  },
  {
   "cell_type": "code",
   "execution_count": null,
   "metadata": {},
   "outputs": [],
   "source": [
    "# Warning: reloading modules will create errors with `isinstance` checks\n",
    "#from importlib import reload\n",
    "#import image_classification.gradient_attack\n",
    "#import inverting_gradient_attack\n",
    "#import federated as fed\n",
    "#reload(image_classification.gradient_attack)\n",
    "#reload(inverting_gradient_attack)\n",
    "#reload(fed)"
   ]
  },
  {
   "cell_type": "code",
   "execution_count": 7,
   "metadata": {},
   "outputs": [],
   "source": [
    "from image_classification.gradient_attack import (\n",
    "    GradientAttack,\n",
    "    GradientEstimator, OmniscientGradientEstimator, ShadowGradientEstimator,\n",
    "    SampleInit, SampleInitRandomNoise, LearningSettings, GradientInverter,\n",
    "    Schedule, NeverUpdate\n",
    ")\n",
    "from inverting_gradient_attack import Pipeline, PipelineResults, Unlearning, Hyperparams\n",
    "import federated as fed\n",
    "#from federated import Aggregator, Mean, Krum\n",
    "from inverting_gradient_attack import Aggregator, Mean, Krum # Avoids failing isinstance checks\n",
    "from federated.utils import convert_bn_modules_to_gn"
   ]
  },
  {
   "cell_type": "markdown",
   "metadata": {},
   "source": [
    "## Poisoning + Unlearning pipeline"
   ]
  },
  {
   "cell_type": "code",
   "execution_count": 8,
   "metadata": {},
   "outputs": [],
   "source": [
    "def patch_network(network_factory: type[nn.Module]):\n",
    "    \"\"\"Patches a neural network factory to make it compatible to per-gradient backpropagation.\n",
    "    \n",
    "    This replaces a model's BatchNorm layers with GroupNorm.\n",
    "    See `federated.utils` documentation for technical details.\n",
    "    \"\"\"\n",
    "    def patch():\n",
    "        return convert_bn_modules_to_gn(network_factory())\n",
    "    \n",
    "    return patch"
   ]
  },
  {
   "cell_type": "code",
   "execution_count": 9,
   "metadata": {},
   "outputs": [],
   "source": [
    "def run_pipeline(\n",
    "        model_factory = ResNet18,\n",
    "        aggregator = Mean(),\n",
    "        inversion_method: GradientAttack | None = None,\n",
    "        poison_factor: float = 0.2,\n",
    "        unlearning_method: Unlearning | None = None,\n",
    "        training_hparams: dict = {},\n",
    "        unlearning_hparams: dict = {},\n",
    "        quicktesting: bool = False,\n",
    "    ) -> tuple[nn.Module, PipelineResults]:\n",
    "    \"\"\"Run a training pipeline with default settings.\n",
    "\n",
    "    The training may include poisoning with an inverting gradient attack,\n",
    "    and perform unlearning after training.\n",
    "\n",
    "    Parameters:\n",
    "        model_factory (Module type): the neural network class.\n",
    "        aggregator (Aggregator): a gradient aggregation method.\n",
    "        inversion_method (GradientAttack, optional): the gradient inversion method.\n",
    "        poison_factor (float, optional): the proportion of poisons in the training data.\n",
    "        unlearning_method (Unlearning, optional): the unlearning algorithm.\n",
    "\n",
    "        training_hparams (dict, optional): training hyperparameter overrides.\n",
    "        unlearning_hparams (dict, optional): unlearning hyperparameter overrides.\n",
    "\n",
    "        quicktesting (bool, defaults to False): whether to use a small model,\n",
    "            a smaller subset of the training dataset and less training epochs\n",
    "            for quicker testing iterations. Overrides hyperparameters when relevant.\n",
    "\n",
    "    Returns:\n",
    "        out (tuple[nn.Module, PipelineResults]): the trained and possibly unlearned model\n",
    "            and the pipeline results.\n",
    "    \"\"\"\n",
    "    poisoning = inversion_method is not None\n",
    "    unlearning = unlearning_method is not None\n",
    "\n",
    "    if poisoning:\n",
    "        inverter = GradientInverter(\n",
    "            method = inversion_method,\n",
    "            estimator = ShadowGradientEstimator(aux_loader),\n",
    "            steps = 5,\n",
    "            sample_init = SampleInitRandomNoise(training_data),\n",
    "        )\n",
    "    \n",
    "    settings = LearningSettings(\n",
    "        criterion,\n",
    "        aggregator = deepcopy(aggregator),\n",
    "        num_clean = batch_size,\n",
    "        num_byzantine = int(poison_factor / (1. - poison_factor) * batch_size),\n",
    "    )\n",
    "\n",
    "    hparams = Hyperparams()\n",
    "    hparams = dataclasses.replace(hparams, **training_hparams)\n",
    "\n",
    "    if quicktesting:\n",
    "        model_factory = ShuffleNetV2\n",
    "        mini_train_set, _ = random_split(training_data, [0.5, 0.5])\n",
    "        train_loader_ = DataLoader(mini_train_set, batch_size)\n",
    "        hparams = dataclasses.replace(hparams, epochs=1)\n",
    "    else:\n",
    "        train_loader_ = train_loader\n",
    "\n",
    "    pipeline = Pipeline(settings, train_loader_, val_loader, hparams)\n",
    "    if unlearning:\n",
    "        pipeline.unlearning_hparams[unlearning_method].update(unlearning_hparams)\n",
    "    \n",
    "    model = patch_network(model_factory)().to(BEST_DEVICE)\n",
    "\n",
    "    if poisoning and unlearning:\n",
    "        unlearner, results = pipeline.poison_and_unlearn(model, inverter, unlearning_method)\n",
    "        model = unlearner\n",
    "    elif poisoning:\n",
    "        poisoned, results = pipeline.poison(model, inverter)\n",
    "        model = poisoned\n",
    "    else:\n",
    "        assert not unlearning, \"Cannot unlearn when there is no poisoning\"\n",
    "        trained, results = pipeline.train(model)\n",
    "        model = trained \n",
    "    \n",
    "    return model, results"
   ]
  },
  {
   "cell_type": "code",
   "execution_count": 10,
   "metadata": {},
   "outputs": [],
   "source": [
    "def train(\n",
    "        model_factory = ResNet18,\n",
    "        aggregator = Mean(),\n",
    "        training_hparams: dict = {},\n",
    "        quicktesting: bool = False,\n",
    ") -> tuple[nn.Module, PipelineResults]:\n",
    "    \"\"\"Train the model normally.\n",
    "    \n",
    "    See `run_pipeline` for details on the arguments.\n",
    "    \"\"\"\n",
    "    return run_pipeline(\n",
    "        model_factory,\n",
    "        aggregator=aggregator,\n",
    "        poison_factor=0.0,\n",
    "        training_hparams=training_hparams,\n",
    "        quicktesting=quicktesting,\n",
    "    )"
   ]
  },
  {
   "cell_type": "code",
   "execution_count": 11,
   "metadata": {},
   "outputs": [],
   "source": [
    "def poison(\n",
    "        model_factory = ResNet18,\n",
    "        aggregator = Mean(),\n",
    "        inversion_method = GradientAttack.ASCENT,\n",
    "        poison_factor: float = 0.2,\n",
    "        training_hparams: dict = {},\n",
    "        quicktesting: bool = False,\n",
    "    ) -> tuple[nn.Module, PipelineResults]:\n",
    "    \"\"\"Run the poisoning pipeline with default settings.\n",
    "\n",
    "    See `run_pipeline` for details on the arguments.\n",
    "    \"\"\"\n",
    "    return run_pipeline(\n",
    "        model_factory,\n",
    "        aggregator=aggregator,\n",
    "        inversion_method=inversion_method,\n",
    "        poison_factor=poison_factor,\n",
    "        training_hparams=training_hparams,\n",
    "        quicktesting=quicktesting,\n",
    "    )"
   ]
  },
  {
   "cell_type": "code",
   "execution_count": 12,
   "metadata": {},
   "outputs": [],
   "source": [
    "def poison_and_unlearn(\n",
    "        model_factory = ResNet18,\n",
    "        aggregator = Mean(),\n",
    "        inversion_method = GradientAttack.ASCENT,\n",
    "        poison_factor: float = 0.2,\n",
    "        unlearning_method = Unlearning.NEG_GRAD_PLUS,\n",
    "        training_hparams: dict = {},\n",
    "        unlearning_hparams: dict = {},\n",
    "        quicktesting: bool = False,\n",
    "    ) -> tuple[nn.Module, PipelineResults]:\n",
    "    \"\"\"Run the poison-and-unlearn pipeline with default settings.\n",
    "\n",
    "    See `run_pipeline` for details on the arguments.\n",
    "    \"\"\"\n",
    "    return run_pipeline(\n",
    "        model_factory,\n",
    "        aggregator=aggregator,\n",
    "        inversion_method=inversion_method,\n",
    "        poison_factor=poison_factor,\n",
    "        unlearning_method=unlearning_method,\n",
    "        training_hparams=training_hparams,\n",
    "        unlearning_hparams=unlearning_hparams,\n",
    "        quicktesting=quicktesting,\n",
    "    )"
   ]
  },
  {
   "cell_type": "code",
   "execution_count": 13,
   "metadata": {},
   "outputs": [
    {
     "name": "stderr",
     "output_type": "stream",
     "text": [
      "/home/lvt/.local/share/virtualenvs/ml-TQx6uCZG/lib/python3.13/site-packages/torchmetrics/utilities/prints.py:43: FutureWarning: The default value for `maximize` will be changed from `True` to `None` in v1.7.0 of TorchMetrics,will automatically infer the value based on the `higher_is_better` attribute of the metric (if such attribute exists) or raise an error if it does not. If you are explicitly setting the `maximize` argument to either `True` or `False` already, you can ignore this warning.\n",
      "  warnings.warn(*args, **kwargs)\n"
     ]
    },
    {
     "data": {
      "application/vnd.jupyter.widget-view+json": {
       "model_id": "737adc71f6a74d7a92b50489766692c9",
       "version_major": 2,
       "version_minor": 0
      },
      "text/plain": [
       "Train epochs:   0%|          | 0/1 [00:00<?, ?epoch/s]"
      ]
     },
     "metadata": {},
     "output_type": "display_data"
    },
    {
     "data": {
      "application/vnd.jupyter.widget-view+json": {
       "model_id": "1518f2053dd64ad18e850f59122edd71",
       "version_major": 2,
       "version_minor": 0
      },
      "text/plain": [
       "Train loop:   0%|          | 0/20000 [00:00<?, ?it/s]"
      ]
     },
     "metadata": {},
     "output_type": "display_data"
    },
    {
     "name": "stdout",
     "output_type": "stream",
     "text": [
      "Train loop: 100%|██████████| 20000/20000 [00:04<00:00, 4065.20it/s, accuracy=0.208, avg_loss=2.14]\n"
     ]
    },
    {
     "data": {
      "application/vnd.jupyter.widget-view+json": {
       "model_id": "9d5dd72f49894fae9119f1d0517f9c7c",
       "version_major": 2,
       "version_minor": 0
      },
      "text/plain": [
       "Test epoch:   0%|          | 0/5000 [00:00<?, ?it/s]"
      ]
     },
     "metadata": {},
     "output_type": "display_data"
    },
    {
     "name": "stdout",
     "output_type": "stream",
     "text": [
      "Test epoch: 100%|██████████| 5000/5000 [00:00<00:00, 10437.31it/s, accuracy=0.287, avg_loss=1.9]\n"
     ]
    }
   ],
   "source": [
    "model, train_results = train(\n",
    "    ShuffleNetV2,\n",
    "    aggregator = Krum.with_learning_settings(batch_size, alpha = 0.05),\n",
    "    training_hparams = dict(epochs=1),\n",
    "    quicktesting=True, # quicktesting=True gives bad results (model outputs constant???)\n",
    ")"
   ]
  },
  {
   "cell_type": "code",
   "execution_count": 14,
   "metadata": {},
   "outputs": [
    {
     "data": {
      "application/vnd.jupyter.widget-view+json": {
       "model_id": "f1417156366940a7b1c9089b85f44f75",
       "version_major": 2,
       "version_minor": 0
      },
      "text/plain": [
       "Train epochs:   0%|          | 0/1 [00:00<?, ?epoch/s]"
      ]
     },
     "metadata": {},
     "output_type": "display_data"
    },
    {
     "data": {
      "application/vnd.jupyter.widget-view+json": {
       "model_id": "e973c409240b49408b7455169d32cd74",
       "version_major": 2,
       "version_minor": 0
      },
      "text/plain": [
       "Train loop:   0%|          | 0/20000 [00:00<?, ?it/s]"
      ]
     },
     "metadata": {},
     "output_type": "display_data"
    },
    {
     "name": "stderr",
     "output_type": "stream",
     "text": [
      "/home/lvt/.local/share/virtualenvs/ml-TQx6uCZG/lib/python3.13/site-packages/torch/autograd/graph.py:823: UserWarning: Using backward() with create_graph=True will create a reference cycle between the parameter and its gradient which can cause a memory leak. We recommend using autograd.grad when creating the graph to avoid this. If you have to use this function, make sure to reset the .grad fields of your parameters to None after use to break the cycle and avoid the leak. (Triggered internally at /pytorch/torch/csrc/autograd/engine.cpp:1260.)\n",
      "  return Variable._execution_engine.run_backward(  # Calls into the C++ engine to run the backward pass\n"
     ]
    },
    {
     "data": {
      "application/vnd.jupyter.widget-view+json": {
       "model_id": "3b457631de8a441793873b78f5765c2b",
       "version_major": 2,
       "version_minor": 0
      },
      "text/plain": [
       "Test epoch:   0%|          | 0/5000 [00:00<?, ?it/s]"
      ]
     },
     "metadata": {},
     "output_type": "display_data"
    },
    {
     "name": "stdout",
     "output_type": "stream",
     "text": [
      "Test epoch: 100%|██████████| 5000/5000 [00:00<00:00, 9584.54it/s, accuracy=0.161, avg_loss=2]\n"
     ]
    },
    {
     "data": {
      "application/vnd.jupyter.widget-view+json": {
       "model_id": "d084ea189f774407be109083ad9b5b37",
       "version_major": 2,
       "version_minor": 0
      },
      "text/plain": [
       "NegGrad+ epochs:   0%|          | 0/1 [00:00<?, ?epoch/s]"
      ]
     },
     "metadata": {},
     "output_type": "display_data"
    },
    {
     "data": {
      "application/vnd.jupyter.widget-view+json": {
       "model_id": "4f5ae91348134331887cf3c09b15daba",
       "version_major": 2,
       "version_minor": 0
      },
      "text/plain": [
       "NegGrad+:   0%|          | 0/200 [00:00<?, ?it/s]"
      ]
     },
     "metadata": {},
     "output_type": "display_data"
    }
   ],
   "source": [
    "unlearner, poison_unlearn_results = poison_and_unlearn(\n",
    "    ShuffleNetV2,\n",
    "    aggregator = Krum.with_learning_settings(batch_size, alpha = 0.05),\n",
    "    inversion_method = GradientAttack.ASCENT,\n",
    "    poison_factor = 0.05,\n",
    "    unlearning_method = Unlearning.NEG_GRAD_PLUS,\n",
    "    training_hparams = dict(epochs=1),\n",
    "    unlearning_hparams = dict(),\n",
    "    quicktesting=True,\n",
    ")"
   ]
  },
  {
   "cell_type": "code",
   "execution_count": 15,
   "metadata": {},
   "outputs": [],
   "source": [
    "from torchmetrics import Metric\n",
    "\n",
    "def plot_accuracy(metrics: list[dict[str, Metric]], ax: plt.Axes):\n",
    "    # Mean accuracy per step\n",
    "    # TODO: plot moving average or epoch tracking average instead\n",
    "    accuracy_per_step = torch.cat([\n",
    "        epoch_metrics['MetricTracker'].compute_all()['accuracy'].mean(dim=1)\n",
    "        for epoch_metrics in metrics\n",
    "    ]).numpy(force=True)\n",
    "    # TODO: also plot validation and unlearning accuracy\n",
    "    ax.plot(np.arange(len(accuracy_per_step)), accuracy_per_step)\n",
    "    ax.set_xlabel(\"Step\")\n",
    "    ax.set_ylabel(\"Mean accuracy\")\n",
    "    ax.set_ylim((0.0, 1.0))\n",
    "\n",
    "def display_logs(logs: Logs, ax: plt.Axes):\n",
    "    plot_accuracy(logs.train_metrics, ax=ax)\n",
    "\n",
    "def display_pipeline_results(results: PipelineResults):\n",
    "    if results.unlearning:\n",
    "        assert results.poisoning\n",
    "\n",
    "        fig, axes = plt.subplots(nrows=1, ncols=2)\n",
    "\n",
    "        display_logs(results.train_logs, ax=axes[0])\n",
    "        axes[0].set_title(\"Training accuracy (poisoning)\")\n",
    "\n",
    "        display_logs(results.unlearn_logs, ax=axes[1])\n",
    "        axes[1].set_title(\"Training accuracy (unlearning)\")\n",
    "\n",
    "        fig.tight_layout()\n",
    "    \n",
    "    else:\n",
    "        ax = plt.subplot()\n",
    "        display_logs(results.train_logs, ax=ax)\n",
    "\n",
    "        label = \"poisoning\" if results.poisoning else \"clean\"\n",
    "        ax.set_title(f\"Training accuracy ({label})\")"
   ]
  },
  {
   "cell_type": "code",
   "execution_count": 16,
   "metadata": {},
   "outputs": [
    {
     "data": {
      "image/png": "[encoded data removed]",
      "text/plain": [
       "<Figure size 640x480 with 1 Axes>"
      ]
     },
     "metadata": {},
     "output_type": "display_data"
    }
   ],
   "source": [
    "display_pipeline_results(train_results)"
   ]
  },
  {
   "cell_type": "code",
   "execution_count": 17,
   "metadata": {},
   "outputs": [
    {
     "data": {
      "image/png": "[encoded data removed]",
      "text/plain": [
       "<Figure size 640x480 with 2 Axes>"
      ]
     },
     "metadata": {},
     "output_type": "display_data"
    }
   ],
   "source": [
    "display_pipeline_results(poison_unlearn_results)"
   ]
  },
  {
   "cell_type": "markdown",
   "metadata": {},
   "source": [
    "TO CHECK:\n",
    "- metric is correctly computed\n",
    "- model is actually trained\n",
    "- increasing training improves accuracy"
   ]
  }
 ],
 "metadata": {
  "kernelspec": {
   "display_name": "ml",
   "language": "python",
   "name": "ml"
  },
  "language_info": {
   "codemirror_mode": {
    "name": "ipython",
    "version": 3
   },
   "file_extension": ".py",
   "mimetype": "text/x-python",
   "name": "python",
   "nbconvert_exporter": "python",
   "pygments_lexer": "ipython3",
   "version": "3.13.2"
  }
 },
 "nbformat": 4,
 "nbformat_minor": 2
}
